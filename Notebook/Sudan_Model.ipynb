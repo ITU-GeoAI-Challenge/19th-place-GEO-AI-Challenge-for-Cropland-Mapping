{
 "cells": [
  {
   "cell_type": "code",
   "execution_count": null,
   "id": "b50eb9f3",
   "metadata": {},
   "outputs": [],
   "source": [
    "# Install Required Library\n",
    "\n",
    "!pip install numpy==1.23.5\n",
    "!pip install pandas==1.5.3\n",
    "!pip install matplotlib==3.7.1\n",
    "!pip install earthengine-api==0.1.374\n",
    "!pip install scikit-learn==1.2.2\n",
    "!pip install shapely==2.0.1\n",
    "!pip install geopandas==0.13.2\n",
    "!pip install geemap==0.28.2\n",
    "!pip install seaborn==0.12.2\n",
    "!pip install xgboost==2.0.0\n",
    "!pip install tqdm==4.66.1\n",
    "!pip install hyperopt==0.2.7\n",
    "!pip install optuna==3.3.0"
   ]
  },
  {
   "cell_type": "code",
   "execution_count": 1,
   "id": "c145cc27",
   "metadata": {},
   "outputs": [],
   "source": [
    "# Basic Python Library\n",
    "import numpy as np\n",
    "import pandas as pd\n",
    "import seaborn as sns\n",
    "import matplotlib.pyplot as plt\n",
    "from datetime import datetime, timedelta\n",
    "\n",
    "# Geospatial Library\n",
    "import ee\n",
    "import geemap\n",
    "from shapely.geometry import Point\n",
    "import geopandas as gpd\n",
    "\n",
    "# Machine Learning Library\n",
    "from sklearn import feature_selection\n",
    "from sklearn import model_selection\n",
    "from sklearn import decomposition\n",
    "from sklearn import tree\n",
    "from sklearn import ensemble\n",
    "from sklearn.pipeline import make_pipeline\n",
    "from sklearn import metrics\n",
    "from xgboost import XGBClassifier\n",
    "from sklearn import svm\n",
    "import joblib\n",
    "\n",
    "# Hyperparameter Optimization Library\n",
    "import hyperopt\n",
    "from hyperopt import fmin, tpe, hp, Trials,STATUS_OK\n",
    "import optuna\n",
    "\n",
    "### Additional Library\n",
    "from tqdm.notebook import tqdm\n",
    "import warnings\n",
    "warnings.filterwarnings('ignore')"
   ]
  },
  {
   "cell_type": "markdown",
   "id": "2fb557de",
   "metadata": {},
   "source": [
    "<b> Use GEE Credential to login and download Satellite Data </b>"
   ]
  },
  {
   "cell_type": "code",
   "execution_count": 2,
   "id": "1dcbc579",
   "metadata": {},
   "outputs": [],
   "source": [
    "ee.Authenticate()"
   ]
  },
  {
   "cell_type": "code",
   "execution_count": 3,
   "id": "d2c84452",
   "metadata": {},
   "outputs": [],
   "source": [
    "ee.Initialize()"
   ]
  },
  {
   "cell_type": "code",
   "execution_count": 4,
   "id": "2cd6603f",
   "metadata": {},
   "outputs": [],
   "source": [
    "# Change the path according to the file store in their own system\n",
    "train_path = '/content/drive/MyDrive/Train.csv'\n",
    "test_path = '/content/drive/MyDrive/Test.csv'"
   ]
  },
  {
   "cell_type": "code",
   "execution_count": 5,
   "id": "84719e45",
   "metadata": {},
   "outputs": [],
   "source": [
    "# Read CSV File using Pandas Library which convert into DataFrame\n",
    "train = pd.read_csv(train_path)\n",
    "test = pd.read_csv(test_path)"
   ]
  },
  {
   "cell_type": "code",
   "execution_count": 6,
   "id": "7774dbdd",
   "metadata": {},
   "outputs": [],
   "source": [
    "# Function to create a different Vegetation as well as Mositure/water Indices from Sentinel-2 Satellite Dataset.\n",
    "\n",
    "def addIndices(image):\n",
    "\n",
    "    # Normalized Difference Vegetation Index\n",
    "    ndvi = image.normalizedDifference(['B8', 'B4']).rename('NDVI')\n",
    "\n",
    "    # Normalized Difference Red-Edged Index\n",
    "    ndre = image.normalizedDifference(['B8', 'B5']).rename('NDRE')\n",
    "\n",
    "    # Soil Adjusted Vegetation Index\n",
    "    savi = ee.Image().expression('((NIR-RED)/(NIR+RED+0.5))*1.5',\\\n",
    "                                {'NIR':image.select('B8').divide(10000),\n",
    "                                 'RED':image.select('B4').divide(10000)}).rename('SAVI')\n",
    "\n",
    "    #Atmospherically Resistant Vegetation Index\n",
    "    arvi = ee.Image().expression('((NIR-2*RED + BLUE)/(NIR+2*RED+BLUE))',\\\n",
    "                                {'NIR':image.select('B8').divide(10000),\n",
    "                                 'RED':image.select('B4').divide(10000),\n",
    "                                 'BLUE':image.select('B2').divide(10000)}).rename('ARVI')\n",
    "\n",
    "    # Normalized Difference Mositure Index\n",
    "    ndmi = ee.Image().expression('((NIR-SWIR)/(NIR+SWIR))',\\\n",
    "                                 {'NIR':image.select('B8'),\n",
    "                                  'SWIR':image.select('B11')}).rename('NDMI')\n",
    "\n",
    "    # Green Condition Index\n",
    "    gci = ee.Image().expression('(NIR/GREEN) - 1',\\\n",
    "                                {'NIR':image.select('B8').divide(10000),\n",
    "                                 'GREEN':image.select('B3').divide(10000)}).rename('GCI')\n",
    "\n",
    "    # Red Vegetation Index\n",
    "    rvi = ee.Image().expression('(NIR/RED)',\\\n",
    "                                {'NIR':image.select('B8').divide(10000),\n",
    "                                 'RED':image.select('B4').divide(10000)}).rename('RVI')\n",
    "\n",
    "    #Optimized Soil Adjusted Vegetation Index\n",
    "    osavi = ee.Image().expression('((NIR-RED)/(NIR+RED+0.16))*1.16',\\\n",
    "                                {'NIR':image.select('B8').divide(10000),\n",
    "                                 'RED':image.select('B4').divide(10000)}).rename('OSAVI')\n",
    "\n",
    "    # Specific Leaf Area Vegetation Index\n",
    "    slavi = ee.Image().expression('NIR/(RED+SWIR2)',\\\n",
    "                                {'NIR':image.select('B8').divide(10000),\n",
    "                                 'RED':image.select('B4').divide(10000),\n",
    "                                 'SWIR2':image.select('B12').divide(10000)}).rename('SLAVI')\n",
    "\n",
    "    # Normalized Pigment Chlorophyll Ration Index\n",
    "    npcri = ee.Image().expression('((RED-BLUE)/(BLUE+RED))',\\\n",
    "                                {'BLUE':image.select('B2'),\n",
    "                                 'RED':image.select('B4')}).rename('NPCRI')\n",
    "\n",
    "    #Soil Condition Index\n",
    "    sci = ee.Image().expression('((SWIR-NIR)/(SWIR+NIR))',\\\n",
    "                                {'NIR':image.select('B8'),\n",
    "                                 'SWIR':image.select('B11')}).rename('SCI')\n",
    "\n",
    "    # Normalized Difference Water Index\n",
    "    ndwi = ee.Image().expression('((GREEN-NIR)/(GREEN+NIR))',\\\n",
    "                                 {'NIR':image.select('B8').divide(10000),\n",
    "                                  'GREEN':image.select('B3').divide(10000)}).rename('NDWI')\n",
    "\n",
    "    # Green Normalized Difference Vegetaion Index\n",
    "    gndvi = ee.Image().expression('((NIR-GREEN)/(GREEN+NIR))',\\\n",
    "                                {'NIR':image.select('B8'),\n",
    "                                 'GREEN':image.select('B3')}).rename('GNDVI')\n",
    "\n",
    "    # Bare soil Index\n",
    "    bsi = ee.Image().expression('((SWIR+RED)-(NIR+BLUE))/((SWIR+RED)+(NIR+BLUE))',\\\n",
    "                                {'NIR':image.select('B8').divide(10000),\n",
    "                                 'RED':image.select('B4').divide(10000),\n",
    "                                 'BLUE':image.select('B2').divide(10000),\n",
    "                                 'SWIR':image.select('B11').divide(10000)}).rename('BSI')\n",
    "\n",
    "    # Enhanced Vegetation Index\n",
    "    evi = ee.Image().expression('((2.5*(NIR-RED))/(NIR+6*RED-7.5*BLUE+1))',\\\n",
    "                                {'NIR':image.select('B8').divide(10000),\n",
    "                                 'RED':image.select('B4').divide(10000),\n",
    "                                 'BLUE':image.select('B2').divide(10000)}).rename('EVI')\n",
    "\n",
    "\n",
    "    return image.addBands(ndvi).addBands(ndre).addBands(savi).addBands(arvi).addBands(ndwi).addBands(gci).addBands(rvi).addBands(osavi).addBands(slavi).addBands(npcri).addBands(sci).addBands(ndmi).addBands(gndvi).addBands(bsi).addBands(evi)"
   ]
  },
  {
   "cell_type": "markdown",
   "id": "74e743a6",
   "metadata": {},
   "source": [
    "*The training and test CSV files contain latitude and longitude coordinates, along with labels, except in the test file. These will be converted into a point shapefile, which will be utilized in the Google Earth Engine (GEE) as a labeled training dataset.*"
   ]
  },
  {
   "cell_type": "code",
   "execution_count": 7,
   "id": "c7596d7a",
   "metadata": {},
   "outputs": [
    {
     "data": {
      "text/html": [
       "<div>\n",
       "<style scoped>\n",
       "    .dataframe tbody tr th:only-of-type {\n",
       "        vertical-align: middle;\n",
       "    }\n",
       "\n",
       "    .dataframe tbody tr th {\n",
       "        vertical-align: top;\n",
       "    }\n",
       "\n",
       "    .dataframe thead th {\n",
       "        text-align: right;\n",
       "    }\n",
       "</style>\n",
       "<table border=\"1\" class=\"dataframe\">\n",
       "  <thead>\n",
       "    <tr style=\"text-align: right;\">\n",
       "      <th></th>\n",
       "      <th>ID</th>\n",
       "      <th>Target</th>\n",
       "      <th>geometry</th>\n",
       "    </tr>\n",
       "  </thead>\n",
       "  <tbody>\n",
       "    <tr>\n",
       "      <th>0</th>\n",
       "      <td>ID_SJ098E7S2SY9</td>\n",
       "      <td>0</td>\n",
       "      <td>POINT (70.76367 34.16249)</td>\n",
       "    </tr>\n",
       "    <tr>\n",
       "      <th>1</th>\n",
       "      <td>ID_CWCD60FGJJYY</td>\n",
       "      <td>0</td>\n",
       "      <td>POINT (48.49205 32.07570)</td>\n",
       "    </tr>\n",
       "    <tr>\n",
       "      <th>2</th>\n",
       "      <td>ID_R1XF70RMVGL3</td>\n",
       "      <td>1</td>\n",
       "      <td>POINT (33.31348 14.54283)</td>\n",
       "    </tr>\n",
       "    <tr>\n",
       "      <th>3</th>\n",
       "      <td>ID_0ZBIDY0PEBVO</td>\n",
       "      <td>1</td>\n",
       "      <td>POINT (33.28411 14.35948)</td>\n",
       "    </tr>\n",
       "    <tr>\n",
       "      <th>4</th>\n",
       "      <td>ID_C20R2C0AYIT0</td>\n",
       "      <td>0</td>\n",
       "      <td>POINT (33.52845 14.41913)</td>\n",
       "    </tr>\n",
       "  </tbody>\n",
       "</table>\n",
       "</div>"
      ],
      "text/plain": [
       "                ID  Target                   geometry\n",
       "0  ID_SJ098E7S2SY9       0  POINT (70.76367 34.16249)\n",
       "1  ID_CWCD60FGJJYY       0  POINT (48.49205 32.07570)\n",
       "2  ID_R1XF70RMVGL3       1  POINT (33.31348 14.54283)\n",
       "3  ID_0ZBIDY0PEBVO       1  POINT (33.28411 14.35948)\n",
       "4  ID_C20R2C0AYIT0       0  POINT (33.52845 14.41913)"
      ]
     },
     "execution_count": 7,
     "metadata": {},
     "output_type": "execute_result"
    }
   ],
   "source": [
    "def csv_to_geopandas(df):\n",
    "    points = []\n",
    "    for idx,row in df.iterrows():\n",
    "        point = Point([row['Lon'],row['Lat']])\n",
    "        points.append(point)\n",
    "\n",
    "    gdf = gpd.GeoDataFrame(df,geometry=points)\n",
    "    gdf = gdf.drop(columns=['Lat','Lon'])\n",
    "    gdf.set_crs(epsg=4326,inplace=True)  # WGS84 Coordinate System\n",
    "    return gdf\n",
    "\n",
    "trainGDF = csv_to_geopandas(train)\n",
    "testGDF = csv_to_geopandas(test)\n",
    "trainGDF.head()"
   ]
  },
  {
   "cell_type": "markdown",
   "id": "12b708d0",
   "metadata": {},
   "source": [
    "0 : Non-Crop Label\n",
    "\n",
    "1 : Crop Label"
   ]
  },
  {
   "cell_type": "code",
   "execution_count": 9,
   "id": "8cb625bc",
   "metadata": {},
   "outputs": [],
   "source": [
    "#Sudan Area of Interest (AOI)\n",
    "aoi = ee.FeatureCollection(\"FAO/GAUL_SIMPLIFIED_500m/2015/level2\")\\\n",
    "        .filter(ee.Filter.eq('ADM0_NAME','Sudan'))"
   ]
  },
  {
   "cell_type": "code",
   "execution_count": 12,
   "id": "54d68a5b",
   "metadata": {},
   "outputs": [],
   "source": [
    "# GEE Provide Sentinel-2 Dataset along with Cloud Probability Dataset which can mask the pixel on the basis of Threshold Probability\n",
    "\n",
    "s2 = ee.ImageCollection('COPERNICUS/S2_SR_HARMONIZED')\n",
    "s2c = ee.ImageCollection('COPERNICUS/S2_CLOUD_PROBABILITY')\n",
    "\n",
    "# Define dates over which to create a composite.\n",
    "start = ee.Date('2019-08-01')\n",
    "end = ee.Date('2020-07-01')\n",
    "\n",
    "# Define a collection filtering function.\n",
    "def filterBoundsDate(imgCol, aoi, start, end):\n",
    "    return imgCol.filterBounds(aoi).filterDate(start, end)\n",
    "\n",
    "# Filter the collection by AOI and date.\n",
    "s2 = filterBoundsDate(s2, aoi, start, end)\n",
    "s2c = filterBoundsDate(s2c, aoi, start, end)\n",
    "\n",
    "# Define a function to join the two collections on their 'system:index'\n",
    "# property. The 'propName' parameter is the name of the property that\n",
    "# references the joined image.\n",
    "def indexJoin(colA, colB, propName):\n",
    "    joined = ee.ImageCollection(ee.Join.saveFirst(propName).apply(**{\n",
    "        'primary': colA,\n",
    "        'secondary': colB,\n",
    "        'condition': ee.Filter.equals(**{\n",
    "            'leftField': 'system:index',\n",
    "            'rightField': 'system:index'\n",
    "        })\n",
    "    }))\n",
    "\n",
    "    def func_mti(image):\n",
    "        return image.addBands(ee.Image(image.get(propName)))\n",
    "    return joined.map(func_mti)\n",
    "\n",
    "# Define a function to create a cloud masking function.\n",
    "def buildMaskFunction(img):\n",
    "    cloudProb = 50\n",
    "    # Define clouds as pixels having greater than the given cloud probability.\n",
    "    cloud = img.select('probability').gt(ee.Image(cloudProb))\n",
    "\n",
    "    # Apply the cloud mask to the image and return it.\n",
    "    return img.updateMask(cloud.Not())\n",
    "\n",
    "# Join the cloud probability collection to the TOA reflectance collection.\n",
    "withCloudProbability = indexJoin(s2, s2c, 'cloud_probability')\n",
    "\n",
    "# Map the cloud masking function over the joined collection, select only the\n",
    "# reflectance bands.\n",
    "\n",
    "s2collection = ee.ImageCollection(withCloudProbability.map(buildMaskFunction)).map(addIndices)"
   ]
  },
  {
   "cell_type": "code",
   "execution_count": 13,
   "id": "45f5a8dc",
   "metadata": {},
   "outputs": [],
   "source": [
    "s2collection = s2collection.select(['NDVI','NDRE','SAVI', 'ARVI', 'NDWI', 'GCI', 'RVI',\n",
    "                                    'OSAVI', 'SLAVI', 'NPCRI', 'SCI', 'NDMI', 'GNDVI', 'BSI', 'EVI'])"
   ]
  },
  {
   "cell_type": "code",
   "execution_count": 14,
   "id": "009e8e0b",
   "metadata": {},
   "outputs": [],
   "source": [
    "def monthlist(start_date, end_date):\n",
    "    start = datetime.strptime(start_date, \"%Y-%m-%d\")\n",
    "    end = datetime.strptime(end_date, \"%Y-%m-%d\")\n",
    "    date_generated = [start + timedelta(days=x) for x in range(0, (end-start).days)]\n",
    "\n",
    "    unique_months = []\n",
    "    for date in date_generated:\n",
    "        if (date.year, date.month) not in unique_months:\n",
    "            unique_months.append((date.year, date.month))\n",
    "\n",
    "    return unique_months\n",
    "\n",
    "def monthlyCompositeData(collection,startDate,endDate):\n",
    "    unique_months = monthlist(startDate,endDate)\n",
    "    monthly_composites = []\n",
    "\n",
    "    for (year, month) in unique_months:\n",
    "        start_date = ee.Date.fromYMD(year, month, 1)\n",
    "        end_date = start_date.advance(1, 'month')\n",
    "\n",
    "        filtered = collection.filterDate(start_date, end_date)\n",
    "\n",
    "        monthly_composite = filtered.mean().set('year', year).set('month', month)\n",
    "\n",
    "        monthly_composites.append(monthly_composite)\n",
    "    \n",
    "    return monthly_composites\n",
    "\n",
    "monthlyComposites = monthlyCompositeData(s2collection,'2019-08-01','2020-07-01')\n",
    "monthlyComposites = ee.ImageCollection.fromImages(monthlyComposites)"
   ]
  },
  {
   "cell_type": "code",
   "execution_count": 15,
   "id": "5cdd68e1",
   "metadata": {},
   "outputs": [],
   "source": [
    "# ImageCollection to Single Image where Temporal Dataset of Monthly Composite Image goes to N Number Bands\n",
    "combinedImage = monthlyComposites.toBands()"
   ]
  },
  {
   "cell_type": "code",
   "execution_count": 16,
   "id": "3496b8c4",
   "metadata": {},
   "outputs": [
    {
     "name": "stdout",
     "output_type": "stream",
     "text": [
      "BandName : ['0_NDVI', '0_NDRE', '0_SAVI', '0_ARVI', '0_NDWI', '0_GCI', '0_RVI', '0_OSAVI', '0_SLAVI', '0_NPCRI', '0_SCI', '0_NDMI', '0_GNDVI', '0_BSI', '0_EVI', '1_NDVI', '1_NDRE', '1_SAVI', '1_ARVI', '1_NDWI', '1_GCI', '1_RVI', '1_OSAVI', '1_SLAVI', '1_NPCRI', '1_SCI', '1_NDMI', '1_GNDVI', '1_BSI', '1_EVI', '2_NDVI', '2_NDRE', '2_SAVI', '2_ARVI', '2_NDWI', '2_GCI', '2_RVI', '2_OSAVI', '2_SLAVI', '2_NPCRI', '2_SCI', '2_NDMI', '2_GNDVI', '2_BSI', '2_EVI', '3_NDVI', '3_NDRE', '3_SAVI', '3_ARVI', '3_NDWI', '3_GCI', '3_RVI', '3_OSAVI', '3_SLAVI', '3_NPCRI', '3_SCI', '3_NDMI', '3_GNDVI', '3_BSI', '3_EVI', '4_NDVI', '4_NDRE', '4_SAVI', '4_ARVI', '4_NDWI', '4_GCI', '4_RVI', '4_OSAVI', '4_SLAVI', '4_NPCRI', '4_SCI', '4_NDMI', '4_GNDVI', '4_BSI', '4_EVI', '5_NDVI', '5_NDRE', '5_SAVI', '5_ARVI', '5_NDWI', '5_GCI', '5_RVI', '5_OSAVI', '5_SLAVI', '5_NPCRI', '5_SCI', '5_NDMI', '5_GNDVI', '5_BSI', '5_EVI', '6_NDVI', '6_NDRE', '6_SAVI', '6_ARVI', '6_NDWI', '6_GCI', '6_RVI', '6_OSAVI', '6_SLAVI', '6_NPCRI', '6_SCI', '6_NDMI', '6_GNDVI', '6_BSI', '6_EVI', '7_NDVI', '7_NDRE', '7_SAVI', '7_ARVI', '7_NDWI', '7_GCI', '7_RVI', '7_OSAVI', '7_SLAVI', '7_NPCRI', '7_SCI', '7_NDMI', '7_GNDVI', '7_BSI', '7_EVI', '8_NDVI', '8_NDRE', '8_SAVI', '8_ARVI', '8_NDWI', '8_GCI', '8_RVI', '8_OSAVI', '8_SLAVI', '8_NPCRI', '8_SCI', '8_NDMI', '8_GNDVI', '8_BSI', '8_EVI', '9_NDVI', '9_NDRE', '9_SAVI', '9_ARVI', '9_NDWI', '9_GCI', '9_RVI', '9_OSAVI', '9_SLAVI', '9_NPCRI', '9_SCI', '9_NDMI', '9_GNDVI', '9_BSI', '9_EVI', '10_NDVI', '10_NDRE', '10_SAVI', '10_ARVI', '10_NDWI', '10_GCI', '10_RVI', '10_OSAVI', '10_SLAVI', '10_NPCRI', '10_SCI', '10_NDMI', '10_GNDVI', '10_BSI', '10_EVI']\n"
     ]
    }
   ],
   "source": [
    "print('BandName :',combinedImage.bandNames().getInfo())"
   ]
  },
  {
   "cell_type": "markdown",
   "id": "5f0c169f",
   "metadata": {},
   "source": [
    "Prefix Attached to Indices\n",
    "\n",
    "\n",
    "- 0 : August, 209  \n",
    "- 1 : September,2019\n",
    "- 2 : October,2019\n",
    "- 3 : November,2019\n",
    "- 4 : December,2019\n",
    "- 5 : January,2020\n",
    "- 6 : Februrary,2020\n",
    "- 7 : March,2020\n",
    "- 8 : April,2020\n",
    "- 9 : May,2020\n",
    "- 10 : June,2020 "
   ]
  },
  {
   "cell_type": "code",
   "execution_count": 17,
   "id": "8210b94f",
   "metadata": {},
   "outputs": [],
   "source": [
    "# Shapefile conversion to GEE Feature and FeatureCollection\n",
    "\n",
    "def geopandas_to_ee(gdf):\n",
    "    features = []\n",
    "    for idx, row in gdf.iterrows():\n",
    "        geo = row['geometry']\n",
    "        properties = row.drop('geometry').to_dict()\n",
    "        features.append(ee.Feature(ee.Geometry(geo.__geo_interface__),properties))\n",
    "    return ee.FeatureCollection(features)\n",
    "\n",
    "trainEE = geopandas_to_ee(trainGDF)\n",
    "testEE = geopandas_to_ee(testGDF)\n",
    "#print(trainEE.first().getInfo())"
   ]
  },
  {
   "cell_type": "code",
   "execution_count": 18,
   "id": "d79b58bb",
   "metadata": {},
   "outputs": [],
   "source": [
    "# There are a total of 1500 sample points each in both the training and test datasets.\n",
    "# To use only the Afghanistan Ground Truth sample points, employ the filterBounds technique\n",
    "# to select sample points from the specified region.\n",
    "\n",
    "trainEE = trainEE.filterBounds(aoi)\n",
    "testEE = testEE.filterBounds(aoi)"
   ]
  },
  {
   "cell_type": "code",
   "execution_count": 19,
   "id": "5bd21a4f",
   "metadata": {},
   "outputs": [],
   "source": [
    "# Extract Sentinel-2 Satellite Indices from a given location\n",
    "\n",
    "def calculateMetrics(block):\n",
    "    metrics = combinedImage.reduceRegion(**{\n",
    "        'reducer': ee.Reducer.mean(),\n",
    "        'geometry': block.geometry(),\n",
    "        'scale':10, # Spatial Resolution of Sentinel-2\n",
    "     })\n",
    "    return ee.Feature(None,metrics).copyProperties(block, ['ID','Target'])\n",
    "\n",
    "trainEE = trainEE.map(calculateMetrics)\n",
    "testEE = testEE.map(calculateMetrics)"
   ]
  },
  {
   "cell_type": "markdown",
   "id": "3e9f687e",
   "metadata": {},
   "source": [
    "*The steps below are to convert the Google Earth Engine (GEE) FeatureCollection into a Pandas DataFrame, which will subsequently be used for analysis and model development.*"
   ]
  },
  {
   "cell_type": "code",
   "execution_count": 20,
   "id": "0ef506aa",
   "metadata": {},
   "outputs": [],
   "source": [
    "train_samples,test_samples = [],[]"
   ]
  },
  {
   "cell_type": "code",
   "execution_count": 21,
   "id": "bb6628af",
   "metadata": {},
   "outputs": [],
   "source": [
    "for item in trainEE.getInfo()['features']:\n",
    "    train_samples.append(item['properties'])"
   ]
  },
  {
   "cell_type": "code",
   "execution_count": 22,
   "id": "38f4094b",
   "metadata": {},
   "outputs": [],
   "source": [
    "for item in testEE.getInfo()['features']:\n",
    "    test_samples.append(item['properties'])"
   ]
  },
  {
   "cell_type": "code",
   "execution_count": 23,
   "id": "771f1526",
   "metadata": {},
   "outputs": [],
   "source": [
    "train_samples_df = pd.DataFrame(train_samples)\n",
    "test_samples_df = pd.DataFrame(test_samples)"
   ]
  },
  {
   "cell_type": "code",
   "execution_count": 24,
   "id": "97b6dc71",
   "metadata": {},
   "outputs": [
    {
     "data": {
      "text/html": [
       "<div>\n",
       "<style scoped>\n",
       "    .dataframe tbody tr th:only-of-type {\n",
       "        vertical-align: middle;\n",
       "    }\n",
       "\n",
       "    .dataframe tbody tr th {\n",
       "        vertical-align: top;\n",
       "    }\n",
       "\n",
       "    .dataframe thead th {\n",
       "        text-align: right;\n",
       "    }\n",
       "</style>\n",
       "<table border=\"1\" class=\"dataframe\">\n",
       "  <thead>\n",
       "    <tr style=\"text-align: right;\">\n",
       "      <th></th>\n",
       "      <th>0_ARVI</th>\n",
       "      <th>0_BSI</th>\n",
       "      <th>0_EVI</th>\n",
       "      <th>0_GCI</th>\n",
       "      <th>0_GNDVI</th>\n",
       "      <th>0_NDMI</th>\n",
       "      <th>0_NDRE</th>\n",
       "      <th>0_NDVI</th>\n",
       "      <th>0_NDWI</th>\n",
       "      <th>0_NPCRI</th>\n",
       "      <th>...</th>\n",
       "      <th>9_NDVI</th>\n",
       "      <th>9_NDWI</th>\n",
       "      <th>9_NPCRI</th>\n",
       "      <th>9_OSAVI</th>\n",
       "      <th>9_RVI</th>\n",
       "      <th>9_SAVI</th>\n",
       "      <th>9_SCI</th>\n",
       "      <th>9_SLAVI</th>\n",
       "      <th>ID</th>\n",
       "      <th>Target</th>\n",
       "    </tr>\n",
       "  </thead>\n",
       "  <tbody>\n",
       "    <tr>\n",
       "      <th>0</th>\n",
       "      <td>0.079198</td>\n",
       "      <td>0.088843</td>\n",
       "      <td>0.158852</td>\n",
       "      <td>0.914730</td>\n",
       "      <td>0.309938</td>\n",
       "      <td>-0.032777</td>\n",
       "      <td>0.146652</td>\n",
       "      <td>0.253730</td>\n",
       "      <td>-0.309938</td>\n",
       "      <td>0.208129</td>\n",
       "      <td>...</td>\n",
       "      <td>0.221988</td>\n",
       "      <td>-0.356945</td>\n",
       "      <td>0.336841</td>\n",
       "      <td>0.197857</td>\n",
       "      <td>1.573089</td>\n",
       "      <td>0.171459</td>\n",
       "      <td>-0.067845</td>\n",
       "      <td>0.758864</td>\n",
       "      <td>ID_R1XF70RMVGL3</td>\n",
       "      <td>1</td>\n",
       "    </tr>\n",
       "    <tr>\n",
       "      <th>1</th>\n",
       "      <td>-0.026083</td>\n",
       "      <td>-0.034340</td>\n",
       "      <td>0.064189</td>\n",
       "      <td>0.407006</td>\n",
       "      <td>0.161360</td>\n",
       "      <td>0.251639</td>\n",
       "      <td>0.003261</td>\n",
       "      <td>0.098626</td>\n",
       "      <td>-0.161360</td>\n",
       "      <td>0.199923</td>\n",
       "      <td>...</td>\n",
       "      <td>0.102382</td>\n",
       "      <td>-0.252118</td>\n",
       "      <td>0.320232</td>\n",
       "      <td>0.081208</td>\n",
       "      <td>1.228546</td>\n",
       "      <td>0.062882</td>\n",
       "      <td>0.043544</td>\n",
       "      <td>0.565979</td>\n",
       "      <td>ID_0ZBIDY0PEBVO</td>\n",
       "      <td>1</td>\n",
       "    </tr>\n",
       "    <tr>\n",
       "      <th>2</th>\n",
       "      <td>-0.043028</td>\n",
       "      <td>0.126452</td>\n",
       "      <td>0.081354</td>\n",
       "      <td>0.567670</td>\n",
       "      <td>0.220819</td>\n",
       "      <td>-0.042977</td>\n",
       "      <td>0.048761</td>\n",
       "      <td>0.112487</td>\n",
       "      <td>-0.220819</td>\n",
       "      <td>0.265188</td>\n",
       "      <td>...</td>\n",
       "      <td>0.090662</td>\n",
       "      <td>-0.205094</td>\n",
       "      <td>0.285541</td>\n",
       "      <td>0.079949</td>\n",
       "      <td>1.200504</td>\n",
       "      <td>0.068504</td>\n",
       "      <td>0.057327</td>\n",
       "      <td>0.529966</td>\n",
       "      <td>ID_C20R2C0AYIT0</td>\n",
       "      <td>0</td>\n",
       "    </tr>\n",
       "    <tr>\n",
       "      <th>3</th>\n",
       "      <td>0.186373</td>\n",
       "      <td>-0.039012</td>\n",
       "      <td>0.236431</td>\n",
       "      <td>0.983466</td>\n",
       "      <td>0.294194</td>\n",
       "      <td>0.093077</td>\n",
       "      <td>0.228115</td>\n",
       "      <td>0.326204</td>\n",
       "      <td>-0.294194</td>\n",
       "      <td>0.084428</td>\n",
       "      <td>...</td>\n",
       "      <td>0.210706</td>\n",
       "      <td>-0.280410</td>\n",
       "      <td>0.229571</td>\n",
       "      <td>0.171011</td>\n",
       "      <td>1.534342</td>\n",
       "      <td>0.135009</td>\n",
       "      <td>0.046119</td>\n",
       "      <td>0.634374</td>\n",
       "      <td>ID_MMU0PFMDQ7FW</td>\n",
       "      <td>0</td>\n",
       "    </tr>\n",
       "    <tr>\n",
       "      <th>4</th>\n",
       "      <td>-0.024333</td>\n",
       "      <td>0.017793</td>\n",
       "      <td>0.078758</td>\n",
       "      <td>0.480625</td>\n",
       "      <td>0.183218</td>\n",
       "      <td>0.157559</td>\n",
       "      <td>0.044927</td>\n",
       "      <td>0.122107</td>\n",
       "      <td>-0.183218</td>\n",
       "      <td>0.238511</td>\n",
       "      <td>...</td>\n",
       "      <td>0.121346</td>\n",
       "      <td>-0.273613</td>\n",
       "      <td>0.319161</td>\n",
       "      <td>0.102656</td>\n",
       "      <td>1.276759</td>\n",
       "      <td>0.084339</td>\n",
       "      <td>0.062434</td>\n",
       "      <td>0.583184</td>\n",
       "      <td>ID_FA7TDFAUVU2A</td>\n",
       "      <td>1</td>\n",
       "    </tr>\n",
       "  </tbody>\n",
       "</table>\n",
       "<p>5 rows × 167 columns</p>\n",
       "</div>"
      ],
      "text/plain": [
       "     0_ARVI     0_BSI     0_EVI     0_GCI   0_GNDVI    0_NDMI    0_NDRE  \\\n",
       "0  0.079198  0.088843  0.158852  0.914730  0.309938 -0.032777  0.146652   \n",
       "1 -0.026083 -0.034340  0.064189  0.407006  0.161360  0.251639  0.003261   \n",
       "2 -0.043028  0.126452  0.081354  0.567670  0.220819 -0.042977  0.048761   \n",
       "3  0.186373 -0.039012  0.236431  0.983466  0.294194  0.093077  0.228115   \n",
       "4 -0.024333  0.017793  0.078758  0.480625  0.183218  0.157559  0.044927   \n",
       "\n",
       "     0_NDVI    0_NDWI   0_NPCRI  ...    9_NDVI    9_NDWI   9_NPCRI   9_OSAVI  \\\n",
       "0  0.253730 -0.309938  0.208129  ...  0.221988 -0.356945  0.336841  0.197857   \n",
       "1  0.098626 -0.161360  0.199923  ...  0.102382 -0.252118  0.320232  0.081208   \n",
       "2  0.112487 -0.220819  0.265188  ...  0.090662 -0.205094  0.285541  0.079949   \n",
       "3  0.326204 -0.294194  0.084428  ...  0.210706 -0.280410  0.229571  0.171011   \n",
       "4  0.122107 -0.183218  0.238511  ...  0.121346 -0.273613  0.319161  0.102656   \n",
       "\n",
       "      9_RVI    9_SAVI     9_SCI   9_SLAVI               ID  Target  \n",
       "0  1.573089  0.171459 -0.067845  0.758864  ID_R1XF70RMVGL3       1  \n",
       "1  1.228546  0.062882  0.043544  0.565979  ID_0ZBIDY0PEBVO       1  \n",
       "2  1.200504  0.068504  0.057327  0.529966  ID_C20R2C0AYIT0       0  \n",
       "3  1.534342  0.135009  0.046119  0.634374  ID_MMU0PFMDQ7FW       0  \n",
       "4  1.276759  0.084339  0.062434  0.583184  ID_FA7TDFAUVU2A       1  \n",
       "\n",
       "[5 rows x 167 columns]"
      ]
     },
     "execution_count": 24,
     "metadata": {},
     "output_type": "execute_result"
    }
   ],
   "source": [
    "train_samples_df.head()"
   ]
  },
  {
   "cell_type": "code",
   "execution_count": 25,
   "id": "637fc2f9",
   "metadata": {},
   "outputs": [
    {
     "data": {
      "text/html": [
       "<div>\n",
       "<style scoped>\n",
       "    .dataframe tbody tr th:only-of-type {\n",
       "        vertical-align: middle;\n",
       "    }\n",
       "\n",
       "    .dataframe tbody tr th {\n",
       "        vertical-align: top;\n",
       "    }\n",
       "\n",
       "    .dataframe thead th {\n",
       "        text-align: right;\n",
       "    }\n",
       "</style>\n",
       "<table border=\"1\" class=\"dataframe\">\n",
       "  <thead>\n",
       "    <tr style=\"text-align: right;\">\n",
       "      <th></th>\n",
       "      <th>0_ARVI</th>\n",
       "      <th>0_BSI</th>\n",
       "      <th>0_EVI</th>\n",
       "      <th>0_GCI</th>\n",
       "      <th>0_GNDVI</th>\n",
       "      <th>0_NDMI</th>\n",
       "      <th>0_NDRE</th>\n",
       "      <th>0_NDVI</th>\n",
       "      <th>0_NDWI</th>\n",
       "      <th>0_NPCRI</th>\n",
       "      <th>...</th>\n",
       "      <th>9_NDRE</th>\n",
       "      <th>9_NDVI</th>\n",
       "      <th>9_NDWI</th>\n",
       "      <th>9_NPCRI</th>\n",
       "      <th>9_OSAVI</th>\n",
       "      <th>9_RVI</th>\n",
       "      <th>9_SAVI</th>\n",
       "      <th>9_SCI</th>\n",
       "      <th>9_SLAVI</th>\n",
       "      <th>ID</th>\n",
       "    </tr>\n",
       "  </thead>\n",
       "  <tbody>\n",
       "    <tr>\n",
       "      <th>0</th>\n",
       "      <td>-0.003421</td>\n",
       "      <td>0.061450</td>\n",
       "      <td>0.095443</td>\n",
       "      <td>0.618579</td>\n",
       "      <td>0.235343</td>\n",
       "      <td>0.049423</td>\n",
       "      <td>0.057361</td>\n",
       "      <td>0.152754</td>\n",
       "      <td>-0.235343</td>\n",
       "      <td>0.231126</td>\n",
       "      <td>...</td>\n",
       "      <td>0.061461</td>\n",
       "      <td>0.132471</td>\n",
       "      <td>-0.271306</td>\n",
       "      <td>0.311840</td>\n",
       "      <td>0.103809</td>\n",
       "      <td>1.306373</td>\n",
       "      <td>0.079564</td>\n",
       "      <td>0.097874</td>\n",
       "      <td>0.551165</td>\n",
       "      <td>ID_SOYSG7W04UH3</td>\n",
       "    </tr>\n",
       "    <tr>\n",
       "      <th>1</th>\n",
       "      <td>0.138117</td>\n",
       "      <td>-0.065468</td>\n",
       "      <td>0.166169</td>\n",
       "      <td>0.782946</td>\n",
       "      <td>0.277432</td>\n",
       "      <td>0.174396</td>\n",
       "      <td>0.145849</td>\n",
       "      <td>0.296621</td>\n",
       "      <td>-0.277432</td>\n",
       "      <td>0.120502</td>\n",
       "      <td>...</td>\n",
       "      <td>0.072596</td>\n",
       "      <td>0.106986</td>\n",
       "      <td>-0.247551</td>\n",
       "      <td>0.298276</td>\n",
       "      <td>0.080963</td>\n",
       "      <td>1.240415</td>\n",
       "      <td>0.060291</td>\n",
       "      <td>0.074406</td>\n",
       "      <td>0.552929</td>\n",
       "      <td>ID_EAP7EXXV8ZDE</td>\n",
       "    </tr>\n",
       "    <tr>\n",
       "      <th>2</th>\n",
       "      <td>0.007632</td>\n",
       "      <td>0.172994</td>\n",
       "      <td>0.118521</td>\n",
       "      <td>1.023173</td>\n",
       "      <td>0.337128</td>\n",
       "      <td>-0.112335</td>\n",
       "      <td>0.069443</td>\n",
       "      <td>0.199898</td>\n",
       "      <td>-0.337128</td>\n",
       "      <td>0.306432</td>\n",
       "      <td>...</td>\n",
       "      <td>0.063162</td>\n",
       "      <td>0.137483</td>\n",
       "      <td>-0.286142</td>\n",
       "      <td>0.301966</td>\n",
       "      <td>0.117405</td>\n",
       "      <td>1.319507</td>\n",
       "      <td>0.097297</td>\n",
       "      <td>0.119523</td>\n",
       "      <td>0.526732</td>\n",
       "      <td>ID_QPRX1TUQVGHU</td>\n",
       "    </tr>\n",
       "    <tr>\n",
       "      <th>3</th>\n",
       "      <td>0.199291</td>\n",
       "      <td>-0.173378</td>\n",
       "      <td>0.281166</td>\n",
       "      <td>1.562876</td>\n",
       "      <td>0.428269</td>\n",
       "      <td>0.349517</td>\n",
       "      <td>0.251659</td>\n",
       "      <td>0.391706</td>\n",
       "      <td>-0.428269</td>\n",
       "      <td>0.190896</td>\n",
       "      <td>...</td>\n",
       "      <td>0.121059</td>\n",
       "      <td>0.181992</td>\n",
       "      <td>-0.304486</td>\n",
       "      <td>0.307477</td>\n",
       "      <td>0.145194</td>\n",
       "      <td>1.452041</td>\n",
       "      <td>0.112890</td>\n",
       "      <td>-0.091266</td>\n",
       "      <td>0.727727</td>\n",
       "      <td>ID_C78YQ32G1KO9</td>\n",
       "    </tr>\n",
       "    <tr>\n",
       "      <th>4</th>\n",
       "      <td>-0.034541</td>\n",
       "      <td>0.107649</td>\n",
       "      <td>0.039638</td>\n",
       "      <td>0.522863</td>\n",
       "      <td>0.204021</td>\n",
       "      <td>-0.037767</td>\n",
       "      <td>0.001038</td>\n",
       "      <td>0.098870</td>\n",
       "      <td>-0.204021</td>\n",
       "      <td>0.215766</td>\n",
       "      <td>...</td>\n",
       "      <td>0.038920</td>\n",
       "      <td>0.107146</td>\n",
       "      <td>-0.245225</td>\n",
       "      <td>0.288472</td>\n",
       "      <td>0.074661</td>\n",
       "      <td>1.241277</td>\n",
       "      <td>0.052396</td>\n",
       "      <td>0.140747</td>\n",
       "      <td>0.472835</td>\n",
       "      <td>ID_M5X39UIEM64N</td>\n",
       "    </tr>\n",
       "  </tbody>\n",
       "</table>\n",
       "<p>5 rows × 166 columns</p>\n",
       "</div>"
      ],
      "text/plain": [
       "     0_ARVI     0_BSI     0_EVI     0_GCI   0_GNDVI    0_NDMI    0_NDRE  \\\n",
       "0 -0.003421  0.061450  0.095443  0.618579  0.235343  0.049423  0.057361   \n",
       "1  0.138117 -0.065468  0.166169  0.782946  0.277432  0.174396  0.145849   \n",
       "2  0.007632  0.172994  0.118521  1.023173  0.337128 -0.112335  0.069443   \n",
       "3  0.199291 -0.173378  0.281166  1.562876  0.428269  0.349517  0.251659   \n",
       "4 -0.034541  0.107649  0.039638  0.522863  0.204021 -0.037767  0.001038   \n",
       "\n",
       "     0_NDVI    0_NDWI   0_NPCRI  ...    9_NDRE    9_NDVI    9_NDWI   9_NPCRI  \\\n",
       "0  0.152754 -0.235343  0.231126  ...  0.061461  0.132471 -0.271306  0.311840   \n",
       "1  0.296621 -0.277432  0.120502  ...  0.072596  0.106986 -0.247551  0.298276   \n",
       "2  0.199898 -0.337128  0.306432  ...  0.063162  0.137483 -0.286142  0.301966   \n",
       "3  0.391706 -0.428269  0.190896  ...  0.121059  0.181992 -0.304486  0.307477   \n",
       "4  0.098870 -0.204021  0.215766  ...  0.038920  0.107146 -0.245225  0.288472   \n",
       "\n",
       "    9_OSAVI     9_RVI    9_SAVI     9_SCI   9_SLAVI               ID  \n",
       "0  0.103809  1.306373  0.079564  0.097874  0.551165  ID_SOYSG7W04UH3  \n",
       "1  0.080963  1.240415  0.060291  0.074406  0.552929  ID_EAP7EXXV8ZDE  \n",
       "2  0.117405  1.319507  0.097297  0.119523  0.526732  ID_QPRX1TUQVGHU  \n",
       "3  0.145194  1.452041  0.112890 -0.091266  0.727727  ID_C78YQ32G1KO9  \n",
       "4  0.074661  1.241277  0.052396  0.140747  0.472835  ID_M5X39UIEM64N  \n",
       "\n",
       "[5 rows x 166 columns]"
      ]
     },
     "execution_count": 25,
     "metadata": {},
     "output_type": "execute_result"
    }
   ],
   "source": [
    "test_samples_df.head()"
   ]
  },
  {
   "cell_type": "markdown",
   "id": "fbd44b61",
   "metadata": {},
   "source": [
    "*Save the pandas dataframe to csv file*"
   ]
  },
  {
   "cell_type": "code",
   "execution_count": 26,
   "id": "8105810e",
   "metadata": {},
   "outputs": [],
   "source": [
    "#train_samples_df.to_csv('IranTraining.csv',index=False)\n",
    "#test_samples_df.to_csv('IranTesting.csv',index=False)"
   ]
  },
  {
   "cell_type": "markdown",
   "id": "148a0b71",
   "metadata": {},
   "source": [
    "<b> Model Development </b>"
   ]
  },
  {
   "cell_type": "code",
   "execution_count": 27,
   "id": "9cf8189d",
   "metadata": {},
   "outputs": [],
   "source": [
    "# Reproducible  Results\n",
    "import random\n",
    "\n",
    "seed = 2023\n",
    "\n",
    "random.seed(seed)\n",
    "np.random.seed(seed)"
   ]
  },
  {
   "cell_type": "code",
   "execution_count": 29,
   "id": "af4f99e1",
   "metadata": {},
   "outputs": [
    {
     "data": {
      "text/plain": [
       "['0_NDVI',\n",
       " '0_NDRE',\n",
       " '0_ARVI',\n",
       " '0_RVI',\n",
       " '0_SCI',\n",
       " '0_NDMI',\n",
       " '0_GNDVI',\n",
       " '0_BSI',\n",
       " '1_NDVI',\n",
       " '1_NDRE',\n",
       " '1_ARVI',\n",
       " '1_RVI',\n",
       " '1_SCI',\n",
       " '1_NDMI',\n",
       " '1_GNDVI',\n",
       " '1_BSI',\n",
       " '3_NDVI',\n",
       " '3_NDRE',\n",
       " '3_ARVI',\n",
       " '3_RVI',\n",
       " '3_SCI',\n",
       " '3_NDMI',\n",
       " '3_GNDVI',\n",
       " '3_BSI',\n",
       " '4_NDVI',\n",
       " '4_NDRE',\n",
       " '4_ARVI',\n",
       " '4_RVI',\n",
       " '4_SCI',\n",
       " '4_NDMI',\n",
       " '4_GNDVI',\n",
       " '4_BSI',\n",
       " '5_NDVI',\n",
       " '5_NDRE',\n",
       " '5_ARVI',\n",
       " '5_RVI',\n",
       " '5_SCI',\n",
       " '5_NDMI',\n",
       " '5_GNDVI',\n",
       " '5_BSI',\n",
       " '6_NDVI',\n",
       " '6_NDRE',\n",
       " '6_ARVI',\n",
       " '6_RVI',\n",
       " '6_SCI',\n",
       " '6_NDMI',\n",
       " '6_GNDVI',\n",
       " '6_BSI',\n",
       " '7_NDVI',\n",
       " '7_NDRE',\n",
       " '7_ARVI',\n",
       " '7_RVI',\n",
       " '7_SCI',\n",
       " '7_NDMI',\n",
       " '7_GNDVI',\n",
       " '7_BSI',\n",
       " '8_NDVI',\n",
       " '8_NDRE',\n",
       " '8_ARVI',\n",
       " '8_RVI',\n",
       " '8_SCI',\n",
       " '8_NDMI',\n",
       " '8_GNDVI',\n",
       " '8_BSI',\n",
       " '9_NDVI',\n",
       " '9_NDRE',\n",
       " '9_ARVI',\n",
       " '9_RVI',\n",
       " '9_SCI',\n",
       " '9_NDMI',\n",
       " '9_GNDVI',\n",
       " '9_BSI',\n",
       " '10_NDVI',\n",
       " '10_NDRE',\n",
       " '10_ARVI',\n",
       " '10_RVI',\n",
       " '10_SCI',\n",
       " '10_NDMI',\n",
       " '10_GNDVI',\n",
       " '10_BSI']"
      ]
     },
     "execution_count": 29,
     "metadata": {},
     "output_type": "execute_result"
    }
   ],
   "source": [
    "indices = ['NDVI','NDRE','SAVI', 'ARVI', 'NDWI', 'GCI', 'RVI','OSAVI', 'SLAVI', \n",
    "           'NPCRI', 'SCI', 'NDMI', 'GNDVI', 'BSI', 'EVI']\n",
    "\n",
    "drop_cols = [f'2_{col}' for col in indices]  # Drop December Month Data, as most of the Samples contains NaN values\n",
    "drop_cols.extend(['ID','Target'])\n",
    "\n",
    "X = train_samples_df.drop(drop_cols,axis=1)\n",
    "y = train_samples_df[['Target']]\n",
    "\n",
    "selected_indices = ['NDVI','NDRE','ARVI', 'RVI','SCI', 'NDMI', 'GNDVI', 'BSI']\n",
    "temporal_indices = []\n",
    "\n",
    "for m in range(0,11):\n",
    "    if m == 2:\n",
    "        continue\n",
    "    else:\n",
    "        temporal_indices.extend([f'{m}_{col}' for col in selected_indices])\n",
    "    \n",
    "temporal_indices"
   ]
  },
  {
   "cell_type": "code",
   "execution_count": 30,
   "id": "eeb83a95",
   "metadata": {},
   "outputs": [],
   "source": [
    "X = train_samples_df.loc[:,temporal_indices]\n",
    "y = train_samples_df[['Target']]\n",
    "\n",
    "X_train,X_test,y_train,y_test = model_selection.train_test_split(X,y,test_size=0.3,\n",
    "                                                                 random_state=2023,stratify=train_samples_df[['Target']])"
   ]
  },
  {
   "cell_type": "code",
   "execution_count": 31,
   "id": "e3622606",
   "metadata": {},
   "outputs": [
    {
     "data": {
      "image/png": "[encoded data removed]",
      "text/plain": [
       "<Figure size 1000x400 with 2 Axes>"
      ]
     },
     "metadata": {},
     "output_type": "display_data"
    }
   ],
   "source": [
    "fig,axs = plt.subplots(nrows=1,ncols=2,figsize=(10,4))\n",
    "# Plot the first histogram on the left subplot\n",
    "axs[0].hist(y_train, color='blue', alpha=0.7)\n",
    "axs[0].set_title(\"Training Class Distribution\")\n",
    "axs[0].set_xlabel(\"Class\")\n",
    "axs[0].set_ylabel(\"Frequency\")\n",
    "\n",
    "# Plot the second histogram on the right subplot\n",
    "axs[1].hist(y_test, color='red', alpha=0.7)\n",
    "axs[1].set_title(\"Validation Class Distribution\")\n",
    "axs[1].set_xlabel(\"Class\")\n",
    "axs[1].set_ylabel(\"Frequency\")\n",
    "\n",
    "# Display the plots\n",
    "plt.tight_layout()\n",
    "plt.show()"
   ]
  },
  {
   "cell_type": "code",
   "execution_count": 32,
   "id": "3c540232",
   "metadata": {},
   "outputs": [
    {
     "name": "stdout",
     "output_type": "stream",
     "text": [
      "Training size:  350\n",
      "Testing size:  150\n"
     ]
    }
   ],
   "source": [
    "print('Training size: ',X_train.shape[0])\n",
    "print('Testing size: ',X_test.shape[0])"
   ]
  },
  {
   "cell_type": "code",
   "execution_count": 33,
   "id": "e44d29a3",
   "metadata": {},
   "outputs": [],
   "source": [
    "# Score to measure the performance of the model during Hyperparameter Optimization\n",
    "\n",
    "def custom_score(y_true, y_prob):\n",
    "    # Compute ROC curve values\n",
    "    fpr, tpr, thresholds = metrics.roc_curve(y_true, y_prob)\n",
    "    \n",
    "    # Calculate the Euclidean distance for each point on the ROC curve to the top-left corner (0,1)\n",
    "    distances = np.sqrt((0 - fpr)**2 + (1 - tpr)**2)\n",
    "    \n",
    "    # Get the threshold for the minimum distance point\n",
    "    optimal_threshold = thresholds[np.argmin(distances)]\n",
    "    \n",
    "    # Reclassify based on the optimal threshold\n",
    "    y_pred_optimal = (y_prob >= optimal_threshold).astype(int)\n",
    "    \n",
    "    # Compute F1 score using the optimal threshold; you can use other metrics if needed\n",
    "    return metrics.f1_score(y_true, y_pred_optimal)\n",
    "\n",
    "# Create a custom scorer\n",
    "custom_scorer = metrics.make_scorer(custom_score, needs_proba=True)"
   ]
  },
  {
   "cell_type": "markdown",
   "id": "45cbdf87",
   "metadata": {},
   "source": [
    "### Decision Tree"
   ]
  },
  {
   "cell_type": "code",
   "execution_count": 34,
   "id": "c34426e2",
   "metadata": {},
   "outputs": [
    {
     "name": "stdout",
     "output_type": "stream",
     "text": [
      "Overall Accuracy on Test Data 0.8933333333333333\n",
      "Precision on Test Data 0.8933333333333333\n",
      "Recall score on Test Data 0.8933333333333333\n",
      "F1-Score on Test Data 0.8933333333333333\n"
     ]
    }
   ],
   "source": [
    "dt_clf = tree.DecisionTreeClassifier(random_state=2023)\n",
    "dt_clf.fit(X_train,y_train.values.ravel())\n",
    "y_pred = dt_clf.predict(X_test)\n",
    "\n",
    "print('Overall Accuracy on Test Data',metrics.accuracy_score(y_pred,y_test.values.ravel()))\n",
    "print('Precision on Test Data',metrics.precision_score(y_pred,y_test.values.ravel()))\n",
    "print('Recall score on Test Data',metrics.recall_score(y_pred,y_test.values.ravel()))\n",
    "print('F1-Score on Test Data',metrics.f1_score(y_pred,y_test.values.ravel()))"
   ]
  },
  {
   "cell_type": "markdown",
   "id": "0d2a8cf4",
   "metadata": {},
   "source": [
    "### Confusion Matrix\n",
    "\n",
    "- Classifier Evaluation: Assessing the performance of classification models in various domains like healthcare, finance, and more.\n",
    "- Model Tuning: Identifying where the model is going wrong (e.g., which classes are being misclassified) to guide further tuning.\n",
    "- Decision Making: Aiding stakeholders in understanding the model's performance and making informed decisions."
   ]
  },
  {
   "cell_type": "code",
   "execution_count": 35,
   "id": "7d7ad10c",
   "metadata": {},
   "outputs": [
    {
     "data": {
      "image/png": "[encoded data removed]",
      "text/plain": [
       "<Figure size 640x480 with 2 Axes>"
      ]
     },
     "metadata": {},
     "output_type": "display_data"
    }
   ],
   "source": [
    "cm = metrics.confusion_matrix(y_test.values.ravel(), y_pred, labels=dt_clf.classes_)\n",
    "cmplot = metrics.ConfusionMatrixDisplay(confusion_matrix=cm,display_labels=['Negative', 'Positive'])\n",
    "cmplot.plot()\n",
    "cmplot.ax_.set(title='Confusion Matrix',xlabel='Predicted Value', ylabel='Actual Value')\n",
    "plt.show()"
   ]
  },
  {
   "cell_type": "markdown",
   "id": "b8d9cc08",
   "metadata": {},
   "source": [
    "- <b> Negative: Non-Crop </b>\n",
    "- <b> Positive: Crop </b>"
   ]
  },
  {
   "cell_type": "code",
   "execution_count": 36,
   "id": "4743ed36",
   "metadata": {},
   "outputs": [
    {
     "name": "stdout",
     "output_type": "stream",
     "text": [
      "[0.88571429 0.94117647 0.90410959 0.97142857 0.88571429]\n"
     ]
    }
   ],
   "source": [
    "#### Using cross validation to improve the Accuracy\n",
    "\n",
    "dt_clf = tree.DecisionTreeClassifier(random_state=2023)\n",
    "scores = model_selection.cross_val_score(dt_clf, X_train, y_train.values.ravel(),scoring='f1', cv=5)\n",
    "print(scores)"
   ]
  },
  {
   "cell_type": "markdown",
   "id": "680e2f47",
   "metadata": {},
   "source": [
    "##### Grid Search CV\n",
    "Grid Search Cross-Validation is a systematic approach to tuning the hyperparameters of a machine learning model. It performs an exhaustive search through a specified subset of hyperparameters and finds the best combination of parameters that minimizes a predefined loss function or maximizes the accuracy."
   ]
  },
  {
   "cell_type": "code",
   "execution_count": 37,
   "id": "f7678624",
   "metadata": {},
   "outputs": [],
   "source": [
    "param_grid = {\n",
    "    'max_depth': [3, 5,7,11,13],\n",
    "    'min_samples_split': [2, 5, 10],\n",
    "    'min_samples_leaf': [1, 2, 4],\n",
    "    'max_leaf_nodes':[10, 15, 20, 25, 30, 35, 40, 45, 50, None],\n",
    "    'criterion': ['gini', 'entropy']\n",
    "}\n",
    "inner_cv = model_selection.StratifiedKFold(n_splits=3, shuffle=True, random_state=2023)\n",
    "gcv = model_selection.GridSearchCV(estimator=tree.DecisionTreeClassifier(random_state=2023),\n",
    "                       param_grid=param_grid,\n",
    "                       scoring=custom_scorer,\n",
    "                       n_jobs=-1,\n",
    "                       cv=inner_cv,\n",
    "                       verbose=0,\n",
    "                       refit=True)\n",
    "\n",
    "X_train_cv = X_train.reset_index(drop=True)\n",
    "y_train_cv = y_train.reset_index(drop=True)"
   ]
  },
  {
   "cell_type": "code",
   "execution_count": 38,
   "id": "4cc1abf8",
   "metadata": {},
   "outputs": [
    {
     "name": "stdout",
     "output_type": "stream",
     "text": [
      "\n",
      " Best ACC (avg. of inner test folds) 92.42%\n",
      "Best parameters: {'criterion': 'entropy', 'max_depth': 5, 'max_leaf_nodes': None, 'min_samples_leaf': 2, 'min_samples_split': 10}\n",
      "ACC (on outer test fold) 91.43%\n",
      "\n",
      " Best ACC (avg. of inner test folds) 89.90%\n",
      "Best parameters: {'criterion': 'entropy', 'max_depth': 3, 'max_leaf_nodes': 10, 'min_samples_leaf': 4, 'min_samples_split': 2}\n",
      "ACC (on outer test fold) 97.14%\n",
      "\n",
      " Best ACC (avg. of inner test folds) 95.71%\n",
      "Best parameters: {'criterion': 'entropy', 'max_depth': 3, 'max_leaf_nodes': None, 'min_samples_leaf': 2, 'min_samples_split': 2}\n",
      "ACC (on outer test fold) 92.86%\n",
      "\n",
      " Best ACC (avg. of inner test folds) 92.93%\n",
      "Best parameters: {'criterion': 'gini', 'max_depth': 7, 'max_leaf_nodes': None, 'min_samples_leaf': 4, 'min_samples_split': 10}\n",
      "ACC (on outer test fold) 92.86%\n",
      "\n",
      " Best ACC (avg. of inner test folds) 91.99%\n",
      "Best parameters: {'criterion': 'gini', 'max_depth': 5, 'max_leaf_nodes': None, 'min_samples_leaf': 4, 'min_samples_split': 2}\n",
      "ACC (on outer test fold) 95.71%\n",
      "\n",
      "    Outer Loop:\n",
      "ACC 94.00% +/- 2.10\n"
     ]
    }
   ],
   "source": [
    "outer_scores = []\n",
    "\n",
    "outer_cv = model_selection.StratifiedKFold(n_splits=5, shuffle=True, random_state=2023)\n",
    "    \n",
    "    \n",
    "for train_idx, valid_idx in outer_cv.split(X_train_cv, y_train_cv):\n",
    "    gcv.fit(X_train_cv.loc[train_idx,:], y_train_cv.loc[train_idx,:].values.ravel()) # run inner loop hyperparam tuning\n",
    "    print('\\n Best ACC (avg. of inner test folds) %.2f%%' % (gcv.best_score_ * 100))\n",
    "    print('Best parameters:', gcv.best_params_)\n",
    "        \n",
    "    # perf on test fold (valid_idx)\n",
    "    outer_scores.append(gcv.best_estimator_.score(X_train_cv.loc[valid_idx,:], y_train_cv.loc[valid_idx,:].values.ravel()))\n",
    "    print('ACC (on outer test fold) %.2f%%' % (outer_scores[-1]*100))\n",
    "    \n",
    "print('\\n    Outer Loop:')\n",
    "print('ACC %.2f%% +/- %.2f' % (np.mean(outer_scores) * 100, np.std(outer_scores) * 100))"
   ]
  },
  {
   "cell_type": "code",
   "execution_count": 39,
   "id": "217355df",
   "metadata": {},
   "outputs": [
    {
     "name": "stdout",
     "output_type": "stream",
     "text": [
      "Best Parameter {'criterion': 'gini', 'max_depth': 5, 'max_leaf_nodes': None, 'min_samples_leaf': 4, 'min_samples_split': 2}\n"
     ]
    }
   ],
   "source": [
    "print('Best Parameter',gcv.best_params_)"
   ]
  },
  {
   "cell_type": "code",
   "execution_count": 41,
   "id": "86c0cca0",
   "metadata": {},
   "outputs": [
    {
     "name": "stdout",
     "output_type": "stream",
     "text": [
      "Overall Accuracy on Test Data 0.9266666666666666\n",
      "Precision on Test Data 0.96\n",
      "Recall score on Test Data 0.9\n",
      "F1-Score on Test Data 0.9290322580645162\n"
     ]
    }
   ],
   "source": [
    "dt_clf = tree.DecisionTreeClassifier(**{'criterion': 'entropy', 'max_depth': 3, \n",
    "                                        'max_leaf_nodes': 10, 'min_samples_leaf': 4, \n",
    "                                        'min_samples_split': 2},random_state=2023)\n",
    "\n",
    "dt_clf.fit(X_train,y_train.values.ravel())\n",
    "y_pred = dt_clf.predict(X_test)\n",
    "\n",
    "print('Overall Accuracy on Test Data',metrics.accuracy_score(y_pred,y_test.values.ravel()))\n",
    "print('Precision on Test Data',metrics.precision_score(y_pred,y_test.values.ravel()))\n",
    "print('Recall score on Test Data',metrics.recall_score(y_pred,y_test.values.ravel()))\n",
    "print('F1-Score on Test Data',metrics.f1_score(y_pred,y_test.values.ravel()))"
   ]
  },
  {
   "cell_type": "code",
   "execution_count": 42,
   "id": "e51784b1",
   "metadata": {},
   "outputs": [
    {
     "data": {
      "image/png": "[encoded data removed]",
      "text/plain": [
       "<Figure size 640x480 with 2 Axes>"
      ]
     },
     "metadata": {},
     "output_type": "display_data"
    }
   ],
   "source": [
    "cm = metrics.confusion_matrix(y_test.values.ravel(), y_pred, labels=dt_clf.classes_)\n",
    "cmplot = metrics.ConfusionMatrixDisplay(confusion_matrix=cm,display_labels=['Negative', 'Positive'])\n",
    "cmplot.plot()\n",
    "cmplot.ax_.set(title='Confusion Matrix',xlabel='Predicted Value', ylabel='Actual Value')\n",
    "plt.show()"
   ]
  },
  {
   "cell_type": "code",
   "execution_count": 43,
   "id": "a3a8d7b9",
   "metadata": {},
   "outputs": [],
   "source": [
    "### Another Library to search best hyperparameter in a given space using Hyperopt Library"
   ]
  },
  {
   "cell_type": "code",
   "execution_count": 44,
   "id": "e8481708",
   "metadata": {},
   "outputs": [
    {
     "name": "stdout",
     "output_type": "stream",
     "text": [
      "100%|██████████████████████████████████| 100/100 [00:05<00:00, 17.96trial/s, best loss: -0.9544999030160486]\n"
     ]
    }
   ],
   "source": [
    "space = {\n",
    "    'criterion': hp.choice('criterion', ['gini', 'entropy']),\n",
    "    'max_depth': hp.quniform('max_depth', 1, 15, 1),\n",
    "    'min_samples_split': hp.quniform('min_samples_split', 2, 10, 1),\n",
    "    'min_samples_leaf': hp.quniform('min_samples_leaf', 1, 10, 1)\n",
    "}\n",
    "\n",
    "# Define the objective function\n",
    "def objective(params):\n",
    "    params = {\n",
    "        'criterion': params['criterion'],\n",
    "        'max_depth': int(params['max_depth']),\n",
    "        'min_samples_split': int(params['min_samples_split']),\n",
    "        'min_samples_leaf': int(params['min_samples_leaf'])\n",
    "    }\n",
    "    \n",
    "    clf = tree.DecisionTreeClassifier(**params)\n",
    "    score = model_selection.cross_val_score(clf, X_train,y_train.values.ravel(), cv=5,scoring=custom_scorer).mean()\n",
    "\n",
    "    return {'loss': -score, 'status': hyperopt.STATUS_OK}\n",
    "\n",
    "# Run the optimizer\n",
    "trials = Trials()\n",
    "best = fmin(fn=objective, space=space, algo=tpe.suggest, max_evals=100, trials=trials)"
   ]
  },
  {
   "cell_type": "code",
   "execution_count": 45,
   "id": "6e0560b4",
   "metadata": {},
   "outputs": [
    {
     "name": "stdout",
     "output_type": "stream",
     "text": [
      "{'criterion': 1, 'max_depth': 4.0, 'min_samples_leaf': 1.0, 'min_samples_split': 6.0}\n"
     ]
    }
   ],
   "source": [
    "print(best)"
   ]
  },
  {
   "cell_type": "code",
   "execution_count": 46,
   "id": "3a488052",
   "metadata": {},
   "outputs": [
    {
     "name": "stdout",
     "output_type": "stream",
     "text": [
      "Overall Accuracy on Test Data 0.9133333333333333\n",
      "Precision on Test Data 0.9066666666666666\n",
      "Recall score on Test Data 0.918918918918919\n",
      "F1-Score on Test Data 0.912751677852349\n"
     ]
    }
   ],
   "source": [
    "dt_clf = tree.DecisionTreeClassifier(**{'criterion': 'entropy', \n",
    "                                     'max_depth': 9, 'min_samples_leaf': 3, \n",
    "                                     'min_samples_split':8},random_state=2023)\n",
    "\n",
    "dt_clf.fit(X_train,y_train.values.ravel())\n",
    "y_pred = dt_clf.predict(X_test)\n",
    "\n",
    "print('Overall Accuracy on Test Data',metrics.accuracy_score(y_pred,y_test.values.ravel()))\n",
    "print('Precision on Test Data',metrics.precision_score(y_pred,y_test.values.ravel()))\n",
    "print('Recall score on Test Data',metrics.recall_score(y_pred,y_test.values.ravel()))\n",
    "print('F1-Score on Test Data',metrics.f1_score(y_pred,y_test.values.ravel()))"
   ]
  },
  {
   "cell_type": "code",
   "execution_count": 47,
   "id": "2f67c7a5",
   "metadata": {},
   "outputs": [
    {
     "data": {
      "image/png": "[encoded data removed]",
      "text/plain": [
       "<Figure size 640x480 with 2 Axes>"
      ]
     },
     "metadata": {},
     "output_type": "display_data"
    }
   ],
   "source": [
    "cm = metrics.confusion_matrix(y_test.values.ravel(), y_pred, labels=dt_clf.classes_)\n",
    "cmplot = metrics.ConfusionMatrixDisplay(confusion_matrix=cm,display_labels=['Negative', 'Positive'])\n",
    "cmplot.plot()\n",
    "cmplot.ax_.set(title='Confusion Matrix',xlabel='Predicted Value', ylabel='Actual Value')\n",
    "plt.show()"
   ]
  },
  {
   "cell_type": "code",
   "execution_count": 48,
   "id": "d983a613",
   "metadata": {},
   "outputs": [
    {
     "name": "stderr",
     "output_type": "stream",
     "text": [
      "[I 2023-10-14 08:24:35,255] A new study created in memory with name: no-name-eab021c9-873a-48ba-956f-4f53f7c929a9\n",
      "[I 2023-10-14 08:24:35,344] Trial 0 finished with value: 0.06215292549420004 and parameters: {'criterion': 'entropy', 'max_depth': 3, 'min_samples_split': 7, 'min_samples_leaf': 3}. Best is trial 0 with value: 0.06215292549420004.\n",
      "[I 2023-10-14 08:24:35,417] Trial 1 finished with value: 0.06874055929781586 and parameters: {'criterion': 'gini', 'max_depth': 4, 'min_samples_split': 4, 'min_samples_leaf': 6}. Best is trial 0 with value: 0.06215292549420004.\n",
      "[I 2023-10-14 08:24:35,487] Trial 2 finished with value: 0.050240193060953287 and parameters: {'criterion': 'entropy', 'max_depth': 4, 'min_samples_split': 9, 'min_samples_leaf': 4}. Best is trial 2 with value: 0.050240193060953287.\n",
      "[I 2023-10-14 08:24:35,542] Trial 3 finished with value: 0.06793903517724709 and parameters: {'criterion': 'gini', 'max_depth': 5, 'min_samples_split': 8, 'min_samples_leaf': 2}. Best is trial 2 with value: 0.050240193060953287.\n",
      "[I 2023-10-14 08:24:35,596] Trial 4 finished with value: 0.05345308566374096 and parameters: {'criterion': 'entropy', 'max_depth': 11, 'min_samples_split': 2, 'min_samples_leaf': 5}. Best is trial 2 with value: 0.050240193060953287.\n",
      "[I 2023-10-14 08:24:35,643] Trial 5 finished with value: 0.07250935385868584 and parameters: {'criterion': 'gini', 'max_depth': 14, 'min_samples_split': 5, 'min_samples_leaf': 4}. Best is trial 2 with value: 0.050240193060953287.\n",
      "[I 2023-10-14 08:24:35,681] Trial 6 finished with value: 0.11318026237100942 and parameters: {'criterion': 'gini', 'max_depth': 2, 'min_samples_split': 9, 'min_samples_leaf': 6}. Best is trial 2 with value: 0.050240193060953287.\n",
      "[I 2023-10-14 08:24:35,731] Trial 7 finished with value: 0.07873202614379093 and parameters: {'criterion': 'entropy', 'max_depth': 9, 'min_samples_split': 6, 'min_samples_leaf': 10}. Best is trial 2 with value: 0.050240193060953287.\n",
      "[I 2023-10-14 08:24:35,781] Trial 8 finished with value: 0.05392577688352351 and parameters: {'criterion': 'entropy', 'max_depth': 3, 'min_samples_split': 4, 'min_samples_leaf': 4}. Best is trial 2 with value: 0.050240193060953287.\n",
      "[I 2023-10-14 08:24:35,835] Trial 9 finished with value: 0.05672423512786917 and parameters: {'criterion': 'entropy', 'max_depth': 12, 'min_samples_split': 8, 'min_samples_leaf': 1}. Best is trial 2 with value: 0.050240193060953287.\n",
      "[I 2023-10-14 08:24:35,900] Trial 10 finished with value: 0.0734966099349661 and parameters: {'criterion': 'entropy', 'max_depth': 7, 'min_samples_split': 10, 'min_samples_leaf': 8}. Best is trial 2 with value: 0.050240193060953287.\n",
      "[I 2023-10-14 08:24:35,963] Trial 11 finished with value: 0.05063366500372091 and parameters: {'criterion': 'entropy', 'max_depth': 10, 'min_samples_split': 2, 'min_samples_leaf': 5}. Best is trial 2 with value: 0.050240193060953287.\n",
      "[I 2023-10-14 08:24:36,026] Trial 12 finished with value: 0.07901500600412947 and parameters: {'criterion': 'entropy', 'max_depth': 7, 'min_samples_split': 3, 'min_samples_leaf': 7}. Best is trial 2 with value: 0.050240193060953287.\n",
      "[I 2023-10-14 08:24:36,091] Trial 13 finished with value: 0.05711090868747737 and parameters: {'criterion': 'entropy', 'max_depth': 9, 'min_samples_split': 10, 'min_samples_leaf': 3}. Best is trial 2 with value: 0.050240193060953287.\n",
      "[I 2023-10-14 08:24:36,155] Trial 14 finished with value: 0.07382156656129246 and parameters: {'criterion': 'entropy', 'max_depth': 15, 'min_samples_split': 2, 'min_samples_leaf': 8}. Best is trial 2 with value: 0.050240193060953287.\n",
      "[I 2023-10-14 08:24:36,199] Trial 15 finished with value: 0.15334535082496537 and parameters: {'criterion': 'entropy', 'max_depth': 1, 'min_samples_split': 6, 'min_samples_leaf': 5}. Best is trial 2 with value: 0.050240193060953287.\n",
      "[I 2023-10-14 08:24:36,263] Trial 16 finished with value: 0.057532240382281885 and parameters: {'criterion': 'entropy', 'max_depth': 6, 'min_samples_split': 8, 'min_samples_leaf': 1}. Best is trial 2 with value: 0.050240193060953287.\n",
      "[I 2023-10-14 08:24:36,333] Trial 17 finished with value: 0.0620251876921305 and parameters: {'criterion': 'entropy', 'max_depth': 11, 'min_samples_split': 5, 'min_samples_leaf': 3}. Best is trial 2 with value: 0.050240193060953287.\n",
      "[I 2023-10-14 08:24:36,389] Trial 18 finished with value: 0.07770094832947372 and parameters: {'criterion': 'gini', 'max_depth': 9, 'min_samples_split': 7, 'min_samples_leaf': 10}. Best is trial 2 with value: 0.050240193060953287.\n",
      "[I 2023-10-14 08:24:36,470] Trial 19 finished with value: 0.07673202614379071 and parameters: {'criterion': 'entropy', 'max_depth': 12, 'min_samples_split': 3, 'min_samples_leaf': 7}. Best is trial 2 with value: 0.050240193060953287.\n",
      "[I 2023-10-14 08:24:36,536] Trial 20 finished with value: 0.05284837632663719 and parameters: {'criterion': 'entropy', 'max_depth': 5, 'min_samples_split': 9, 'min_samples_leaf': 4}. Best is trial 2 with value: 0.050240193060953287.\n",
      "[I 2023-10-14 08:24:36,603] Trial 21 finished with value: 0.044916163648558105 and parameters: {'criterion': 'entropy', 'max_depth': 5, 'min_samples_split': 9, 'min_samples_leaf': 4}. Best is trial 21 with value: 0.044916163648558105.\n",
      "[I 2023-10-14 08:24:36,667] Trial 22 finished with value: 0.05245336513713905 and parameters: {'criterion': 'entropy', 'max_depth': 7, 'min_samples_split': 9, 'min_samples_leaf': 5}. Best is trial 21 with value: 0.044916163648558105.\n",
      "[I 2023-10-14 08:24:36,732] Trial 23 finished with value: 0.055829459170733786 and parameters: {'criterion': 'entropy', 'max_depth': 5, 'min_samples_split': 10, 'min_samples_leaf': 2}. Best is trial 21 with value: 0.044916163648558105.\n",
      "[I 2023-10-14 08:24:36,793] Trial 24 finished with value: 0.04821149116923762 and parameters: {'criterion': 'entropy', 'max_depth': 3, 'min_samples_split': 7, 'min_samples_leaf': 4}. Best is trial 21 with value: 0.044916163648558105.\n",
      "[I 2023-10-14 08:24:36,837] Trial 25 finished with value: 0.15334535082496537 and parameters: {'criterion': 'entropy', 'max_depth': 1, 'min_samples_split': 7, 'min_samples_leaf': 4}. Best is trial 21 with value: 0.044916163648558105.\n",
      "[I 2023-10-14 08:24:36,892] Trial 26 finished with value: 0.07072444204175776 and parameters: {'criterion': 'gini', 'max_depth': 3, 'min_samples_split': 9, 'min_samples_leaf': 2}. Best is trial 21 with value: 0.044916163648558105.\n",
      "[I 2023-10-14 08:24:36,957] Trial 27 finished with value: 0.05617077739517151 and parameters: {'criterion': 'entropy', 'max_depth': 4, 'min_samples_split': 8, 'min_samples_leaf': 3}. Best is trial 21 with value: 0.044916163648558105.\n",
      "[I 2023-10-14 08:24:37,013] Trial 28 finished with value: 0.11251042922035792 and parameters: {'criterion': 'entropy', 'max_depth': 2, 'min_samples_split': 7, 'min_samples_leaf': 6}. Best is trial 21 with value: 0.044916163648558105.\n",
      "[I 2023-10-14 08:24:37,077] Trial 29 finished with value: 0.045574229691876744 and parameters: {'criterion': 'entropy', 'max_depth': 4, 'min_samples_split': 6, 'min_samples_leaf': 3}. Best is trial 21 with value: 0.044916163648558105.\n",
      "[I 2023-10-14 08:24:37,145] Trial 30 finished with value: 0.0605905904828854 and parameters: {'criterion': 'entropy', 'max_depth': 6, 'min_samples_split': 5, 'min_samples_leaf': 2}. Best is trial 21 with value: 0.044916163648558105.\n",
      "[I 2023-10-14 08:24:37,209] Trial 31 finished with value: 0.05181308887191238 and parameters: {'criterion': 'entropy', 'max_depth': 4, 'min_samples_split': 6, 'min_samples_leaf': 3}. Best is trial 21 with value: 0.044916163648558105.\n",
      "[I 2023-10-14 08:24:37,263] Trial 32 finished with value: 0.11251042922035792 and parameters: {'criterion': 'entropy', 'max_depth': 2, 'min_samples_split': 6, 'min_samples_leaf': 4}. Best is trial 21 with value: 0.044916163648558105.\n",
      "[I 2023-10-14 08:24:37,328] Trial 33 finished with value: 0.05454034774550931 and parameters: {'criterion': 'entropy', 'max_depth': 4, 'min_samples_split': 8, 'min_samples_leaf': 3}. Best is trial 21 with value: 0.044916163648558105.\n",
      "[I 2023-10-14 08:24:37,386] Trial 34 finished with value: 0.07932020270967732 and parameters: {'criterion': 'gini', 'max_depth': 6, 'min_samples_split': 7, 'min_samples_leaf': 4}. Best is trial 21 with value: 0.044916163648558105.\n"
     ]
    },
    {
     "name": "stderr",
     "output_type": "stream",
     "text": [
      "[I 2023-10-14 08:24:37,450] Trial 35 finished with value: 0.05400625978090756 and parameters: {'criterion': 'entropy', 'max_depth': 3, 'min_samples_split': 9, 'min_samples_leaf': 5}. Best is trial 21 with value: 0.044916163648558105.\n",
      "[I 2023-10-14 08:24:37,514] Trial 36 finished with value: 0.08540722596448236 and parameters: {'criterion': 'gini', 'max_depth': 5, 'min_samples_split': 8, 'min_samples_leaf': 4}. Best is trial 21 with value: 0.044916163648558105.\n",
      "[I 2023-10-14 08:24:37,578] Trial 37 finished with value: 0.062384451637360394 and parameters: {'criterion': 'entropy', 'max_depth': 3, 'min_samples_split': 5, 'min_samples_leaf': 2}. Best is trial 21 with value: 0.044916163648558105.\n",
      "[I 2023-10-14 08:24:37,645] Trial 38 finished with value: 0.0536038452939861 and parameters: {'criterion': 'entropy', 'max_depth': 4, 'min_samples_split': 7, 'min_samples_leaf': 5}. Best is trial 21 with value: 0.044916163648558105.\n",
      "[I 2023-10-14 08:24:37,695] Trial 39 finished with value: 0.11318026237100942 and parameters: {'criterion': 'gini', 'max_depth': 2, 'min_samples_split': 10, 'min_samples_leaf': 6}. Best is trial 21 with value: 0.044916163648558105.\n",
      "[I 2023-10-14 08:24:37,763] Trial 40 finished with value: 0.06477152875218961 and parameters: {'criterion': 'entropy', 'max_depth': 8, 'min_samples_split': 9, 'min_samples_leaf': 3}. Best is trial 21 with value: 0.044916163648558105.\n",
      "[I 2023-10-14 08:24:37,828] Trial 41 finished with value: 0.05566588721518284 and parameters: {'criterion': 'entropy', 'max_depth': 11, 'min_samples_split': 4, 'min_samples_leaf': 5}. Best is trial 21 with value: 0.044916163648558105.\n",
      "[I 2023-10-14 08:24:37,894] Trial 42 finished with value: 0.05427506563644613 and parameters: {'criterion': 'entropy', 'max_depth': 8, 'min_samples_split': 3, 'min_samples_leaf': 4}. Best is trial 21 with value: 0.044916163648558105.\n",
      "[I 2023-10-14 08:24:37,959] Trial 43 finished with value: 0.0536038452939861 and parameters: {'criterion': 'entropy', 'max_depth': 10, 'min_samples_split': 2, 'min_samples_leaf': 6}. Best is trial 21 with value: 0.044916163648558105.\n",
      "[I 2023-10-14 08:24:38,027] Trial 44 finished with value: 0.058803138717406944 and parameters: {'criterion': 'entropy', 'max_depth': 4, 'min_samples_split': 4, 'min_samples_leaf': 4}. Best is trial 21 with value: 0.044916163648558105.\n",
      "[I 2023-10-14 08:24:38,094] Trial 45 finished with value: 0.04742105601646407 and parameters: {'criterion': 'entropy', 'max_depth': 5, 'min_samples_split': 8, 'min_samples_leaf': 5}. Best is trial 21 with value: 0.044916163648558105.\n",
      "[I 2023-10-14 08:24:38,160] Trial 46 finished with value: 0.048483899200490344 and parameters: {'criterion': 'entropy', 'max_depth': 6, 'min_samples_split': 8, 'min_samples_leaf': 3}. Best is trial 21 with value: 0.044916163648558105.\n",
      "[I 2023-10-14 08:24:38,227] Trial 47 finished with value: 0.05085258579452889 and parameters: {'criterion': 'entropy', 'max_depth': 5, 'min_samples_split': 8, 'min_samples_leaf': 3}. Best is trial 21 with value: 0.044916163648558105.\n",
      "[I 2023-10-14 08:24:38,293] Trial 48 finished with value: 0.05962522160941819 and parameters: {'criterion': 'entropy', 'max_depth': 6, 'min_samples_split': 7, 'min_samples_leaf': 2}. Best is trial 21 with value: 0.044916163648558105.\n",
      "[I 2023-10-14 08:24:38,359] Trial 49 finished with value: 0.07796480606311373 and parameters: {'criterion': 'entropy', 'max_depth': 7, 'min_samples_split': 6, 'min_samples_leaf': 7}. Best is trial 21 with value: 0.044916163648558105.\n",
      "[I 2023-10-14 08:24:38,423] Trial 50 finished with value: 0.05135158778759519 and parameters: {'criterion': 'entropy', 'max_depth': 3, 'min_samples_split': 8, 'min_samples_leaf': 1}. Best is trial 21 with value: 0.044916163648558105.\n",
      "[I 2023-10-14 08:24:38,494] Trial 51 finished with value: 0.05589778388308697 and parameters: {'criterion': 'entropy', 'max_depth': 5, 'min_samples_split': 9, 'min_samples_leaf': 3}. Best is trial 21 with value: 0.044916163648558105.\n",
      "[I 2023-10-14 08:24:38,575] Trial 52 finished with value: 0.05638778269951494 and parameters: {'criterion': 'entropy', 'max_depth': 6, 'min_samples_split': 8, 'min_samples_leaf': 4}. Best is trial 21 with value: 0.044916163648558105.\n",
      "[I 2023-10-14 08:24:38,640] Trial 53 finished with value: 0.04202423061963878 and parameters: {'criterion': 'entropy', 'max_depth': 4, 'min_samples_split': 9, 'min_samples_leaf': 5}. Best is trial 53 with value: 0.04202423061963878.\n",
      "[I 2023-10-14 08:24:38,696] Trial 54 finished with value: 0.115077717005037 and parameters: {'criterion': 'entropy', 'max_depth': 2, 'min_samples_split': 9, 'min_samples_leaf': 5}. Best is trial 53 with value: 0.04202423061963878.\n",
      "[I 2023-10-14 08:24:38,760] Trial 55 finished with value: 0.053933463796477454 and parameters: {'criterion': 'entropy', 'max_depth': 5, 'min_samples_split': 6, 'min_samples_leaf': 6}. Best is trial 53 with value: 0.04202423061963878.\n",
      "[I 2023-10-14 08:24:38,815] Trial 56 finished with value: 0.06189805499664658 and parameters: {'criterion': 'gini', 'max_depth': 3, 'min_samples_split': 10, 'min_samples_leaf': 5}. Best is trial 53 with value: 0.04202423061963878.\n",
      "[I 2023-10-14 08:24:38,881] Trial 57 finished with value: 0.05034806613928411 and parameters: {'criterion': 'entropy', 'max_depth': 5, 'min_samples_split': 7, 'min_samples_leaf': 4}. Best is trial 53 with value: 0.04202423061963878.\n",
      "[I 2023-10-14 08:24:38,947] Trial 58 finished with value: 0.05096979945750246 and parameters: {'criterion': 'entropy', 'max_depth': 4, 'min_samples_split': 8, 'min_samples_leaf': 5}. Best is trial 53 with value: 0.04202423061963878.\n",
      "[I 2023-10-14 08:24:39,016] Trial 59 finished with value: 0.050083698538261556 and parameters: {'criterion': 'entropy', 'max_depth': 7, 'min_samples_split': 9, 'min_samples_leaf': 4}. Best is trial 53 with value: 0.04202423061963878.\n",
      "[I 2023-10-14 08:24:39,060] Trial 60 finished with value: 0.15334535082496537 and parameters: {'criterion': 'entropy', 'max_depth': 1, 'min_samples_split': 8, 'min_samples_leaf': 7}. Best is trial 53 with value: 0.04202423061963878.\n",
      "[I 2023-10-14 08:24:39,126] Trial 61 finished with value: 0.05048504913406071 and parameters: {'criterion': 'entropy', 'max_depth': 7, 'min_samples_split': 9, 'min_samples_leaf': 3}. Best is trial 53 with value: 0.04202423061963878.\n",
      "[I 2023-10-14 08:24:39,193] Trial 62 finished with value: 0.06443539429840794 and parameters: {'criterion': 'entropy', 'max_depth': 7, 'min_samples_split': 9, 'min_samples_leaf': 4}. Best is trial 53 with value: 0.04202423061963878.\n",
      "[I 2023-10-14 08:24:39,259] Trial 63 finished with value: 0.047589900464264034 and parameters: {'criterion': 'entropy', 'max_depth': 6, 'min_samples_split': 10, 'min_samples_leaf': 3}. Best is trial 53 with value: 0.04202423061963878.\n",
      "[I 2023-10-14 08:24:39,327] Trial 64 finished with value: 0.04782473412375521 and parameters: {'criterion': 'entropy', 'max_depth': 6, 'min_samples_split': 10, 'min_samples_leaf': 3}. Best is trial 53 with value: 0.04202423061963878.\n",
      "[I 2023-10-14 08:24:39,396] Trial 65 finished with value: 0.04806073153899226 and parameters: {'criterion': 'entropy', 'max_depth': 8, 'min_samples_split': 10, 'min_samples_leaf': 2}. Best is trial 53 with value: 0.04202423061963878.\n",
      "[I 2023-10-14 08:24:39,462] Trial 66 finished with value: 0.053165836644097575 and parameters: {'criterion': 'entropy', 'max_depth': 8, 'min_samples_split': 10, 'min_samples_leaf': 2}. Best is trial 53 with value: 0.04202423061963878.\n",
      "[I 2023-10-14 08:24:39,535] Trial 67 finished with value: 0.05010748654349384 and parameters: {'criterion': 'entropy', 'max_depth': 9, 'min_samples_split': 10, 'min_samples_leaf': 1}. Best is trial 53 with value: 0.04202423061963878.\n",
      "[I 2023-10-14 08:24:39,600] Trial 68 finished with value: 0.0739211416768134 and parameters: {'criterion': 'gini', 'max_depth': 8, 'min_samples_split': 10, 'min_samples_leaf': 2}. Best is trial 53 with value: 0.04202423061963878.\n",
      "[I 2023-10-14 08:24:39,667] Trial 69 finished with value: 0.053165836644097575 and parameters: {'criterion': 'entropy', 'max_depth': 6, 'min_samples_split': 10, 'min_samples_leaf': 2}. Best is trial 53 with value: 0.04202423061963878.\n",
      "[I 2023-10-14 08:24:39,734] Trial 70 finished with value: 0.047897530108185316 and parameters: {'criterion': 'entropy', 'max_depth': 13, 'min_samples_split': 10, 'min_samples_leaf': 3}. Best is trial 53 with value: 0.04202423061963878.\n"
     ]
    },
    {
     "name": "stderr",
     "output_type": "stream",
     "text": [
      "[I 2023-10-14 08:24:39,802] Trial 71 finished with value: 0.05277110907013027 and parameters: {'criterion': 'entropy', 'max_depth': 12, 'min_samples_split': 10, 'min_samples_leaf': 3}. Best is trial 53 with value: 0.04202423061963878.\n",
      "[I 2023-10-14 08:24:39,868] Trial 72 finished with value: 0.05095588020878883 and parameters: {'criterion': 'entropy', 'max_depth': 14, 'min_samples_split': 10, 'min_samples_leaf': 3}. Best is trial 53 with value: 0.04202423061963878.\n",
      "[I 2023-10-14 08:24:39,935] Trial 73 finished with value: 0.05645887102111047 and parameters: {'criterion': 'entropy', 'max_depth': 15, 'min_samples_split': 10, 'min_samples_leaf': 3}. Best is trial 53 with value: 0.04202423061963878.\n",
      "[I 2023-10-14 08:24:40,001] Trial 74 finished with value: 0.05332456680282771 and parameters: {'criterion': 'entropy', 'max_depth': 4, 'min_samples_split': 10, 'min_samples_leaf': 2}. Best is trial 53 with value: 0.04202423061963878.\n",
      "[I 2023-10-14 08:24:40,068] Trial 75 finished with value: 0.060332599098810724 and parameters: {'criterion': 'entropy', 'max_depth': 5, 'min_samples_split': 9, 'min_samples_leaf': 3}. Best is trial 53 with value: 0.04202423061963878.\n",
      "[I 2023-10-14 08:24:40,136] Trial 76 finished with value: 0.04500238143838886 and parameters: {'criterion': 'entropy', 'max_depth': 6, 'min_samples_split': 10, 'min_samples_leaf': 2}. Best is trial 53 with value: 0.04202423061963878.\n",
      "[I 2023-10-14 08:24:40,205] Trial 77 finished with value: 0.05345308566374085 and parameters: {'criterion': 'entropy', 'max_depth': 6, 'min_samples_split': 9, 'min_samples_leaf': 1}. Best is trial 53 with value: 0.04202423061963878.\n",
      "[I 2023-10-14 08:24:40,269] Trial 78 finished with value: 0.0721497080806015 and parameters: {'criterion': 'entropy', 'max_depth': 5, 'min_samples_split': 10, 'min_samples_leaf': 9}. Best is trial 53 with value: 0.04202423061963878.\n",
      "[I 2023-10-14 08:24:40,329] Trial 79 finished with value: 0.05627631848932246 and parameters: {'criterion': 'gini', 'max_depth': 4, 'min_samples_split': 9, 'min_samples_leaf': 5}. Best is trial 53 with value: 0.04202423061963878.\n",
      "[I 2023-10-14 08:24:40,396] Trial 80 finished with value: 0.05346291633727984 and parameters: {'criterion': 'entropy', 'max_depth': 13, 'min_samples_split': 10, 'min_samples_leaf': 4}. Best is trial 53 with value: 0.04202423061963878.\n",
      "[I 2023-10-14 08:24:40,466] Trial 81 finished with value: 0.04500238143838886 and parameters: {'criterion': 'entropy', 'max_depth': 6, 'min_samples_split': 10, 'min_samples_leaf': 2}. Best is trial 53 with value: 0.04202423061963878.\n",
      "[I 2023-10-14 08:24:40,534] Trial 82 finished with value: 0.05912249354774668 and parameters: {'criterion': 'entropy', 'max_depth': 6, 'min_samples_split': 10, 'min_samples_leaf': 2}. Best is trial 53 with value: 0.04202423061963878.\n",
      "[I 2023-10-14 08:24:40,602] Trial 83 finished with value: 0.054261608297125674 and parameters: {'criterion': 'entropy', 'max_depth': 5, 'min_samples_split': 9, 'min_samples_leaf': 2}. Best is trial 53 with value: 0.04202423061963878.\n",
      "[I 2023-10-14 08:24:40,669] Trial 84 finished with value: 0.04821946169772251 and parameters: {'criterion': 'entropy', 'max_depth': 7, 'min_samples_split': 10, 'min_samples_leaf': 3}. Best is trial 53 with value: 0.04202423061963878.\n",
      "[I 2023-10-14 08:24:40,737] Trial 85 finished with value: 0.053717304273307453 and parameters: {'criterion': 'entropy', 'max_depth': 6, 'min_samples_split': 9, 'min_samples_leaf': 3}. Best is trial 53 with value: 0.04202423061963878.\n",
      "[I 2023-10-14 08:24:40,804] Trial 86 finished with value: 0.05889851287917358 and parameters: {'criterion': 'entropy', 'max_depth': 4, 'min_samples_split': 10, 'min_samples_leaf': 1}. Best is trial 53 with value: 0.04202423061963878.\n",
      "[I 2023-10-14 08:24:40,873] Trial 87 finished with value: 0.05352783366867864 and parameters: {'criterion': 'entropy', 'max_depth': 5, 'min_samples_split': 10, 'min_samples_leaf': 4}. Best is trial 53 with value: 0.04202423061963878.\n",
      "[I 2023-10-14 08:24:40,941] Trial 88 finished with value: 0.048558447084555034 and parameters: {'criterion': 'entropy', 'max_depth': 6, 'min_samples_split': 6, 'min_samples_leaf': 3}. Best is trial 53 with value: 0.04202423061963878.\n",
      "[I 2023-10-14 08:24:41,009] Trial 89 finished with value: 0.047970042477084696 and parameters: {'criterion': 'entropy', 'max_depth': 7, 'min_samples_split': 9, 'min_samples_leaf': 6}. Best is trial 53 with value: 0.04202423061963878.\n",
      "[I 2023-10-14 08:24:41,077] Trial 90 finished with value: 0.04786878357799007 and parameters: {'criterion': 'entropy', 'max_depth': 10, 'min_samples_split': 5, 'min_samples_leaf': 2}. Best is trial 53 with value: 0.04202423061963878.\n",
      "[I 2023-10-14 08:24:41,148] Trial 91 finished with value: 0.06125654252311252 and parameters: {'criterion': 'entropy', 'max_depth': 13, 'min_samples_split': 5, 'min_samples_leaf': 2}. Best is trial 53 with value: 0.04202423061963878.\n",
      "[I 2023-10-14 08:24:41,216] Trial 92 finished with value: 0.06312731525235693 and parameters: {'criterion': 'entropy', 'max_depth': 11, 'min_samples_split': 5, 'min_samples_leaf': 2}. Best is trial 53 with value: 0.04202423061963878.\n",
      "[I 2023-10-14 08:24:41,323] Trial 93 finished with value: 0.053165836644097575 and parameters: {'criterion': 'entropy', 'max_depth': 10, 'min_samples_split': 10, 'min_samples_leaf': 3}. Best is trial 53 with value: 0.04202423061963878.\n",
      "[I 2023-10-14 08:24:41,395] Trial 94 finished with value: 0.05396170110007825 and parameters: {'criterion': 'entropy', 'max_depth': 10, 'min_samples_split': 4, 'min_samples_leaf': 4}. Best is trial 53 with value: 0.04202423061963878.\n",
      "[I 2023-10-14 08:24:41,465] Trial 95 finished with value: 0.057424602242270195 and parameters: {'criterion': 'entropy', 'max_depth': 5, 'min_samples_split': 5, 'min_samples_leaf': 1}. Best is trial 53 with value: 0.04202423061963878.\n",
      "[I 2023-10-14 08:24:41,535] Trial 96 finished with value: 0.05010748654349384 and parameters: {'criterion': 'entropy', 'max_depth': 4, 'min_samples_split': 10, 'min_samples_leaf': 2}. Best is trial 53 with value: 0.04202423061963878.\n",
      "[I 2023-10-14 08:24:41,599] Trial 97 finished with value: 0.05940308517773296 and parameters: {'criterion': 'gini', 'max_depth': 9, 'min_samples_split': 9, 'min_samples_leaf': 3}. Best is trial 53 with value: 0.04202423061963878.\n",
      "[I 2023-10-14 08:24:41,666] Trial 98 finished with value: 0.06197853789403074 and parameters: {'criterion': 'entropy', 'max_depth': 6, 'min_samples_split': 6, 'min_samples_leaf': 5}. Best is trial 53 with value: 0.04202423061963878.\n",
      "[I 2023-10-14 08:24:41,733] Trial 99 finished with value: 0.054024933917228735 and parameters: {'criterion': 'entropy', 'max_depth': 5, 'min_samples_split': 10, 'min_samples_leaf': 2}. Best is trial 53 with value: 0.04202423061963878.\n"
     ]
    }
   ],
   "source": [
    "#### Optuna Library\n",
    "\n",
    "# Define the objective function\n",
    "def objective(trial):\n",
    "    # Define hyperparameter search space using trial object\n",
    "    criterion = trial.suggest_categorical('criterion', ['gini', 'entropy'])\n",
    "    max_depth = trial.suggest_int('max_depth', 1, 15)\n",
    "    min_samples_split = trial.suggest_int('min_samples_split', 2, 10)\n",
    "    min_samples_leaf = trial.suggest_int('min_samples_leaf', 1, 10)\n",
    "    \n",
    "    clf = tree.DecisionTreeClassifier(\n",
    "        criterion=criterion, \n",
    "        max_depth=max_depth,\n",
    "        min_samples_split=min_samples_split,\n",
    "        min_samples_leaf=min_samples_leaf\n",
    "    )\n",
    "    \n",
    "    return 1.0 - model_selection.cross_val_score(clf, X_train, y_train.values.ravel(), cv=5,scoring=custom_scorer).mean()\n",
    "\n",
    "# Create a study object and specify the direction is 'minimize'.\n",
    "study = optuna.create_study(direction='minimize')\n",
    "\n",
    "# Optimize the study, the objective function is passed in as the first argument.\n",
    "study.optimize(objective, n_trials=100)"
   ]
  },
  {
   "cell_type": "code",
   "execution_count": 49,
   "id": "b693772f",
   "metadata": {},
   "outputs": [
    {
     "name": "stdout",
     "output_type": "stream",
     "text": [
      "Best Paramter:  {'criterion': 'entropy', 'max_depth': 4, 'min_samples_split': 9, 'min_samples_leaf': 5}\n",
      "Best score:  0.9579757693803612\n"
     ]
    }
   ],
   "source": [
    "best_params = study.best_params\n",
    "print('Best Paramter: ',best_params)\n",
    "best_score = 1.0 - study.best_value\n",
    "print('Best score: ',best_score)"
   ]
  },
  {
   "cell_type": "code",
   "execution_count": 50,
   "id": "7cb1575b",
   "metadata": {},
   "outputs": [
    {
     "name": "stdout",
     "output_type": "stream",
     "text": [
      "Overall Accuracy on Test Data 0.9133333333333333\n",
      "Precision on Test Data 0.9066666666666666\n",
      "Recall score on Test Data 0.918918918918919\n",
      "F1-Score on Test Data 0.912751677852349\n"
     ]
    }
   ],
   "source": [
    "dt_clf = tree.DecisionTreeClassifier(**{'criterion': 'entropy', \n",
    "                                        'max_depth': 14, 'min_samples_split': 10, \n",
    "                                        'min_samples_leaf': 4},random_state=2023)\n",
    "\n",
    "dt_clf.fit(X_train,y_train.values.ravel())\n",
    "\n",
    "y_pred = dt_clf.predict(X_test)\n",
    "\n",
    "print('Overall Accuracy on Test Data',metrics.accuracy_score(y_pred,y_test.values.ravel()))\n",
    "print('Precision on Test Data',metrics.precision_score(y_pred,y_test.values.ravel()))\n",
    "print('Recall score on Test Data',metrics.recall_score(y_pred,y_test.values.ravel()))\n",
    "print('F1-Score on Test Data',metrics.f1_score(y_pred,y_test.values.ravel()))"
   ]
  },
  {
   "cell_type": "code",
   "execution_count": 51,
   "id": "3a6c7b4e",
   "metadata": {},
   "outputs": [
    {
     "data": {
      "image/png": "[encoded data removed]",
      "text/plain": [
       "<Figure size 640x480 with 2 Axes>"
      ]
     },
     "metadata": {},
     "output_type": "display_data"
    }
   ],
   "source": [
    "cm = metrics.confusion_matrix(y_test.values.ravel(), y_pred, labels=dt_clf.classes_)\n",
    "cmplot = metrics.ConfusionMatrixDisplay(confusion_matrix=cm,display_labels=['Negative', 'Positive'])\n",
    "cmplot.plot()\n",
    "cmplot.ax_.set(title='Confusion Matrix',xlabel='Predicted Value', ylabel='Actual Value')\n",
    "plt.show()"
   ]
  },
  {
   "cell_type": "markdown",
   "id": "d4a7fa4b",
   "metadata": {},
   "source": [
    "### Random Forest"
   ]
  },
  {
   "cell_type": "code",
   "execution_count": 52,
   "id": "96aaf421",
   "metadata": {},
   "outputs": [
    {
     "name": "stdout",
     "output_type": "stream",
     "text": [
      "Overall Accuracy on Test Data 0.9866666666666667\n",
      "Precision on Test Data 0.9866666666666667\n",
      "Recall score on Test Data 0.9866666666666667\n",
      "F1-Score on Test Data 0.9866666666666668\n"
     ]
    }
   ],
   "source": [
    "rf_clf = ensemble.RandomForestClassifier(random_state=2023)\n",
    "rf_clf.fit(X_train,y_train.values.ravel())\n",
    "y_pred = rf_clf.predict(X_test)\n",
    "\n",
    "print('Overall Accuracy on Test Data',metrics.accuracy_score(y_pred,y_test.values.ravel()))\n",
    "print('Precision on Test Data',metrics.precision_score(y_pred,y_test.values.ravel()))\n",
    "print('Recall score on Test Data',metrics.recall_score(y_pred,y_test.values.ravel()))\n",
    "print('F1-Score on Test Data',metrics.f1_score(y_pred,y_test.values.ravel()))"
   ]
  },
  {
   "cell_type": "code",
   "execution_count": 53,
   "id": "cbebc60e",
   "metadata": {},
   "outputs": [
    {
     "data": {
      "image/png": "[encoded data removed]",
      "text/plain": [
       "<Figure size 640x480 with 2 Axes>"
      ]
     },
     "metadata": {},
     "output_type": "display_data"
    }
   ],
   "source": [
    "cm = metrics.confusion_matrix(y_test.values.ravel(), y_pred, labels=rf_clf.classes_)\n",
    "cmplot = metrics.ConfusionMatrixDisplay(confusion_matrix=cm,display_labels=['Negative', 'Positive'])\n",
    "cmplot.plot()\n",
    "cmplot.ax_.set(title='Confusion Matrix',xlabel='Predicted Value', ylabel='Actual Value')\n",
    "plt.show()"
   ]
  },
  {
   "cell_type": "code",
   "execution_count": 54,
   "id": "813ee3d3",
   "metadata": {},
   "outputs": [
    {
     "name": "stdout",
     "output_type": "stream",
     "text": [
      "[0.94285714 0.98591549 0.95652174 1.         0.95522388]\n"
     ]
    }
   ],
   "source": [
    "#### Using cross validation to improve the Accuracy\n",
    "\n",
    "rf_clf = ensemble.RandomForestClassifier(random_state=2023)\n",
    "scores = model_selection.cross_val_score(rf_clf, X_train, y_train.values.ravel(),scoring='f1', cv=5)\n",
    "print(scores)"
   ]
  },
  {
   "cell_type": "markdown",
   "id": "72c2adac",
   "metadata": {},
   "source": [
    "### Grid Search CV"
   ]
  },
  {
   "cell_type": "code",
   "execution_count": 55,
   "id": "d62b0d1a",
   "metadata": {},
   "outputs": [],
   "source": [
    "param_grid = {\n",
    "    'n_estimators': [10, 50, 100, 200],\n",
    "    'max_features': ['sqrt', 'log2'],\n",
    "    'max_depth': [None, 10, 20, 30, 40, 50],\n",
    "    'bootstrap': [True, False],\n",
    "    'criterion': ['gini', 'entropy']\n",
    "}\n",
    "inner_cv = model_selection.StratifiedKFold(n_splits=3, shuffle=True, random_state=2023)\n",
    "gcv = model_selection.GridSearchCV(estimator=ensemble.RandomForestClassifier(random_state=2023),\n",
    "                       param_grid=param_grid,\n",
    "                       scoring=custom_scorer,\n",
    "                       n_jobs=-1,\n",
    "                       cv=inner_cv,\n",
    "                       verbose=0,\n",
    "                       refit=True)\n",
    "X_train_cv = X_train.reset_index(drop=True)\n",
    "y_train_cv = y_train.reset_index(drop=True)"
   ]
  },
  {
   "cell_type": "code",
   "execution_count": 56,
   "id": "aa362ccb",
   "metadata": {},
   "outputs": [
    {
     "name": "stdout",
     "output_type": "stream",
     "text": [
      "\n",
      " Best ACC (avg. of inner test folds) 98.57%\n",
      "Best parameters: {'bootstrap': False, 'criterion': 'entropy', 'max_depth': None, 'max_features': 'log2', 'n_estimators': 100}\n",
      "ACC (on outer test fold) 98.57%\n",
      "\n",
      " Best ACC (avg. of inner test folds) 97.85%\n",
      "Best parameters: {'bootstrap': True, 'criterion': 'gini', 'max_depth': None, 'max_features': 'log2', 'n_estimators': 100}\n",
      "ACC (on outer test fold) 97.14%\n",
      "\n",
      " Best ACC (avg. of inner test folds) 99.29%\n",
      "Best parameters: {'bootstrap': True, 'criterion': 'gini', 'max_depth': None, 'max_features': 'sqrt', 'n_estimators': 50}\n",
      "ACC (on outer test fold) 94.29%\n",
      "\n",
      " Best ACC (avg. of inner test folds) 97.89%\n",
      "Best parameters: {'bootstrap': False, 'criterion': 'gini', 'max_depth': None, 'max_features': 'log2', 'n_estimators': 100}\n",
      "ACC (on outer test fold) 98.57%\n",
      "\n",
      " Best ACC (avg. of inner test folds) 97.86%\n",
      "Best parameters: {'bootstrap': True, 'criterion': 'entropy', 'max_depth': None, 'max_features': 'log2', 'n_estimators': 100}\n",
      "ACC (on outer test fold) 100.00%\n",
      "\n",
      "    Outer Loop:\n",
      "ACC 97.71% +/- 1.94\n"
     ]
    }
   ],
   "source": [
    "outer_scores = []\n",
    "\n",
    "outer_cv = model_selection.StratifiedKFold(n_splits=5, shuffle=True, random_state=2023)\n",
    "    \n",
    "    \n",
    "for train_idx, valid_idx in outer_cv.split(X_train_cv, y_train_cv):\n",
    "    gcv.fit(X_train_cv.loc[train_idx,:], y_train_cv.loc[train_idx,:].values.ravel()) # run inner loop hyperparam tuning\n",
    "    print('\\n Best ACC (avg. of inner test folds) %.2f%%' % (gcv.best_score_ * 100))\n",
    "    print('Best parameters:', gcv.best_params_)\n",
    "        \n",
    "    # perf on test fold (valid_idx)\n",
    "    outer_scores.append(gcv.best_estimator_.score(X_train_cv.loc[valid_idx,:], y_train_cv.loc[valid_idx,:].values.ravel()))\n",
    "    print('ACC (on outer test fold) %.2f%%' % (outer_scores[-1]*100))\n",
    "    \n",
    "print('\\n    Outer Loop:')\n",
    "print('ACC %.2f%% +/- %.2f' % (np.mean(outer_scores) * 100, np.std(outer_scores) * 100))"
   ]
  },
  {
   "cell_type": "code",
   "execution_count": 57,
   "id": "3bbdc324",
   "metadata": {},
   "outputs": [
    {
     "name": "stdout",
     "output_type": "stream",
     "text": [
      "Best Parameter {'bootstrap': True, 'criterion': 'entropy', 'max_depth': None, 'max_features': 'log2', 'n_estimators': 100}\n"
     ]
    }
   ],
   "source": [
    "print('Best Parameter',gcv.best_params_)"
   ]
  },
  {
   "cell_type": "code",
   "execution_count": 58,
   "id": "ca41b0aa",
   "metadata": {},
   "outputs": [
    {
     "name": "stdout",
     "output_type": "stream",
     "text": [
      "Overall Accuracy on Test Data 0.9933333333333333\n",
      "Precision on Test Data 0.9866666666666667\n",
      "Recall score on Test Data 1.0\n",
      "F1-Score on Test Data 0.9932885906040269\n"
     ]
    }
   ],
   "source": [
    "rf_clf = ensemble.RandomForestClassifier(**{'bootstrap': True, \n",
    "                                            'criterion': 'entropy', \n",
    "                                            'max_depth': None, \n",
    "                                            'max_features': 'log2', 'n_estimators': 100},random_state=2023)\n",
    "\n",
    "rf_clf.fit(X_train,y_train.values.ravel())\n",
    "y_pred = rf_clf.predict(X_test)\n",
    "\n",
    "print('Overall Accuracy on Test Data',metrics.accuracy_score(y_pred,y_test.values.ravel()))\n",
    "print('Precision on Test Data',metrics.precision_score(y_pred,y_test.values.ravel()))\n",
    "print('Recall score on Test Data',metrics.recall_score(y_pred,y_test.values.ravel()))\n",
    "print('F1-Score on Test Data',metrics.f1_score(y_pred,y_test.values.ravel()))"
   ]
  },
  {
   "cell_type": "code",
   "execution_count": 59,
   "id": "41996fa6",
   "metadata": {},
   "outputs": [
    {
     "data": {
      "image/png": "[encoded data removed]",
      "text/plain": [
       "<Figure size 640x480 with 2 Axes>"
      ]
     },
     "metadata": {},
     "output_type": "display_data"
    }
   ],
   "source": [
    "cm = metrics.confusion_matrix(y_test.values.ravel(), y_pred, labels=rf_clf.classes_)\n",
    "cmplot = metrics.ConfusionMatrixDisplay(confusion_matrix=cm,display_labels=['Negative', 'Positive'])\n",
    "cmplot.plot()\n",
    "cmplot.ax_.set(title='Confusion Matrix',xlabel='Predicted Value', ylabel='Actual Value')\n",
    "plt.show()"
   ]
  },
  {
   "cell_type": "code",
   "execution_count": 60,
   "id": "cf24ef23",
   "metadata": {},
   "outputs": [],
   "source": [
    "### Hyperopt Library"
   ]
  },
  {
   "cell_type": "code",
   "execution_count": 61,
   "id": "44ef9659",
   "metadata": {},
   "outputs": [
    {
     "name": "stdout",
     "output_type": "stream",
     "text": [
      "100%|██████████████████████████████████| 100/100 [01:07<00:00,  1.49trial/s, best loss: -0.9914676464584609]\n"
     ]
    }
   ],
   "source": [
    "# Define the objective function\n",
    "def objective(params):\n",
    "    clf = ensemble.RandomForestClassifier(**params)\n",
    "    score = model_selection.cross_val_score(clf, X_train,y_train.values.ravel(), cv=5,scoring=custom_scorer).mean()\n",
    "    return {'loss': -score, 'status': STATUS_OK}\n",
    "\n",
    "# Define the hyperparameter space\n",
    "space = {\n",
    "    'n_estimators': hp.choice('n_estimators', [10, 50, 100, 200]),\n",
    "    'max_features': hp.choice('max_features', ['sqrt', 'log2']),\n",
    "    'max_depth': hp.choice('max_depth', [None, 10, 20, 30, 40, 50]),\n",
    "    'bootstrap': hp.choice('bootstrap', [True, False]),\n",
    "    'criterion': hp.choice('criterion', ['gini', 'entropy'])\n",
    "}\n",
    "\n",
    "# Run the optimization\n",
    "trials = Trials()\n",
    "best = fmin(fn=objective, space=space, algo=tpe.suggest, max_evals=100, trials=trials)"
   ]
  },
  {
   "cell_type": "code",
   "execution_count": 62,
   "id": "a135e780",
   "metadata": {},
   "outputs": [
    {
     "name": "stdout",
     "output_type": "stream",
     "text": [
      "Best hyperparameters: {'bootstrap': 1, 'criterion': 1, 'max_depth': 1, 'max_features': 1, 'n_estimators': 3}\n"
     ]
    }
   ],
   "source": [
    "print(\"Best hyperparameters:\", best)"
   ]
  },
  {
   "cell_type": "code",
   "execution_count": 63,
   "id": "918fe13e",
   "metadata": {},
   "outputs": [
    {
     "name": "stdout",
     "output_type": "stream",
     "text": [
      "Overall Accuracy on Test Data 0.86\n",
      "Precision on Test Data 0.8266666666666667\n",
      "Recall score on Test Data 0.8857142857142857\n",
      "F1-Score on Test Data 0.8551724137931035\n"
     ]
    }
   ],
   "source": [
    "rf_clf = ensemble.RandomForestClassifier(**{'bootstrap': False, \n",
    "                                            'criterion': 'entropy', \n",
    "                                            'max_depth': 3, \n",
    "                                            'max_features': 'log2', \n",
    "                                            'n_estimators': 1},random_state=2023)\n",
    "\n",
    "rf_clf.fit(X_train,y_train.values.ravel())\n",
    "\n",
    "y_pred = rf_clf.predict(X_test)\n",
    "\n",
    "print('Overall Accuracy on Test Data',metrics.accuracy_score(y_pred,y_test.values.ravel()))\n",
    "print('Precision on Test Data',metrics.precision_score(y_pred,y_test.values.ravel()))\n",
    "print('Recall score on Test Data',metrics.recall_score(y_pred,y_test.values.ravel()))\n",
    "print('F1-Score on Test Data',metrics.f1_score(y_pred,y_test.values.ravel()))"
   ]
  },
  {
   "cell_type": "code",
   "execution_count": 64,
   "id": "0dd70e37",
   "metadata": {},
   "outputs": [
    {
     "data": {
      "image/png": "[encoded data removed]",
      "text/plain": [
       "<Figure size 640x480 with 2 Axes>"
      ]
     },
     "metadata": {},
     "output_type": "display_data"
    }
   ],
   "source": [
    "cm = metrics.confusion_matrix(y_test.values.ravel(), y_pred, labels=rf_clf.classes_)\n",
    "cmplot = metrics.ConfusionMatrixDisplay(confusion_matrix=cm,display_labels=['Negative', 'Positive'])\n",
    "cmplot.plot()\n",
    "cmplot.ax_.set(title='Confusion Matrix',xlabel='Predicted Value', ylabel='Actual Value')\n",
    "plt.show()"
   ]
  },
  {
   "cell_type": "code",
   "execution_count": 67,
   "id": "52b8e433",
   "metadata": {},
   "outputs": [
    {
     "name": "stderr",
     "output_type": "stream",
     "text": [
      "[I 2023-10-14 08:40:27,691] A new study created in memory with name: no-name-360ec082-53ea-44f2-b4b0-74db198ee49b\n",
      "[I 2023-10-14 08:40:27,951] Trial 0 finished with value: 0.9827731607033506 and parameters: {'n_estimators': 39, 'max_features': 'sqrt', 'max_depth': 34, 'bootstrap': False, 'criterion': 'gini'}. Best is trial 0 with value: 0.9827731607033506.\n",
      "[I 2023-10-14 08:40:28,488] Trial 1 finished with value: 0.9857545271629778 and parameters: {'n_estimators': 80, 'max_features': 'sqrt', 'max_depth': 50, 'bootstrap': False, 'criterion': 'entropy'}. Best is trial 1 with value: 0.9857545271629778.\n",
      "[I 2023-10-14 08:40:28,935] Trial 2 finished with value: 0.9855864599360871 and parameters: {'n_estimators': 83, 'max_features': 'log2', 'max_depth': 14, 'bootstrap': True, 'criterion': 'entropy'}. Best is trial 1 with value: 0.9857545271629778.\n",
      "[I 2023-10-14 08:40:29,921] Trial 3 finished with value: 0.985913257321708 and parameters: {'n_estimators': 188, 'max_features': 'log2', 'max_depth': 12, 'bootstrap': True, 'criterion': 'entropy'}. Best is trial 3 with value: 0.985913257321708.\n",
      "[I 2023-10-14 08:40:30,987] Trial 4 finished with value: 0.9855864599360871 and parameters: {'n_estimators': 184, 'max_features': 'sqrt', 'max_depth': 12, 'bootstrap': True, 'criterion': 'entropy'}. Best is trial 3 with value: 0.985913257321708.\n",
      "[I 2023-10-14 08:40:31,822] Trial 5 finished with value: 0.9830181086519115 and parameters: {'n_estimators': 172, 'max_features': 'log2', 'max_depth': 10, 'bootstrap': True, 'criterion': 'gini'}. Best is trial 3 with value: 0.985913257321708.\n",
      "[I 2023-10-14 08:40:32,782] Trial 6 finished with value: 0.9855864599360871 and parameters: {'n_estimators': 200, 'max_features': 'log2', 'max_depth': 38, 'bootstrap': True, 'criterion': 'gini'}. Best is trial 3 with value: 0.985913257321708.\n",
      "[I 2023-10-14 08:40:32,991] Trial 7 finished with value: 0.9857545271629778 and parameters: {'n_estimators': 37, 'max_features': 'log2', 'max_depth': 12, 'bootstrap': False, 'criterion': 'gini'}. Best is trial 3 with value: 0.985913257321708.\n",
      "[I 2023-10-14 08:40:34,047] Trial 8 finished with value: 0.9857545271629778 and parameters: {'n_estimators': 159, 'max_features': 'sqrt', 'max_depth': 19, 'bootstrap': False, 'criterion': 'entropy'}. Best is trial 3 with value: 0.985913257321708.\n",
      "[I 2023-10-14 08:40:34,695] Trial 9 finished with value: 0.985913257321708 and parameters: {'n_estimators': 124, 'max_features': 'log2', 'max_depth': 18, 'bootstrap': True, 'criterion': 'entropy'}. Best is trial 3 with value: 0.985913257321708.\n",
      "[I 2023-10-14 08:40:35,424] Trial 10 finished with value: 0.9855864599360871 and parameters: {'n_estimators': 135, 'max_features': 'log2', 'max_depth': 24, 'bootstrap': True, 'criterion': 'entropy'}. Best is trial 3 with value: 0.985913257321708.\n",
      "[I 2023-10-14 08:40:36,107] Trial 11 finished with value: 0.9855864599360871 and parameters: {'n_estimators': 128, 'max_features': 'log2', 'max_depth': 17, 'bootstrap': True, 'criterion': 'entropy'}. Best is trial 3 with value: 0.985913257321708.\n",
      "[I 2023-10-14 08:40:36,746] Trial 12 finished with value: 0.985913257321708 and parameters: {'n_estimators': 119, 'max_features': 'log2', 'max_depth': 15, 'bootstrap': True, 'criterion': 'entropy'}. Best is trial 3 with value: 0.985913257321708.\n",
      "[I 2023-10-14 08:40:37,536] Trial 13 finished with value: 0.9830181086519115 and parameters: {'n_estimators': 149, 'max_features': 'log2', 'max_depth': 22, 'bootstrap': True, 'criterion': 'entropy'}. Best is trial 3 with value: 0.985913257321708.\n",
      "[I 2023-10-14 08:40:38,062] Trial 14 finished with value: 0.985913257321708 and parameters: {'n_estimators': 96, 'max_features': 'log2', 'max_depth': 10, 'bootstrap': True, 'criterion': 'entropy'}. Best is trial 3 with value: 0.985913257321708.\n",
      "[I 2023-10-14 08:40:38,409] Trial 15 finished with value: 0.9855864599360871 and parameters: {'n_estimators': 62, 'max_features': 'log2', 'max_depth': 18, 'bootstrap': True, 'criterion': 'entropy'}. Best is trial 3 with value: 0.985913257321708.\n",
      "[I 2023-10-14 08:40:38,519] Trial 16 finished with value: 0.9770588749890647 and parameters: {'n_estimators': 15, 'max_features': 'log2', 'max_depth': 13, 'bootstrap': True, 'criterion': 'entropy'}. Best is trial 3 with value: 0.985913257321708.\n",
      "[I 2023-10-14 08:40:39,544] Trial 17 finished with value: 0.985913257321708 and parameters: {'n_estimators': 197, 'max_features': 'log2', 'max_depth': 16, 'bootstrap': True, 'criterion': 'entropy'}. Best is trial 3 with value: 0.985913257321708.\n",
      "[I 2023-10-14 08:40:40,513] Trial 18 finished with value: 0.9773831394162074 and parameters: {'n_estimators': 153, 'max_features': 'sqrt', 'max_depth': 20, 'bootstrap': False, 'criterion': 'gini'}. Best is trial 3 with value: 0.985913257321708.\n",
      "[I 2023-10-14 08:40:41,071] Trial 19 finished with value: 0.9884021949257351 and parameters: {'n_estimators': 102, 'max_features': 'log2', 'max_depth': 25, 'bootstrap': True, 'criterion': 'entropy'}. Best is trial 19 with value: 0.9884021949257351.\n",
      "[I 2023-10-14 08:40:41,704] Trial 20 finished with value: 0.9828500414250207 and parameters: {'n_estimators': 109, 'max_features': 'log2', 'max_depth': 26, 'bootstrap': True, 'criterion': 'entropy'}. Best is trial 19 with value: 0.9884021949257351.\n",
      "[I 2023-10-14 08:40:42,238] Trial 21 finished with value: 0.9827731607033506 and parameters: {'n_estimators': 96, 'max_features': 'log2', 'max_depth': 27, 'bootstrap': True, 'criterion': 'entropy'}. Best is trial 19 with value: 0.9884021949257351.\n",
      "[I 2023-10-14 08:40:43,021] Trial 22 finished with value: 0.985913257321708 and parameters: {'n_estimators': 141, 'max_features': 'log2', 'max_depth': 21, 'bootstrap': True, 'criterion': 'entropy'}. Best is trial 19 with value: 0.9884021949257351.\n",
      "[I 2023-10-14 08:40:43,947] Trial 23 finished with value: 0.9855864599360871 and parameters: {'n_estimators': 171, 'max_features': 'log2', 'max_depth': 16, 'bootstrap': True, 'criterion': 'entropy'}. Best is trial 19 with value: 0.9884021949257351.\n",
      "[I 2023-10-14 08:40:44,589] Trial 24 finished with value: 0.9855864599360871 and parameters: {'n_estimators': 114, 'max_features': 'log2', 'max_depth': 19, 'bootstrap': True, 'criterion': 'entropy'}. Best is trial 19 with value: 0.9884021949257351.\n",
      "[I 2023-10-14 08:40:44,991] Trial 25 finished with value: 0.9803599374021909 and parameters: {'n_estimators': 70, 'max_features': 'log2', 'max_depth': 14, 'bootstrap': True, 'criterion': 'entropy'}. Best is trial 19 with value: 0.9884021949257351.\n",
      "[I 2023-10-14 08:40:45,771] Trial 26 finished with value: 0.9855864599360871 and parameters: {'n_estimators': 126, 'max_features': 'sqrt', 'max_depth': 17, 'bootstrap': False, 'criterion': 'gini'}. Best is trial 19 with value: 0.9884021949257351.\n",
      "[I 2023-10-14 08:40:46,058] Trial 27 finished with value: 0.9802816901408452 and parameters: {'n_estimators': 50, 'max_features': 'log2', 'max_depth': 23, 'bootstrap': True, 'criterion': 'entropy'}. Best is trial 19 with value: 0.9884021949257351.\n",
      "[I 2023-10-14 08:40:46,578] Trial 28 finished with value: 0.9855864599360871 and parameters: {'n_estimators': 94, 'max_features': 'log2', 'max_depth': 11, 'bootstrap': True, 'criterion': 'entropy'}. Best is trial 19 with value: 0.9884021949257351.\n",
      "[I 2023-10-14 08:40:47,584] Trial 29 finished with value: 0.9855864599360871 and parameters: {'n_estimators': 166, 'max_features': 'sqrt', 'max_depth': 31, 'bootstrap': False, 'criterion': 'gini'}. Best is trial 19 with value: 0.9884021949257351.\n",
      "[I 2023-10-14 08:40:48,554] Trial 30 finished with value: 0.9855864599360871 and parameters: {'n_estimators': 186, 'max_features': 'log2', 'max_depth': 15, 'bootstrap': True, 'criterion': 'entropy'}. Best is trial 19 with value: 0.9884021949257351.\n",
      "[I 2023-10-14 08:40:49,252] Trial 31 finished with value: 0.985913257321708 and parameters: {'n_estimators': 116, 'max_features': 'log2', 'max_depth': 14, 'bootstrap': True, 'criterion': 'entropy'}. Best is trial 19 with value: 0.9884021949257351.\n",
      "[I 2023-10-14 08:40:49,910] Trial 32 finished with value: 0.985913257321708 and parameters: {'n_estimators': 123, 'max_features': 'log2', 'max_depth': 20, 'bootstrap': True, 'criterion': 'entropy'}. Best is trial 19 with value: 0.9884021949257351.\n"
     ]
    },
    {
     "name": "stderr",
     "output_type": "stream",
     "text": [
      "[I 2023-10-14 08:40:50,356] Trial 33 finished with value: 0.985913257321708 and parameters: {'n_estimators': 77, 'max_features': 'log2', 'max_depth': 15, 'bootstrap': True, 'criterion': 'entropy'}. Best is trial 19 with value: 0.9884021949257351.\n",
      "[I 2023-10-14 08:40:50,972] Trial 34 finished with value: 0.9830181086519115 and parameters: {'n_estimators': 103, 'max_features': 'sqrt', 'max_depth': 12, 'bootstrap': True, 'criterion': 'entropy'}. Best is trial 19 with value: 0.9884021949257351.\n",
      "[I 2023-10-14 08:40:51,712] Trial 35 finished with value: 0.985913257321708 and parameters: {'n_estimators': 138, 'max_features': 'log2', 'max_depth': 18, 'bootstrap': True, 'criterion': 'entropy'}. Best is trial 19 with value: 0.9884021949257351.\n",
      "[I 2023-10-14 08:40:52,231] Trial 36 finished with value: 0.9857545271629778 and parameters: {'n_estimators': 87, 'max_features': 'log2', 'max_depth': 13, 'bootstrap': False, 'criterion': 'entropy'}. Best is trial 19 with value: 0.9884021949257351.\n",
      "[I 2023-10-14 08:40:53,126] Trial 37 finished with value: 0.9828500414250207 and parameters: {'n_estimators': 182, 'max_features': 'log2', 'max_depth': 11, 'bootstrap': True, 'criterion': 'gini'}. Best is trial 19 with value: 0.9884021949257351.\n",
      "[I 2023-10-14 08:40:53,751] Trial 38 finished with value: 0.9856669428334713 and parameters: {'n_estimators': 106, 'max_features': 'sqrt', 'max_depth': 21, 'bootstrap': True, 'criterion': 'entropy'}. Best is trial 19 with value: 0.9884021949257351.\n",
      "[I 2023-10-14 08:40:54,623] Trial 39 finished with value: 0.9886519114688127 and parameters: {'n_estimators': 150, 'max_features': 'log2', 'max_depth': 36, 'bootstrap': False, 'criterion': 'entropy'}. Best is trial 39 with value: 0.9886519114688127.\n",
      "[I 2023-10-14 08:40:55,413] Trial 40 finished with value: 0.985913257321708 and parameters: {'n_estimators': 147, 'max_features': 'log2', 'max_depth': 41, 'bootstrap': False, 'criterion': 'gini'}. Best is trial 39 with value: 0.9886519114688127.\n",
      "[I 2023-10-14 08:40:56,430] Trial 41 finished with value: 0.9886519114688127 and parameters: {'n_estimators': 161, 'max_features': 'log2', 'max_depth': 35, 'bootstrap': False, 'criterion': 'entropy'}. Best is trial 39 with value: 0.9886519114688127.\n",
      "[I 2023-10-14 08:40:57,419] Trial 42 finished with value: 0.9886519114688127 and parameters: {'n_estimators': 161, 'max_features': 'log2', 'max_depth': 33, 'bootstrap': False, 'criterion': 'entropy'}. Best is trial 39 with value: 0.9886519114688127.\n",
      "[I 2023-10-14 08:40:58,392] Trial 43 finished with value: 0.9886519114688127 and parameters: {'n_estimators': 164, 'max_features': 'log2', 'max_depth': 35, 'bootstrap': False, 'criterion': 'entropy'}. Best is trial 39 with value: 0.9886519114688127.\n",
      "[I 2023-10-14 08:40:59,351] Trial 44 finished with value: 0.9884838442419219 and parameters: {'n_estimators': 160, 'max_features': 'log2', 'max_depth': 33, 'bootstrap': False, 'criterion': 'entropy'}. Best is trial 39 with value: 0.9886519114688127.\n",
      "[I 2023-10-14 08:41:00,274] Trial 45 finished with value: 0.9886519114688127 and parameters: {'n_estimators': 161, 'max_features': 'log2', 'max_depth': 33, 'bootstrap': False, 'criterion': 'entropy'}. Best is trial 39 with value: 0.9886519114688127.\n",
      "[I 2023-10-14 08:41:01,291] Trial 46 finished with value: 0.9886519114688127 and parameters: {'n_estimators': 178, 'max_features': 'log2', 'max_depth': 37, 'bootstrap': False, 'criterion': 'entropy'}. Best is trial 39 with value: 0.9886519114688127.\n",
      "[I 2023-10-14 08:41:02,213] Trial 47 finished with value: 0.9886519114688127 and parameters: {'n_estimators': 161, 'max_features': 'log2', 'max_depth': 44, 'bootstrap': False, 'criterion': 'entropy'}. Best is trial 39 with value: 0.9886519114688127.\n",
      "[I 2023-10-14 08:41:03,196] Trial 48 finished with value: 0.9886519114688127 and parameters: {'n_estimators': 172, 'max_features': 'log2', 'max_depth': 30, 'bootstrap': False, 'criterion': 'entropy'}. Best is trial 39 with value: 0.9886519114688127.\n",
      "[I 2023-10-14 08:41:04,287] Trial 49 finished with value: 0.9888106416275431 and parameters: {'n_estimators': 193, 'max_features': 'log2', 'max_depth': 36, 'bootstrap': False, 'criterion': 'entropy'}. Best is trial 49 with value: 0.9888106416275431.\n",
      "[I 2023-10-14 08:41:05,562] Trial 50 finished with value: 0.9857545271629778 and parameters: {'n_estimators': 193, 'max_features': 'sqrt', 'max_depth': 36, 'bootstrap': False, 'criterion': 'entropy'}. Best is trial 49 with value: 0.9888106416275431.\n",
      "[I 2023-10-14 08:41:06,443] Trial 51 finished with value: 0.9888106416275431 and parameters: {'n_estimators': 154, 'max_features': 'log2', 'max_depth': 34, 'bootstrap': False, 'criterion': 'entropy'}. Best is trial 49 with value: 0.9888106416275431.\n",
      "[I 2023-10-14 08:41:07,312] Trial 52 finished with value: 0.9886519114688127 and parameters: {'n_estimators': 151, 'max_features': 'log2', 'max_depth': 40, 'bootstrap': False, 'criterion': 'entropy'}. Best is trial 49 with value: 0.9888106416275431.\n",
      "[I 2023-10-14 08:41:10,193] Trial 53 finished with value: 0.9888106416275431 and parameters: {'n_estimators': 176, 'max_features': 'log2', 'max_depth': 35, 'bootstrap': False, 'criterion': 'entropy'}. Best is trial 49 with value: 0.9888106416275431.\n",
      "[I 2023-10-14 08:41:11,439] Trial 54 finished with value: 0.9914676464584609 and parameters: {'n_estimators': 178, 'max_features': 'log2', 'max_depth': 38, 'bootstrap': False, 'criterion': 'entropy'}. Best is trial 54 with value: 0.9914676464584609.\n",
      "[I 2023-10-14 08:41:12,946] Trial 55 finished with value: 0.9857545271629778 and parameters: {'n_estimators': 191, 'max_features': 'log2', 'max_depth': 38, 'bootstrap': False, 'criterion': 'entropy'}. Best is trial 54 with value: 0.9914676464584609.\n",
      "[I 2023-10-14 08:41:14,270] Trial 56 finished with value: 0.9886519114688127 and parameters: {'n_estimators': 200, 'max_features': 'log2', 'max_depth': 46, 'bootstrap': False, 'criterion': 'entropy'}. Best is trial 54 with value: 0.9914676464584609.\n",
      "[I 2023-10-14 08:41:15,267] Trial 57 finished with value: 0.9855864599360871 and parameters: {'n_estimators': 174, 'max_features': 'log2', 'max_depth': 39, 'bootstrap': False, 'criterion': 'gini'}. Best is trial 54 with value: 0.9914676464584609.\n",
      "[I 2023-10-14 08:41:16,391] Trial 58 finished with value: 0.9857545271629778 and parameters: {'n_estimators': 178, 'max_features': 'log2', 'max_depth': 36, 'bootstrap': False, 'criterion': 'entropy'}. Best is trial 54 with value: 0.9914676464584609.\n",
      "[I 2023-10-14 08:41:17,317] Trial 59 finished with value: 0.9884838442419219 and parameters: {'n_estimators': 133, 'max_features': 'log2', 'max_depth': 42, 'bootstrap': False, 'criterion': 'entropy'}. Best is trial 54 with value: 0.9914676464584609.\n",
      "[I 2023-10-14 08:41:18,259] Trial 60 finished with value: 0.9886519114688127 and parameters: {'n_estimators': 143, 'max_features': 'log2', 'max_depth': 38, 'bootstrap': False, 'criterion': 'entropy'}. Best is trial 54 with value: 0.9914676464584609.\n",
      "[I 2023-10-14 08:41:19,251] Trial 61 finished with value: 0.9888106416275431 and parameters: {'n_estimators': 155, 'max_features': 'log2', 'max_depth': 31, 'bootstrap': False, 'criterion': 'entropy'}. Best is trial 54 with value: 0.9914676464584609.\n",
      "[I 2023-10-14 08:41:20,179] Trial 62 finished with value: 0.9830181086519115 and parameters: {'n_estimators': 154, 'max_features': 'log2', 'max_depth': 35, 'bootstrap': False, 'criterion': 'entropy'}. Best is trial 54 with value: 0.9914676464584609.\n",
      "[I 2023-10-14 08:41:21,373] Trial 63 finished with value: 0.9857545271629778 and parameters: {'n_estimators': 183, 'max_features': 'log2', 'max_depth': 30, 'bootstrap': False, 'criterion': 'entropy'}. Best is trial 54 with value: 0.9914676464584609.\n",
      "[I 2023-10-14 08:41:22,414] Trial 64 finished with value: 0.9888106416275431 and parameters: {'n_estimators': 168, 'max_features': 'log2', 'max_depth': 28, 'bootstrap': False, 'criterion': 'entropy'}. Best is trial 54 with value: 0.9914676464584609.\n",
      "[I 2023-10-14 08:41:23,550] Trial 65 finished with value: 0.9914676464584609 and parameters: {'n_estimators': 170, 'max_features': 'log2', 'max_depth': 28, 'bootstrap': False, 'criterion': 'entropy'}. Best is trial 54 with value: 0.9914676464584609.\n"
     ]
    },
    {
     "name": "stderr",
     "output_type": "stream",
     "text": [
      "[I 2023-10-14 08:41:24,637] Trial 66 finished with value: 0.9888106416275431 and parameters: {'n_estimators': 169, 'max_features': 'log2', 'max_depth': 27, 'bootstrap': False, 'criterion': 'entropy'}. Best is trial 54 with value: 0.9914676464584609.\n",
      "[I 2023-10-14 08:41:25,793] Trial 67 finished with value: 0.985913257321708 and parameters: {'n_estimators': 191, 'max_features': 'log2', 'max_depth': 29, 'bootstrap': False, 'criterion': 'entropy'}. Best is trial 54 with value: 0.9914676464584609.\n",
      "[I 2023-10-14 08:41:27,038] Trial 68 finished with value: 0.985913257321708 and parameters: {'n_estimators': 185, 'max_features': 'sqrt', 'max_depth': 32, 'bootstrap': False, 'criterion': 'entropy'}. Best is trial 54 with value: 0.9914676464584609.\n",
      "[I 2023-10-14 08:41:28,066] Trial 69 finished with value: 0.9800402414486922 and parameters: {'n_estimators': 175, 'max_features': 'log2', 'max_depth': 29, 'bootstrap': False, 'criterion': 'gini'}. Best is trial 54 with value: 0.9914676464584609.\n",
      "[I 2023-10-14 08:41:29,298] Trial 70 finished with value: 0.985913257321708 and parameters: {'n_estimators': 181, 'max_features': 'log2', 'max_depth': 32, 'bootstrap': False, 'criterion': 'entropy'}. Best is trial 54 with value: 0.9914676464584609.\n",
      "[I 2023-10-14 08:41:30,480] Trial 71 finished with value: 0.985913257321708 and parameters: {'n_estimators': 170, 'max_features': 'log2', 'max_depth': 28, 'bootstrap': False, 'criterion': 'entropy'}. Best is trial 54 with value: 0.9914676464584609.\n",
      "[I 2023-10-14 08:41:32,218] Trial 72 finished with value: 0.9886519114688127 and parameters: {'n_estimators': 193, 'max_features': 'log2', 'max_depth': 27, 'bootstrap': False, 'criterion': 'entropy'}. Best is trial 54 with value: 0.9914676464584609.\n",
      "[I 2023-10-14 08:41:33,223] Trial 73 finished with value: 0.9886519114688127 and parameters: {'n_estimators': 154, 'max_features': 'log2', 'max_depth': 25, 'bootstrap': False, 'criterion': 'entropy'}. Best is trial 54 with value: 0.9914676464584609.\n",
      "[I 2023-10-14 08:41:34,430] Trial 74 finished with value: 0.9888106416275431 and parameters: {'n_estimators': 167, 'max_features': 'log2', 'max_depth': 31, 'bootstrap': False, 'criterion': 'entropy'}. Best is trial 54 with value: 0.9914676464584609.\n",
      "[I 2023-10-14 08:41:35,519] Trial 75 finished with value: 0.9888106416275431 and parameters: {'n_estimators': 170, 'max_features': 'log2', 'max_depth': 27, 'bootstrap': False, 'criterion': 'entropy'}. Best is trial 54 with value: 0.9914676464584609.\n",
      "[I 2023-10-14 08:41:36,657] Trial 76 finished with value: 0.9888106416275431 and parameters: {'n_estimators': 178, 'max_features': 'log2', 'max_depth': 34, 'bootstrap': False, 'criterion': 'entropy'}. Best is trial 54 with value: 0.9914676464584609.\n",
      "[I 2023-10-14 08:41:37,871] Trial 77 finished with value: 0.9888106416275431 and parameters: {'n_estimators': 188, 'max_features': 'log2', 'max_depth': 25, 'bootstrap': False, 'criterion': 'entropy'}. Best is trial 54 with value: 0.9914676464584609.\n",
      "[I 2023-10-14 08:41:38,818] Trial 78 finished with value: 0.985913257321708 and parameters: {'n_estimators': 145, 'max_features': 'log2', 'max_depth': 28, 'bootstrap': False, 'criterion': 'entropy'}. Best is trial 54 with value: 0.9914676464584609.\n",
      "[I 2023-10-14 08:41:40,052] Trial 79 finished with value: 0.9886519114688127 and parameters: {'n_estimators': 156, 'max_features': 'sqrt', 'max_depth': 31, 'bootstrap': False, 'criterion': 'entropy'}. Best is trial 54 with value: 0.9914676464584609.\n",
      "[I 2023-10-14 08:41:40,149] Trial 80 finished with value: 0.9858350100603621 and parameters: {'n_estimators': 11, 'max_features': 'log2', 'max_depth': 26, 'bootstrap': False, 'criterion': 'gini'}. Best is trial 54 with value: 0.9914676464584609.\n",
      "[I 2023-10-14 08:41:41,382] Trial 81 finished with value: 0.9884838442419219 and parameters: {'n_estimators': 167, 'max_features': 'log2', 'max_depth': 31, 'bootstrap': False, 'criterion': 'entropy'}. Best is trial 54 with value: 0.9914676464584609.\n",
      "[I 2023-10-14 08:41:42,418] Trial 82 finished with value: 0.9855864599360871 and parameters: {'n_estimators': 164, 'max_features': 'log2', 'max_depth': 34, 'bootstrap': False, 'criterion': 'entropy'}. Best is trial 54 with value: 0.9914676464584609.\n",
      "[I 2023-10-14 08:41:43,554] Trial 83 finished with value: 0.9857545271629778 and parameters: {'n_estimators': 167, 'max_features': 'log2', 'max_depth': 32, 'bootstrap': False, 'criterion': 'entropy'}. Best is trial 54 with value: 0.9914676464584609.\n",
      "[I 2023-10-14 08:41:44,931] Trial 84 finished with value: 0.9886519114688127 and parameters: {'n_estimators': 198, 'max_features': 'log2', 'max_depth': 23, 'bootstrap': False, 'criterion': 'entropy'}. Best is trial 54 with value: 0.9914676464584609.\n",
      "[I 2023-10-14 08:41:46,091] Trial 85 finished with value: 0.9888106416275431 and parameters: {'n_estimators': 176, 'max_features': 'log2', 'max_depth': 30, 'bootstrap': False, 'criterion': 'entropy'}. Best is trial 54 with value: 0.9914676464584609.\n",
      "[I 2023-10-14 08:41:47,212] Trial 86 finished with value: 0.9886519114688127 and parameters: {'n_estimators': 181, 'max_features': 'log2', 'max_depth': 34, 'bootstrap': False, 'criterion': 'entropy'}. Best is trial 54 with value: 0.9914676464584609.\n",
      "[I 2023-10-14 08:41:48,216] Trial 87 finished with value: 0.985913257321708 and parameters: {'n_estimators': 156, 'max_features': 'log2', 'max_depth': 29, 'bootstrap': False, 'criterion': 'entropy'}. Best is trial 54 with value: 0.9914676464584609.\n",
      "[I 2023-10-14 08:41:49,118] Trial 88 finished with value: 0.985913257321708 and parameters: {'n_estimators': 132, 'max_features': 'log2', 'max_depth': 38, 'bootstrap': False, 'criterion': 'entropy'}. Best is trial 54 with value: 0.9914676464584609.\n",
      "[I 2023-10-14 08:41:50,256] Trial 89 finished with value: 0.9886519114688127 and parameters: {'n_estimators': 169, 'max_features': 'log2', 'max_depth': 37, 'bootstrap': False, 'criterion': 'entropy'}. Best is trial 54 with value: 0.9914676464584609.\n",
      "[I 2023-10-14 08:41:51,430] Trial 90 finished with value: 0.9888106416275431 and parameters: {'n_estimators': 187, 'max_features': 'log2', 'max_depth': 33, 'bootstrap': False, 'criterion': 'entropy'}. Best is trial 54 with value: 0.9914676464584609.\n",
      "[I 2023-10-14 08:41:52,528] Trial 91 finished with value: 0.9888106416275431 and parameters: {'n_estimators': 171, 'max_features': 'log2', 'max_depth': 27, 'bootstrap': False, 'criterion': 'entropy'}. Best is trial 54 with value: 0.9914676464584609.\n",
      "[I 2023-10-14 08:41:53,351] Trial 92 finished with value: 0.9888106416275431 and parameters: {'n_estimators': 138, 'max_features': 'log2', 'max_depth': 24, 'bootstrap': False, 'criterion': 'entropy'}. Best is trial 54 with value: 0.9914676464584609.\n",
      "[I 2023-10-14 08:41:54,337] Trial 93 finished with value: 0.9888106416275431 and parameters: {'n_estimators': 165, 'max_features': 'log2', 'max_depth': 28, 'bootstrap': False, 'criterion': 'entropy'}. Best is trial 54 with value: 0.9914676464584609.\n",
      "[I 2023-10-14 08:41:55,422] Trial 94 finished with value: 0.9857545271629778 and parameters: {'n_estimators': 173, 'max_features': 'log2', 'max_depth': 31, 'bootstrap': False, 'criterion': 'entropy'}. Best is trial 54 with value: 0.9914676464584609.\n",
      "[I 2023-10-14 08:41:56,691] Trial 95 finished with value: 0.9888106416275431 and parameters: {'n_estimators': 196, 'max_features': 'log2', 'max_depth': 26, 'bootstrap': False, 'criterion': 'entropy'}. Best is trial 54 with value: 0.9914676464584609.\n",
      "[I 2023-10-14 08:41:57,741] Trial 96 finished with value: 0.9830181086519115 and parameters: {'n_estimators': 148, 'max_features': 'sqrt', 'max_depth': 30, 'bootstrap': False, 'criterion': 'entropy'}. Best is trial 54 with value: 0.9914676464584609.\n",
      "[I 2023-10-14 08:41:58,769] Trial 97 finished with value: 0.9886519114688127 and parameters: {'n_estimators': 159, 'max_features': 'log2', 'max_depth': 40, 'bootstrap': False, 'criterion': 'entropy'}. Best is trial 54 with value: 0.9914676464584609.\n",
      "[I 2023-10-14 08:41:59,769] Trial 98 finished with value: 0.9830181086519115 and parameters: {'n_estimators': 179, 'max_features': 'log2', 'max_depth': 36, 'bootstrap': False, 'criterion': 'gini'}. Best is trial 54 with value: 0.9914676464584609.\n"
     ]
    },
    {
     "name": "stderr",
     "output_type": "stream",
     "text": [
      "[I 2023-10-14 08:41:59,991] Trial 99 finished with value: 0.9858350100603621 and parameters: {'n_estimators': 29, 'max_features': 'log2', 'max_depth': 34, 'bootstrap': False, 'criterion': 'entropy'}. Best is trial 54 with value: 0.9914676464584609.\n"
     ]
    }
   ],
   "source": [
    "### Optuna Library\n",
    "\n",
    "def objective(trial):\n",
    "    n_estimators = trial.suggest_int('n_estimators', 10, 200)\n",
    "    max_features = trial.suggest_categorical('max_features', ['sqrt', 'log2'])\n",
    "    max_depth = trial.suggest_int('max_depth', 10, 50, log=True)\n",
    "    bootstrap = trial.suggest_categorical('bootstrap', [True, False])\n",
    "    criterion = trial.suggest_categorical('criterion', ['gini', 'entropy'])\n",
    "\n",
    "    clf = ensemble.RandomForestClassifier(\n",
    "        n_estimators=n_estimators,\n",
    "        max_features=max_features,\n",
    "        max_depth=max_depth,\n",
    "        bootstrap=bootstrap,\n",
    "        criterion=criterion\n",
    "    )\n",
    "    return model_selection.cross_val_score(clf, X_train,y_train.values.ravel(), cv=5,scoring=custom_scorer).mean()\n",
    "\n",
    "# Create a study object and specify the direction is 'maximize'.\n",
    "study = optuna.create_study(direction='maximize')\n",
    "study.optimize(objective, n_trials=100)"
   ]
  },
  {
   "cell_type": "code",
   "execution_count": 68,
   "id": "ddb68f10",
   "metadata": {},
   "outputs": [
    {
     "name": "stdout",
     "output_type": "stream",
     "text": [
      "Best Parameter:  {'n_estimators': 178, 'max_features': 'log2', 'max_depth': 38, 'bootstrap': False, 'criterion': 'entropy'}\n",
      "Best Score:  0.9914676464584609\n"
     ]
    }
   ],
   "source": [
    "best_params = study.best_params\n",
    "print('Best Parameter: ',best_params)\n",
    "best_score = study.best_value\n",
    "print('Best Score: ',best_score)"
   ]
  },
  {
   "cell_type": "code",
   "execution_count": 69,
   "id": "3d3a4d2d",
   "metadata": {},
   "outputs": [
    {
     "name": "stdout",
     "output_type": "stream",
     "text": [
      "Overall Accuracy on Test Data 0.9933333333333333\n",
      "Precision on Test Data 0.9866666666666667\n",
      "Recall score on Test Data 1.0\n",
      "F1-Score on Test Data 0.9932885906040269\n"
     ]
    }
   ],
   "source": [
    "rf_clf = ensemble.RandomForestClassifier(**{'bootstrap': False, \n",
    "                                            'criterion': 'entropy', \n",
    "                                            'max_depth': 32, \n",
    "                                            'max_features': 'log2', \n",
    "                                            'n_estimators': 180},random_state=2023)\n",
    "\n",
    "rf_clf.fit(X_train,y_train.values.ravel())\n",
    "\n",
    "y_pred = rf_clf.predict(X_test)\n",
    "\n",
    "print('Overall Accuracy on Test Data',metrics.accuracy_score(y_pred,y_test.values.ravel()))\n",
    "print('Precision on Test Data',metrics.precision_score(y_pred,y_test.values.ravel()))\n",
    "print('Recall score on Test Data',metrics.recall_score(y_pred,y_test.values.ravel()))\n",
    "print('F1-Score on Test Data',metrics.f1_score(y_pred,y_test.values.ravel()))"
   ]
  },
  {
   "cell_type": "code",
   "execution_count": 70,
   "id": "33d1d2ef",
   "metadata": {},
   "outputs": [
    {
     "data": {
      "image/png": "[encoded data removed]",
      "text/plain": [
       "<Figure size 640x480 with 2 Axes>"
      ]
     },
     "metadata": {},
     "output_type": "display_data"
    }
   ],
   "source": [
    "cm = metrics.confusion_matrix(y_test.values.ravel(), y_pred, labels=rf_clf.classes_)\n",
    "cmplot = metrics.ConfusionMatrixDisplay(confusion_matrix=cm,display_labels=['Negative', 'Positive'])\n",
    "cmplot.plot()\n",
    "cmplot.ax_.set(title='Confusion Matrix',xlabel='Predicted Value', ylabel='Actual Value')\n",
    "plt.show()"
   ]
  },
  {
   "cell_type": "code",
   "execution_count": null,
   "id": "6330dc07",
   "metadata": {},
   "outputs": [],
   "source": []
  }
 ],
 "metadata": {
  "kernelspec": {
   "display_name": "Python 3 (ipykernel)",
   "language": "python",
   "name": "python3"
  },
  "language_info": {
   "codemirror_mode": {
    "name": "ipython",
    "version": 3
   },
   "file_extension": ".py",
   "mimetype": "text/x-python",
   "name": "python",
   "nbconvert_exporter": "python",
   "pygments_lexer": "ipython3",
   "version": "3.9.13"
  }
 },
 "nbformat": 4,
 "nbformat_minor": 5
}
