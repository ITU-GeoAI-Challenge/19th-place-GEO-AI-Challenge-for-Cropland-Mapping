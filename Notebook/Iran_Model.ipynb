{
 "cells": [
  {
   "cell_type": "code",
   "execution_count": null,
   "id": "8fba5a69",
   "metadata": {},
   "outputs": [],
   "source": [
    "# Install Required Library\n",
    "\n",
    "!pip install numpy==1.23.5\n",
    "!pip install pandas==1.5.3\n",
    "!pip install matplotlib==3.7.1\n",
    "!pip install earthengine-api==0.1.374\n",
    "!pip install scikit-learn==1.2.2\n",
    "!pip install shapely==2.0.1\n",
    "!pip install geopandas==0.13.2\n",
    "!pip install geemap==0.28.2\n",
    "!pip install seaborn==0.12.2\n",
    "!pip install xgboost==2.0.0\n",
    "!pip install tqdm==4.66.1\n",
    "!pip install hyperopt==0.2.7\n",
    "!pip install optuna==3.3.0"
   ]
  },
  {
   "cell_type": "code",
   "execution_count": 1,
   "id": "7066fe35",
   "metadata": {},
   "outputs": [],
   "source": [
    "# Basic Python Library\n",
    "import numpy as np\n",
    "import pandas as pd\n",
    "import seaborn as sns\n",
    "import matplotlib.pyplot as plt\n",
    "from datetime import datetime, timedelta\n",
    "\n",
    "# Geospatial Library\n",
    "import ee\n",
    "import geemap\n",
    "from shapely.geometry import Point\n",
    "import geopandas as gpd\n",
    "\n",
    "# Machine Learning Library\n",
    "from sklearn import feature_selection\n",
    "from sklearn import model_selection\n",
    "from sklearn import decomposition\n",
    "from sklearn import tree\n",
    "from sklearn import ensemble\n",
    "from sklearn.pipeline import make_pipeline\n",
    "from sklearn import metrics\n",
    "from xgboost import XGBClassifier\n",
    "from sklearn import svm\n",
    "import joblib\n",
    "\n",
    "# Hyperparameter Optimization Library\n",
    "import hyperopt\n",
    "from hyperopt import fmin, tpe, hp, Trials,STATUS_OK\n",
    "import optuna\n",
    "\n",
    "### Additional Library\n",
    "from tqdm.notebook import tqdm\n",
    "import warnings\n",
    "warnings.filterwarnings('ignore')"
   ]
  },
  {
   "cell_type": "markdown",
   "id": "6a990f1b",
   "metadata": {},
   "source": [
    "<b> Use GEE Credential to login and download Satellite Data </b>"
   ]
  },
  {
   "cell_type": "code",
   "execution_count": 4,
   "id": "53528cc5",
   "metadata": {},
   "outputs": [
    {
     "data": {
      "text/html": [
       "<p>To authorize access needed by Earth Engine, open the following\n",
       "        URL in a web browser and follow the instructions:</p>\n",
       "        <p><a href=https://code.earthengine.google.com/client-auth?scopes=https%3A//www.googleapis.com/auth/earthengine%20https%3A//www.googleapis.com/auth/devstorage.full_control&request_id=TovlEPfcglBI9vxGwhlkwdW-7b1OPtLzjiTkk1ZGZtA&tc=zxmnnI3VwgT7bQgz8wQ9mVIHfWRJvhNOwU7O1WmFu3M&cc=Jx3RQJ8TewUNokEYnELxJm7jo4dEdGD5207_uI0kArI>https://code.earthengine.google.com/client-auth?scopes=https%3A//www.googleapis.com/auth/earthengine%20https%3A//www.googleapis.com/auth/devstorage.full_control&request_id=TovlEPfcglBI9vxGwhlkwdW-7b1OPtLzjiTkk1ZGZtA&tc=zxmnnI3VwgT7bQgz8wQ9mVIHfWRJvhNOwU7O1WmFu3M&cc=Jx3RQJ8TewUNokEYnELxJm7jo4dEdGD5207_uI0kArI</a></p>\n",
       "        <p>The authorization workflow will generate a code, which you should paste in the box below.</p>\n",
       "        "
      ],
      "text/plain": [
       "<IPython.core.display.HTML object>"
      ]
     },
     "metadata": {},
     "output_type": "display_data"
    },
    {
     "name": "stdout",
     "output_type": "stream",
     "text": [
      "Enter verification code: 4/1AfJohXl-uKjSyJUs2fKp232NFaoJrLeJbF7O6EvalhVWgCur1wO3Cy1tna4\n",
      "\n",
      "Successfully saved authorization token.\n"
     ]
    }
   ],
   "source": [
    "ee.Authenticate()"
   ]
  },
  {
   "cell_type": "code",
   "execution_count": 2,
   "id": "f1c9c47b",
   "metadata": {},
   "outputs": [],
   "source": [
    "ee.Initialize()"
   ]
  },
  {
   "cell_type": "code",
   "execution_count": 3,
   "id": "6298e697",
   "metadata": {},
   "outputs": [],
   "source": [
    "# Change the path according to the file store in their own system\n",
    "train_path = '/content/drive/MyDrive/Train.csv'\n",
    "test_path = '/content/drive/MyDrive/Test.csv'"
   ]
  },
  {
   "cell_type": "code",
   "execution_count": 4,
   "id": "f8cd2586",
   "metadata": {},
   "outputs": [],
   "source": [
    "# Read CSV File using Pandas Library which convert into DataFrame\n",
    "train = pd.read_csv(train_path)\n",
    "test = pd.read_csv(test_path)"
   ]
  },
  {
   "cell_type": "code",
   "execution_count": 5,
   "id": "88cfd16c",
   "metadata": {},
   "outputs": [],
   "source": [
    "# Function to create a different Vegetation as well as Mositure/water Indices from Sentinel-2 Satellite Dataset.\n",
    "\n",
    "def addIndices(image):\n",
    "\n",
    "    # Normalized Difference Vegetation Index\n",
    "    ndvi = image.normalizedDifference(['B8', 'B4']).rename('NDVI')\n",
    "\n",
    "    # Normalized Difference Red-Edged Index\n",
    "    ndre = image.normalizedDifference(['B8', 'B5']).rename('NDRE')\n",
    "\n",
    "    # Soil Adjusted Vegetation Index\n",
    "    savi = ee.Image().expression('((NIR-RED)/(NIR+RED+0.5))*1.5',\\\n",
    "                                {'NIR':image.select('B8').divide(10000),\n",
    "                                 'RED':image.select('B4').divide(10000)}).rename('SAVI')\n",
    "\n",
    "    #Atmospherically Resistant Vegetation Index\n",
    "    arvi = ee.Image().expression('((NIR-2*RED + BLUE)/(NIR+2*RED+BLUE))',\\\n",
    "                                {'NIR':image.select('B8').divide(10000),\n",
    "                                 'RED':image.select('B4').divide(10000),\n",
    "                                 'BLUE':image.select('B2').divide(10000)}).rename('ARVI')\n",
    "\n",
    "    # Normalized Difference Mositure Index\n",
    "    ndmi = ee.Image().expression('((NIR-SWIR)/(NIR+SWIR))',\\\n",
    "                                 {'NIR':image.select('B8'),\n",
    "                                  'SWIR':image.select('B11')}).rename('NDMI')\n",
    "\n",
    "    # Green Condition Index\n",
    "    gci = ee.Image().expression('(NIR/GREEN) - 1',\\\n",
    "                                {'NIR':image.select('B8').divide(10000),\n",
    "                                 'GREEN':image.select('B3').divide(10000)}).rename('GCI')\n",
    "\n",
    "    # Red Vegetation Index\n",
    "    rvi = ee.Image().expression('(NIR/RED)',\\\n",
    "                                {'NIR':image.select('B8').divide(10000),\n",
    "                                 'RED':image.select('B4').divide(10000)}).rename('RVI')\n",
    "\n",
    "    #Optimized Soil Adjusted Vegetation Index\n",
    "    osavi = ee.Image().expression('((NIR-RED)/(NIR+RED+0.16))*1.16',\\\n",
    "                                {'NIR':image.select('B8').divide(10000),\n",
    "                                 'RED':image.select('B4').divide(10000)}).rename('OSAVI')\n",
    "\n",
    "    # Specific Leaf Area Vegetation Index\n",
    "    slavi = ee.Image().expression('NIR/(RED+SWIR2)',\\\n",
    "                                {'NIR':image.select('B8').divide(10000),\n",
    "                                 'RED':image.select('B4').divide(10000),\n",
    "                                 'SWIR2':image.select('B12').divide(10000)}).rename('SLAVI')\n",
    "\n",
    "    # Normalized Pigment Chlorophyll Ration Index\n",
    "    npcri = ee.Image().expression('((RED-BLUE)/(BLUE+RED))',\\\n",
    "                                {'BLUE':image.select('B2'),\n",
    "                                 'RED':image.select('B4')}).rename('NPCRI')\n",
    "\n",
    "    #Soil Condition Index\n",
    "    sci = ee.Image().expression('((SWIR-NIR)/(SWIR+NIR))',\\\n",
    "                                {'NIR':image.select('B8'),\n",
    "                                 'SWIR':image.select('B11')}).rename('SCI')\n",
    "\n",
    "    # Normalized Difference Water Index\n",
    "    ndwi = ee.Image().expression('((GREEN-NIR)/(GREEN+NIR))',\\\n",
    "                                 {'NIR':image.select('B8').divide(10000),\n",
    "                                  'GREEN':image.select('B3').divide(10000)}).rename('NDWI')\n",
    "\n",
    "    # Green Normalized Difference Vegetaion Index\n",
    "    gndvi = ee.Image().expression('((NIR-GREEN)/(GREEN+NIR))',\\\n",
    "                                {'NIR':image.select('B8'),\n",
    "                                 'GREEN':image.select('B3')}).rename('GNDVI')\n",
    "\n",
    "    # Bare soil Index\n",
    "    bsi = ee.Image().expression('((SWIR+RED)-(NIR+BLUE))/((SWIR+RED)+(NIR+BLUE))',\\\n",
    "                                {'NIR':image.select('B8').divide(10000),\n",
    "                                 'RED':image.select('B4').divide(10000),\n",
    "                                 'BLUE':image.select('B2').divide(10000),\n",
    "                                 'SWIR':image.select('B11').divide(10000)}).rename('BSI')\n",
    "\n",
    "    # Enhanced Vegetation Index\n",
    "    evi = ee.Image().expression('((2.5*(NIR-RED))/(NIR+6*RED-7.5*BLUE+1))',\\\n",
    "                                {'NIR':image.select('B8').divide(10000),\n",
    "                                 'RED':image.select('B4').divide(10000),\n",
    "                                 'BLUE':image.select('B2').divide(10000)}).rename('EVI')\n",
    "\n",
    "\n",
    "    return image.addBands(ndvi).addBands(ndre).addBands(savi).addBands(arvi).addBands(ndwi).addBands(gci).addBands(rvi).addBands(osavi).addBands(slavi).addBands(npcri).addBands(sci).addBands(ndmi).addBands(gndvi).addBands(bsi).addBands(evi)"
   ]
  },
  {
   "cell_type": "markdown",
   "id": "6218948c",
   "metadata": {},
   "source": [
    "*The training and test CSV files contain latitude and longitude coordinates, along with labels, except in the test file. These will be converted into a point shapefile, which will be utilized in the Google Earth Engine (GEE) as a labeled training dataset.*"
   ]
  },
  {
   "cell_type": "code",
   "execution_count": 6,
   "id": "0eb995e7",
   "metadata": {},
   "outputs": [
    {
     "data": {
      "text/html": [
       "<div>\n",
       "<style scoped>\n",
       "    .dataframe tbody tr th:only-of-type {\n",
       "        vertical-align: middle;\n",
       "    }\n",
       "\n",
       "    .dataframe tbody tr th {\n",
       "        vertical-align: top;\n",
       "    }\n",
       "\n",
       "    .dataframe thead th {\n",
       "        text-align: right;\n",
       "    }\n",
       "</style>\n",
       "<table border=\"1\" class=\"dataframe\">\n",
       "  <thead>\n",
       "    <tr style=\"text-align: right;\">\n",
       "      <th></th>\n",
       "      <th>ID</th>\n",
       "      <th>Target</th>\n",
       "      <th>geometry</th>\n",
       "    </tr>\n",
       "  </thead>\n",
       "  <tbody>\n",
       "    <tr>\n",
       "      <th>0</th>\n",
       "      <td>ID_SJ098E7S2SY9</td>\n",
       "      <td>0</td>\n",
       "      <td>POINT (70.76367 34.16249)</td>\n",
       "    </tr>\n",
       "    <tr>\n",
       "      <th>1</th>\n",
       "      <td>ID_CWCD60FGJJYY</td>\n",
       "      <td>0</td>\n",
       "      <td>POINT (48.49205 32.07570)</td>\n",
       "    </tr>\n",
       "    <tr>\n",
       "      <th>2</th>\n",
       "      <td>ID_R1XF70RMVGL3</td>\n",
       "      <td>1</td>\n",
       "      <td>POINT (33.31348 14.54283)</td>\n",
       "    </tr>\n",
       "    <tr>\n",
       "      <th>3</th>\n",
       "      <td>ID_0ZBIDY0PEBVO</td>\n",
       "      <td>1</td>\n",
       "      <td>POINT (33.28411 14.35948)</td>\n",
       "    </tr>\n",
       "    <tr>\n",
       "      <th>4</th>\n",
       "      <td>ID_C20R2C0AYIT0</td>\n",
       "      <td>0</td>\n",
       "      <td>POINT (33.52845 14.41913)</td>\n",
       "    </tr>\n",
       "  </tbody>\n",
       "</table>\n",
       "</div>"
      ],
      "text/plain": [
       "                ID  Target                   geometry\n",
       "0  ID_SJ098E7S2SY9       0  POINT (70.76367 34.16249)\n",
       "1  ID_CWCD60FGJJYY       0  POINT (48.49205 32.07570)\n",
       "2  ID_R1XF70RMVGL3       1  POINT (33.31348 14.54283)\n",
       "3  ID_0ZBIDY0PEBVO       1  POINT (33.28411 14.35948)\n",
       "4  ID_C20R2C0AYIT0       0  POINT (33.52845 14.41913)"
      ]
     },
     "execution_count": 6,
     "metadata": {},
     "output_type": "execute_result"
    }
   ],
   "source": [
    "def csv_to_geopandas(df):\n",
    "    points = []\n",
    "    for idx,row in df.iterrows():\n",
    "        point = Point([row['Lon'],row['Lat']])\n",
    "        points.append(point)\n",
    "\n",
    "    gdf = gpd.GeoDataFrame(df,geometry=points)\n",
    "    gdf = gdf.drop(columns=['Lat','Lon'])\n",
    "    gdf.set_crs(epsg=4326,inplace=True)  # WGS84 Coordinate System\n",
    "    return gdf\n",
    "\n",
    "trainGDF = csv_to_geopandas(train)\n",
    "testGDF = csv_to_geopandas(test)\n",
    "trainGDF.head()"
   ]
  },
  {
   "cell_type": "markdown",
   "id": "d8ebb495",
   "metadata": {},
   "source": [
    "0 : Non-Crop Label\n",
    "\n",
    "1 : Crop Label"
   ]
  },
  {
   "cell_type": "code",
   "execution_count": 7,
   "id": "4ca947ae",
   "metadata": {},
   "outputs": [],
   "source": [
    "# Iran Area of Interest (AOI)\n",
    "aoi = ee.FeatureCollection(\"FAO/GAUL_SIMPLIFIED_500m/2015/level2\")\\\n",
    "        .filter(ee.Filter.eq('ADM0_NAME','Iran  (Islamic Republic of)'))"
   ]
  },
  {
   "cell_type": "code",
   "execution_count": 9,
   "id": "bc51c241",
   "metadata": {},
   "outputs": [],
   "source": [
    "# GEE Provide Sentinel-2 Dataset along with Cloud Probability Dataset which can mask the pixel on the basis of Threshold Probability\n",
    "\n",
    "s2 = ee.ImageCollection('COPERNICUS/S2_SR_HARMONIZED')\n",
    "s2c = ee.ImageCollection('COPERNICUS/S2_CLOUD_PROBABILITY')\n",
    "\n",
    "# Define dates over which to create a composite.\n",
    "start = ee.Date('2019-10-01')\n",
    "end = ee.Date('2020-07-01')\n",
    "\n",
    "# Define a collection filtering function.\n",
    "def filterBoundsDate(imgCol, aoi, start, end):\n",
    "    return imgCol.filterBounds(aoi).filterDate(start, end)\n",
    "\n",
    "# Filter the collection by AOI and date.\n",
    "s2 = filterBoundsDate(s2, aoi, start, end)\n",
    "s2c = filterBoundsDate(s2c, aoi, start, end)\n",
    "\n",
    "# Define a function to join the two collections on their 'system:index'\n",
    "# property. The 'propName' parameter is the name of the property that\n",
    "# references the joined image.\n",
    "def indexJoin(colA, colB, propName):\n",
    "    joined = ee.ImageCollection(ee.Join.saveFirst(propName).apply(**{\n",
    "        'primary': colA,\n",
    "        'secondary': colB,\n",
    "        'condition': ee.Filter.equals(**{\n",
    "            'leftField': 'system:index',\n",
    "            'rightField': 'system:index'\n",
    "        })\n",
    "    }))\n",
    "\n",
    "    def func_mti(image):\n",
    "        return image.addBands(ee.Image(image.get(propName)))\n",
    "\n",
    "    return joined.map(func_mti)\n",
    "\n",
    "# Define a function to create a cloud masking function.\n",
    "def buildMaskFunction(img):\n",
    "    cloudProb = 50\n",
    "    # Define clouds as pixels having greater than the given cloud probability.\n",
    "    cloud = img.select('probability').gt(ee.Image(cloudProb))\n",
    "\n",
    "    # Apply the cloud mask to the image and return it.\n",
    "    return img.updateMask(cloud.Not())\n",
    "\n",
    "# Join the cloud probability collection to the TOA reflectance collection.\n",
    "withCloudProbability = indexJoin(s2, s2c, 'cloud_probability')\n",
    "\n",
    "# Map the cloud masking function over the joined collection, select only the\n",
    "# reflectance bands.\n",
    "\n",
    "s2collection = ee.ImageCollection(withCloudProbability.map(buildMaskFunction)).map(addIndices)"
   ]
  },
  {
   "cell_type": "code",
   "execution_count": 10,
   "id": "8b1db5ac",
   "metadata": {},
   "outputs": [],
   "source": [
    "s2collection = s2collection.select(['NDVI','NDRE','SAVI', 'ARVI', 'NDWI', 'GCI', 'RVI',\n",
    "                                    'OSAVI', 'SLAVI', 'NPCRI', 'SCI', 'NDMI', 'GNDVI', 'BSI', 'EVI'])"
   ]
  },
  {
   "cell_type": "code",
   "execution_count": 11,
   "id": "586514e7",
   "metadata": {},
   "outputs": [],
   "source": [
    "def monthlist(start_date, end_date):\n",
    "    start = datetime.strptime(start_date, \"%Y-%m-%d\")\n",
    "    end = datetime.strptime(end_date, \"%Y-%m-%d\")\n",
    "    date_generated = [start + timedelta(days=x) for x in range(0, (end-start).days)]\n",
    "\n",
    "    unique_months = []\n",
    "    for date in date_generated:\n",
    "        if (date.year, date.month) not in unique_months:\n",
    "            unique_months.append((date.year, date.month))\n",
    "\n",
    "    return unique_months\n",
    "\n",
    "def monthlyCompositeData(collection,startDate,endDate):\n",
    "    unique_months = monthlist(startDate,endDate)\n",
    "    monthly_composites = []\n",
    "\n",
    "    for (year, month) in unique_months:\n",
    "        start_date = ee.Date.fromYMD(year, month, 1)\n",
    "        end_date = start_date.advance(1, 'month')\n",
    "\n",
    "        filtered = collection.filterDate(start_date, end_date)\n",
    "\n",
    "        monthly_composite = filtered.mean().set('year', year).set('month', month)\n",
    "\n",
    "        monthly_composites.append(monthly_composite)\n",
    "    \n",
    "    return monthly_composites\n",
    "\n",
    "monthlyComposites = monthlyCompositeData(s2collection,'2019-10-01','2020-07-01')\n",
    "monthlyComposites = ee.ImageCollection.fromImages(monthlyComposites)"
   ]
  },
  {
   "cell_type": "code",
   "execution_count": 12,
   "id": "9a0f7293",
   "metadata": {},
   "outputs": [],
   "source": [
    "# ImageCollection to Single Image where Temporal Dataset of Monthly Composite Image goes to N Number Bands\n",
    "combinedImage = monthlyComposites.toBands()"
   ]
  },
  {
   "cell_type": "code",
   "execution_count": 14,
   "id": "f12e973c",
   "metadata": {},
   "outputs": [
    {
     "name": "stdout",
     "output_type": "stream",
     "text": [
      "BandName : ['0_NDVI', '0_NDRE', '0_SAVI', '0_ARVI', '0_NDWI', '0_GCI', '0_RVI', '0_OSAVI', '0_SLAVI', '0_NPCRI', '0_SCI', '0_NDMI', '0_GNDVI', '0_BSI', '0_EVI', '1_NDVI', '1_NDRE', '1_SAVI', '1_ARVI', '1_NDWI', '1_GCI', '1_RVI', '1_OSAVI', '1_SLAVI', '1_NPCRI', '1_SCI', '1_NDMI', '1_GNDVI', '1_BSI', '1_EVI', '2_NDVI', '2_NDRE', '2_SAVI', '2_ARVI', '2_NDWI', '2_GCI', '2_RVI', '2_OSAVI', '2_SLAVI', '2_NPCRI', '2_SCI', '2_NDMI', '2_GNDVI', '2_BSI', '2_EVI', '3_NDVI', '3_NDRE', '3_SAVI', '3_ARVI', '3_NDWI', '3_GCI', '3_RVI', '3_OSAVI', '3_SLAVI', '3_NPCRI', '3_SCI', '3_NDMI', '3_GNDVI', '3_BSI', '3_EVI', '4_NDVI', '4_NDRE', '4_SAVI', '4_ARVI', '4_NDWI', '4_GCI', '4_RVI', '4_OSAVI', '4_SLAVI', '4_NPCRI', '4_SCI', '4_NDMI', '4_GNDVI', '4_BSI', '4_EVI', '5_NDVI', '5_NDRE', '5_SAVI', '5_ARVI', '5_NDWI', '5_GCI', '5_RVI', '5_OSAVI', '5_SLAVI', '5_NPCRI', '5_SCI', '5_NDMI', '5_GNDVI', '5_BSI', '5_EVI', '6_NDVI', '6_NDRE', '6_SAVI', '6_ARVI', '6_NDWI', '6_GCI', '6_RVI', '6_OSAVI', '6_SLAVI', '6_NPCRI', '6_SCI', '6_NDMI', '6_GNDVI', '6_BSI', '6_EVI', '7_NDVI', '7_NDRE', '7_SAVI', '7_ARVI', '7_NDWI', '7_GCI', '7_RVI', '7_OSAVI', '7_SLAVI', '7_NPCRI', '7_SCI', '7_NDMI', '7_GNDVI', '7_BSI', '7_EVI', '8_NDVI', '8_NDRE', '8_SAVI', '8_ARVI', '8_NDWI', '8_GCI', '8_RVI', '8_OSAVI', '8_SLAVI', '8_NPCRI', '8_SCI', '8_NDMI', '8_GNDVI', '8_BSI', '8_EVI']\n"
     ]
    }
   ],
   "source": [
    "print('BandName :',combinedImage.bandNames().getInfo())"
   ]
  },
  {
   "cell_type": "markdown",
   "id": "29f65abe",
   "metadata": {},
   "source": [
    "Prefix Attached to Indices\n",
    "\n",
    "- 0 : October,2019\n",
    "- 1 : November,2019\n",
    "- 2 : December,2019\n",
    "- 3 : January,2020\n",
    "- 4 : Februrary,2020\n",
    "- 5 : March,2020\n",
    "- 6 : April,2020\n",
    "- 7 : May,2020\n",
    "- 8 : June,2020"
   ]
  },
  {
   "cell_type": "code",
   "execution_count": 15,
   "id": "8c31baa7",
   "metadata": {},
   "outputs": [],
   "source": [
    "# Shapefile conversion to GEE Feature and FeatureCollection\n",
    "\n",
    "def geopandas_to_ee(gdf):\n",
    "    features = []\n",
    "    for idx, row in gdf.iterrows():\n",
    "        geo = row['geometry']\n",
    "        properties = row.drop('geometry').to_dict()\n",
    "        features.append(ee.Feature(ee.Geometry(geo.__geo_interface__),properties))\n",
    "    return ee.FeatureCollection(features)\n",
    "\n",
    "trainEE = geopandas_to_ee(trainGDF)\n",
    "testEE = geopandas_to_ee(testGDF)\n",
    "#print(trainEE.first().getInfo())"
   ]
  },
  {
   "cell_type": "code",
   "execution_count": 16,
   "id": "010cc91d",
   "metadata": {},
   "outputs": [],
   "source": [
    "# There are a total of 1500 sample points each in both the training and test datasets.\n",
    "# To use only the Afghanistan Ground Truth sample points, employ the filterBounds technique\n",
    "# to select sample points from the specified region.\n",
    "\n",
    "trainEE = trainEE.filterBounds(aoi)\n",
    "testEE = testEE.filterBounds(aoi)"
   ]
  },
  {
   "cell_type": "code",
   "execution_count": 17,
   "id": "2221a272",
   "metadata": {},
   "outputs": [],
   "source": [
    "# Extract Sentinel-2 Satellite Indices from a given location\n",
    "\n",
    "def calculateMetrics(block):\n",
    "    metrics = combinedImage.reduceRegion(**{\n",
    "        'reducer': ee.Reducer.mean(),\n",
    "        'geometry': block.geometry(),\n",
    "        'scale':10, # Spatial Resolution of Sentinel-2\n",
    "     })\n",
    "    return ee.Feature(None,metrics).copyProperties(block, ['ID','Target'])\n",
    "\n",
    "trainEE = trainEE.map(calculateMetrics)\n",
    "testEE = testEE.map(calculateMetrics)"
   ]
  },
  {
   "cell_type": "markdown",
   "id": "78f8d744",
   "metadata": {},
   "source": [
    "*The steps below are to convert the Google Earth Engine (GEE) FeatureCollection into a Pandas DataFrame, which will subsequently be used for analysis and model development.*"
   ]
  },
  {
   "cell_type": "code",
   "execution_count": 18,
   "id": "356b8785",
   "metadata": {},
   "outputs": [],
   "source": [
    "train_samples,test_samples = [],[]"
   ]
  },
  {
   "cell_type": "code",
   "execution_count": 19,
   "id": "614f3aa7",
   "metadata": {},
   "outputs": [],
   "source": [
    "for item in trainEE.getInfo()['features']:\n",
    "    train_samples.append(item['properties'])"
   ]
  },
  {
   "cell_type": "code",
   "execution_count": 20,
   "id": "10f4285d",
   "metadata": {},
   "outputs": [],
   "source": [
    "for item in testEE.getInfo()['features']:\n",
    "    test_samples.append(item['properties'])"
   ]
  },
  {
   "cell_type": "code",
   "execution_count": 21,
   "id": "f308f931",
   "metadata": {},
   "outputs": [],
   "source": [
    "train_samples_df = pd.DataFrame(train_samples)\n",
    "test_samples_df = pd.DataFrame(test_samples)"
   ]
  },
  {
   "cell_type": "code",
   "execution_count": 22,
   "id": "84822d8d",
   "metadata": {},
   "outputs": [
    {
     "data": {
      "text/html": [
       "<div>\n",
       "<style scoped>\n",
       "    .dataframe tbody tr th:only-of-type {\n",
       "        vertical-align: middle;\n",
       "    }\n",
       "\n",
       "    .dataframe tbody tr th {\n",
       "        vertical-align: top;\n",
       "    }\n",
       "\n",
       "    .dataframe thead th {\n",
       "        text-align: right;\n",
       "    }\n",
       "</style>\n",
       "<table border=\"1\" class=\"dataframe\">\n",
       "  <thead>\n",
       "    <tr style=\"text-align: right;\">\n",
       "      <th></th>\n",
       "      <th>0_ARVI</th>\n",
       "      <th>0_BSI</th>\n",
       "      <th>0_EVI</th>\n",
       "      <th>0_GCI</th>\n",
       "      <th>0_GNDVI</th>\n",
       "      <th>0_NDMI</th>\n",
       "      <th>0_NDRE</th>\n",
       "      <th>0_NDVI</th>\n",
       "      <th>0_NDWI</th>\n",
       "      <th>0_NPCRI</th>\n",
       "      <th>...</th>\n",
       "      <th>8_NDVI</th>\n",
       "      <th>8_NDWI</th>\n",
       "      <th>8_NPCRI</th>\n",
       "      <th>8_OSAVI</th>\n",
       "      <th>8_RVI</th>\n",
       "      <th>8_SAVI</th>\n",
       "      <th>8_SCI</th>\n",
       "      <th>8_SLAVI</th>\n",
       "      <th>ID</th>\n",
       "      <th>Target</th>\n",
       "    </tr>\n",
       "  </thead>\n",
       "  <tbody>\n",
       "    <tr>\n",
       "      <th>0</th>\n",
       "      <td>0.259679</td>\n",
       "      <td>-0.071934</td>\n",
       "      <td>0.304798</td>\n",
       "      <td>2.060713</td>\n",
       "      <td>0.506754</td>\n",
       "      <td>0.170448</td>\n",
       "      <td>0.337122</td>\n",
       "      <td>0.466024</td>\n",
       "      <td>-0.506754</td>\n",
       "      <td>0.209024</td>\n",
       "      <td>...</td>\n",
       "      <td>0.341717</td>\n",
       "      <td>-0.423628</td>\n",
       "      <td>0.254915</td>\n",
       "      <td>0.289644</td>\n",
       "      <td>2.040415</td>\n",
       "      <td>0.238330</td>\n",
       "      <td>-0.034489</td>\n",
       "      <td>0.855736</td>\n",
       "      <td>ID_CWCD60FGJJYY</td>\n",
       "      <td>0</td>\n",
       "    </tr>\n",
       "    <tr>\n",
       "      <th>1</th>\n",
       "      <td>-0.049815</td>\n",
       "      <td>0.182833</td>\n",
       "      <td>0.071895</td>\n",
       "      <td>0.603123</td>\n",
       "      <td>0.231344</td>\n",
       "      <td>-0.135471</td>\n",
       "      <td>0.050309</td>\n",
       "      <td>0.104419</td>\n",
       "      <td>-0.231344</td>\n",
       "      <td>0.268691</td>\n",
       "      <td>...</td>\n",
       "      <td>0.487777</td>\n",
       "      <td>-0.524093</td>\n",
       "      <td>0.240655</td>\n",
       "      <td>0.434038</td>\n",
       "      <td>2.978311</td>\n",
       "      <td>0.375542</td>\n",
       "      <td>-0.173948</td>\n",
       "      <td>1.143426</td>\n",
       "      <td>ID_5QV3RGD8E6L6</td>\n",
       "      <td>1</td>\n",
       "    </tr>\n",
       "    <tr>\n",
       "      <th>2</th>\n",
       "      <td>0.202500</td>\n",
       "      <td>0.006486</td>\n",
       "      <td>0.210661</td>\n",
       "      <td>1.243628</td>\n",
       "      <td>0.380614</td>\n",
       "      <td>0.046403</td>\n",
       "      <td>0.251252</td>\n",
       "      <td>0.384227</td>\n",
       "      <td>-0.380614</td>\n",
       "      <td>0.136538</td>\n",
       "      <td>...</td>\n",
       "      <td>0.524541</td>\n",
       "      <td>-0.507487</td>\n",
       "      <td>0.169490</td>\n",
       "      <td>0.422973</td>\n",
       "      <td>3.212723</td>\n",
       "      <td>0.331946</td>\n",
       "      <td>-0.148233</td>\n",
       "      <td>1.219365</td>\n",
       "      <td>ID_OGEL0LA7Y94S</td>\n",
       "      <td>0</td>\n",
       "    </tr>\n",
       "    <tr>\n",
       "      <th>3</th>\n",
       "      <td>0.491512</td>\n",
       "      <td>-0.150792</td>\n",
       "      <td>0.423331</td>\n",
       "      <td>3.516716</td>\n",
       "      <td>0.630744</td>\n",
       "      <td>0.205643</td>\n",
       "      <td>0.553510</td>\n",
       "      <td>0.667460</td>\n",
       "      <td>-0.630744</td>\n",
       "      <td>0.106425</td>\n",
       "      <td>...</td>\n",
       "      <td>0.124474</td>\n",
       "      <td>-0.277724</td>\n",
       "      <td>0.315743</td>\n",
       "      <td>0.109914</td>\n",
       "      <td>1.285656</td>\n",
       "      <td>0.094605</td>\n",
       "      <td>0.151785</td>\n",
       "      <td>0.500274</td>\n",
       "      <td>ID_O4CHBAKY74WZ</td>\n",
       "      <td>1</td>\n",
       "    </tr>\n",
       "    <tr>\n",
       "      <th>4</th>\n",
       "      <td>0.205487</td>\n",
       "      <td>-0.003478</td>\n",
       "      <td>0.225484</td>\n",
       "      <td>1.461467</td>\n",
       "      <td>0.396800</td>\n",
       "      <td>0.062662</td>\n",
       "      <td>0.231645</td>\n",
       "      <td>0.381768</td>\n",
       "      <td>-0.396800</td>\n",
       "      <td>0.167089</td>\n",
       "      <td>...</td>\n",
       "      <td>0.492638</td>\n",
       "      <td>-0.498093</td>\n",
       "      <td>0.211356</td>\n",
       "      <td>0.398293</td>\n",
       "      <td>2.946876</td>\n",
       "      <td>0.313348</td>\n",
       "      <td>-0.077794</td>\n",
       "      <td>1.085268</td>\n",
       "      <td>ID_7VVCEG83E9SF</td>\n",
       "      <td>0</td>\n",
       "    </tr>\n",
       "  </tbody>\n",
       "</table>\n",
       "<p>5 rows × 137 columns</p>\n",
       "</div>"
      ],
      "text/plain": [
       "     0_ARVI     0_BSI     0_EVI     0_GCI   0_GNDVI    0_NDMI    0_NDRE  \\\n",
       "0  0.259679 -0.071934  0.304798  2.060713  0.506754  0.170448  0.337122   \n",
       "1 -0.049815  0.182833  0.071895  0.603123  0.231344 -0.135471  0.050309   \n",
       "2  0.202500  0.006486  0.210661  1.243628  0.380614  0.046403  0.251252   \n",
       "3  0.491512 -0.150792  0.423331  3.516716  0.630744  0.205643  0.553510   \n",
       "4  0.205487 -0.003478  0.225484  1.461467  0.396800  0.062662  0.231645   \n",
       "\n",
       "     0_NDVI    0_NDWI   0_NPCRI  ...    8_NDVI    8_NDWI   8_NPCRI   8_OSAVI  \\\n",
       "0  0.466024 -0.506754  0.209024  ...  0.341717 -0.423628  0.254915  0.289644   \n",
       "1  0.104419 -0.231344  0.268691  ...  0.487777 -0.524093  0.240655  0.434038   \n",
       "2  0.384227 -0.380614  0.136538  ...  0.524541 -0.507487  0.169490  0.422973   \n",
       "3  0.667460 -0.630744  0.106425  ...  0.124474 -0.277724  0.315743  0.109914   \n",
       "4  0.381768 -0.396800  0.167089  ...  0.492638 -0.498093  0.211356  0.398293   \n",
       "\n",
       "      8_RVI    8_SAVI     8_SCI   8_SLAVI               ID  Target  \n",
       "0  2.040415  0.238330 -0.034489  0.855736  ID_CWCD60FGJJYY       0  \n",
       "1  2.978311  0.375542 -0.173948  1.143426  ID_5QV3RGD8E6L6       1  \n",
       "2  3.212723  0.331946 -0.148233  1.219365  ID_OGEL0LA7Y94S       0  \n",
       "3  1.285656  0.094605  0.151785  0.500274  ID_O4CHBAKY74WZ       1  \n",
       "4  2.946876  0.313348 -0.077794  1.085268  ID_7VVCEG83E9SF       0  \n",
       "\n",
       "[5 rows x 137 columns]"
      ]
     },
     "execution_count": 22,
     "metadata": {},
     "output_type": "execute_result"
    }
   ],
   "source": [
    "train_samples_df.head()"
   ]
  },
  {
   "cell_type": "code",
   "execution_count": 23,
   "id": "cf62fecd",
   "metadata": {},
   "outputs": [
    {
     "data": {
      "text/html": [
       "<div>\n",
       "<style scoped>\n",
       "    .dataframe tbody tr th:only-of-type {\n",
       "        vertical-align: middle;\n",
       "    }\n",
       "\n",
       "    .dataframe tbody tr th {\n",
       "        vertical-align: top;\n",
       "    }\n",
       "\n",
       "    .dataframe thead th {\n",
       "        text-align: right;\n",
       "    }\n",
       "</style>\n",
       "<table border=\"1\" class=\"dataframe\">\n",
       "  <thead>\n",
       "    <tr style=\"text-align: right;\">\n",
       "      <th></th>\n",
       "      <th>0_ARVI</th>\n",
       "      <th>0_BSI</th>\n",
       "      <th>0_EVI</th>\n",
       "      <th>0_GCI</th>\n",
       "      <th>0_GNDVI</th>\n",
       "      <th>0_NDMI</th>\n",
       "      <th>0_NDRE</th>\n",
       "      <th>0_NDVI</th>\n",
       "      <th>0_NDWI</th>\n",
       "      <th>0_NPCRI</th>\n",
       "      <th>...</th>\n",
       "      <th>8_NDRE</th>\n",
       "      <th>8_NDVI</th>\n",
       "      <th>8_NDWI</th>\n",
       "      <th>8_NPCRI</th>\n",
       "      <th>8_OSAVI</th>\n",
       "      <th>8_RVI</th>\n",
       "      <th>8_SAVI</th>\n",
       "      <th>8_SCI</th>\n",
       "      <th>8_SLAVI</th>\n",
       "      <th>ID</th>\n",
       "    </tr>\n",
       "  </thead>\n",
       "  <tbody>\n",
       "    <tr>\n",
       "      <th>0</th>\n",
       "      <td>-0.031453</td>\n",
       "      <td>0.076953</td>\n",
       "      <td>0.092151</td>\n",
       "      <td>0.483486</td>\n",
       "      <td>0.188126</td>\n",
       "      <td>0.036182</td>\n",
       "      <td>0.058288</td>\n",
       "      <td>0.096438</td>\n",
       "      <td>-0.188126</td>\n",
       "      <td>0.211779</td>\n",
       "      <td>...</td>\n",
       "      <td>0.072386</td>\n",
       "      <td>0.122846</td>\n",
       "      <td>-0.251234</td>\n",
       "      <td>0.283523</td>\n",
       "      <td>0.111795</td>\n",
       "      <td>1.280338</td>\n",
       "      <td>0.099160</td>\n",
       "      <td>0.092888</td>\n",
       "      <td>0.544043</td>\n",
       "      <td>ID_LNN7BFCVEZKA</td>\n",
       "    </tr>\n",
       "    <tr>\n",
       "      <th>1</th>\n",
       "      <td>-0.007074</td>\n",
       "      <td>0.163578</td>\n",
       "      <td>0.072295</td>\n",
       "      <td>0.559995</td>\n",
       "      <td>0.217868</td>\n",
       "      <td>-0.139929</td>\n",
       "      <td>0.071413</td>\n",
       "      <td>0.135917</td>\n",
       "      <td>-0.217868</td>\n",
       "      <td>0.207576</td>\n",
       "      <td>...</td>\n",
       "      <td>0.067303</td>\n",
       "      <td>0.093901</td>\n",
       "      <td>-0.211150</td>\n",
       "      <td>0.246656</td>\n",
       "      <td>0.080570</td>\n",
       "      <td>1.207397</td>\n",
       "      <td>0.067110</td>\n",
       "      <td>0.156469</td>\n",
       "      <td>0.460156</td>\n",
       "      <td>ID_ZMB4I2ZXYE4X</td>\n",
       "    </tr>\n",
       "    <tr>\n",
       "      <th>2</th>\n",
       "      <td>-0.052164</td>\n",
       "      <td>0.136217</td>\n",
       "      <td>0.034631</td>\n",
       "      <td>0.295102</td>\n",
       "      <td>0.128571</td>\n",
       "      <td>-0.110723</td>\n",
       "      <td>-0.007693</td>\n",
       "      <td>0.045408</td>\n",
       "      <td>-0.128571</td>\n",
       "      <td>0.172096</td>\n",
       "      <td>...</td>\n",
       "      <td>0.059758</td>\n",
       "      <td>0.083813</td>\n",
       "      <td>-0.181808</td>\n",
       "      <td>0.197324</td>\n",
       "      <td>0.079306</td>\n",
       "      <td>1.185259</td>\n",
       "      <td>0.073703</td>\n",
       "      <td>0.084218</td>\n",
       "      <td>0.482725</td>\n",
       "      <td>ID_OFRXD08BLP3X</td>\n",
       "    </tr>\n",
       "    <tr>\n",
       "      <th>3</th>\n",
       "      <td>-0.027860</td>\n",
       "      <td>0.111208</td>\n",
       "      <td>0.055703</td>\n",
       "      <td>0.486143</td>\n",
       "      <td>0.194403</td>\n",
       "      <td>-0.057205</td>\n",
       "      <td>0.031298</td>\n",
       "      <td>0.097727</td>\n",
       "      <td>-0.194403</td>\n",
       "      <td>0.195048</td>\n",
       "      <td>...</td>\n",
       "      <td>0.719874</td>\n",
       "      <td>0.862024</td>\n",
       "      <td>-0.789210</td>\n",
       "      <td>0.139688</td>\n",
       "      <td>0.743115</td>\n",
       "      <td>14.094197</td>\n",
       "      <td>0.621781</td>\n",
       "      <td>-0.424072</td>\n",
       "      <td>3.592638</td>\n",
       "      <td>ID_IQ4IS9AL13PV</td>\n",
       "    </tr>\n",
       "    <tr>\n",
       "      <th>4</th>\n",
       "      <td>0.013127</td>\n",
       "      <td>0.109300</td>\n",
       "      <td>0.115600</td>\n",
       "      <td>0.563111</td>\n",
       "      <td>0.215632</td>\n",
       "      <td>-0.073301</td>\n",
       "      <td>0.098087</td>\n",
       "      <td>0.145848</td>\n",
       "      <td>-0.215632</td>\n",
       "      <td>0.173757</td>\n",
       "      <td>...</td>\n",
       "      <td>0.191182</td>\n",
       "      <td>0.231559</td>\n",
       "      <td>-0.277158</td>\n",
       "      <td>0.153178</td>\n",
       "      <td>0.207332</td>\n",
       "      <td>1.609331</td>\n",
       "      <td>0.180590</td>\n",
       "      <td>0.010059</td>\n",
       "      <td>0.672294</td>\n",
       "      <td>ID_X7ZL15DE59SA</td>\n",
       "    </tr>\n",
       "  </tbody>\n",
       "</table>\n",
       "<p>5 rows × 136 columns</p>\n",
       "</div>"
      ],
      "text/plain": [
       "     0_ARVI     0_BSI     0_EVI     0_GCI   0_GNDVI    0_NDMI    0_NDRE  \\\n",
       "0 -0.031453  0.076953  0.092151  0.483486  0.188126  0.036182  0.058288   \n",
       "1 -0.007074  0.163578  0.072295  0.559995  0.217868 -0.139929  0.071413   \n",
       "2 -0.052164  0.136217  0.034631  0.295102  0.128571 -0.110723 -0.007693   \n",
       "3 -0.027860  0.111208  0.055703  0.486143  0.194403 -0.057205  0.031298   \n",
       "4  0.013127  0.109300  0.115600  0.563111  0.215632 -0.073301  0.098087   \n",
       "\n",
       "     0_NDVI    0_NDWI   0_NPCRI  ...    8_NDRE    8_NDVI    8_NDWI   8_NPCRI  \\\n",
       "0  0.096438 -0.188126  0.211779  ...  0.072386  0.122846 -0.251234  0.283523   \n",
       "1  0.135917 -0.217868  0.207576  ...  0.067303  0.093901 -0.211150  0.246656   \n",
       "2  0.045408 -0.128571  0.172096  ...  0.059758  0.083813 -0.181808  0.197324   \n",
       "3  0.097727 -0.194403  0.195048  ...  0.719874  0.862024 -0.789210  0.139688   \n",
       "4  0.145848 -0.215632  0.173757  ...  0.191182  0.231559 -0.277158  0.153178   \n",
       "\n",
       "    8_OSAVI      8_RVI    8_SAVI     8_SCI   8_SLAVI               ID  \n",
       "0  0.111795   1.280338  0.099160  0.092888  0.544043  ID_LNN7BFCVEZKA  \n",
       "1  0.080570   1.207397  0.067110  0.156469  0.460156  ID_ZMB4I2ZXYE4X  \n",
       "2  0.079306   1.185259  0.073703  0.084218  0.482725  ID_OFRXD08BLP3X  \n",
       "3  0.743115  14.094197  0.621781 -0.424072  3.592638  ID_IQ4IS9AL13PV  \n",
       "4  0.207332   1.609331  0.180590  0.010059  0.672294  ID_X7ZL15DE59SA  \n",
       "\n",
       "[5 rows x 136 columns]"
      ]
     },
     "execution_count": 23,
     "metadata": {},
     "output_type": "execute_result"
    }
   ],
   "source": [
    "test_samples_df.head()"
   ]
  },
  {
   "cell_type": "markdown",
   "id": "8e9bfbd3",
   "metadata": {},
   "source": [
    "*Save the pandas dataframe to csv file*"
   ]
  },
  {
   "cell_type": "code",
   "execution_count": 24,
   "id": "cd803938",
   "metadata": {},
   "outputs": [],
   "source": [
    "#train_samples_df.to_csv('IranTraining.csv',index=False)\n",
    "#test_samples_df.to_csv('IranTesting.csv',index=False)"
   ]
  },
  {
   "cell_type": "markdown",
   "id": "c67a6241",
   "metadata": {},
   "source": [
    "<b> Model Development </b>"
   ]
  },
  {
   "cell_type": "code",
   "execution_count": 26,
   "id": "2c1bf3d7",
   "metadata": {},
   "outputs": [],
   "source": [
    "# Reproducible  Results\n",
    "import random\n",
    "\n",
    "seed = 2023\n",
    "\n",
    "random.seed(seed)\n",
    "np.random.seed(seed)"
   ]
  },
  {
   "cell_type": "code",
   "execution_count": 29,
   "id": "c22fd293",
   "metadata": {},
   "outputs": [],
   "source": [
    "indices = ['NDVI','NDRE','SAVI', 'ARVI', 'NDWI', 'GCI', 'RVI','OSAVI', 'SLAVI', \n",
    "           'NPCRI', 'SCI', 'NDMI', 'GNDVI', 'BSI', 'EVI']\n",
    "\n",
    "drop_cols = [f'2_{col}' for col in indices]  # Drop December Month Data, as most of the Samples contains NaN values\n",
    "drop_cols.extend(['ID','Target'])\n",
    "\n",
    "X = train_samples_df.drop(drop_cols,axis=1)\n",
    "y = train_samples_df[['Target']]"
   ]
  },
  {
   "cell_type": "code",
   "execution_count": 30,
   "id": "747023d4",
   "metadata": {},
   "outputs": [
    {
     "data": {
      "text/plain": [
       "['0_NDVI',\n",
       " '0_NDRE',\n",
       " '0_ARVI',\n",
       " '0_RVI',\n",
       " '0_SCI',\n",
       " '0_NDMI',\n",
       " '0_GNDVI',\n",
       " '0_BSI',\n",
       " '1_NDVI',\n",
       " '1_NDRE',\n",
       " '1_ARVI',\n",
       " '1_RVI',\n",
       " '1_SCI',\n",
       " '1_NDMI',\n",
       " '1_GNDVI',\n",
       " '1_BSI',\n",
       " '3_NDVI',\n",
       " '3_NDRE',\n",
       " '3_ARVI',\n",
       " '3_RVI',\n",
       " '3_SCI',\n",
       " '3_NDMI',\n",
       " '3_GNDVI',\n",
       " '3_BSI',\n",
       " '4_NDVI',\n",
       " '4_NDRE',\n",
       " '4_ARVI',\n",
       " '4_RVI',\n",
       " '4_SCI',\n",
       " '4_NDMI',\n",
       " '4_GNDVI',\n",
       " '4_BSI',\n",
       " '5_NDVI',\n",
       " '5_NDRE',\n",
       " '5_ARVI',\n",
       " '5_RVI',\n",
       " '5_SCI',\n",
       " '5_NDMI',\n",
       " '5_GNDVI',\n",
       " '5_BSI',\n",
       " '6_NDVI',\n",
       " '6_NDRE',\n",
       " '6_ARVI',\n",
       " '6_RVI',\n",
       " '6_SCI',\n",
       " '6_NDMI',\n",
       " '6_GNDVI',\n",
       " '6_BSI',\n",
       " '7_NDVI',\n",
       " '7_NDRE',\n",
       " '7_ARVI',\n",
       " '7_RVI',\n",
       " '7_SCI',\n",
       " '7_NDMI',\n",
       " '7_GNDVI',\n",
       " '7_BSI',\n",
       " '8_NDVI',\n",
       " '8_NDRE',\n",
       " '8_ARVI',\n",
       " '8_RVI',\n",
       " '8_SCI',\n",
       " '8_NDMI',\n",
       " '8_GNDVI',\n",
       " '8_BSI']"
      ]
     },
     "execution_count": 30,
     "metadata": {},
     "output_type": "execute_result"
    }
   ],
   "source": [
    "selected_indices = ['NDVI','NDRE','ARVI', 'RVI','SCI', 'NDMI', 'GNDVI', 'BSI']\n",
    "temporal_indices = []\n",
    "\n",
    "for m in range(0,9):\n",
    "    if m == 2:\n",
    "        continue\n",
    "    else:\n",
    "        temporal_indices.extend([f'{m}_{col}' for col in selected_indices])\n",
    "    \n",
    "temporal_indices"
   ]
  },
  {
   "cell_type": "code",
   "execution_count": 34,
   "id": "a92adb98",
   "metadata": {},
   "outputs": [],
   "source": [
    "X = train_samples_df.loc[:,temporal_indices]\n",
    "y = train_samples_df[['Target']]\n",
    "\n",
    "X_train,X_test,y_train,y_test = model_selection.train_test_split(X,y,test_size=0.3,\n",
    "                                                                 random_state=2023,stratify=train_samples_df[['Target']])"
   ]
  },
  {
   "cell_type": "code",
   "execution_count": 35,
   "id": "ac390563",
   "metadata": {},
   "outputs": [
    {
     "data": {
      "image/png": "[encoded data removed]",
      "text/plain": [
       "<Figure size 1000x400 with 2 Axes>"
      ]
     },
     "metadata": {},
     "output_type": "display_data"
    }
   ],
   "source": [
    "fig,axs = plt.subplots(nrows=1,ncols=2,figsize=(10,4))\n",
    "# Plot the first histogram on the left subplot\n",
    "axs[0].hist(y_train, color='blue', alpha=0.7)\n",
    "axs[0].set_title(\"Training Class Distribution\")\n",
    "axs[0].set_xlabel(\"Class\")\n",
    "axs[0].set_ylabel(\"Frequency\")\n",
    "\n",
    "# Plot the second histogram on the right subplot\n",
    "axs[1].hist(y_test, color='red', alpha=0.7)\n",
    "axs[1].set_title(\"Validation Class Distribution\")\n",
    "axs[1].set_xlabel(\"Class\")\n",
    "axs[1].set_ylabel(\"Frequency\")\n",
    "\n",
    "# Display the plots\n",
    "plt.tight_layout()\n",
    "plt.show()"
   ]
  },
  {
   "cell_type": "code",
   "execution_count": 36,
   "id": "c45383cd",
   "metadata": {},
   "outputs": [
    {
     "name": "stdout",
     "output_type": "stream",
     "text": [
      "Training size:  350\n",
      "Testing size:  150\n"
     ]
    }
   ],
   "source": [
    "print('Training size: ',X_train.shape[0])\n",
    "print('Testing size: ',X_test.shape[0])"
   ]
  },
  {
   "cell_type": "code",
   "execution_count": 37,
   "id": "7ce1febc",
   "metadata": {},
   "outputs": [],
   "source": [
    "# Score to measure the performance of the model during Hyperparameter Optimization\n",
    "\n",
    "def custom_score(y_true, y_prob):\n",
    "    # Compute ROC curve values\n",
    "    fpr, tpr, thresholds = metrics.roc_curve(y_true, y_prob)\n",
    "    \n",
    "    # Calculate the Euclidean distance for each point on the ROC curve to the top-left corner (0,1)\n",
    "    distances = np.sqrt((0 - fpr)**2 + (1 - tpr)**2)\n",
    "    \n",
    "    # Get the threshold for the minimum distance point\n",
    "    optimal_threshold = thresholds[np.argmin(distances)]\n",
    "    \n",
    "    # Reclassify based on the optimal threshold\n",
    "    y_pred_optimal = (y_prob >= optimal_threshold).astype(int)\n",
    "    \n",
    "    # Compute F1 score using the optimal threshold; you can use other metrics if needed\n",
    "    return metrics.f1_score(y_true, y_pred_optimal)\n",
    "\n",
    "# Create a custom scorer\n",
    "custom_scorer = metrics.make_scorer(custom_score, needs_proba=True)"
   ]
  },
  {
   "cell_type": "markdown",
   "id": "af3be592",
   "metadata": {},
   "source": [
    "### Decision Tree"
   ]
  },
  {
   "cell_type": "code",
   "execution_count": 38,
   "id": "95d5486b",
   "metadata": {},
   "outputs": [
    {
     "data": {
      "text/html": [
       "<style>#sk-container-id-1 {color: black;background-color: white;}#sk-container-id-1 pre{padding: 0;}#sk-container-id-1 div.sk-toggleable {background-color: white;}#sk-container-id-1 label.sk-toggleable__label {cursor: pointer;display: block;width: 100%;margin-bottom: 0;padding: 0.3em;box-sizing: border-box;text-align: center;}#sk-container-id-1 label.sk-toggleable__label-arrow:before {content: \"▸\";float: left;margin-right: 0.25em;color: #696969;}#sk-container-id-1 label.sk-toggleable__label-arrow:hover:before {color: black;}#sk-container-id-1 div.sk-estimator:hover label.sk-toggleable__label-arrow:before {color: black;}#sk-container-id-1 div.sk-toggleable__content {max-height: 0;max-width: 0;overflow: hidden;text-align: left;background-color: #f0f8ff;}#sk-container-id-1 div.sk-toggleable__content pre {margin: 0.2em;color: black;border-radius: 0.25em;background-color: #f0f8ff;}#sk-container-id-1 input.sk-toggleable__control:checked~div.sk-toggleable__content {max-height: 200px;max-width: 100%;overflow: auto;}#sk-container-id-1 input.sk-toggleable__control:checked~label.sk-toggleable__label-arrow:before {content: \"▾\";}#sk-container-id-1 div.sk-estimator input.sk-toggleable__control:checked~label.sk-toggleable__label {background-color: #d4ebff;}#sk-container-id-1 div.sk-label input.sk-toggleable__control:checked~label.sk-toggleable__label {background-color: #d4ebff;}#sk-container-id-1 input.sk-hidden--visually {border: 0;clip: rect(1px 1px 1px 1px);clip: rect(1px, 1px, 1px, 1px);height: 1px;margin: -1px;overflow: hidden;padding: 0;position: absolute;width: 1px;}#sk-container-id-1 div.sk-estimator {font-family: monospace;background-color: #f0f8ff;border: 1px dotted black;border-radius: 0.25em;box-sizing: border-box;margin-bottom: 0.5em;}#sk-container-id-1 div.sk-estimator:hover {background-color: #d4ebff;}#sk-container-id-1 div.sk-parallel-item::after {content: \"\";width: 100%;border-bottom: 1px solid gray;flex-grow: 1;}#sk-container-id-1 div.sk-label:hover label.sk-toggleable__label {background-color: #d4ebff;}#sk-container-id-1 div.sk-serial::before {content: \"\";position: absolute;border-left: 1px solid gray;box-sizing: border-box;top: 0;bottom: 0;left: 50%;z-index: 0;}#sk-container-id-1 div.sk-serial {display: flex;flex-direction: column;align-items: center;background-color: white;padding-right: 0.2em;padding-left: 0.2em;position: relative;}#sk-container-id-1 div.sk-item {position: relative;z-index: 1;}#sk-container-id-1 div.sk-parallel {display: flex;align-items: stretch;justify-content: center;background-color: white;position: relative;}#sk-container-id-1 div.sk-item::before, #sk-container-id-1 div.sk-parallel-item::before {content: \"\";position: absolute;border-left: 1px solid gray;box-sizing: border-box;top: 0;bottom: 0;left: 50%;z-index: -1;}#sk-container-id-1 div.sk-parallel-item {display: flex;flex-direction: column;z-index: 1;position: relative;background-color: white;}#sk-container-id-1 div.sk-parallel-item:first-child::after {align-self: flex-end;width: 50%;}#sk-container-id-1 div.sk-parallel-item:last-child::after {align-self: flex-start;width: 50%;}#sk-container-id-1 div.sk-parallel-item:only-child::after {width: 0;}#sk-container-id-1 div.sk-dashed-wrapped {border: 1px dashed gray;margin: 0 0.4em 0.5em 0.4em;box-sizing: border-box;padding-bottom: 0.4em;background-color: white;}#sk-container-id-1 div.sk-label label {font-family: monospace;font-weight: bold;display: inline-block;line-height: 1.2em;}#sk-container-id-1 div.sk-label-container {text-align: center;}#sk-container-id-1 div.sk-container {/* jupyter's `normalize.less` sets `[hidden] { display: none; }` but bootstrap.min.css set `[hidden] { display: none !important; }` so we also need the `!important` here to be able to override the default hidden behavior on the sphinx rendered scikit-learn.org. See: https://github.com/scikit-learn/scikit-learn/issues/21755 */display: inline-block !important;position: relative;}#sk-container-id-1 div.sk-text-repr-fallback {display: none;}</style><div id=\"sk-container-id-1\" class=\"sk-top-container\"><div class=\"sk-text-repr-fallback\"><pre>DecisionTreeClassifier(random_state=2023)</pre><b>In a Jupyter environment, please rerun this cell to show the HTML representation or trust the notebook. <br />On GitHub, the HTML representation is unable to render, please try loading this page with nbviewer.org.</b></div><div class=\"sk-container\" hidden><div class=\"sk-item\"><div class=\"sk-estimator sk-toggleable\"><input class=\"sk-toggleable__control sk-hidden--visually\" id=\"sk-estimator-id-1\" type=\"checkbox\" checked><label for=\"sk-estimator-id-1\" class=\"sk-toggleable__label sk-toggleable__label-arrow\">DecisionTreeClassifier</label><div class=\"sk-toggleable__content\"><pre>DecisionTreeClassifier(random_state=2023)</pre></div></div></div></div></div>"
      ],
      "text/plain": [
       "DecisionTreeClassifier(random_state=2023)"
      ]
     },
     "execution_count": 38,
     "metadata": {},
     "output_type": "execute_result"
    }
   ],
   "source": [
    "dt_clf = tree.DecisionTreeClassifier(random_state=2023)\n",
    "dt_clf.fit(X_train,y_train.values.ravel())"
   ]
  },
  {
   "cell_type": "code",
   "execution_count": 39,
   "id": "098f0b0d",
   "metadata": {},
   "outputs": [
    {
     "name": "stdout",
     "output_type": "stream",
     "text": [
      "Overall Accuracy on Test Data 0.9266666666666666\n",
      "Precision on Test Data 0.9466666666666667\n",
      "Recall score on Test Data 0.9102564102564102\n",
      "F1-Score on Test Data 0.9281045751633987\n"
     ]
    }
   ],
   "source": [
    "y_pred = dt_clf.predict(X_test)\n",
    "\n",
    "print('Overall Accuracy on Test Data',metrics.accuracy_score(y_pred,y_test.values.ravel()))\n",
    "print('Precision on Test Data',metrics.precision_score(y_pred,y_test.values.ravel()))\n",
    "print('Recall score on Test Data',metrics.recall_score(y_pred,y_test.values.ravel()))\n",
    "print('F1-Score on Test Data',metrics.f1_score(y_pred,y_test.values.ravel()))"
   ]
  },
  {
   "cell_type": "markdown",
   "id": "21116fd7",
   "metadata": {},
   "source": [
    "### Confusion Matrix\n",
    "\n",
    "- Classifier Evaluation: Assessing the performance of classification models in various domains like healthcare, finance, and more.\n",
    "- Model Tuning: Identifying where the model is going wrong (e.g., which classes are being misclassified) to guide further tuning.\n",
    "- Decision Making: Aiding stakeholders in understanding the model's performance and making informed decisions."
   ]
  },
  {
   "cell_type": "code",
   "execution_count": 40,
   "id": "033633a6",
   "metadata": {},
   "outputs": [
    {
     "data": {
      "image/png": "[encoded data removed]",
      "text/plain": [
       "<Figure size 640x480 with 2 Axes>"
      ]
     },
     "metadata": {},
     "output_type": "display_data"
    }
   ],
   "source": [
    "cm = metrics.confusion_matrix(y_test.values.ravel(), y_pred, labels=dt_clf.classes_)\n",
    "cmplot = metrics.ConfusionMatrixDisplay(confusion_matrix=cm,display_labels=['Negative', 'Positive'])\n",
    "cmplot.plot()\n",
    "cmplot.ax_.set(title='Confusion Matrix',xlabel='Predicted Value', ylabel='Actual Value')\n",
    "plt.show()"
   ]
  },
  {
   "cell_type": "markdown",
   "id": "ef56876f",
   "metadata": {},
   "source": [
    "- <b> Negative: Non-Crop </b>\n",
    "- <b> Positive: Crop </b>"
   ]
  },
  {
   "cell_type": "code",
   "execution_count": 41,
   "id": "e46e4324",
   "metadata": {},
   "outputs": [
    {
     "name": "stdout",
     "output_type": "stream",
     "text": [
      "[0.86111111 0.85294118 0.95652174 0.87671233 0.90909091]\n"
     ]
    }
   ],
   "source": [
    "#### Using cross validation to improve the Accuracy\n",
    "\n",
    "dt_clf = tree.DecisionTreeClassifier(random_state=2023)\n",
    "scores = model_selection.cross_val_score(dt_clf, X_train, y_train.values.ravel(),scoring='f1', cv=5)\n",
    "print(scores)"
   ]
  },
  {
   "cell_type": "markdown",
   "id": "f36a9216",
   "metadata": {},
   "source": [
    "##### Grid Search CV\n",
    "Grid Search Cross-Validation is a systematic approach to tuning the hyperparameters of a machine learning model. It performs an exhaustive search through a specified subset of hyperparameters and finds the best combination of parameters that minimizes a predefined loss function or maximizes the accuracy."
   ]
  },
  {
   "cell_type": "code",
   "execution_count": 42,
   "id": "7016d7d6",
   "metadata": {},
   "outputs": [],
   "source": [
    "param_grid = {\n",
    "    'max_depth': [3, 5,7,11,13],\n",
    "    'min_samples_split': [2, 5, 10],\n",
    "    'min_samples_leaf': [1, 2, 4],\n",
    "    'max_leaf_nodes':[10, 15, 20, 25, 30, 35, 40, 45, 50, None],\n",
    "    'criterion': ['gini', 'entropy']\n",
    "}\n",
    "inner_cv = model_selection.StratifiedKFold(n_splits=3, shuffle=True, random_state=2023)\n",
    "gcv = model_selection.GridSearchCV(estimator=tree.DecisionTreeClassifier(random_state=2023),\n",
    "                       param_grid=param_grid,\n",
    "                       scoring=custom_scorer,\n",
    "                       n_jobs=-1,\n",
    "                       cv=inner_cv,\n",
    "                       verbose=0,\n",
    "                       refit=True)\n",
    "\n",
    "X_train_cv = X_train.reset_index(drop=True)\n",
    "y_train_cv = y_train.reset_index(drop=True)"
   ]
  },
  {
   "cell_type": "code",
   "execution_count": 43,
   "id": "980b0830",
   "metadata": {},
   "outputs": [
    {
     "name": "stdout",
     "output_type": "stream",
     "text": [
      "\n",
      " Best ACC (avg. of inner test folds) 92.94%\n",
      "Best parameters: {'criterion': 'gini', 'max_depth': 5, 'max_leaf_nodes': None, 'min_samples_leaf': 4, 'min_samples_split': 10}\n",
      "ACC (on outer test fold) 87.14%\n",
      "\n",
      " Best ACC (avg. of inner test folds) 91.02%\n",
      "Best parameters: {'criterion': 'entropy', 'max_depth': 5, 'max_leaf_nodes': None, 'min_samples_leaf': 2, 'min_samples_split': 10}\n",
      "ACC (on outer test fold) 88.57%\n",
      "\n",
      " Best ACC (avg. of inner test folds) 91.91%\n",
      "Best parameters: {'criterion': 'gini', 'max_depth': 5, 'max_leaf_nodes': 10, 'min_samples_leaf': 4, 'min_samples_split': 2}\n",
      "ACC (on outer test fold) 90.00%\n",
      "\n",
      " Best ACC (avg. of inner test folds) 92.75%\n",
      "Best parameters: {'criterion': 'gini', 'max_depth': 5, 'max_leaf_nodes': None, 'min_samples_leaf': 2, 'min_samples_split': 2}\n",
      "ACC (on outer test fold) 90.00%\n",
      "\n",
      " Best ACC (avg. of inner test folds) 93.29%\n",
      "Best parameters: {'criterion': 'entropy', 'max_depth': 5, 'max_leaf_nodes': 10, 'min_samples_leaf': 2, 'min_samples_split': 10}\n",
      "ACC (on outer test fold) 87.14%\n",
      "\n",
      "    Outer Loop:\n",
      "ACC 88.57% +/- 1.28\n"
     ]
    }
   ],
   "source": [
    "outer_scores = []\n",
    "\n",
    "outer_cv = model_selection.StratifiedKFold(n_splits=5, shuffle=True, random_state=2023)\n",
    "    \n",
    "    \n",
    "for train_idx, valid_idx in outer_cv.split(X_train_cv, y_train_cv):\n",
    "    gcv.fit(X_train_cv.loc[train_idx,:], y_train_cv.loc[train_idx,:].values.ravel()) # run inner loop hyperparam tuning\n",
    "    print('\\n Best ACC (avg. of inner test folds) %.2f%%' % (gcv.best_score_ * 100))\n",
    "    print('Best parameters:', gcv.best_params_)\n",
    "        \n",
    "    # perf on test fold (valid_idx)\n",
    "    outer_scores.append(gcv.best_estimator_.score(X_train_cv.loc[valid_idx,:], y_train_cv.loc[valid_idx,:].values.ravel()))\n",
    "    print('ACC (on outer test fold) %.2f%%' % (outer_scores[-1]*100))\n",
    "    \n",
    "print('\\n    Outer Loop:')\n",
    "print('ACC %.2f%% +/- %.2f' % (np.mean(outer_scores) * 100, np.std(outer_scores) * 100))"
   ]
  },
  {
   "cell_type": "code",
   "execution_count": 44,
   "id": "6d508ba2",
   "metadata": {},
   "outputs": [
    {
     "name": "stdout",
     "output_type": "stream",
     "text": [
      "Best Parameter {'criterion': 'entropy', 'max_depth': 5, 'max_leaf_nodes': 10, 'min_samples_leaf': 2, 'min_samples_split': 10}\n"
     ]
    }
   ],
   "source": [
    "print('Best Parameter',gcv.best_params_)"
   ]
  },
  {
   "cell_type": "code",
   "execution_count": 45,
   "id": "79188011",
   "metadata": {},
   "outputs": [
    {
     "name": "stdout",
     "output_type": "stream",
     "text": [
      "Overall Accuracy on Test Data 0.9266666666666666\n",
      "Precision on Test Data 0.9333333333333333\n",
      "Recall score on Test Data 0.9210526315789473\n",
      "F1-Score on Test Data 0.9271523178807947\n"
     ]
    }
   ],
   "source": [
    "dt_clf = tree.DecisionTreeClassifier(**{'criterion': 'entropy', 'max_depth': 5, \n",
    "                                        'max_leaf_nodes': 10, 'min_samples_leaf': 2, \n",
    "                                        'min_samples_split': 10},random_state=2023)\n",
    "\n",
    "dt_clf.fit(X_train,y_train.values.ravel())\n",
    "y_pred = dt_clf.predict(X_test)\n",
    "\n",
    "print('Overall Accuracy on Test Data',metrics.accuracy_score(y_pred,y_test.values.ravel()))\n",
    "print('Precision on Test Data',metrics.precision_score(y_pred,y_test.values.ravel()))\n",
    "print('Recall score on Test Data',metrics.recall_score(y_pred,y_test.values.ravel()))\n",
    "print('F1-Score on Test Data',metrics.f1_score(y_pred,y_test.values.ravel()))"
   ]
  },
  {
   "cell_type": "code",
   "execution_count": 46,
   "id": "5179c18b",
   "metadata": {},
   "outputs": [
    {
     "data": {
      "image/png": "[encoded data removed]",
      "text/plain": [
       "<Figure size 640x480 with 2 Axes>"
      ]
     },
     "metadata": {},
     "output_type": "display_data"
    }
   ],
   "source": [
    "cm = metrics.confusion_matrix(y_test.values.ravel(), y_pred, labels=dt_clf.classes_)\n",
    "cmplot = metrics.ConfusionMatrixDisplay(confusion_matrix=cm,display_labels=['Negative', 'Positive'])\n",
    "cmplot.plot()\n",
    "cmplot.ax_.set(title='Confusion Matrix',xlabel='Predicted Value', ylabel='Actual Value')\n",
    "plt.show()"
   ]
  },
  {
   "cell_type": "code",
   "execution_count": 47,
   "id": "1548262d",
   "metadata": {},
   "outputs": [],
   "source": [
    "### Another Library to search best hyperparameter in a given space using Hyperopt Library"
   ]
  },
  {
   "cell_type": "code",
   "execution_count": 48,
   "id": "9c3e4fd5",
   "metadata": {},
   "outputs": [
    {
     "name": "stdout",
     "output_type": "stream",
     "text": [
      "100%|██████████████████████████████████| 100/100 [00:05<00:00, 18.44trial/s, best loss: -0.9373768038927416]\n"
     ]
    }
   ],
   "source": [
    "space = {\n",
    "    'criterion': hp.choice('criterion', ['gini', 'entropy']),\n",
    "    'max_depth': hp.quniform('max_depth', 1, 15, 1),\n",
    "    'min_samples_split': hp.quniform('min_samples_split', 2, 10, 1),\n",
    "    'min_samples_leaf': hp.quniform('min_samples_leaf', 1, 10, 1)\n",
    "}\n",
    "\n",
    "# Define the objective function\n",
    "def objective(params):\n",
    "    params = {\n",
    "        'criterion': params['criterion'],\n",
    "        'max_depth': int(params['max_depth']),\n",
    "        'min_samples_split': int(params['min_samples_split']),\n",
    "        'min_samples_leaf': int(params['min_samples_leaf'])\n",
    "    }\n",
    "    \n",
    "    clf = tree.DecisionTreeClassifier(**params)\n",
    "    score = model_selection.cross_val_score(clf, X_train,y_train.values.ravel(), cv=5,scoring=custom_scorer).mean()\n",
    "\n",
    "    return {'loss': -score, 'status': hyperopt.STATUS_OK}\n",
    "\n",
    "# Run the optimizer\n",
    "trials = Trials()\n",
    "best = fmin(fn=objective, space=space, algo=tpe.suggest, max_evals=100, trials=trials)"
   ]
  },
  {
   "cell_type": "code",
   "execution_count": 49,
   "id": "bb1ac273",
   "metadata": {},
   "outputs": [
    {
     "name": "stdout",
     "output_type": "stream",
     "text": [
      "{'criterion': 0, 'max_depth': 7.0, 'min_samples_leaf': 4.0, 'min_samples_split': 10.0}\n"
     ]
    }
   ],
   "source": [
    "print(best)"
   ]
  },
  {
   "cell_type": "code",
   "execution_count": 50,
   "id": "4d8d90c6",
   "metadata": {},
   "outputs": [
    {
     "name": "stdout",
     "output_type": "stream",
     "text": [
      "Overall Accuracy on Test Data 0.9133333333333333\n",
      "Precision on Test Data 0.9066666666666666\n",
      "Recall score on Test Data 0.918918918918919\n",
      "F1-Score on Test Data 0.912751677852349\n"
     ]
    }
   ],
   "source": [
    "dt_clf = tree.DecisionTreeClassifier(**{'criterion': 'gini', \n",
    "                                     'max_depth': 9, 'min_samples_leaf': 4, \n",
    "                                     'min_samples_split':7},random_state=2023)\n",
    "\n",
    "dt_clf.fit(X_train,y_train.values.ravel())\n",
    "y_pred = dt_clf.predict(X_test)\n",
    "\n",
    "print('Overall Accuracy on Test Data',metrics.accuracy_score(y_pred,y_test.values.ravel()))\n",
    "print('Precision on Test Data',metrics.precision_score(y_pred,y_test.values.ravel()))\n",
    "print('Recall score on Test Data',metrics.recall_score(y_pred,y_test.values.ravel()))\n",
    "print('F1-Score on Test Data',metrics.f1_score(y_pred,y_test.values.ravel()))"
   ]
  },
  {
   "cell_type": "code",
   "execution_count": 51,
   "id": "db978d7f",
   "metadata": {},
   "outputs": [
    {
     "data": {
      "image/png": "[encoded data removed]",
      "text/plain": [
       "<Figure size 640x480 with 2 Axes>"
      ]
     },
     "metadata": {},
     "output_type": "display_data"
    }
   ],
   "source": [
    "cm = metrics.confusion_matrix(y_test.values.ravel(), y_pred, labels=dt_clf.classes_)\n",
    "cmplot = metrics.ConfusionMatrixDisplay(confusion_matrix=cm,display_labels=['Negative', 'Positive'])\n",
    "cmplot.plot()\n",
    "cmplot.ax_.set(title='Confusion Matrix',xlabel='Predicted Value', ylabel='Actual Value')\n",
    "plt.show()"
   ]
  },
  {
   "cell_type": "code",
   "execution_count": 52,
   "id": "28423ef9",
   "metadata": {},
   "outputs": [
    {
     "name": "stderr",
     "output_type": "stream",
     "text": [
      "[I 2023-10-14 00:00:38,934] A new study created in memory with name: no-name-a733768b-754f-4744-8362-6c244ca7b44a\n",
      "[I 2023-10-14 00:00:38,985] Trial 0 finished with value: 0.08044918265813794 and parameters: {'criterion': 'gini', 'max_depth': 4, 'min_samples_split': 8, 'min_samples_leaf': 8}. Best is trial 0 with value: 0.08044918265813794.\n",
      "[I 2023-10-14 00:00:39,028] Trial 1 finished with value: 0.07755179835230286 and parameters: {'criterion': 'gini', 'max_depth': 8, 'min_samples_split': 10, 'min_samples_leaf': 8}. Best is trial 1 with value: 0.07755179835230286.\n",
      "[I 2023-10-14 00:00:39,071] Trial 2 finished with value: 0.07854560644034336 and parameters: {'criterion': 'gini', 'max_depth': 12, 'min_samples_split': 8, 'min_samples_leaf': 6}. Best is trial 1 with value: 0.07755179835230286.\n",
      "[I 2023-10-14 00:00:39,113] Trial 3 finished with value: 0.07816890887810524 and parameters: {'criterion': 'gini', 'max_depth': 14, 'min_samples_split': 8, 'min_samples_leaf': 7}. Best is trial 1 with value: 0.07755179835230286.\n",
      "[I 2023-10-14 00:00:39,154] Trial 4 finished with value: 0.0802904524994078 and parameters: {'criterion': 'gini', 'max_depth': 8, 'min_samples_split': 3, 'min_samples_leaf': 10}. Best is trial 1 with value: 0.07755179835230286.\n",
      "[I 2023-10-14 00:00:39,204] Trial 5 finished with value: 0.08235443233803541 and parameters: {'criterion': 'entropy', 'max_depth': 12, 'min_samples_split': 5, 'min_samples_leaf': 10}. Best is trial 1 with value: 0.07755179835230286.\n",
      "[I 2023-10-14 00:00:39,239] Trial 6 finished with value: 0.11210535942930311 and parameters: {'criterion': 'entropy', 'max_depth': 2, 'min_samples_split': 7, 'min_samples_leaf': 9}. Best is trial 1 with value: 0.07755179835230286.\n",
      "[I 2023-10-14 00:00:39,285] Trial 7 finished with value: 0.0725921769638267 and parameters: {'criterion': 'gini', 'max_depth': 13, 'min_samples_split': 10, 'min_samples_leaf': 2}. Best is trial 7 with value: 0.0725921769638267.\n",
      "[I 2023-10-14 00:00:39,334] Trial 8 finished with value: 0.08237266562074752 and parameters: {'criterion': 'entropy', 'max_depth': 4, 'min_samples_split': 10, 'min_samples_leaf': 2}. Best is trial 7 with value: 0.0725921769638267.\n",
      "[I 2023-10-14 00:00:39,375] Trial 9 finished with value: 0.08030840818674823 and parameters: {'criterion': 'gini', 'max_depth': 5, 'min_samples_split': 10, 'min_samples_leaf': 9}. Best is trial 7 with value: 0.0725921769638267.\n",
      "[I 2023-10-14 00:00:39,444] Trial 10 finished with value: 0.08002465544194792 and parameters: {'criterion': 'entropy', 'max_depth': 15, 'min_samples_split': 5, 'min_samples_leaf': 1}. Best is trial 7 with value: 0.0725921769638267.\n",
      "[I 2023-10-14 00:00:39,499] Trial 11 finished with value: 0.07718767726440368 and parameters: {'criterion': 'gini', 'max_depth': 8, 'min_samples_split': 10, 'min_samples_leaf': 4}. Best is trial 7 with value: 0.0725921769638267.\n",
      "[I 2023-10-14 00:00:39,554] Trial 12 finished with value: 0.07303714176953624 and parameters: {'criterion': 'gini', 'max_depth': 10, 'min_samples_split': 9, 'min_samples_leaf': 4}. Best is trial 7 with value: 0.0725921769638267.\n",
      "[I 2023-10-14 00:00:39,607] Trial 13 finished with value: 0.07480293958554829 and parameters: {'criterion': 'gini', 'max_depth': 12, 'min_samples_split': 2, 'min_samples_leaf': 4}. Best is trial 7 with value: 0.0725921769638267.\n",
      "[I 2023-10-14 00:00:39,665] Trial 14 finished with value: 0.06877305877305884 and parameters: {'criterion': 'gini', 'max_depth': 10, 'min_samples_split': 9, 'min_samples_leaf': 3}. Best is trial 14 with value: 0.06877305877305884.\n",
      "[I 2023-10-14 00:00:39,722] Trial 15 finished with value: 0.08674778070847167 and parameters: {'criterion': 'gini', 'max_depth': 10, 'min_samples_split': 6, 'min_samples_leaf': 2}. Best is trial 14 with value: 0.06877305877305884.\n",
      "[I 2023-10-14 00:00:39,779] Trial 16 finished with value: 0.07766194766194767 and parameters: {'criterion': 'gini', 'max_depth': 10, 'min_samples_split': 9, 'min_samples_leaf': 3}. Best is trial 14 with value: 0.06877305877305884.\n",
      "[I 2023-10-14 00:00:39,839] Trial 17 finished with value: 0.09225748040352788 and parameters: {'criterion': 'gini', 'max_depth': 14, 'min_samples_split': 7, 'min_samples_leaf': 1}. Best is trial 14 with value: 0.06877305877305884.\n",
      "[I 2023-10-14 00:00:39,904] Trial 18 finished with value: 0.07343546755311459 and parameters: {'criterion': 'entropy', 'max_depth': 6, 'min_samples_split': 9, 'min_samples_leaf': 5}. Best is trial 14 with value: 0.06877305877305884.\n",
      "[I 2023-10-14 00:00:39,962] Trial 19 finished with value: 0.07649123499164934 and parameters: {'criterion': 'gini', 'max_depth': 11, 'min_samples_split': 7, 'min_samples_leaf': 3}. Best is trial 14 with value: 0.06877305877305884.\n",
      "[I 2023-10-14 00:00:40,020] Trial 20 finished with value: 0.09009564405472337 and parameters: {'criterion': 'gini', 'max_depth': 13, 'min_samples_split': 4, 'min_samples_leaf': 2}. Best is trial 14 with value: 0.06877305877305884.\n",
      "[I 2023-10-14 00:00:40,075] Trial 21 finished with value: 0.08463484392449483 and parameters: {'criterion': 'gini', 'max_depth': 10, 'min_samples_split': 9, 'min_samples_leaf': 4}. Best is trial 14 with value: 0.06877305877305884.\n",
      "[I 2023-10-14 00:00:40,130] Trial 22 finished with value: 0.07501184414227902 and parameters: {'criterion': 'gini', 'max_depth': 9, 'min_samples_split': 9, 'min_samples_leaf': 5}. Best is trial 14 with value: 0.06877305877305884.\n",
      "[I 2023-10-14 00:00:40,188] Trial 23 finished with value: 0.0824667524667525 and parameters: {'criterion': 'gini', 'max_depth': 7, 'min_samples_split': 8, 'min_samples_leaf': 3}. Best is trial 14 with value: 0.06877305877305884.\n",
      "[I 2023-10-14 00:00:40,242] Trial 24 finished with value: 0.07825681118218442 and parameters: {'criterion': 'gini', 'max_depth': 11, 'min_samples_split': 9, 'min_samples_leaf': 6}. Best is trial 14 with value: 0.06877305877305884.\n",
      "[I 2023-10-14 00:00:40,299] Trial 25 finished with value: 0.08259489302967571 and parameters: {'criterion': 'gini', 'max_depth': 15, 'min_samples_split': 10, 'min_samples_leaf': 3}. Best is trial 14 with value: 0.06877305877305884.\n",
      "[I 2023-10-14 00:00:40,366] Trial 26 finished with value: 0.0800344024380365 and parameters: {'criterion': 'entropy', 'max_depth': 13, 'min_samples_split': 6, 'min_samples_leaf': 1}. Best is trial 14 with value: 0.06877305877305884.\n",
      "[I 2023-10-14 00:00:40,426] Trial 27 finished with value: 0.07098232923419334 and parameters: {'criterion': 'gini', 'max_depth': 9, 'min_samples_split': 9, 'min_samples_leaf': 4}. Best is trial 14 with value: 0.06877305877305884.\n",
      "[I 2023-10-14 00:00:40,464] Trial 28 finished with value: 0.1909372211594882 and parameters: {'criterion': 'gini', 'max_depth': 1, 'min_samples_split': 8, 'min_samples_leaf': 2}. Best is trial 14 with value: 0.06877305877305884.\n",
      "[I 2023-10-14 00:00:40,521] Trial 29 finished with value: 0.07947655065302128 and parameters: {'criterion': 'gini', 'max_depth': 7, 'min_samples_split': 8, 'min_samples_leaf': 5}. Best is trial 14 with value: 0.06877305877305884.\n",
      "[I 2023-10-14 00:00:40,580] Trial 30 finished with value: 0.08274131274131269 and parameters: {'criterion': 'gini', 'max_depth': 9, 'min_samples_split': 7, 'min_samples_leaf': 3}. Best is trial 14 with value: 0.06877305877305884.\n",
      "[I 2023-10-14 00:00:40,637] Trial 31 finished with value: 0.06882854413746864 and parameters: {'criterion': 'gini', 'max_depth': 11, 'min_samples_split': 9, 'min_samples_leaf': 4}. Best is trial 14 with value: 0.06877305877305884.\n",
      "[I 2023-10-14 00:00:40,695] Trial 32 finished with value: 0.07718767726440368 and parameters: {'criterion': 'gini', 'max_depth': 11, 'min_samples_split': 10, 'min_samples_leaf': 4}. Best is trial 14 with value: 0.06877305877305884.\n",
      "[I 2023-10-14 00:00:40,756] Trial 33 finished with value: 0.07291089408736473 and parameters: {'criterion': 'gini', 'max_depth': 9, 'min_samples_split': 9, 'min_samples_leaf': 5}. Best is trial 14 with value: 0.06877305877305884.\n",
      "[I 2023-10-14 00:00:40,810] Trial 34 finished with value: 0.07852541511696443 and parameters: {'criterion': 'gini', 'max_depth': 13, 'min_samples_split': 10, 'min_samples_leaf': 7}. Best is trial 14 with value: 0.06877305877305884.\n",
      "[I 2023-10-14 00:00:40,870] Trial 35 finished with value: 0.08780927038987552 and parameters: {'criterion': 'gini', 'max_depth': 12, 'min_samples_split': 8, 'min_samples_leaf': 2}. Best is trial 14 with value: 0.06877305877305884.\n"
     ]
    },
    {
     "name": "stderr",
     "output_type": "stream",
     "text": [
      "[I 2023-10-14 00:00:40,926] Trial 36 finished with value: 0.08106629318394032 and parameters: {'criterion': 'gini', 'max_depth': 8, 'min_samples_split': 9, 'min_samples_leaf': 6}. Best is trial 14 with value: 0.06877305877305884.\n",
      "[I 2023-10-14 00:00:40,985] Trial 37 finished with value: 0.0836869867855784 and parameters: {'criterion': 'gini', 'max_depth': 14, 'min_samples_split': 8, 'min_samples_leaf': 3}. Best is trial 14 with value: 0.06877305877305884.\n",
      "[I 2023-10-14 00:00:41,051] Trial 38 finished with value: 0.07313165082194195 and parameters: {'criterion': 'entropy', 'max_depth': 11, 'min_samples_split': 10, 'min_samples_leaf': 4}. Best is trial 14 with value: 0.06877305877305884.\n",
      "[I 2023-10-14 00:00:41,106] Trial 39 finished with value: 0.07852541511696443 and parameters: {'criterion': 'gini', 'max_depth': 7, 'min_samples_split': 10, 'min_samples_leaf': 7}. Best is trial 14 with value: 0.06877305877305884.\n",
      "[I 2023-10-14 00:00:41,175] Trial 40 finished with value: 0.06578558696205739 and parameters: {'criterion': 'entropy', 'max_depth': 12, 'min_samples_split': 7, 'min_samples_leaf': 2}. Best is trial 40 with value: 0.06578558696205739.\n",
      "[I 2023-10-14 00:00:41,243] Trial 41 finished with value: 0.08315548670626982 and parameters: {'criterion': 'entropy', 'max_depth': 12, 'min_samples_split': 5, 'min_samples_leaf': 2}. Best is trial 40 with value: 0.06578558696205739.\n",
      "[I 2023-10-14 00:00:41,313] Trial 42 finished with value: 0.08945297354905679 and parameters: {'criterion': 'entropy', 'max_depth': 13, 'min_samples_split': 7, 'min_samples_leaf': 1}. Best is trial 40 with value: 0.06578558696205739.\n",
      "[I 2023-10-14 00:00:41,385] Trial 43 finished with value: 0.07727134572333916 and parameters: {'criterion': 'entropy', 'max_depth': 11, 'min_samples_split': 9, 'min_samples_leaf': 3}. Best is trial 40 with value: 0.06578558696205739.\n",
      "[I 2023-10-14 00:00:41,456] Trial 44 finished with value: 0.08446545942320594 and parameters: {'criterion': 'entropy', 'max_depth': 14, 'min_samples_split': 8, 'min_samples_leaf': 2}. Best is trial 40 with value: 0.06578558696205739.\n",
      "[I 2023-10-14 00:00:41,528] Trial 45 finished with value: 0.07311938503502835 and parameters: {'criterion': 'entropy', 'max_depth': 9, 'min_samples_split': 6, 'min_samples_leaf': 4}. Best is trial 40 with value: 0.06578558696205739.\n",
      "[I 2023-10-14 00:00:41,600] Trial 46 finished with value: 0.07719016785337784 and parameters: {'criterion': 'entropy', 'max_depth': 10, 'min_samples_split': 10, 'min_samples_leaf': 1}. Best is trial 40 with value: 0.06578558696205739.\n",
      "[I 2023-10-14 00:00:41,661] Trial 47 finished with value: 0.07776480556111287 and parameters: {'criterion': 'gini', 'max_depth': 12, 'min_samples_split': 9, 'min_samples_leaf': 3}. Best is trial 40 with value: 0.06578558696205739.\n",
      "[I 2023-10-14 00:00:41,723] Trial 48 finished with value: 0.08160446310745861 and parameters: {'criterion': 'gini', 'max_depth': 15, 'min_samples_split': 10, 'min_samples_leaf': 2}. Best is trial 40 with value: 0.06578558696205739.\n",
      "[I 2023-10-14 00:00:41,782] Trial 49 finished with value: 0.0725564800212688 and parameters: {'criterion': 'gini', 'max_depth': 8, 'min_samples_split': 4, 'min_samples_leaf': 4}. Best is trial 40 with value: 0.06578558696205739.\n",
      "[I 2023-10-14 00:00:41,848] Trial 50 finished with value: 0.07078471571008882 and parameters: {'criterion': 'entropy', 'max_depth': 9, 'min_samples_split': 3, 'min_samples_leaf': 6}. Best is trial 40 with value: 0.06578558696205739.\n",
      "[I 2023-10-14 00:00:41,915] Trial 51 finished with value: 0.07051245029208109 and parameters: {'criterion': 'entropy', 'max_depth': 6, 'min_samples_split': 3, 'min_samples_leaf': 5}. Best is trial 40 with value: 0.06578558696205739.\n",
      "[I 2023-10-14 00:00:41,980] Trial 52 finished with value: 0.08237266562074752 and parameters: {'criterion': 'entropy', 'max_depth': 4, 'min_samples_split': 2, 'min_samples_leaf': 5}. Best is trial 40 with value: 0.06578558696205739.\n",
      "[I 2023-10-14 00:00:42,045] Trial 53 finished with value: 0.07693842307926813 and parameters: {'criterion': 'entropy', 'max_depth': 5, 'min_samples_split': 3, 'min_samples_leaf': 7}. Best is trial 40 with value: 0.06578558696205739.\n",
      "[I 2023-10-14 00:00:42,110] Trial 54 finished with value: 0.07078471571008882 and parameters: {'criterion': 'entropy', 'max_depth': 6, 'min_samples_split': 4, 'min_samples_leaf': 6}. Best is trial 40 with value: 0.06578558696205739.\n",
      "[I 2023-10-14 00:00:42,168] Trial 55 finished with value: 0.09627425899025643 and parameters: {'criterion': 'entropy', 'max_depth': 3, 'min_samples_split': 3, 'min_samples_leaf': 6}. Best is trial 40 with value: 0.06578558696205739.\n",
      "[I 2023-10-14 00:00:42,232] Trial 56 finished with value: 0.07255034465403676 and parameters: {'criterion': 'entropy', 'max_depth': 6, 'min_samples_split': 3, 'min_samples_leaf': 8}. Best is trial 40 with value: 0.06578558696205739.\n",
      "[I 2023-10-14 00:00:42,299] Trial 57 finished with value: 0.07012271656107283 and parameters: {'criterion': 'entropy', 'max_depth': 7, 'min_samples_split': 4, 'min_samples_leaf': 6}. Best is trial 40 with value: 0.06578558696205739.\n",
      "[I 2023-10-14 00:00:42,364] Trial 58 finished with value: 0.07632224545268029 and parameters: {'criterion': 'entropy', 'max_depth': 8, 'min_samples_split': 4, 'min_samples_leaf': 6}. Best is trial 40 with value: 0.06578558696205739.\n",
      "[I 2023-10-14 00:00:42,428] Trial 59 finished with value: 0.07944233544233548 and parameters: {'criterion': 'entropy', 'max_depth': 5, 'min_samples_split': 2, 'min_samples_leaf': 7}. Best is trial 40 with value: 0.06578558696205739.\n",
      "[I 2023-10-14 00:00:42,495] Trial 60 finished with value: 0.06784882776544487 and parameters: {'criterion': 'entropy', 'max_depth': 7, 'min_samples_split': 3, 'min_samples_leaf': 5}. Best is trial 40 with value: 0.06578558696205739.\n",
      "[I 2023-10-14 00:00:42,562] Trial 61 finished with value: 0.07031522402191226 and parameters: {'criterion': 'entropy', 'max_depth': 7, 'min_samples_split': 3, 'min_samples_leaf': 5}. Best is trial 40 with value: 0.06578558696205739.\n",
      "[I 2023-10-14 00:00:42,629] Trial 62 finished with value: 0.07303003637131089 and parameters: {'criterion': 'entropy', 'max_depth': 7, 'min_samples_split': 3, 'min_samples_leaf': 5}. Best is trial 40 with value: 0.06578558696205739.\n",
      "[I 2023-10-14 00:00:42,698] Trial 63 finished with value: 0.06779763794268234 and parameters: {'criterion': 'entropy', 'max_depth': 6, 'min_samples_split': 5, 'min_samples_leaf': 5}. Best is trial 40 with value: 0.06578558696205739.\n",
      "[I 2023-10-14 00:00:42,763] Trial 64 finished with value: 0.07310408302070004 and parameters: {'criterion': 'entropy', 'max_depth': 7, 'min_samples_split': 5, 'min_samples_leaf': 5}. Best is trial 40 with value: 0.06578558696205739.\n",
      "[I 2023-10-14 00:00:42,827] Trial 65 finished with value: 0.0762394297176906 and parameters: {'criterion': 'entropy', 'max_depth': 5, 'min_samples_split': 5, 'min_samples_leaf': 5}. Best is trial 40 with value: 0.06578558696205739.\n",
      "[I 2023-10-14 00:00:42,892] Trial 66 finished with value: 0.07269698258927748 and parameters: {'criterion': 'entropy', 'max_depth': 8, 'min_samples_split': 4, 'min_samples_leaf': 4}. Best is trial 40 with value: 0.06578558696205739.\n",
      "[I 2023-10-14 00:00:42,959] Trial 67 finished with value: 0.06990956737143128 and parameters: {'criterion': 'entropy', 'max_depth': 6, 'min_samples_split': 6, 'min_samples_leaf': 4}. Best is trial 40 with value: 0.06578558696205739.\n",
      "[I 2023-10-14 00:00:43,026] Trial 68 finished with value: 0.0702365021521455 and parameters: {'criterion': 'entropy', 'max_depth': 6, 'min_samples_split': 6, 'min_samples_leaf': 4}. Best is trial 40 with value: 0.06578558696205739.\n",
      "[I 2023-10-14 00:00:43,087] Trial 69 finished with value: 0.08237266562074752 and parameters: {'criterion': 'entropy', 'max_depth': 4, 'min_samples_split': 6, 'min_samples_leaf': 3}. Best is trial 40 with value: 0.06578558696205739.\n",
      "[I 2023-10-14 00:00:43,152] Trial 70 finished with value: 0.0671674484437057 and parameters: {'criterion': 'entropy', 'max_depth': 10, 'min_samples_split': 5, 'min_samples_leaf': 4}. Best is trial 40 with value: 0.06578558696205739.\n",
      "[I 2023-10-14 00:00:43,219] Trial 71 finished with value: 0.06753274524735864 and parameters: {'criterion': 'entropy', 'max_depth': 10, 'min_samples_split': 5, 'min_samples_leaf': 4}. Best is trial 40 with value: 0.06578558696205739.\n"
     ]
    },
    {
     "name": "stderr",
     "output_type": "stream",
     "text": [
      "[I 2023-10-14 00:00:43,290] Trial 72 finished with value: 0.07260599493259723 and parameters: {'criterion': 'entropy', 'max_depth': 11, 'min_samples_split': 5, 'min_samples_leaf': 4}. Best is trial 40 with value: 0.06578558696205739.\n",
      "[I 2023-10-14 00:00:43,356] Trial 73 finished with value: 0.07838402648527665 and parameters: {'criterion': 'entropy', 'max_depth': 10, 'min_samples_split': 7, 'min_samples_leaf': 4}. Best is trial 40 with value: 0.06578558696205739.\n",
      "[I 2023-10-14 00:00:43,425] Trial 74 finished with value: 0.0736466737620306 and parameters: {'criterion': 'entropy', 'max_depth': 10, 'min_samples_split': 5, 'min_samples_leaf': 3}. Best is trial 40 with value: 0.06578558696205739.\n",
      "[I 2023-10-14 00:00:43,496] Trial 75 finished with value: 0.07056319352093998 and parameters: {'criterion': 'entropy', 'max_depth': 11, 'min_samples_split': 6, 'min_samples_leaf': 3}. Best is trial 40 with value: 0.06578558696205739.\n",
      "[I 2023-10-14 00:00:43,563] Trial 76 finished with value: 0.07268471680236388 and parameters: {'criterion': 'entropy', 'max_depth': 12, 'min_samples_split': 5, 'min_samples_leaf': 4}. Best is trial 40 with value: 0.06578558696205739.\n",
      "[I 2023-10-14 00:00:43,629] Trial 77 finished with value: 0.06724617031347224 and parameters: {'criterion': 'entropy', 'max_depth': 10, 'min_samples_split': 6, 'min_samples_leaf': 5}. Best is trial 40 with value: 0.06578558696205739.\n",
      "[I 2023-10-14 00:00:43,697] Trial 78 finished with value: 0.07930848342613062 and parameters: {'criterion': 'entropy', 'max_depth': 10, 'min_samples_split': 7, 'min_samples_leaf': 5}. Best is trial 40 with value: 0.06578558696205739.\n",
      "[I 2023-10-14 00:00:43,765] Trial 79 finished with value: 0.07577512180017032 and parameters: {'criterion': 'entropy', 'max_depth': 11, 'min_samples_split': 6, 'min_samples_leaf': 5}. Best is trial 40 with value: 0.06578558696205739.\n",
      "[I 2023-10-14 00:00:43,829] Trial 80 finished with value: 0.0783824925914478 and parameters: {'criterion': 'entropy', 'max_depth': 10, 'min_samples_split': 5, 'min_samples_leaf': 9}. Best is trial 40 with value: 0.06578558696205739.\n",
      "[I 2023-10-14 00:00:43,896] Trial 81 finished with value: 0.07014131898326892 and parameters: {'criterion': 'entropy', 'max_depth': 9, 'min_samples_split': 6, 'min_samples_leaf': 4}. Best is trial 40 with value: 0.06578558696205739.\n",
      "[I 2023-10-14 00:00:43,964] Trial 82 finished with value: 0.06724617031347224 and parameters: {'criterion': 'entropy', 'max_depth': 10, 'min_samples_split': 6, 'min_samples_leaf': 4}. Best is trial 40 with value: 0.06578558696205739.\n",
      "[I 2023-10-14 00:00:44,029] Trial 83 finished with value: 0.07557047927716742 and parameters: {'criterion': 'entropy', 'max_depth': 12, 'min_samples_split': 7, 'min_samples_leaf': 5}. Best is trial 40 with value: 0.06578558696205739.\n",
      "[I 2023-10-14 00:00:44,097] Trial 84 finished with value: 0.05938178780284031 and parameters: {'criterion': 'entropy', 'max_depth': 9, 'min_samples_split': 5, 'min_samples_leaf': 3}. Best is trial 84 with value: 0.05938178780284031.\n",
      "[I 2023-10-14 00:00:44,166] Trial 85 finished with value: 0.06560686961144635 and parameters: {'criterion': 'entropy', 'max_depth': 9, 'min_samples_split': 5, 'min_samples_leaf': 3}. Best is trial 84 with value: 0.05938178780284031.\n",
      "[I 2023-10-14 00:00:44,234] Trial 86 finished with value: 0.06619091615546302 and parameters: {'criterion': 'entropy', 'max_depth': 9, 'min_samples_split': 5, 'min_samples_leaf': 3}. Best is trial 84 with value: 0.05938178780284031.\n",
      "[I 2023-10-14 00:00:44,305] Trial 87 finished with value: 0.06616486777011565 and parameters: {'criterion': 'entropy', 'max_depth': 9, 'min_samples_split': 5, 'min_samples_leaf': 2}. Best is trial 84 with value: 0.05938178780284031.\n",
      "[I 2023-10-14 00:00:44,376] Trial 88 finished with value: 0.06933019976498245 and parameters: {'criterion': 'entropy', 'max_depth': 9, 'min_samples_split': 5, 'min_samples_leaf': 2}. Best is trial 84 with value: 0.05938178780284031.\n",
      "[I 2023-10-14 00:00:44,449] Trial 89 finished with value: 0.06594786560671684 and parameters: {'criterion': 'entropy', 'max_depth': 9, 'min_samples_split': 5, 'min_samples_leaf': 2}. Best is trial 84 with value: 0.05938178780284031.\n",
      "[I 2023-10-14 00:00:44,526] Trial 90 finished with value: 0.08994678748416884 and parameters: {'criterion': 'entropy', 'max_depth': 9, 'min_samples_split': 6, 'min_samples_leaf': 2}. Best is trial 84 with value: 0.05938178780284031.\n",
      "[I 2023-10-14 00:00:44,600] Trial 91 finished with value: 0.08023856658123196 and parameters: {'criterion': 'entropy', 'max_depth': 8, 'min_samples_split': 5, 'min_samples_leaf': 1}. Best is trial 84 with value: 0.05938178780284031.\n",
      "[I 2023-10-14 00:00:44,674] Trial 92 finished with value: 0.07694312507611722 and parameters: {'criterion': 'entropy', 'max_depth': 9, 'min_samples_split': 5, 'min_samples_leaf': 3}. Best is trial 84 with value: 0.05938178780284031.\n",
      "[I 2023-10-14 00:00:44,746] Trial 93 finished with value: 0.07196476456515555 and parameters: {'criterion': 'entropy', 'max_depth': 10, 'min_samples_split': 5, 'min_samples_leaf': 2}. Best is trial 84 with value: 0.05938178780284031.\n",
      "[I 2023-10-14 00:00:44,818] Trial 94 finished with value: 0.06378351515651293 and parameters: {'criterion': 'entropy', 'max_depth': 9, 'min_samples_split': 6, 'min_samples_leaf': 3}. Best is trial 84 with value: 0.05938178780284031.\n",
      "[I 2023-10-14 00:00:44,888] Trial 95 finished with value: 0.07516566063044938 and parameters: {'criterion': 'entropy', 'max_depth': 9, 'min_samples_split': 6, 'min_samples_leaf': 2}. Best is trial 84 with value: 0.05938178780284031.\n",
      "[I 2023-10-14 00:00:44,959] Trial 96 finished with value: 0.07130729735880093 and parameters: {'criterion': 'entropy', 'max_depth': 8, 'min_samples_split': 6, 'min_samples_leaf': 3}. Best is trial 84 with value: 0.05938178780284031.\n",
      "[I 2023-10-14 00:00:45,029] Trial 97 finished with value: 0.07132191480017569 and parameters: {'criterion': 'entropy', 'max_depth': 9, 'min_samples_split': 4, 'min_samples_leaf': 2}. Best is trial 84 with value: 0.05938178780284031.\n",
      "[I 2023-10-14 00:00:45,097] Trial 98 finished with value: 0.0793992654269946 and parameters: {'criterion': 'entropy', 'max_depth': 8, 'min_samples_split': 6, 'min_samples_leaf': 3}. Best is trial 84 with value: 0.05938178780284031.\n",
      "[I 2023-10-14 00:00:45,166] Trial 99 finished with value: 0.0689369418089566 and parameters: {'criterion': 'entropy', 'max_depth': 10, 'min_samples_split': 5, 'min_samples_leaf': 3}. Best is trial 84 with value: 0.05938178780284031.\n"
     ]
    }
   ],
   "source": [
    "### Optuna Library\n",
    "\n",
    "# Define the objective function\n",
    "def objective(trial):\n",
    "    # Define hyperparameter search space using trial object\n",
    "    criterion = trial.suggest_categorical('criterion', ['gini', 'entropy'])\n",
    "    max_depth = trial.suggest_int('max_depth', 1, 15)\n",
    "    min_samples_split = trial.suggest_int('min_samples_split', 2, 10)\n",
    "    min_samples_leaf = trial.suggest_int('min_samples_leaf', 1, 10)\n",
    "    \n",
    "    clf = tree.DecisionTreeClassifier(\n",
    "        criterion=criterion, \n",
    "        max_depth=max_depth,\n",
    "        min_samples_split=min_samples_split,\n",
    "        min_samples_leaf=min_samples_leaf\n",
    "    )\n",
    "    \n",
    "    return 1.0 - model_selection.cross_val_score(clf, X_train, y_train.values.ravel(), cv=5,scoring=custom_scorer).mean()\n",
    "\n",
    "# Create a study object and specify the direction is 'minimize'.\n",
    "study = optuna.create_study(direction='minimize')\n",
    "\n",
    "# Optimize the study, the objective function is passed in as the first argument.\n",
    "study.optimize(objective, n_trials=100)"
   ]
  },
  {
   "cell_type": "code",
   "execution_count": 53,
   "id": "48d25606",
   "metadata": {},
   "outputs": [
    {
     "name": "stdout",
     "output_type": "stream",
     "text": [
      "Best Paramter:  {'criterion': 'entropy', 'max_depth': 9, 'min_samples_split': 5, 'min_samples_leaf': 3}\n",
      "Best score:  0.9406182121971597\n"
     ]
    }
   ],
   "source": [
    "best_params = study.best_params\n",
    "print('Best Paramter: ',best_params)\n",
    "best_score = 1.0 - study.best_value\n",
    "print('Best score: ',best_score)"
   ]
  },
  {
   "cell_type": "code",
   "execution_count": 54,
   "id": "ff3d4fdc",
   "metadata": {},
   "outputs": [
    {
     "name": "stdout",
     "output_type": "stream",
     "text": [
      "Overall Accuracy on Test Data 0.9333333333333333\n",
      "Precision on Test Data 0.9466666666666667\n",
      "Recall score on Test Data 0.922077922077922\n",
      "F1-Score on Test Data 0.9342105263157895\n"
     ]
    }
   ],
   "source": [
    "dt_clf = tree.DecisionTreeClassifier(**{'criterion': 'entropy', \n",
    "                                        'max_depth': 9, 'min_samples_split': 5, \n",
    "                                        'min_samples_leaf': 3},random_state=2023)\n",
    "\n",
    "dt_clf.fit(X_train,y_train.values.ravel())\n",
    "y_pred = dt_clf.predict(X_test)\n",
    "\n",
    "print('Overall Accuracy on Test Data',metrics.accuracy_score(y_pred,y_test.values.ravel()))\n",
    "print('Precision on Test Data',metrics.precision_score(y_pred,y_test.values.ravel()))\n",
    "print('Recall score on Test Data',metrics.recall_score(y_pred,y_test.values.ravel()))\n",
    "print('F1-Score on Test Data',metrics.f1_score(y_pred,y_test.values.ravel()))"
   ]
  },
  {
   "cell_type": "code",
   "execution_count": 55,
   "id": "4ad35299",
   "metadata": {},
   "outputs": [
    {
     "data": {
      "image/png": "[encoded data removed]",
      "text/plain": [
       "<Figure size 640x480 with 2 Axes>"
      ]
     },
     "metadata": {},
     "output_type": "display_data"
    }
   ],
   "source": [
    "cm = metrics.confusion_matrix(y_test.values.ravel(), y_pred, labels=dt_clf.classes_)\n",
    "cmplot = metrics.ConfusionMatrixDisplay(confusion_matrix=cm,display_labels=['Negative', 'Positive'])\n",
    "cmplot.plot()\n",
    "cmplot.ax_.set(title='Confusion Matrix',xlabel='Predicted Value', ylabel='Actual Value')\n",
    "plt.show()"
   ]
  },
  {
   "cell_type": "markdown",
   "id": "75f618e5",
   "metadata": {},
   "source": [
    "### Random Forest"
   ]
  },
  {
   "cell_type": "code",
   "execution_count": 56,
   "id": "1ea19f9c",
   "metadata": {},
   "outputs": [
    {
     "name": "stdout",
     "output_type": "stream",
     "text": [
      "Overall Accuracy on Test Data 0.9533333333333334\n",
      "Precision on Test Data 0.9733333333333334\n",
      "Recall score on Test Data 0.9358974358974359\n",
      "F1-Score on Test Data 0.954248366013072\n"
     ]
    }
   ],
   "source": [
    "rf_clf = ensemble.RandomForestClassifier(random_state=2023)\n",
    "rf_clf.fit(X_train,y_train.values.ravel())\n",
    "y_pred = rf_clf.predict(X_test)\n",
    "\n",
    "print('Overall Accuracy on Test Data',metrics.accuracy_score(y_pred,y_test.values.ravel()))\n",
    "print('Precision on Test Data',metrics.precision_score(y_pred,y_test.values.ravel()))\n",
    "print('Recall score on Test Data',metrics.recall_score(y_pred,y_test.values.ravel()))\n",
    "print('F1-Score on Test Data',metrics.f1_score(y_pred,y_test.values.ravel()))"
   ]
  },
  {
   "cell_type": "code",
   "execution_count": 57,
   "id": "502d5b30",
   "metadata": {},
   "outputs": [
    {
     "data": {
      "image/png": "[encoded data removed]",
      "text/plain": [
       "<Figure size 640x480 with 2 Axes>"
      ]
     },
     "metadata": {},
     "output_type": "display_data"
    }
   ],
   "source": [
    "cm = metrics.confusion_matrix(y_test.values.ravel(), y_pred, labels=rf_clf.classes_)\n",
    "cmplot = metrics.ConfusionMatrixDisplay(confusion_matrix=cm,display_labels=['Negative', 'Positive'])\n",
    "cmplot.plot()\n",
    "cmplot.ax_.set(title='Confusion Matrix',xlabel='Predicted Value', ylabel='Actual Value')\n",
    "plt.show()"
   ]
  },
  {
   "cell_type": "code",
   "execution_count": 58,
   "id": "40639243",
   "metadata": {},
   "outputs": [
    {
     "name": "stdout",
     "output_type": "stream",
     "text": [
      "[0.90666667 0.97142857 0.97222222 0.86111111 0.98591549]\n"
     ]
    }
   ],
   "source": [
    "#### Using cross validation to improve the Accuracy\n",
    "\n",
    "rf_clf = ensemble.RandomForestClassifier(random_state=2023)\n",
    "scores = model_selection.cross_val_score(rf_clf, X_train, y_train.values.ravel(),scoring='f1', cv=5)\n",
    "print(scores)"
   ]
  },
  {
   "cell_type": "markdown",
   "id": "ec235919",
   "metadata": {},
   "source": [
    "#### Grid Search CV"
   ]
  },
  {
   "cell_type": "code",
   "execution_count": 59,
   "id": "43a425a6",
   "metadata": {},
   "outputs": [],
   "source": [
    "param_grid = {\n",
    "    'n_estimators': [10, 50, 100, 200],\n",
    "    'max_features': ['sqrt', 'log2'],\n",
    "    'max_depth': [None, 10, 20, 30, 40, 50],\n",
    "    'bootstrap': [True, False],\n",
    "    'criterion': ['gini', 'entropy']\n",
    "}\n",
    "inner_cv = model_selection.StratifiedKFold(n_splits=3, shuffle=True, random_state=2023)\n",
    "gcv = model_selection.GridSearchCV(estimator=ensemble.RandomForestClassifier(random_state=2023),\n",
    "                       param_grid=param_grid,\n",
    "                       scoring=custom_scorer,\n",
    "                       n_jobs=-1,\n",
    "                       cv=inner_cv,\n",
    "                       verbose=0,\n",
    "                       refit=True)\n",
    "X_train_cv = X_train.reset_index(drop=True)\n",
    "y_train_cv = y_train.reset_index(drop=True)"
   ]
  },
  {
   "cell_type": "code",
   "execution_count": 60,
   "id": "836b7d69",
   "metadata": {},
   "outputs": [
    {
     "name": "stdout",
     "output_type": "stream",
     "text": [
      "\n",
      " Best ACC (avg. of inner test folds) 95.89%\n",
      "Best parameters: {'bootstrap': True, 'criterion': 'entropy', 'max_depth': None, 'max_features': 'log2', 'n_estimators': 50}\n",
      "ACC (on outer test fold) 88.57%\n",
      "\n",
      " Best ACC (avg. of inner test folds) 94.78%\n",
      "Best parameters: {'bootstrap': False, 'criterion': 'entropy', 'max_depth': None, 'max_features': 'log2', 'n_estimators': 100}\n",
      "ACC (on outer test fold) 94.29%\n",
      "\n",
      " Best ACC (avg. of inner test folds) 95.39%\n",
      "Best parameters: {'bootstrap': False, 'criterion': 'entropy', 'max_depth': None, 'max_features': 'log2', 'n_estimators': 50}\n",
      "ACC (on outer test fold) 95.71%\n",
      "\n",
      " Best ACC (avg. of inner test folds) 95.09%\n",
      "Best parameters: {'bootstrap': False, 'criterion': 'entropy', 'max_depth': None, 'max_features': 'log2', 'n_estimators': 100}\n",
      "ACC (on outer test fold) 97.14%\n",
      "\n",
      " Best ACC (avg. of inner test folds) 96.82%\n",
      "Best parameters: {'bootstrap': False, 'criterion': 'entropy', 'max_depth': None, 'max_features': 'log2', 'n_estimators': 100}\n",
      "ACC (on outer test fold) 95.71%\n",
      "\n",
      "    Outer Loop:\n"
     ]
    }
   ],
   "source": [
    "outer_scores = []\n",
    "\n",
    "outer_cv = model_selection.StratifiedKFold(n_splits=5, shuffle=True, random_state=2023)\n",
    "    \n",
    "    \n",
    "for train_idx, valid_idx in outer_cv.split(X_train_cv, y_train_cv):\n",
    "    gcv.fit(X_train_cv.loc[train_idx,:], y_train_cv.loc[train_idx,:].values.ravel()) # run inner loop hyperparam tuning\n",
    "    print('\\n Best ACC (avg. of inner test folds) %.2f%%' % (gcv.best_score_ * 100))\n",
    "    print('Best parameters:', gcv.best_params_)\n",
    "        \n",
    "    # perf on test fold (valid_idx)\n",
    "    outer_scores.append(gcv.best_estimator_.score(X_train_cv.loc[valid_idx,:], y_train_cv.loc[valid_idx,:].values.ravel()))\n",
    "    print('ACC (on outer test fold) %.2f%%' % (outer_scores[-1]*100))\n",
    "    \n",
    "print('\\n    Outer Loop:')"
   ]
  },
  {
   "cell_type": "code",
   "execution_count": 61,
   "id": "55cda426",
   "metadata": {},
   "outputs": [
    {
     "name": "stdout",
     "output_type": "stream",
     "text": [
      "Best Parameter {'bootstrap': False, 'criterion': 'entropy', 'max_depth': None, 'max_features': 'log2', 'n_estimators': 100}\n"
     ]
    }
   ],
   "source": [
    "print('Best Parameter',gcv.best_params_)"
   ]
  },
  {
   "cell_type": "code",
   "execution_count": 62,
   "id": "a25efb73",
   "metadata": {},
   "outputs": [
    {
     "name": "stdout",
     "output_type": "stream",
     "text": [
      "Overall Accuracy on Test Data 0.96\n",
      "Precision on Test Data 0.9866666666666667\n",
      "Recall score on Test Data 0.9367088607594937\n",
      "F1-Score on Test Data 0.961038961038961\n"
     ]
    }
   ],
   "source": [
    "rf_clf = ensemble.RandomForestClassifier(**{'bootstrap': False, \n",
    "                                            'criterion': 'entropy', \n",
    "                                            'max_depth': None, \n",
    "                                            'max_features': 'log2', 'n_estimators': 100},random_state=2023)\n",
    "\n",
    "rf_clf.fit(X_train,y_train.values.ravel())\n",
    "y_pred = rf_clf.predict(X_test)\n",
    "\n",
    "print('Overall Accuracy on Test Data',metrics.accuracy_score(y_pred,y_test.values.ravel()))\n",
    "print('Precision on Test Data',metrics.precision_score(y_pred,y_test.values.ravel()))\n",
    "print('Recall score on Test Data',metrics.recall_score(y_pred,y_test.values.ravel()))\n",
    "print('F1-Score on Test Data',metrics.f1_score(y_pred,y_test.values.ravel()))"
   ]
  },
  {
   "cell_type": "code",
   "execution_count": 63,
   "id": "911a9e4b",
   "metadata": {},
   "outputs": [
    {
     "data": {
      "image/png": "[encoded data removed]",
      "text/plain": [
       "<Figure size 640x480 with 2 Axes>"
      ]
     },
     "metadata": {},
     "output_type": "display_data"
    }
   ],
   "source": [
    "cm = metrics.confusion_matrix(y_test.values.ravel(), y_pred, labels=rf_clf.classes_)\n",
    "cmplot = metrics.ConfusionMatrixDisplay(confusion_matrix=cm,display_labels=['Negative', 'Positive'])\n",
    "cmplot.plot()\n",
    "cmplot.ax_.set(title='Confusion Matrix',xlabel='Predicted Value', ylabel='Actual Value')\n",
    "plt.show()"
   ]
  },
  {
   "cell_type": "markdown",
   "id": "4811b45f",
   "metadata": {},
   "source": [
    "#### Hyperopt"
   ]
  },
  {
   "cell_type": "code",
   "execution_count": 64,
   "id": "f76f9de3",
   "metadata": {},
   "outputs": [
    {
     "name": "stdout",
     "output_type": "stream",
     "text": [
      "100%|██████████████████████████████████| 100/100 [01:12<00:00,  1.38trial/s, best loss: -0.9696042924211937]\n"
     ]
    }
   ],
   "source": [
    "# Define the objective function\n",
    "def objective(params):\n",
    "    clf = ensemble.RandomForestClassifier(**params)\n",
    "    score = model_selection.cross_val_score(clf, X_train,y_train.values.ravel(), cv=5,scoring=custom_scorer).mean()\n",
    "    return {'loss': -score, 'status': STATUS_OK}\n",
    "\n",
    "# Define the hyperparameter space\n",
    "space = {\n",
    "    'n_estimators': hp.choice('n_estimators', [10, 50, 100, 200]),\n",
    "    'max_features': hp.choice('max_features', ['sqrt', 'log2']),\n",
    "    'max_depth': hp.choice('max_depth', [None, 10, 20, 30, 40, 50]),\n",
    "    'bootstrap': hp.choice('bootstrap', [True, False]),\n",
    "    'criterion': hp.choice('criterion', ['gini', 'entropy'])\n",
    "}\n",
    "\n",
    "# Run the optimization\n",
    "trials = Trials()\n",
    "best = fmin(fn=objective, space=space, algo=tpe.suggest, max_evals=100, trials=trials)"
   ]
  },
  {
   "cell_type": "code",
   "execution_count": 65,
   "id": "278903be",
   "metadata": {},
   "outputs": [
    {
     "name": "stdout",
     "output_type": "stream",
     "text": [
      "Best hyperparameters: {'bootstrap': 1, 'criterion': 1, 'max_depth': 3, 'max_features': 1, 'n_estimators': 2}\n"
     ]
    }
   ],
   "source": [
    "print(\"Best hyperparameters:\", best)"
   ]
  },
  {
   "cell_type": "code",
   "execution_count": 66,
   "id": "ee7bc338",
   "metadata": {},
   "outputs": [
    {
     "name": "stdout",
     "output_type": "stream",
     "text": [
      "Overall Accuracy on Test Data 0.9533333333333334\n",
      "Precision on Test Data 0.9733333333333334\n",
      "Recall score on Test Data 0.9358974358974359\n",
      "F1-Score on Test Data 0.954248366013072\n"
     ]
    }
   ],
   "source": [
    "rf_clf = ensemble.RandomForestClassifier(**{'bootstrap': False, \n",
    "                                            'criterion': 'entropy', \n",
    "                                            'max_depth': 4, \n",
    "                                            'max_features': 'log2', \n",
    "                                            'n_estimators': 200},random_state=2023)\n",
    "\n",
    "rf_clf.fit(X_train,y_train.values.ravel())\n",
    "y_pred = rf_clf.predict(X_test)\n",
    "\n",
    "print('Overall Accuracy on Test Data',metrics.accuracy_score(y_pred,y_test.values.ravel()))\n",
    "print('Precision on Test Data',metrics.precision_score(y_pred,y_test.values.ravel()))\n",
    "print('Recall score on Test Data',metrics.recall_score(y_pred,y_test.values.ravel()))\n",
    "print('F1-Score on Test Data',metrics.f1_score(y_pred,y_test.values.ravel()))"
   ]
  },
  {
   "cell_type": "code",
   "execution_count": 67,
   "id": "4577862d",
   "metadata": {},
   "outputs": [
    {
     "data": {
      "image/png": "[encoded data removed]",
      "text/plain": [
       "<Figure size 640x480 with 2 Axes>"
      ]
     },
     "metadata": {},
     "output_type": "display_data"
    }
   ],
   "source": [
    "cm = metrics.confusion_matrix(y_test.values.ravel(), y_pred, labels=rf_clf.classes_)\n",
    "cmplot = metrics.ConfusionMatrixDisplay(confusion_matrix=cm,display_labels=['Negative', 'Positive'])\n",
    "cmplot.plot()\n",
    "cmplot.ax_.set(title='Confusion Matrix',xlabel='Predicted Value', ylabel='Actual Value')\n",
    "plt.show()"
   ]
  },
  {
   "cell_type": "markdown",
   "id": "48d3af6f",
   "metadata": {},
   "source": [
    "#### Optuna"
   ]
  },
  {
   "cell_type": "code",
   "execution_count": 68,
   "id": "b3fe57d7",
   "metadata": {},
   "outputs": [
    {
     "name": "stderr",
     "output_type": "stream",
     "text": [
      "[I 2023-10-14 00:10:23,169] A new study created in memory with name: no-name-c9f9d58d-2527-4f02-a4ae-5a7caef5cc9f\n",
      "[I 2023-10-14 00:10:24,308] Trial 0 finished with value: 0.9597503863762282 and parameters: {'n_estimators': 195, 'max_features': 'log2', 'max_depth': 10, 'bootstrap': False, 'criterion': 'entropy'}. Best is trial 0 with value: 0.9597503863762282.\n",
      "[I 2023-10-14 00:10:24,686] Trial 1 finished with value: 0.9626477706820633 and parameters: {'n_estimators': 69, 'max_features': 'log2', 'max_depth': 12, 'bootstrap': False, 'criterion': 'gini'}. Best is trial 1 with value: 0.9626477706820633.\n",
      "[I 2023-10-14 00:10:25,259] Trial 2 finished with value: 0.9544466800804828 and parameters: {'n_estimators': 110, 'max_features': 'log2', 'max_depth': 10, 'bootstrap': False, 'criterion': 'gini'}. Best is trial 1 with value: 0.9626477706820633.\n",
      "[I 2023-10-14 00:10:25,470] Trial 3 finished with value: 0.9541913315642647 and parameters: {'n_estimators': 37, 'max_features': 'log2', 'max_depth': 35, 'bootstrap': False, 'criterion': 'gini'}. Best is trial 1 with value: 0.9626477706820633.\n",
      "[I 2023-10-14 00:10:25,780] Trial 4 finished with value: 0.9613160041329054 and parameters: {'n_estimators': 49, 'max_features': 'sqrt', 'max_depth': 46, 'bootstrap': True, 'criterion': 'gini'}. Best is trial 1 with value: 0.9626477706820633.\n",
      "[I 2023-10-14 00:10:25,952] Trial 5 finished with value: 0.9616199479984932 and parameters: {'n_estimators': 24, 'max_features': 'log2', 'max_depth': 14, 'bootstrap': False, 'criterion': 'entropy'}. Best is trial 1 with value: 0.9626477706820633.\n",
      "[I 2023-10-14 00:10:26,061] Trial 6 finished with value: 0.9478827211635827 and parameters: {'n_estimators': 16, 'max_features': 'log2', 'max_depth': 19, 'bootstrap': False, 'criterion': 'gini'}. Best is trial 1 with value: 0.9626477706820633.\n",
      "[I 2023-10-14 00:10:26,826] Trial 7 finished with value: 0.9544362795128258 and parameters: {'n_estimators': 119, 'max_features': 'sqrt', 'max_depth': 30, 'bootstrap': False, 'criterion': 'gini'}. Best is trial 1 with value: 0.9626477706820633.\n",
      "[I 2023-10-14 00:10:27,374] Trial 8 finished with value: 0.9573440643863179 and parameters: {'n_estimators': 75, 'max_features': 'sqrt', 'max_depth': 13, 'bootstrap': False, 'criterion': 'entropy'}. Best is trial 1 with value: 0.9626477706820633.\n",
      "[I 2023-10-14 00:10:28,225] Trial 9 finished with value: 0.9626477706820633 and parameters: {'n_estimators': 148, 'max_features': 'sqrt', 'max_depth': 30, 'bootstrap': True, 'criterion': 'entropy'}. Best is trial 1 with value: 0.9626477706820633.\n",
      "[I 2023-10-14 00:10:28,598] Trial 10 finished with value: 0.9541948308206727 and parameters: {'n_estimators': 73, 'max_features': 'log2', 'max_depth': 20, 'bootstrap': True, 'criterion': 'gini'}. Best is trial 1 with value: 0.9626477706820633.\n",
      "[I 2023-10-14 00:10:29,597] Trial 11 finished with value: 0.9626477706820633 and parameters: {'n_estimators': 171, 'max_features': 'sqrt', 'max_depth': 29, 'bootstrap': True, 'criterion': 'entropy'}. Best is trial 1 with value: 0.9626477706820633.\n",
      "[I 2023-10-14 00:10:30,428] Trial 12 finished with value: 0.9626477706820633 and parameters: {'n_estimators': 141, 'max_features': 'sqrt', 'max_depth': 23, 'bootstrap': True, 'criterion': 'entropy'}. Best is trial 1 with value: 0.9626477706820633.\n",
      "[I 2023-10-14 00:10:31,273] Trial 13 finished with value: 0.9626477706820633 and parameters: {'n_estimators': 143, 'max_features': 'sqrt', 'max_depth': 15, 'bootstrap': True, 'criterion': 'entropy'}. Best is trial 1 with value: 0.9626477706820633.\n",
      "[I 2023-10-14 00:10:31,691] Trial 14 finished with value: 0.9573440643863179 and parameters: {'n_estimators': 83, 'max_features': 'log2', 'max_depth': 23, 'bootstrap': True, 'criterion': 'gini'}. Best is trial 1 with value: 0.9626477706820633.\n",
      "[I 2023-10-14 00:10:32,557] Trial 15 finished with value: 0.9571830985915492 and parameters: {'n_estimators': 147, 'max_features': 'sqrt', 'max_depth': 17, 'bootstrap': True, 'criterion': 'entropy'}. Best is trial 1 with value: 0.9626477706820633.\n",
      "[I 2023-10-14 00:10:33,106] Trial 16 finished with value: 0.954605410239213 and parameters: {'n_estimators': 101, 'max_features': 'sqrt', 'max_depth': 12, 'bootstrap': True, 'criterion': 'gini'}. Best is trial 1 with value: 0.9626477706820633.\n",
      "[I 2023-10-14 00:10:33,449] Trial 17 finished with value: 0.9632193158953722 and parameters: {'n_estimators': 55, 'max_features': 'log2', 'max_depth': 17, 'bootstrap': False, 'criterion': 'entropy'}. Best is trial 17 with value: 0.9632193158953722.\n",
      "[I 2023-10-14 00:10:33,774] Trial 18 finished with value: 0.9571726980238922 and parameters: {'n_estimators': 57, 'max_features': 'log2', 'max_depth': 16, 'bootstrap': False, 'criterion': 'gini'}. Best is trial 17 with value: 0.9632193158953722.\n",
      "[I 2023-10-14 00:10:34,116] Trial 19 finished with value: 0.959911352170997 and parameters: {'n_estimators': 54, 'max_features': 'log2', 'max_depth': 12, 'bootstrap': False, 'criterion': 'entropy'}. Best is trial 17 with value: 0.9632193158953722.\n",
      "[I 2023-10-14 00:10:34,692] Trial 20 finished with value: 0.959911352170997 and parameters: {'n_estimators': 95, 'max_features': 'log2', 'max_depth': 17, 'bootstrap': False, 'criterion': 'entropy'}. Best is trial 17 with value: 0.9632193158953722.\n",
      "[I 2023-10-14 00:10:35,456] Trial 21 finished with value: 0.9667214095383109 and parameters: {'n_estimators': 128, 'max_features': 'log2', 'max_depth': 14, 'bootstrap': False, 'criterion': 'entropy'}. Best is trial 21 with value: 0.9667214095383109.\n",
      "[I 2023-10-14 00:10:36,200] Trial 22 finished with value: 0.9624797034551726 and parameters: {'n_estimators': 125, 'max_features': 'log2', 'max_depth': 13, 'bootstrap': False, 'criterion': 'entropy'}. Best is trial 21 with value: 0.9667214095383109.\n",
      "[I 2023-10-14 00:10:36,616] Trial 23 finished with value: 0.9599091165349585 and parameters: {'n_estimators': 67, 'max_features': 'log2', 'max_depth': 11, 'bootstrap': False, 'criterion': 'entropy'}. Best is trial 21 with value: 0.9667214095383109.\n",
      "[I 2023-10-14 00:10:36,855] Trial 24 finished with value: 0.9638240252324758 and parameters: {'n_estimators': 36, 'max_features': 'log2', 'max_depth': 14, 'bootstrap': False, 'criterion': 'entropy'}. Best is trial 21 with value: 0.9667214095383109.\n",
      "[I 2023-10-14 00:10:37,091] Trial 25 finished with value: 0.9668678739101274 and parameters: {'n_estimators': 36, 'max_features': 'log2', 'max_depth': 15, 'bootstrap': False, 'criterion': 'entropy'}. Best is trial 25 with value: 0.9668678739101274.\n",
      "[I 2023-10-14 00:10:37,327] Trial 26 finished with value: 0.9582844709045751 and parameters: {'n_estimators': 35, 'max_features': 'log2', 'max_depth': 14, 'bootstrap': False, 'criterion': 'entropy'}. Best is trial 25 with value: 0.9668678739101274.\n",
      "[I 2023-10-14 00:10:37,864] Trial 27 finished with value: 0.9626477706820633 and parameters: {'n_estimators': 89, 'max_features': 'log2', 'max_depth': 16, 'bootstrap': False, 'criterion': 'entropy'}. Best is trial 25 with value: 0.9668678739101274.\n",
      "[I 2023-10-14 00:10:37,965] Trial 28 finished with value: 0.9507930447132924 and parameters: {'n_estimators': 12, 'max_features': 'log2', 'max_depth': 14, 'bootstrap': False, 'criterion': 'entropy'}. Best is trial 25 with value: 0.9668678739101274.\n",
      "[I 2023-10-14 00:10:39,051] Trial 29 finished with value: 0.959911352170997 and parameters: {'n_estimators': 185, 'max_features': 'log2', 'max_depth': 10, 'bootstrap': False, 'criterion': 'entropy'}. Best is trial 25 with value: 0.9668678739101274.\n",
      "[I 2023-10-14 00:10:39,273] Trial 30 finished with value: 0.9492152917505029 and parameters: {'n_estimators': 33, 'max_features': 'log2', 'max_depth': 11, 'bootstrap': False, 'criterion': 'entropy'}. Best is trial 25 with value: 0.9668678739101274.\n",
      "[I 2023-10-14 00:10:39,571] Trial 31 finished with value: 0.9608621592569113 and parameters: {'n_estimators': 47, 'max_features': 'log2', 'max_depth': 18, 'bootstrap': False, 'criterion': 'entropy'}. Best is trial 25 with value: 0.9668678739101274.\n",
      "[I 2023-10-14 00:10:39,778] Trial 32 finished with value: 0.9652966048636233 and parameters: {'n_estimators': 30, 'max_features': 'log2', 'max_depth': 15, 'bootstrap': False, 'criterion': 'entropy'}. Best is trial 25 with value: 0.9668678739101274.\n"
     ]
    },
    {
     "name": "stderr",
     "output_type": "stream",
     "text": [
      "[I 2023-10-14 00:10:39,946] Trial 33 finished with value: 0.9575855130784708 and parameters: {'n_estimators': 24, 'max_features': 'log2', 'max_depth': 15, 'bootstrap': False, 'criterion': 'entropy'}. Best is trial 25 with value: 0.9668678739101274.\n",
      "[I 2023-10-14 00:10:40,709] Trial 34 finished with value: 0.9638240252324758 and parameters: {'n_estimators': 128, 'max_features': 'log2', 'max_depth': 21, 'bootstrap': False, 'criterion': 'entropy'}. Best is trial 25 with value: 0.9668678739101274.\n",
      "[I 2023-10-14 00:10:41,364] Trial 35 finished with value: 0.9597503863762282 and parameters: {'n_estimators': 109, 'max_features': 'log2', 'max_depth': 13, 'bootstrap': False, 'criterion': 'entropy'}. Best is trial 25 with value: 0.9668678739101274.\n",
      "[I 2023-10-14 00:10:41,624] Trial 36 finished with value: 0.9610231250516799 and parameters: {'n_estimators': 38, 'max_features': 'log2', 'max_depth': 19, 'bootstrap': False, 'criterion': 'entropy'}. Best is trial 25 with value: 0.9668678739101274.\n",
      "[I 2023-10-14 00:10:42,618] Trial 37 finished with value: 0.9626477706820633 and parameters: {'n_estimators': 159, 'max_features': 'log2', 'max_depth': 11, 'bootstrap': False, 'criterion': 'entropy'}. Best is trial 25 with value: 0.9668678739101274.\n",
      "[I 2023-10-14 00:10:42,917] Trial 38 finished with value: 0.9571726980238922 and parameters: {'n_estimators': 43, 'max_features': 'log2', 'max_depth': 16, 'bootstrap': False, 'criterion': 'entropy'}. Best is trial 25 with value: 0.9668678739101274.\n",
      "[I 2023-10-14 00:10:43,098] Trial 39 finished with value: 0.9580594679186228 and parameters: {'n_estimators': 25, 'max_features': 'log2', 'max_depth': 15, 'bootstrap': False, 'criterion': 'entropy'}. Best is trial 25 with value: 0.9668678739101274.\n",
      "[I 2023-10-14 00:10:43,508] Trial 40 finished with value: 0.9667214095383109 and parameters: {'n_estimators': 64, 'max_features': 'log2', 'max_depth': 13, 'bootstrap': False, 'criterion': 'entropy'}. Best is trial 25 with value: 0.9668678739101274.\n",
      "[I 2023-10-14 00:10:43,904] Trial 41 finished with value: 0.9570139678651619 and parameters: {'n_estimators': 60, 'max_features': 'log2', 'max_depth': 13, 'bootstrap': False, 'criterion': 'entropy'}. Best is trial 25 with value: 0.9668678739101274.\n",
      "[I 2023-10-14 00:10:44,064] Trial 42 finished with value: 0.959911352170997 and parameters: {'n_estimators': 22, 'max_features': 'log2', 'max_depth': 14, 'bootstrap': False, 'criterion': 'entropy'}. Best is trial 25 with value: 0.9668678739101274.\n",
      "[I 2023-10-14 00:10:44,357] Trial 43 finished with value: 0.9667069081153586 and parameters: {'n_estimators': 43, 'max_features': 'log2', 'max_depth': 12, 'bootstrap': False, 'criterion': 'entropy'}. Best is trial 25 with value: 0.9668678739101274.\n",
      "[I 2023-10-14 00:10:44,862] Trial 44 finished with value: 0.9632193158953722 and parameters: {'n_estimators': 80, 'max_features': 'log2', 'max_depth': 10, 'bootstrap': False, 'criterion': 'entropy'}. Best is trial 25 with value: 0.9668678739101274.\n",
      "[I 2023-10-14 00:10:45,284] Trial 45 finished with value: 0.9570139678651619 and parameters: {'n_estimators': 66, 'max_features': 'log2', 'max_depth': 12, 'bootstrap': False, 'criterion': 'entropy'}. Best is trial 25 with value: 0.9668678739101274.\n",
      "[I 2023-10-14 00:10:45,557] Trial 46 finished with value: 0.9544466800804828 and parameters: {'n_estimators': 46, 'max_features': 'log2', 'max_depth': 12, 'bootstrap': False, 'criterion': 'gini'}. Best is trial 25 with value: 0.9668678739101274.\n",
      "[I 2023-10-14 00:10:45,653] Trial 47 finished with value: 0.9570163007027672 and parameters: {'n_estimators': 11, 'max_features': 'log2', 'max_depth': 11, 'bootstrap': False, 'criterion': 'entropy'}. Best is trial 25 with value: 0.9668678739101274.\n",
      "[I 2023-10-14 00:10:45,846] Trial 48 finished with value: 0.9667069081153586 and parameters: {'n_estimators': 27, 'max_features': 'log2', 'max_depth': 13, 'bootstrap': False, 'criterion': 'entropy'}. Best is trial 25 with value: 0.9668678739101274.\n",
      "[I 2023-10-14 00:10:46,673] Trial 49 finished with value: 0.9570139678651619 and parameters: {'n_estimators': 133, 'max_features': 'sqrt', 'max_depth': 10, 'bootstrap': False, 'criterion': 'gini'}. Best is trial 25 with value: 0.9668678739101274.\n",
      "[I 2023-10-14 00:10:47,338] Trial 50 finished with value: 0.9573418287502793 and parameters: {'n_estimators': 120, 'max_features': 'log2', 'max_depth': 46, 'bootstrap': True, 'criterion': 'entropy'}. Best is trial 25 with value: 0.9668678739101274.\n",
      "[I 2023-10-14 00:10:47,541] Trial 51 finished with value: 0.9632193158953722 and parameters: {'n_estimators': 29, 'max_features': 'log2', 'max_depth': 13, 'bootstrap': False, 'criterion': 'entropy'}. Best is trial 25 with value: 0.9668678739101274.\n",
      "[I 2023-10-14 00:10:47,710] Trial 52 finished with value: 0.9612463368801396 and parameters: {'n_estimators': 23, 'max_features': 'log2', 'max_depth': 15, 'bootstrap': False, 'criterion': 'entropy'}. Best is trial 25 with value: 0.9668678739101274.\n",
      "[I 2023-10-14 00:10:47,969] Trial 53 finished with value: 0.9668018924356951 and parameters: {'n_estimators': 39, 'max_features': 'log2', 'max_depth': 18, 'bootstrap': False, 'criterion': 'entropy'}. Best is trial 25 with value: 0.9668678739101274.\n",
      "[I 2023-10-14 00:10:48,245] Trial 54 finished with value: 0.959911352170997 and parameters: {'n_estimators': 42, 'max_features': 'log2', 'max_depth': 13, 'bootstrap': False, 'criterion': 'entropy'}. Best is trial 25 with value: 0.9668678739101274.\n",
      "[I 2023-10-14 00:10:48,632] Trial 55 finished with value: 0.9668678739101274 and parameters: {'n_estimators': 51, 'max_features': 'sqrt', 'max_depth': 18, 'bootstrap': False, 'criterion': 'entropy'}. Best is trial 25 with value: 0.9668678739101274.\n",
      "[I 2023-10-14 00:10:49,016] Trial 56 finished with value: 0.956769019916601 and parameters: {'n_estimators': 61, 'max_features': 'sqrt', 'max_depth': 18, 'bootstrap': True, 'criterion': 'entropy'}. Best is trial 25 with value: 0.9668678739101274.\n",
      "[I 2023-10-14 00:10:49,354] Trial 57 finished with value: 0.9514653136208555 and parameters: {'n_estimators': 51, 'max_features': 'sqrt', 'max_depth': 20, 'bootstrap': False, 'criterion': 'gini'}. Best is trial 25 with value: 0.9668678739101274.\n",
      "[I 2023-10-14 00:10:49,917] Trial 58 finished with value: 0.9667214095383109 and parameters: {'n_estimators': 78, 'max_features': 'sqrt', 'max_depth': 22, 'bootstrap': False, 'criterion': 'entropy'}. Best is trial 25 with value: 0.9668678739101274.\n",
      "[I 2023-10-14 00:10:50,458] Trial 59 finished with value: 0.9696042924211937 and parameters: {'n_estimators': 75, 'max_features': 'sqrt', 'max_depth': 24, 'bootstrap': False, 'criterion': 'entropy'}. Best is trial 59 with value: 0.9696042924211937.\n",
      "[I 2023-10-14 00:10:51,089] Trial 60 finished with value: 0.9667214095383109 and parameters: {'n_estimators': 89, 'max_features': 'sqrt', 'max_depth': 18, 'bootstrap': False, 'criterion': 'entropy'}. Best is trial 59 with value: 0.9696042924211937.\n",
      "[I 2023-10-14 00:10:51,634] Trial 61 finished with value: 0.9546076458752515 and parameters: {'n_estimators': 76, 'max_features': 'sqrt', 'max_depth': 23, 'bootstrap': False, 'criterion': 'entropy'}. Best is trial 59 with value: 0.9696042924211937.\n",
      "[I 2023-10-14 00:10:52,155] Trial 62 finished with value: 0.9604828973843059 and parameters: {'n_estimators': 72, 'max_features': 'sqrt', 'max_depth': 25, 'bootstrap': False, 'criterion': 'entropy'}. Best is trial 59 with value: 0.9696042924211937.\n",
      "[I 2023-10-14 00:10:52,887] Trial 63 finished with value: 0.9626477706820633 and parameters: {'n_estimators': 104, 'max_features': 'sqrt', 'max_depth': 21, 'bootstrap': False, 'criterion': 'entropy'}. Best is trial 59 with value: 0.9696042924211937.\n",
      "[I 2023-10-14 00:10:53,350] Trial 64 finished with value: 0.9573440643863179 and parameters: {'n_estimators': 63, 'max_features': 'sqrt', 'max_depth': 24, 'bootstrap': False, 'criterion': 'entropy'}. Best is trial 59 with value: 0.9696042924211937.\n",
      "[I 2023-10-14 00:10:53,938] Trial 65 finished with value: 0.9639827553912059 and parameters: {'n_estimators': 95, 'max_features': 'sqrt', 'max_depth': 19, 'bootstrap': True, 'criterion': 'entropy'}. Best is trial 59 with value: 0.9696042924211937.\n"
     ]
    },
    {
     "name": "stderr",
     "output_type": "stream",
     "text": [
      "[I 2023-10-14 00:10:54,544] Trial 66 finished with value: 0.9639849910272446 and parameters: {'n_estimators': 82, 'max_features': 'sqrt', 'max_depth': 22, 'bootstrap': False, 'criterion': 'entropy'}. Best is trial 59 with value: 0.9696042924211937.\n",
      "[I 2023-10-14 00:10:54,878] Trial 67 finished with value: 0.9566717954787549 and parameters: {'n_estimators': 50, 'max_features': 'sqrt', 'max_depth': 27, 'bootstrap': False, 'criterion': 'gini'}. Best is trial 59 with value: 0.9696042924211937.\n",
      "[I 2023-10-14 00:10:55,292] Trial 68 finished with value: 0.9668678739101274 and parameters: {'n_estimators': 56, 'max_features': 'sqrt', 'max_depth': 17, 'bootstrap': False, 'criterion': 'entropy'}. Best is trial 59 with value: 0.9696042924211937.\n",
      "[I 2023-10-14 00:10:55,705] Trial 69 finished with value: 0.959911352170997 and parameters: {'n_estimators': 57, 'max_features': 'sqrt', 'max_depth': 17, 'bootstrap': False, 'criterion': 'entropy'}. Best is trial 59 with value: 0.9696042924211937.\n",
      "[I 2023-10-14 00:10:56,229] Trial 70 finished with value: 0.9607154035323049 and parameters: {'n_estimators': 71, 'max_features': 'sqrt', 'max_depth': 16, 'bootstrap': False, 'criterion': 'entropy'}. Best is trial 59 with value: 0.9696042924211937.\n",
      "[I 2023-10-14 00:10:56,641] Trial 71 finished with value: 0.964131455399061 and parameters: {'n_estimators': 54, 'max_features': 'sqrt', 'max_depth': 20, 'bootstrap': False, 'criterion': 'entropy'}. Best is trial 59 with value: 0.9696042924211937.\n",
      "[I 2023-10-14 00:10:57,277] Trial 72 finished with value: 0.9667069081153586 and parameters: {'n_estimators': 88, 'max_features': 'sqrt', 'max_depth': 17, 'bootstrap': False, 'criterion': 'entropy'}. Best is trial 59 with value: 0.9696042924211937.\n",
      "[I 2023-10-14 00:10:57,757] Trial 73 finished with value: 0.9610231250516799 and parameters: {'n_estimators': 66, 'max_features': 'sqrt', 'max_depth': 21, 'bootstrap': False, 'criterion': 'entropy'}. Best is trial 59 with value: 0.9696042924211937.\n",
      "[I 2023-10-14 00:10:58,566] Trial 74 finished with value: 0.9639849910272446 and parameters: {'n_estimators': 113, 'max_features': 'sqrt', 'max_depth': 18, 'bootstrap': False, 'criterion': 'entropy'}. Best is trial 59 with value: 0.9696042924211937.\n",
      "[I 2023-10-14 00:10:59,115] Trial 75 finished with value: 0.9608621592569113 and parameters: {'n_estimators': 77, 'max_features': 'sqrt', 'max_depth': 16, 'bootstrap': False, 'criterion': 'entropy'}. Best is trial 59 with value: 0.9696042924211937.\n",
      "[I 2023-10-14 00:11:00,201] Trial 76 finished with value: 0.9610231250516799 and parameters: {'n_estimators': 156, 'max_features': 'sqrt', 'max_depth': 19, 'bootstrap': False, 'criterion': 'entropy'}. Best is trial 59 with value: 0.9696042924211937.\n",
      "[I 2023-10-14 00:11:00,475] Trial 77 finished with value: 0.9564268475301938 and parameters: {'n_estimators': 41, 'max_features': 'sqrt', 'max_depth': 21, 'bootstrap': True, 'criterion': 'entropy'}. Best is trial 59 with value: 0.9696042924211937.\n",
      "[I 2023-10-14 00:11:01,429] Trial 78 finished with value: 0.9610231250516799 and parameters: {'n_estimators': 137, 'max_features': 'sqrt', 'max_depth': 22, 'bootstrap': False, 'criterion': 'entropy'}. Best is trial 59 with value: 0.9696042924211937.\n",
      "[I 2023-10-14 00:11:01,685] Trial 79 finished with value: 0.9610231250516799 and parameters: {'n_estimators': 33, 'max_features': 'sqrt', 'max_depth': 15, 'bootstrap': False, 'criterion': 'entropy'}. Best is trial 59 with value: 0.9696042924211937.\n",
      "[I 2023-10-14 00:11:01,848] Trial 80 finished with value: 0.9615345405767941 and parameters: {'n_estimators': 19, 'max_features': 'sqrt', 'max_depth': 17, 'bootstrap': False, 'criterion': 'entropy'}. Best is trial 59 with value: 0.9696042924211937.\n",
      "[I 2023-10-14 00:11:02,520] Trial 81 finished with value: 0.9696042924211937 and parameters: {'n_estimators': 95, 'max_features': 'sqrt', 'max_depth': 18, 'bootstrap': False, 'criterion': 'entropy'}. Best is trial 59 with value: 0.9696042924211937.\n",
      "[I 2023-10-14 00:11:03,170] Trial 82 finished with value: 0.9668678739101274 and parameters: {'n_estimators': 92, 'max_features': 'sqrt', 'max_depth': 20, 'bootstrap': False, 'criterion': 'entropy'}. Best is trial 59 with value: 0.9696042924211937.\n",
      "[I 2023-10-14 00:11:03,817] Trial 83 finished with value: 0.959911352170997 and parameters: {'n_estimators': 91, 'max_features': 'sqrt', 'max_depth': 19, 'bootstrap': False, 'criterion': 'entropy'}. Best is trial 59 with value: 0.9696042924211937.\n",
      "[I 2023-10-14 00:11:04,559] Trial 84 finished with value: 0.9570139678651619 and parameters: {'n_estimators': 104, 'max_features': 'sqrt', 'max_depth': 18, 'bootstrap': False, 'criterion': 'entropy'}. Best is trial 59 with value: 0.9696042924211937.\n",
      "[I 2023-10-14 00:11:05,160] Trial 85 finished with value: 0.9570139678651619 and parameters: {'n_estimators': 99, 'max_features': 'log2', 'max_depth': 14, 'bootstrap': False, 'criterion': 'entropy'}. Best is trial 59 with value: 0.9696042924211937.\n",
      "[I 2023-10-14 00:11:05,764] Trial 86 finished with value: 0.9570139678651619 and parameters: {'n_estimators': 96, 'max_features': 'sqrt', 'max_depth': 16, 'bootstrap': False, 'criterion': 'gini'}. Best is trial 59 with value: 0.9696042924211937.\n",
      "[I 2023-10-14 00:11:06,288] Trial 87 finished with value: 0.9571830985915492 and parameters: {'n_estimators': 85, 'max_features': 'log2', 'max_depth': 20, 'bootstrap': False, 'criterion': 'entropy'}. Best is trial 59 with value: 0.9696042924211937.\n",
      "[I 2023-10-14 00:11:06,967] Trial 88 finished with value: 0.9639849910272446 and parameters: {'n_estimators': 112, 'max_features': 'log2', 'max_depth': 14, 'bootstrap': False, 'criterion': 'entropy'}. Best is trial 59 with value: 0.9696042924211937.\n",
      "[I 2023-10-14 00:11:07,329] Trial 89 finished with value: 0.9667214095383109 and parameters: {'n_estimators': 48, 'max_features': 'sqrt', 'max_depth': 17, 'bootstrap': False, 'criterion': 'entropy'}. Best is trial 59 with value: 0.9696042924211937.\n",
      "[I 2023-10-14 00:11:07,719] Trial 90 finished with value: 0.9568518356515906 and parameters: {'n_estimators': 69, 'max_features': 'log2', 'max_depth': 34, 'bootstrap': True, 'criterion': 'entropy'}. Best is trial 59 with value: 0.9696042924211937.\n",
      "[I 2023-10-14 00:11:08,269] Trial 91 finished with value: 0.9667214095383109 and parameters: {'n_estimators': 77, 'max_features': 'sqrt', 'max_depth': 25, 'bootstrap': False, 'criterion': 'entropy'}. Best is trial 59 with value: 0.9696042924211937.\n",
      "[I 2023-10-14 00:11:08,701] Trial 92 finished with value: 0.9644117335592503 and parameters: {'n_estimators': 59, 'max_features': 'sqrt', 'max_depth': 20, 'bootstrap': False, 'criterion': 'entropy'}. Best is trial 59 with value: 0.9696042924211937.\n",
      "[I 2023-10-14 00:11:09,167] Trial 93 finished with value: 0.9594082139898212 and parameters: {'n_estimators': 64, 'max_features': 'sqrt', 'max_depth': 18, 'bootstrap': False, 'criterion': 'entropy'}. Best is trial 59 with value: 0.9696042924211937.\n",
      "[I 2023-10-14 00:11:09,562] Trial 94 finished with value: 0.9637595435627462 and parameters: {'n_estimators': 53, 'max_features': 'sqrt', 'max_depth': 23, 'bootstrap': False, 'criterion': 'entropy'}. Best is trial 59 with value: 0.9696042924211937.\n",
      "[I 2023-10-14 00:11:09,847] Trial 95 finished with value: 0.9639849910272446 and parameters: {'n_estimators': 37, 'max_features': 'sqrt', 'max_depth': 22, 'bootstrap': False, 'criterion': 'entropy'}. Best is trial 59 with value: 0.9696042924211937.\n",
      "[I 2023-10-14 00:11:10,347] Trial 96 finished with value: 0.9696042924211937 and parameters: {'n_estimators': 80, 'max_features': 'log2', 'max_depth': 19, 'bootstrap': False, 'criterion': 'entropy'}. Best is trial 59 with value: 0.9696042924211937.\n",
      "[I 2023-10-14 00:11:10,933] Trial 97 finished with value: 0.9637595435627462 and parameters: {'n_estimators': 93, 'max_features': 'log2', 'max_depth': 19, 'bootstrap': False, 'criterion': 'entropy'}. Best is trial 59 with value: 0.9696042924211937.\n",
      "[I 2023-10-14 00:11:11,575] Trial 98 finished with value: 0.9570139678651619 and parameters: {'n_estimators': 120, 'max_features': 'log2', 'max_depth': 17, 'bootstrap': False, 'criterion': 'gini'}. Best is trial 59 with value: 0.9696042924211937.\n"
     ]
    },
    {
     "name": "stderr",
     "output_type": "stream",
     "text": [
      "[I 2023-10-14 00:11:12,098] Trial 99 finished with value: 0.9637595435627462 and parameters: {'n_estimators': 85, 'max_features': 'log2', 'max_depth': 48, 'bootstrap': False, 'criterion': 'entropy'}. Best is trial 59 with value: 0.9696042924211937.\n"
     ]
    }
   ],
   "source": [
    "# Define the objective function for Optuna\n",
    "def objective(trial):\n",
    "    n_estimators = trial.suggest_int('n_estimators', 10, 200)\n",
    "    max_features = trial.suggest_categorical('max_features', ['sqrt', 'log2'])\n",
    "    max_depth = trial.suggest_int('max_depth', 10, 50, log=True)\n",
    "    bootstrap = trial.suggest_categorical('bootstrap', [True, False])\n",
    "    criterion = trial.suggest_categorical('criterion', ['gini', 'entropy'])\n",
    "\n",
    "    clf = ensemble.RandomForestClassifier(\n",
    "        n_estimators=n_estimators,\n",
    "        max_features=max_features,\n",
    "        max_depth=max_depth,\n",
    "        bootstrap=bootstrap,\n",
    "        criterion=criterion\n",
    "    )\n",
    "    return model_selection.cross_val_score(clf, X_train,y_train.values.ravel(), cv=5,scoring=custom_scorer).mean()\n",
    "\n",
    "# Create a study object and specify the direction is 'maximize'.\n",
    "study = optuna.create_study(direction='maximize')\n",
    "study.optimize(objective, n_trials=100)"
   ]
  },
  {
   "cell_type": "code",
   "execution_count": 69,
   "id": "9dad28b5",
   "metadata": {},
   "outputs": [
    {
     "name": "stdout",
     "output_type": "stream",
     "text": [
      "Best Parameter:  {'n_estimators': 75, 'max_features': 'sqrt', 'max_depth': 24, 'bootstrap': False, 'criterion': 'entropy'}\n",
      "Best Score:  0.9696042924211937\n"
     ]
    }
   ],
   "source": [
    "best_params = study.best_params\n",
    "print('Best Parameter: ',best_params)\n",
    "best_score = study.best_value\n",
    "print('Best Score: ',best_score)"
   ]
  },
  {
   "cell_type": "code",
   "execution_count": 70,
   "id": "a85ce66f",
   "metadata": {},
   "outputs": [
    {
     "name": "stdout",
     "output_type": "stream",
     "text": [
      "Overall Accuracy on Test Data 0.96\n",
      "Precision on Test Data 0.9866666666666667\n",
      "Recall score on Test Data 0.9367088607594937\n",
      "F1-Score on Test Data 0.961038961038961\n"
     ]
    }
   ],
   "source": [
    "rf_clf = ensemble.RandomForestClassifier(**{'n_estimators': 177, 'max_features': 'sqrt', \n",
    "                                            'max_depth': 23, 'bootstrap': False, \n",
    "                                            'criterion': 'entropy'},random_state=2023)\n",
    "\n",
    "rf_clf.fit(X_train,y_train.values.ravel())\n",
    "y_pred = rf_clf.predict(X_test)\n",
    "\n",
    "print('Overall Accuracy on Test Data',metrics.accuracy_score(y_pred,y_test.values.ravel()))\n",
    "print('Precision on Test Data',metrics.precision_score(y_pred,y_test.values.ravel()))\n",
    "print('Recall score on Test Data',metrics.recall_score(y_pred,y_test.values.ravel()))\n",
    "print('F1-Score on Test Data',metrics.f1_score(y_pred,y_test.values.ravel()))"
   ]
  },
  {
   "cell_type": "code",
   "execution_count": 71,
   "id": "2b9e29ea",
   "metadata": {},
   "outputs": [
    {
     "data": {
      "image/png": "[encoded data removed]",
      "text/plain": [
       "<Figure size 640x480 with 2 Axes>"
      ]
     },
     "metadata": {},
     "output_type": "display_data"
    }
   ],
   "source": [
    "cm = metrics.confusion_matrix(y_test.values.ravel(), y_pred, labels=rf_clf.classes_)\n",
    "cmplot = metrics.ConfusionMatrixDisplay(confusion_matrix=cm,display_labels=['Negative', 'Positive'])\n",
    "cmplot.plot()\n",
    "cmplot.ax_.set(title='Confusion Matrix',xlabel='Predicted Value', ylabel='Actual Value')\n",
    "plt.show()"
   ]
  }
 ],
 "metadata": {
  "kernelspec": {
   "display_name": "Python 3 (ipykernel)",
   "language": "python",
   "name": "python3"
  },
  "language_info": {
   "codemirror_mode": {
    "name": "ipython",
    "version": 3
   },
   "file_extension": ".py",
   "mimetype": "text/x-python",
   "name": "python",
   "nbconvert_exporter": "python",
   "pygments_lexer": "ipython3",
   "version": "3.9.13"
  }
 },
 "nbformat": 4,
 "nbformat_minor": 5
}
