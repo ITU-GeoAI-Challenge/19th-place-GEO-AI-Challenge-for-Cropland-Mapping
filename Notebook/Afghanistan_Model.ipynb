{
  "cells": [
    {
      "cell_type": "code",
      "execution_count": null,
      "metadata": {
        "id": "8yUpBlCyc_7m"
      },
      "outputs": [],
      "source": [
        "# Install Required Library\n",
        "\n",
        "!pip install numpy==1.23.5\n",
        "!pip install pandas==1.5.3\n",
        "!pip install matplotlib==3.7.1\n",
        "!pip install earthengine-api==0.1.374\n",
        "!pip install scikit-learn==1.2.2\n",
        "!pip install shapely==2.0.1\n",
        "!pip install geopandas==0.13.2\n",
        "!pip install geemap==0.28.2\n",
        "!pip install seaborn==0.12.2\n",
        "!pip install xgboost==2.0.0\n",
        "!pip install tqdm==4.66.1\n",
        "!pip install torch==2.0.1+cu118"
      ]
    },
    {
      "cell_type": "code",
      "execution_count": 1,
      "metadata": {
        "id": "ZkTXkvZRCcH8"
      },
      "outputs": [],
      "source": [
        "# Basic Python Library\n",
        "import numpy as np\n",
        "import pandas as pd\n",
        "import seaborn as sns\n",
        "import matplotlib.pyplot as plt\n",
        "from datetime import datetime, timedelta\n",
        "\n",
        "# Geospatial Library\n",
        "import ee\n",
        "import geemap\n",
        "from shapely.geometry import Point\n",
        "import geopandas as gpd\n",
        "\n",
        "# Machine Learning Library\n",
        "from sklearn import feature_selection\n",
        "from sklearn import model_selection\n",
        "from sklearn import decomposition\n",
        "from sklearn import tree\n",
        "from sklearn import ensemble\n",
        "from sklearn.pipeline import make_pipeline\n",
        "from sklearn import metrics\n",
        "from xgboost import XGBClassifier\n",
        "from sklearn import svm\n",
        "import joblib\n",
        "\n",
        "# Pytorch Deep Learning Library\n",
        "import torch\n",
        "from torch import nn,optim\n",
        "import torch.nn.functional as F\n",
        "from torch.utils.data import Dataset,DataLoader\n",
        "from torch.autograd import Variable\n",
        "\n",
        "### Additional Library\n",
        "from tqdm.notebook import tqdm\n",
        "import warnings\n",
        "warnings.filterwarnings('ignore')"
      ]
    },
    {
      "cell_type": "markdown",
      "metadata": {
        "id": "T63SmXWJDfh4"
      },
      "source": [
        "<b> Use GEE Credential to login and download Satellite Data </b>"
      ]
    },
    {
      "cell_type": "code",
      "execution_count": 4,
      "metadata": {
        "colab": {
          "base_uri": "https://localhost:8080/",
          "height": 176
        },
        "id": "EDd4V5bTDKW4",
        "outputId": "7a83d37f-e852-44bc-ce3c-2072ae8391af"
      },
      "outputs": [
        {
          "data": {
            "text/html": [
              "\n",
              "            <style>\n",
              "                .geemap-dark {\n",
              "                    --jp-widgets-color: white;\n",
              "                    --jp-widgets-label-color: white;\n",
              "                    --jp-ui-font-color1: white;\n",
              "                    --jp-layout-color2: #454545;\n",
              "                    background-color: #383838;\n",
              "                }\n",
              "                    \n",
              "                .geemap-dark .jupyter-button {\n",
              "                    --jp-layout-color3: #383838;\n",
              "                }\n",
              "                \n",
              "                .geemap-colab {\n",
              "                    background-color: var(--colab-primary-surface-color, white);\n",
              "                }\n",
              "                    \n",
              "                .geemap-colab .jupyter-button {\n",
              "                    --jp-layout-color3: var(--colab-primary-surface-color, white);\n",
              "                }\n",
              "            </style>\n",
              "            "
            ],
            "text/plain": [
              "<IPython.core.display.HTML object>"
            ]
          },
          "metadata": {},
          "output_type": "display_data"
        },
        {
          "name": "stdout",
          "output_type": "stream",
          "text": [
            "To authorize access needed by Earth Engine, open the following URL in a web browser and follow the instructions. If the web browser does not start automatically, please manually browse the URL below.\n",
            "\n",
            "    https://code.earthengine.google.com/client-auth?scopes=https%3A//www.googleapis.com/auth/earthengine%20https%3A//www.googleapis.com/auth/devstorage.full_control&request_id=W0enaKx9xq5hiZZ6LIxu-QHNLlyeOqot-Sih65WV81E&tc=gMzZRPkX1eSm7tlI9FSBeA827AJYEfpSFi49Xaz76ho&cc=DPEB1Ip2sZI5dEpcYps8MZRDVlhrsI5SfkroXvDU2Ao\n",
            "\n",
            "The authorization workflow will generate a code, which you should paste in the box below.\n",
            "Enter verification code: 4/1AfJohXmydC5yJTUb7XlVhkCfNJ1G9XFixPMP_apeZR81pBJxDaGZXHgQ3Po\n",
            "\n",
            "Successfully saved authorization token.\n"
          ]
        }
      ],
      "source": [
        "ee.Authenticate()"
      ]
    },
    {
      "cell_type": "code",
      "execution_count": 5,
      "metadata": {
        "colab": {
          "base_uri": "https://localhost:8080/",
          "height": 17
        },
        "id": "66bSsm5MDPjs",
        "outputId": "5d9a6dab-dabc-4a6b-9ec8-4029da03af46"
      },
      "outputs": [
        {
          "data": {
            "text/html": [
              "\n",
              "            <style>\n",
              "                .geemap-dark {\n",
              "                    --jp-widgets-color: white;\n",
              "                    --jp-widgets-label-color: white;\n",
              "                    --jp-ui-font-color1: white;\n",
              "                    --jp-layout-color2: #454545;\n",
              "                    background-color: #383838;\n",
              "                }\n",
              "                    \n",
              "                .geemap-dark .jupyter-button {\n",
              "                    --jp-layout-color3: #383838;\n",
              "                }\n",
              "                \n",
              "                .geemap-colab {\n",
              "                    background-color: var(--colab-primary-surface-color, white);\n",
              "                }\n",
              "                    \n",
              "                .geemap-colab .jupyter-button {\n",
              "                    --jp-layout-color3: var(--colab-primary-surface-color, white);\n",
              "                }\n",
              "            </style>\n",
              "            "
            ],
            "text/plain": [
              "<IPython.core.display.HTML object>"
            ]
          },
          "metadata": {},
          "output_type": "display_data"
        }
      ],
      "source": [
        "ee.Initialize()"
      ]
    },
    {
      "cell_type": "code",
      "execution_count": 6,
      "metadata": {
        "colab": {
          "base_uri": "https://localhost:8080/",
          "height": 17
        },
        "id": "Jy5CV2LiEBDe",
        "outputId": "a929c18e-d770-4b01-b0d6-eca148d96880"
      },
      "outputs": [
        {
          "data": {
            "text/html": [
              "\n",
              "            <style>\n",
              "                .geemap-dark {\n",
              "                    --jp-widgets-color: white;\n",
              "                    --jp-widgets-label-color: white;\n",
              "                    --jp-ui-font-color1: white;\n",
              "                    --jp-layout-color2: #454545;\n",
              "                    background-color: #383838;\n",
              "                }\n",
              "                    \n",
              "                .geemap-dark .jupyter-button {\n",
              "                    --jp-layout-color3: #383838;\n",
              "                }\n",
              "                \n",
              "                .geemap-colab {\n",
              "                    background-color: var(--colab-primary-surface-color, white);\n",
              "                }\n",
              "                    \n",
              "                .geemap-colab .jupyter-button {\n",
              "                    --jp-layout-color3: var(--colab-primary-surface-color, white);\n",
              "                }\n",
              "            </style>\n",
              "            "
            ],
            "text/plain": [
              "<IPython.core.display.HTML object>"
            ]
          },
          "metadata": {},
          "output_type": "display_data"
        }
      ],
      "source": [
        "# Change the path according to the file store in their own system\n",
        "train_path = '/content/drive/MyDrive/Train.csv'\n",
        "test_path = '/content/drive/MyDrive/Test.csv'"
      ]
    },
    {
      "cell_type": "code",
      "execution_count": 7,
      "metadata": {
        "colab": {
          "base_uri": "https://localhost:8080/",
          "height": 17
        },
        "id": "qeZTUHatD6Jc",
        "outputId": "5b0eda5b-6090-4c2c-bc0c-780cc15eef58"
      },
      "outputs": [
        {
          "data": {
            "text/html": [
              "\n",
              "            <style>\n",
              "                .geemap-dark {\n",
              "                    --jp-widgets-color: white;\n",
              "                    --jp-widgets-label-color: white;\n",
              "                    --jp-ui-font-color1: white;\n",
              "                    --jp-layout-color2: #454545;\n",
              "                    background-color: #383838;\n",
              "                }\n",
              "                    \n",
              "                .geemap-dark .jupyter-button {\n",
              "                    --jp-layout-color3: #383838;\n",
              "                }\n",
              "                \n",
              "                .geemap-colab {\n",
              "                    background-color: var(--colab-primary-surface-color, white);\n",
              "                }\n",
              "                    \n",
              "                .geemap-colab .jupyter-button {\n",
              "                    --jp-layout-color3: var(--colab-primary-surface-color, white);\n",
              "                }\n",
              "            </style>\n",
              "            "
            ],
            "text/plain": [
              "<IPython.core.display.HTML object>"
            ]
          },
          "metadata": {},
          "output_type": "display_data"
        }
      ],
      "source": [
        "# Read CSV File using Pandas Library which convert into DataFrame\n",
        "train = pd.read_csv(train_path)\n",
        "test = pd.read_csv(test_path)"
      ]
    },
    {
      "cell_type": "code",
      "execution_count": 8,
      "metadata": {
        "colab": {
          "base_uri": "https://localhost:8080/",
          "height": 17
        },
        "id": "TNxcT4SncUvU",
        "outputId": "c1b822e1-0060-4d3e-e5b4-5afecf66b3cd"
      },
      "outputs": [
        {
          "data": {
            "text/html": [
              "\n",
              "            <style>\n",
              "                .geemap-dark {\n",
              "                    --jp-widgets-color: white;\n",
              "                    --jp-widgets-label-color: white;\n",
              "                    --jp-ui-font-color1: white;\n",
              "                    --jp-layout-color2: #454545;\n",
              "                    background-color: #383838;\n",
              "                }\n",
              "                    \n",
              "                .geemap-dark .jupyter-button {\n",
              "                    --jp-layout-color3: #383838;\n",
              "                }\n",
              "                \n",
              "                .geemap-colab {\n",
              "                    background-color: var(--colab-primary-surface-color, white);\n",
              "                }\n",
              "                    \n",
              "                .geemap-colab .jupyter-button {\n",
              "                    --jp-layout-color3: var(--colab-primary-surface-color, white);\n",
              "                }\n",
              "            </style>\n",
              "            "
            ],
            "text/plain": [
              "<IPython.core.display.HTML object>"
            ]
          },
          "metadata": {},
          "output_type": "display_data"
        }
      ],
      "source": [
        "# Function to create a different Vegetation as well as Mositure/water Indices from Sentinel-2 Satellite Dataset.\n",
        "\n",
        "def addIndices(image):\n",
        "\n",
        "    # Normalized Difference Vegetation Index\n",
        "    ndvi = image.normalizedDifference(['B8', 'B4']).rename('NDVI')\n",
        "\n",
        "    # Normalized Difference Red-Edged Index\n",
        "    ndre = image.normalizedDifference(['B8', 'B5']).rename('NDRE')\n",
        "\n",
        "    # Soil Adjusted Vegetation Index\n",
        "    savi = ee.Image().expression('((NIR-RED)/(NIR+RED+0.5))*1.5',\\\n",
        "                                {'NIR':image.select('B8').divide(10000),\n",
        "                                 'RED':image.select('B4').divide(10000)}).rename('SAVI')\n",
        "\n",
        "    #Atmospherically Resistant Vegetation Index\n",
        "    arvi = ee.Image().expression('((NIR-2*RED + BLUE)/(NIR+2*RED+BLUE))',\\\n",
        "                                {'NIR':image.select('B8').divide(10000),\n",
        "                                 'RED':image.select('B4').divide(10000),\n",
        "                                 'BLUE':image.select('B2').divide(10000)}).rename('ARVI')\n",
        "\n",
        "    # Normalized Difference Mositure Index\n",
        "    ndmi = ee.Image().expression('((NIR-SWIR)/(NIR+SWIR))',\\\n",
        "                                 {'NIR':image.select('B8'),\n",
        "                                  'SWIR':image.select('B11')}).rename('NDMI')\n",
        "\n",
        "    # Green Condition Index\n",
        "    gci = ee.Image().expression('(NIR/GREEN) - 1',\\\n",
        "                                {'NIR':image.select('B8').divide(10000),\n",
        "                                 'GREEN':image.select('B3').divide(10000)}).rename('GCI')\n",
        "\n",
        "    # Red Vegetation Index\n",
        "    rvi = ee.Image().expression('(NIR/RED)',\\\n",
        "                                {'NIR':image.select('B8').divide(10000),\n",
        "                                 'RED':image.select('B4').divide(10000)}).rename('RVI')\n",
        "\n",
        "    #Optimized Soil Adjusted Vegetation Index\n",
        "    osavi = ee.Image().expression('((NIR-RED)/(NIR+RED+0.16))*1.16',\\\n",
        "                                {'NIR':image.select('B8').divide(10000),\n",
        "                                 'RED':image.select('B4').divide(10000)}).rename('OSAVI')\n",
        "\n",
        "    # Specific Leaf Area Vegetation Index\n",
        "    slavi = ee.Image().expression('NIR/(RED+SWIR2)',\\\n",
        "                                {'NIR':image.select('B8').divide(10000),\n",
        "                                 'RED':image.select('B4').divide(10000),\n",
        "                                 'SWIR2':image.select('B12').divide(10000)}).rename('SLAVI')\n",
        "\n",
        "    # Normalized Pigment Chlorophyll Ration Index\n",
        "    npcri = ee.Image().expression('((RED-BLUE)/(BLUE+RED))',\\\n",
        "                                {'BLUE':image.select('B2'),\n",
        "                                 'RED':image.select('B4')}).rename('NPCRI')\n",
        "\n",
        "    #Soil Condition Index\n",
        "    sci = ee.Image().expression('((SWIR-NIR)/(SWIR+NIR))',\\\n",
        "                                {'NIR':image.select('B8'),\n",
        "                                 'SWIR':image.select('B11')}).rename('SCI')\n",
        "\n",
        "    # Normalized Difference Water Index\n",
        "    ndwi = ee.Image().expression('((GREEN-NIR)/(GREEN+NIR))',\\\n",
        "                                 {'NIR':image.select('B8').divide(10000),\n",
        "                                  'GREEN':image.select('B3').divide(10000)}).rename('NDWI')\n",
        "\n",
        "    # Green Normalized Difference Vegetaion Index\n",
        "    gndvi = ee.Image().expression('((NIR-GREEN)/(GREEN+NIR))',\\\n",
        "                                {'NIR':image.select('B8'),\n",
        "                                 'GREEN':image.select('B3')}).rename('GNDVI')\n",
        "\n",
        "    # Bare soil Index\n",
        "    bsi = ee.Image().expression('((SWIR+RED)-(NIR+BLUE))/((SWIR+RED)+(NIR+BLUE))',\\\n",
        "                                {'NIR':image.select('B8').divide(10000),\n",
        "                                 'RED':image.select('B4').divide(10000),\n",
        "                                 'BLUE':image.select('B2').divide(10000),\n",
        "                                 'SWIR':image.select('B11').divide(10000)}).rename('BSI')\n",
        "\n",
        "    # Enhanced Vegetation Index\n",
        "    evi = ee.Image().expression('((2.5*(NIR-RED))/(NIR+6*RED-7.5*BLUE+1))',\\\n",
        "                                {'NIR':image.select('B8').divide(10000),\n",
        "                                 'RED':image.select('B4').divide(10000),\n",
        "                                 'BLUE':image.select('B2').divide(10000)}).rename('EVI')\n",
        "\n",
        "\n",
        "    return image.addBands(ndvi).addBands(ndre).addBands(savi).addBands(arvi).addBands(ndwi).addBands(gci).addBands(rvi).addBands(osavi).addBands(slavi).addBands(npcri).addBands(sci).addBands(ndmi).addBands(gndvi).addBands(bsi).addBands(evi)"
      ]
    },
    {
      "cell_type": "markdown",
      "metadata": {
        "id": "CQ2R2q3jhiLN"
      },
      "source": [
        "*The training and test CSV files contain latitude and longitude coordinates, along with labels, except in the test file. These will be converted into a point shapefile, which will be utilized in the Google Earth Engine (GEE) as a labeled training dataset.*"
      ]
    },
    {
      "cell_type": "code",
      "execution_count": 9,
      "metadata": {
        "colab": {
          "base_uri": "https://localhost:8080/",
          "height": 206
        },
        "id": "wUJlYiHNhdPI",
        "outputId": "d09ba774-7e4e-415c-fd90-4faaf8b01e41"
      },
      "outputs": [
        {
          "data": {
            "text/html": [
              "\n",
              "            <style>\n",
              "                .geemap-dark {\n",
              "                    --jp-widgets-color: white;\n",
              "                    --jp-widgets-label-color: white;\n",
              "                    --jp-ui-font-color1: white;\n",
              "                    --jp-layout-color2: #454545;\n",
              "                    background-color: #383838;\n",
              "                }\n",
              "                    \n",
              "                .geemap-dark .jupyter-button {\n",
              "                    --jp-layout-color3: #383838;\n",
              "                }\n",
              "                \n",
              "                .geemap-colab {\n",
              "                    background-color: var(--colab-primary-surface-color, white);\n",
              "                }\n",
              "                    \n",
              "                .geemap-colab .jupyter-button {\n",
              "                    --jp-layout-color3: var(--colab-primary-surface-color, white);\n",
              "                }\n",
              "            </style>\n",
              "            "
            ],
            "text/plain": [
              "<IPython.core.display.HTML object>"
            ]
          },
          "metadata": {},
          "output_type": "display_data"
        },
        {
          "data": {
            "text/html": [
              "\n",
              "  <div id=\"df-d4ce7fcc-7b56-4690-aa39-bffb69b69b15\" class=\"colab-df-container\">\n",
              "    <div>\n",
              "<style scoped>\n",
              "    .dataframe tbody tr th:only-of-type {\n",
              "        vertical-align: middle;\n",
              "    }\n",
              "\n",
              "    .dataframe tbody tr th {\n",
              "        vertical-align: top;\n",
              "    }\n",
              "\n",
              "    .dataframe thead th {\n",
              "        text-align: right;\n",
              "    }\n",
              "</style>\n",
              "<table border=\"1\" class=\"dataframe\">\n",
              "  <thead>\n",
              "    <tr style=\"text-align: right;\">\n",
              "      <th></th>\n",
              "      <th>ID</th>\n",
              "      <th>Target</th>\n",
              "      <th>geometry</th>\n",
              "    </tr>\n",
              "  </thead>\n",
              "  <tbody>\n",
              "    <tr>\n",
              "      <th>0</th>\n",
              "      <td>ID_SJ098E7S2SY9</td>\n",
              "      <td>0</td>\n",
              "      <td>POINT (70.76367 34.16249)</td>\n",
              "    </tr>\n",
              "    <tr>\n",
              "      <th>1</th>\n",
              "      <td>ID_CWCD60FGJJYY</td>\n",
              "      <td>0</td>\n",
              "      <td>POINT (48.49205 32.07570)</td>\n",
              "    </tr>\n",
              "    <tr>\n",
              "      <th>2</th>\n",
              "      <td>ID_R1XF70RMVGL3</td>\n",
              "      <td>1</td>\n",
              "      <td>POINT (33.31348 14.54283)</td>\n",
              "    </tr>\n",
              "    <tr>\n",
              "      <th>3</th>\n",
              "      <td>ID_0ZBIDY0PEBVO</td>\n",
              "      <td>1</td>\n",
              "      <td>POINT (33.28411 14.35948)</td>\n",
              "    </tr>\n",
              "    <tr>\n",
              "      <th>4</th>\n",
              "      <td>ID_C20R2C0AYIT0</td>\n",
              "      <td>0</td>\n",
              "      <td>POINT (33.52845 14.41913)</td>\n",
              "    </tr>\n",
              "  </tbody>\n",
              "</table>\n",
              "</div>\n",
              "    <div class=\"colab-df-buttons\">\n",
              "\n",
              "  <div class=\"colab-df-container\">\n",
              "    <button class=\"colab-df-convert\" onclick=\"convertToInteractive('df-d4ce7fcc-7b56-4690-aa39-bffb69b69b15')\"\n",
              "            title=\"Convert this dataframe to an interactive table.\"\n",
              "            style=\"display:none;\">\n",
              "\n",
              "  <svg xmlns=\"http://www.w3.org/2000/svg\" height=\"24px\" viewBox=\"0 -960 960 960\">\n",
              "    <path d=\"M120-120v-720h720v720H120Zm60-500h600v-160H180v160Zm220 220h160v-160H400v160Zm0 220h160v-160H400v160ZM180-400h160v-160H180v160Zm440 0h160v-160H620v160ZM180-180h160v-160H180v160Zm440 0h160v-160H620v160Z\"/>\n",
              "  </svg>\n",
              "    </button>\n",
              "\n",
              "  <style>\n",
              "    .colab-df-container {\n",
              "      display:flex;\n",
              "      gap: 12px;\n",
              "    }\n",
              "\n",
              "    .colab-df-convert {\n",
              "      background-color: #E8F0FE;\n",
              "      border: none;\n",
              "      border-radius: 50%;\n",
              "      cursor: pointer;\n",
              "      display: none;\n",
              "      fill: #1967D2;\n",
              "      height: 32px;\n",
              "      padding: 0 0 0 0;\n",
              "      width: 32px;\n",
              "    }\n",
              "\n",
              "    .colab-df-convert:hover {\n",
              "      background-color: #E2EBFA;\n",
              "      box-shadow: 0px 1px 2px rgba(60, 64, 67, 0.3), 0px 1px 3px 1px rgba(60, 64, 67, 0.15);\n",
              "      fill: #174EA6;\n",
              "    }\n",
              "\n",
              "    .colab-df-buttons div {\n",
              "      margin-bottom: 4px;\n",
              "    }\n",
              "\n",
              "    [theme=dark] .colab-df-convert {\n",
              "      background-color: #3B4455;\n",
              "      fill: #D2E3FC;\n",
              "    }\n",
              "\n",
              "    [theme=dark] .colab-df-convert:hover {\n",
              "      background-color: #434B5C;\n",
              "      box-shadow: 0px 1px 3px 1px rgba(0, 0, 0, 0.15);\n",
              "      filter: drop-shadow(0px 1px 2px rgba(0, 0, 0, 0.3));\n",
              "      fill: #FFFFFF;\n",
              "    }\n",
              "  </style>\n",
              "\n",
              "    <script>\n",
              "      const buttonEl =\n",
              "        document.querySelector('#df-d4ce7fcc-7b56-4690-aa39-bffb69b69b15 button.colab-df-convert');\n",
              "      buttonEl.style.display =\n",
              "        google.colab.kernel.accessAllowed ? 'block' : 'none';\n",
              "\n",
              "      async function convertToInteractive(key) {\n",
              "        const element = document.querySelector('#df-d4ce7fcc-7b56-4690-aa39-bffb69b69b15');\n",
              "        const dataTable =\n",
              "          await google.colab.kernel.invokeFunction('convertToInteractive',\n",
              "                                                    [key], {});\n",
              "        if (!dataTable) return;\n",
              "\n",
              "        const docLinkHtml = 'Like what you see? Visit the ' +\n",
              "          '<a target=\"_blank\" href=https://colab.research.google.com/notebooks/data_table.ipynb>data table notebook</a>'\n",
              "          + ' to learn more about interactive tables.';\n",
              "        element.innerHTML = '';\n",
              "        dataTable['output_type'] = 'display_data';\n",
              "        await google.colab.output.renderOutput(dataTable, element);\n",
              "        const docLink = document.createElement('div');\n",
              "        docLink.innerHTML = docLinkHtml;\n",
              "        element.appendChild(docLink);\n",
              "      }\n",
              "    </script>\n",
              "  </div>\n",
              "\n",
              "\n",
              "<div id=\"df-9d5e166f-3d9b-42ef-824b-765e8229bf4f\">\n",
              "  <button class=\"colab-df-quickchart\" onclick=\"quickchart('df-9d5e166f-3d9b-42ef-824b-765e8229bf4f')\"\n",
              "            title=\"Suggest charts.\"\n",
              "            style=\"display:none;\">\n",
              "\n",
              "<svg xmlns=\"http://www.w3.org/2000/svg\" height=\"24px\"viewBox=\"0 0 24 24\"\n",
              "     width=\"24px\">\n",
              "    <g>\n",
              "        <path d=\"M19 3H5c-1.1 0-2 .9-2 2v14c0 1.1.9 2 2 2h14c1.1 0 2-.9 2-2V5c0-1.1-.9-2-2-2zM9 17H7v-7h2v7zm4 0h-2V7h2v10zm4 0h-2v-4h2v4z\"/>\n",
              "    </g>\n",
              "</svg>\n",
              "  </button>\n",
              "\n",
              "<style>\n",
              "  .colab-df-quickchart {\n",
              "      --bg-color: #E8F0FE;\n",
              "      --fill-color: #1967D2;\n",
              "      --hover-bg-color: #E2EBFA;\n",
              "      --hover-fill-color: #174EA6;\n",
              "      --disabled-fill-color: #AAA;\n",
              "      --disabled-bg-color: #DDD;\n",
              "  }\n",
              "\n",
              "  [theme=dark] .colab-df-quickchart {\n",
              "      --bg-color: #3B4455;\n",
              "      --fill-color: #D2E3FC;\n",
              "      --hover-bg-color: #434B5C;\n",
              "      --hover-fill-color: #FFFFFF;\n",
              "      --disabled-bg-color: #3B4455;\n",
              "      --disabled-fill-color: #666;\n",
              "  }\n",
              "\n",
              "  .colab-df-quickchart {\n",
              "    background-color: var(--bg-color);\n",
              "    border: none;\n",
              "    border-radius: 50%;\n",
              "    cursor: pointer;\n",
              "    display: none;\n",
              "    fill: var(--fill-color);\n",
              "    height: 32px;\n",
              "    padding: 0;\n",
              "    width: 32px;\n",
              "  }\n",
              "\n",
              "  .colab-df-quickchart:hover {\n",
              "    background-color: var(--hover-bg-color);\n",
              "    box-shadow: 0 1px 2px rgba(60, 64, 67, 0.3), 0 1px 3px 1px rgba(60, 64, 67, 0.15);\n",
              "    fill: var(--button-hover-fill-color);\n",
              "  }\n",
              "\n",
              "  .colab-df-quickchart-complete:disabled,\n",
              "  .colab-df-quickchart-complete:disabled:hover {\n",
              "    background-color: var(--disabled-bg-color);\n",
              "    fill: var(--disabled-fill-color);\n",
              "    box-shadow: none;\n",
              "  }\n",
              "\n",
              "  .colab-df-spinner {\n",
              "    border: 2px solid var(--fill-color);\n",
              "    border-color: transparent;\n",
              "    border-bottom-color: var(--fill-color);\n",
              "    animation:\n",
              "      spin 1s steps(1) infinite;\n",
              "  }\n",
              "\n",
              "  @keyframes spin {\n",
              "    0% {\n",
              "      border-color: transparent;\n",
              "      border-bottom-color: var(--fill-color);\n",
              "      border-left-color: var(--fill-color);\n",
              "    }\n",
              "    20% {\n",
              "      border-color: transparent;\n",
              "      border-left-color: var(--fill-color);\n",
              "      border-top-color: var(--fill-color);\n",
              "    }\n",
              "    30% {\n",
              "      border-color: transparent;\n",
              "      border-left-color: var(--fill-color);\n",
              "      border-top-color: var(--fill-color);\n",
              "      border-right-color: var(--fill-color);\n",
              "    }\n",
              "    40% {\n",
              "      border-color: transparent;\n",
              "      border-right-color: var(--fill-color);\n",
              "      border-top-color: var(--fill-color);\n",
              "    }\n",
              "    60% {\n",
              "      border-color: transparent;\n",
              "      border-right-color: var(--fill-color);\n",
              "    }\n",
              "    80% {\n",
              "      border-color: transparent;\n",
              "      border-right-color: var(--fill-color);\n",
              "      border-bottom-color: var(--fill-color);\n",
              "    }\n",
              "    90% {\n",
              "      border-color: transparent;\n",
              "      border-bottom-color: var(--fill-color);\n",
              "    }\n",
              "  }\n",
              "</style>\n",
              "\n",
              "  <script>\n",
              "    async function quickchart(key) {\n",
              "      const quickchartButtonEl =\n",
              "        document.querySelector('#' + key + ' button');\n",
              "      quickchartButtonEl.disabled = true;  // To prevent multiple clicks.\n",
              "      quickchartButtonEl.classList.add('colab-df-spinner');\n",
              "      try {\n",
              "        const charts = await google.colab.kernel.invokeFunction(\n",
              "            'suggestCharts', [key], {});\n",
              "      } catch (error) {\n",
              "        console.error('Error during call to suggestCharts:', error);\n",
              "      }\n",
              "      quickchartButtonEl.classList.remove('colab-df-spinner');\n",
              "      quickchartButtonEl.classList.add('colab-df-quickchart-complete');\n",
              "    }\n",
              "    (() => {\n",
              "      let quickchartButtonEl =\n",
              "        document.querySelector('#df-9d5e166f-3d9b-42ef-824b-765e8229bf4f button');\n",
              "      quickchartButtonEl.style.display =\n",
              "        google.colab.kernel.accessAllowed ? 'block' : 'none';\n",
              "    })();\n",
              "  </script>\n",
              "</div>\n",
              "    </div>\n",
              "  </div>\n"
            ],
            "text/plain": [
              "                ID  Target                   geometry\n",
              "0  ID_SJ098E7S2SY9       0  POINT (70.76367 34.16249)\n",
              "1  ID_CWCD60FGJJYY       0  POINT (48.49205 32.07570)\n",
              "2  ID_R1XF70RMVGL3       1  POINT (33.31348 14.54283)\n",
              "3  ID_0ZBIDY0PEBVO       1  POINT (33.28411 14.35948)\n",
              "4  ID_C20R2C0AYIT0       0  POINT (33.52845 14.41913)"
            ]
          },
          "execution_count": 9,
          "metadata": {},
          "output_type": "execute_result"
        }
      ],
      "source": [
        "def csv_to_geopandas(df):\n",
        "    points = []\n",
        "    for idx,row in df.iterrows():\n",
        "        point = Point([row['Lon'],row['Lat']])\n",
        "        points.append(point)\n",
        "\n",
        "    gdf = gpd.GeoDataFrame(df,geometry=points)\n",
        "    gdf = gdf.drop(columns=['Lat','Lon'])\n",
        "    gdf.set_crs(epsg=4326,inplace=True)  # WGS84 Coordinate System\n",
        "    return gdf\n",
        "\n",
        "trainGDF = csv_to_geopandas(train)\n",
        "testGDF = csv_to_geopandas(test)\n",
        "trainGDF.head()"
      ]
    },
    {
      "cell_type": "markdown",
      "metadata": {
        "id": "CMdiQjDUiUUg"
      },
      "source": [
        "0 : Non-Crop Label\n",
        "\n",
        "1 : Crop Label"
      ]
    },
    {
      "cell_type": "code",
      "execution_count": 10,
      "metadata": {
        "colab": {
          "base_uri": "https://localhost:8080/",
          "height": 17
        },
        "id": "T9xzYJIQiRlL",
        "outputId": "2d2a20b7-76ce-4366-855e-b2a8455c4781"
      },
      "outputs": [
        {
          "data": {
            "text/html": [
              "\n",
              "            <style>\n",
              "                .geemap-dark {\n",
              "                    --jp-widgets-color: white;\n",
              "                    --jp-widgets-label-color: white;\n",
              "                    --jp-ui-font-color1: white;\n",
              "                    --jp-layout-color2: #454545;\n",
              "                    background-color: #383838;\n",
              "                }\n",
              "                    \n",
              "                .geemap-dark .jupyter-button {\n",
              "                    --jp-layout-color3: #383838;\n",
              "                }\n",
              "                \n",
              "                .geemap-colab {\n",
              "                    background-color: var(--colab-primary-surface-color, white);\n",
              "                }\n",
              "                    \n",
              "                .geemap-colab .jupyter-button {\n",
              "                    --jp-layout-color3: var(--colab-primary-surface-color, white);\n",
              "                }\n",
              "            </style>\n",
              "            "
            ],
            "text/plain": [
              "<IPython.core.display.HTML object>"
            ]
          },
          "metadata": {},
          "output_type": "display_data"
        }
      ],
      "source": [
        "# Afghanistan Area of Interest (AOI)\n",
        "aoi = ee.FeatureCollection(\"FAO/GAUL_SIMPLIFIED_500m/2015/level2\")\\\n",
        "        .filter(ee.Filter.eq('ADM0_NAME','Afghanistan'))\\\n",
        "        .filter(ee.Filter.eq('ADM1_NAME','Nangarhar'));"
      ]
    },
    {
      "cell_type": "code",
      "execution_count": 11,
      "metadata": {
        "colab": {
          "base_uri": "https://localhost:8080/",
          "height": 17
        },
        "id": "8HdbXyPNi4sc",
        "outputId": "427ca305-2afd-442f-c957-d80f82ebcee3"
      },
      "outputs": [
        {
          "data": {
            "text/html": [
              "\n",
              "            <style>\n",
              "                .geemap-dark {\n",
              "                    --jp-widgets-color: white;\n",
              "                    --jp-widgets-label-color: white;\n",
              "                    --jp-ui-font-color1: white;\n",
              "                    --jp-layout-color2: #454545;\n",
              "                    background-color: #383838;\n",
              "                }\n",
              "                    \n",
              "                .geemap-dark .jupyter-button {\n",
              "                    --jp-layout-color3: #383838;\n",
              "                }\n",
              "                \n",
              "                .geemap-colab {\n",
              "                    background-color: var(--colab-primary-surface-color, white);\n",
              "                }\n",
              "                    \n",
              "                .geemap-colab .jupyter-button {\n",
              "                    --jp-layout-color3: var(--colab-primary-surface-color, white);\n",
              "                }\n",
              "            </style>\n",
              "            "
            ],
            "text/plain": [
              "<IPython.core.display.HTML object>"
            ]
          },
          "metadata": {},
          "output_type": "display_data"
        }
      ],
      "source": [
        "# GEE Provide Sentinel-2 Dataset along with Cloud Probability Dataset which can mask the pixel on the basis of Threshold Probability\n",
        "\n",
        "s2 = ee.ImageCollection('COPERNICUS/S2_SR_HARMONIZED')\n",
        "s2c = ee.ImageCollection('COPERNICUS/S2_CLOUD_PROBABILITY')\n",
        "\n",
        "# Define dates over which to create a composite.\n",
        "start = ee.Date('2022-03-01')\n",
        "end = ee.Date('2022-06-01')\n",
        "\n",
        "# Define a collection filtering function.\n",
        "def filterBoundsDate(imgCol, aoi, start, end):\n",
        "    return imgCol.filterBounds(aoi).filterDate(start, end)\n",
        "\n",
        "# Filter the collection by AOI and date.\n",
        "s2 = filterBoundsDate(s2, aoi, start, end)\n",
        "s2c = filterBoundsDate(s2c, aoi, start, end)\n",
        "\n",
        "# Define a function to join the two collections on their 'system:index'\n",
        "# property. The 'propName' parameter is the name of the property that\n",
        "# references the joined image.\n",
        "def indexJoin(colA, colB, propName):\n",
        "    joined = ee.ImageCollection(ee.Join.saveFirst(propName).apply(**{\n",
        "        'primary': colA,\n",
        "        'secondary': colB,\n",
        "        'condition': ee.Filter.equals(**{\n",
        "            'leftField': 'system:index',\n",
        "            'rightField': 'system:index'\n",
        "        })\n",
        "    }))\n",
        "\n",
        "    def func_mti(image):\n",
        "        return image.addBands(ee.Image(image.get(propName)))\n",
        "\n",
        "    return joined.map(func_mti)\n",
        "\n",
        "# Define a function to create a cloud masking function.\n",
        "def buildMaskFunction(img):\n",
        "    cloudProb = 50\n",
        "    # Define clouds as pixels having greater than the given cloud probability.\n",
        "    cloud = img.select('probability').gt(ee.Image(cloudProb))\n",
        "\n",
        "    # Apply the cloud mask to the image and return it.\n",
        "    return img.updateMask(cloud.Not())\n",
        "\n",
        "# Join the cloud probability collection to the TOA reflectance collection.\n",
        "withCloudProbability = indexJoin(s2, s2c, 'cloud_probability')\n",
        "\n",
        "# Map the cloud masking function over the joined collection, select only the\n",
        "# reflectance bands.\n",
        "\n",
        "s2collection = ee.ImageCollection(withCloudProbability.map(buildMaskFunction))"
      ]
    },
    {
      "cell_type": "code",
      "execution_count": 12,
      "metadata": {
        "colab": {
          "base_uri": "https://localhost:8080/",
          "height": 17
        },
        "id": "cdf1dUuvjrHg",
        "outputId": "308a4a9c-ac20-4568-f3e0-9f904b10b74e"
      },
      "outputs": [
        {
          "data": {
            "text/html": [
              "\n",
              "            <style>\n",
              "                .geemap-dark {\n",
              "                    --jp-widgets-color: white;\n",
              "                    --jp-widgets-label-color: white;\n",
              "                    --jp-ui-font-color1: white;\n",
              "                    --jp-layout-color2: #454545;\n",
              "                    background-color: #383838;\n",
              "                }\n",
              "                    \n",
              "                .geemap-dark .jupyter-button {\n",
              "                    --jp-layout-color3: #383838;\n",
              "                }\n",
              "                \n",
              "                .geemap-colab {\n",
              "                    background-color: var(--colab-primary-surface-color, white);\n",
              "                }\n",
              "                    \n",
              "                .geemap-colab .jupyter-button {\n",
              "                    --jp-layout-color3: var(--colab-primary-surface-color, white);\n",
              "                }\n",
              "            </style>\n",
              "            "
            ],
            "text/plain": [
              "<IPython.core.display.HTML object>"
            ]
          },
          "metadata": {},
          "output_type": "display_data"
        }
      ],
      "source": [
        "# Function to compute 15Day composites as Temporal Resolution of Sentinel-2 is 5-6 Day\n",
        "\n",
        "def create_15_day_composites(collection):\n",
        "    start_date = ee.Date('2022-03-01')\n",
        "    end_date = ee.Date('2022-06-01')\n",
        "\n",
        "    # Calculate the number of 15-day intervals between the start and end dates.\n",
        "    n_half_months = end_date.difference(start_date, 'day').divide(15).round()\n",
        "    half_month_range = ee.List.sequence(0, n_half_months.subtract(1))\n",
        "\n",
        "    def compute_composite(m):\n",
        "        m = ee.Number(m)\n",
        "        start = start_date.advance(m.multiply(15), 'day')\n",
        "        end = start.advance(15, 'day')\n",
        "        year = start.get('year')\n",
        "        month = start.get('month')\n",
        "        day = start.get('day')\n",
        "\n",
        "        half_monthly_composite = (collection.filterDate(start, end)\n",
        "                                  .median()\n",
        "                                  .set('system:time_start', start)\n",
        "                                  .set('year', year)\n",
        "                                  .set('month', month)\n",
        "                                  .set('day', day))\n",
        "        return half_monthly_composite\n",
        "\n",
        "    composites = half_month_range.map(compute_composite)\n",
        "    return ee.ImageCollection(composites)"
      ]
    },
    {
      "cell_type": "code",
      "execution_count": 13,
      "metadata": {
        "colab": {
          "base_uri": "https://localhost:8080/",
          "height": 17
        },
        "id": "MSCvmNYQj74b",
        "outputId": "06a8b27d-80f7-4891-f9cf-88e9ec8b6d42"
      },
      "outputs": [
        {
          "data": {
            "text/html": [
              "\n",
              "            <style>\n",
              "                .geemap-dark {\n",
              "                    --jp-widgets-color: white;\n",
              "                    --jp-widgets-label-color: white;\n",
              "                    --jp-ui-font-color1: white;\n",
              "                    --jp-layout-color2: #454545;\n",
              "                    background-color: #383838;\n",
              "                }\n",
              "                    \n",
              "                .geemap-dark .jupyter-button {\n",
              "                    --jp-layout-color3: #383838;\n",
              "                }\n",
              "                \n",
              "                .geemap-colab {\n",
              "                    background-color: var(--colab-primary-surface-color, white);\n",
              "                }\n",
              "                    \n",
              "                .geemap-colab .jupyter-button {\n",
              "                    --jp-layout-color3: var(--colab-primary-surface-color, white);\n",
              "                }\n",
              "            </style>\n",
              "            "
            ],
            "text/plain": [
              "<IPython.core.display.HTML object>"
            ]
          },
          "metadata": {},
          "output_type": "display_data"
        }
      ],
      "source": [
        "s2MonthlyComposites = create_15_day_composites(s2collection).map(addIndices)"
      ]
    },
    {
      "cell_type": "code",
      "execution_count": 14,
      "metadata": {
        "colab": {
          "base_uri": "https://localhost:8080/",
          "height": 17
        },
        "id": "Cf2cmnXzj-Fo",
        "outputId": "1bb9ab39-5d44-4d7a-ad27-4076229e1e63"
      },
      "outputs": [
        {
          "data": {
            "text/html": [
              "\n",
              "            <style>\n",
              "                .geemap-dark {\n",
              "                    --jp-widgets-color: white;\n",
              "                    --jp-widgets-label-color: white;\n",
              "                    --jp-ui-font-color1: white;\n",
              "                    --jp-layout-color2: #454545;\n",
              "                    background-color: #383838;\n",
              "                }\n",
              "                    \n",
              "                .geemap-dark .jupyter-button {\n",
              "                    --jp-layout-color3: #383838;\n",
              "                }\n",
              "                \n",
              "                .geemap-colab {\n",
              "                    background-color: var(--colab-primary-surface-color, white);\n",
              "                }\n",
              "                    \n",
              "                .geemap-colab .jupyter-button {\n",
              "                    --jp-layout-color3: var(--colab-primary-surface-color, white);\n",
              "                }\n",
              "            </style>\n",
              "            "
            ],
            "text/plain": [
              "<IPython.core.display.HTML object>"
            ]
          },
          "metadata": {},
          "output_type": "display_data"
        }
      ],
      "source": [
        "s2MonthlyComposites = s2MonthlyComposites.select(['NDVI','NDRE','SAVI', 'ARVI', 'NDWI', 'GCI', 'RVI',\n",
        "                                    'OSAVI', 'SLAVI', 'NPCRI', 'SCI', 'NDMI', 'GNDVI', 'BSI', 'EVI'])"
      ]
    },
    {
      "cell_type": "code",
      "execution_count": 15,
      "metadata": {
        "colab": {
          "base_uri": "https://localhost:8080/",
          "height": 54
        },
        "id": "_-eGOLHqkBC-",
        "outputId": "700eee24-46eb-49ad-ac69-dc788a9c3e74"
      },
      "outputs": [
        {
          "data": {
            "text/html": [
              "\n",
              "            <style>\n",
              "                .geemap-dark {\n",
              "                    --jp-widgets-color: white;\n",
              "                    --jp-widgets-label-color: white;\n",
              "                    --jp-ui-font-color1: white;\n",
              "                    --jp-layout-color2: #454545;\n",
              "                    background-color: #383838;\n",
              "                }\n",
              "                    \n",
              "                .geemap-dark .jupyter-button {\n",
              "                    --jp-layout-color3: #383838;\n",
              "                }\n",
              "                \n",
              "                .geemap-colab {\n",
              "                    background-color: var(--colab-primary-surface-color, white);\n",
              "                }\n",
              "                    \n",
              "                .geemap-colab .jupyter-button {\n",
              "                    --jp-layout-color3: var(--colab-primary-surface-color, white);\n",
              "                }\n",
              "            </style>\n",
              "            "
            ],
            "text/plain": [
              "<IPython.core.display.HTML object>"
            ]
          },
          "metadata": {},
          "output_type": "display_data"
        },
        {
          "name": "stdout",
          "output_type": "stream",
          "text": [
            "BandName : ['0_NDVI', '0_NDRE', '0_SAVI', '0_ARVI', '0_NDWI', '0_GCI', '0_RVI', '0_OSAVI', '0_SLAVI', '0_NPCRI', '0_SCI', '0_NDMI', '0_GNDVI', '0_BSI', '0_EVI', '1_NDVI', '1_NDRE', '1_SAVI', '1_ARVI', '1_NDWI', '1_GCI', '1_RVI', '1_OSAVI', '1_SLAVI', '1_NPCRI', '1_SCI', '1_NDMI', '1_GNDVI', '1_BSI', '1_EVI', '2_NDVI', '2_NDRE', '2_SAVI', '2_ARVI', '2_NDWI', '2_GCI', '2_RVI', '2_OSAVI', '2_SLAVI', '2_NPCRI', '2_SCI', '2_NDMI', '2_GNDVI', '2_BSI', '2_EVI', '3_NDVI', '3_NDRE', '3_SAVI', '3_ARVI', '3_NDWI', '3_GCI', '3_RVI', '3_OSAVI', '3_SLAVI', '3_NPCRI', '3_SCI', '3_NDMI', '3_GNDVI', '3_BSI', '3_EVI', '4_NDVI', '4_NDRE', '4_SAVI', '4_ARVI', '4_NDWI', '4_GCI', '4_RVI', '4_OSAVI', '4_SLAVI', '4_NPCRI', '4_SCI', '4_NDMI', '4_GNDVI', '4_BSI', '4_EVI', '5_NDVI', '5_NDRE', '5_SAVI', '5_ARVI', '5_NDWI', '5_GCI', '5_RVI', '5_OSAVI', '5_SLAVI', '5_NPCRI', '5_SCI', '5_NDMI', '5_GNDVI', '5_BSI', '5_EVI']\n"
          ]
        }
      ],
      "source": [
        "# ImageCollection to Single Image where Temporal Dataset of 15Day Composite Image goes to N Number Bands\n",
        "combinedImage = s2MonthlyComposites.toBands()\n",
        "print('BandName :',combinedImage.bandNames().getInfo())"
      ]
    },
    {
      "cell_type": "markdown",
      "metadata": {},
      "source": [
        "Prefix Attached to Indices\n",
        "\n",
        "- 0 : 1st 15Day Mar\n",
        "- 1 : 2nd 15Day Mar  \n",
        "- 0 : 1st 15Day Apr\n",
        "- 1 : 2nd 15Day Apr \n",
        "- 0 : 1st 15Day May\n",
        "- 1 : 2nd 15Day May "
      ]
    },
    {
      "cell_type": "code",
      "execution_count": 16,
      "metadata": {
        "colab": {
          "base_uri": "https://localhost:8080/",
          "height": 17
        },
        "id": "hcf6ADVhkran",
        "outputId": "7d0f7ca9-f368-472f-dc82-d432d9727c32"
      },
      "outputs": [
        {
          "data": {
            "text/html": [
              "\n",
              "            <style>\n",
              "                .geemap-dark {\n",
              "                    --jp-widgets-color: white;\n",
              "                    --jp-widgets-label-color: white;\n",
              "                    --jp-ui-font-color1: white;\n",
              "                    --jp-layout-color2: #454545;\n",
              "                    background-color: #383838;\n",
              "                }\n",
              "                    \n",
              "                .geemap-dark .jupyter-button {\n",
              "                    --jp-layout-color3: #383838;\n",
              "                }\n",
              "                \n",
              "                .geemap-colab {\n",
              "                    background-color: var(--colab-primary-surface-color, white);\n",
              "                }\n",
              "                    \n",
              "                .geemap-colab .jupyter-button {\n",
              "                    --jp-layout-color3: var(--colab-primary-surface-color, white);\n",
              "                }\n",
              "            </style>\n",
              "            "
            ],
            "text/plain": [
              "<IPython.core.display.HTML object>"
            ]
          },
          "metadata": {},
          "output_type": "display_data"
        }
      ],
      "source": [
        "# Shapefile conversion to GEE Feature and FeatureCollection\n",
        "\n",
        "def geopandas_to_ee(gdf):\n",
        "    features = []\n",
        "    for idx, row in gdf.iterrows():\n",
        "        geo = row['geometry']\n",
        "        properties = row.drop('geometry').to_dict()\n",
        "        features.append(ee.Feature(ee.Geometry(geo.__geo_interface__),properties))\n",
        "    return ee.FeatureCollection(features)\n",
        "\n",
        "trainEE = geopandas_to_ee(trainGDF)\n",
        "testEE = geopandas_to_ee(testGDF)\n",
        "#print(trainEE.first().getInfo())"
      ]
    },
    {
      "cell_type": "code",
      "execution_count": 17,
      "metadata": {
        "colab": {
          "base_uri": "https://localhost:8080/",
          "height": 17
        },
        "id": "p9IU9MdWk2ys",
        "outputId": "88933b54-d513-445d-f350-83262eba966a"
      },
      "outputs": [
        {
          "data": {
            "text/html": [
              "\n",
              "            <style>\n",
              "                .geemap-dark {\n",
              "                    --jp-widgets-color: white;\n",
              "                    --jp-widgets-label-color: white;\n",
              "                    --jp-ui-font-color1: white;\n",
              "                    --jp-layout-color2: #454545;\n",
              "                    background-color: #383838;\n",
              "                }\n",
              "                    \n",
              "                .geemap-dark .jupyter-button {\n",
              "                    --jp-layout-color3: #383838;\n",
              "                }\n",
              "                \n",
              "                .geemap-colab {\n",
              "                    background-color: var(--colab-primary-surface-color, white);\n",
              "                }\n",
              "                    \n",
              "                .geemap-colab .jupyter-button {\n",
              "                    --jp-layout-color3: var(--colab-primary-surface-color, white);\n",
              "                }\n",
              "            </style>\n",
              "            "
            ],
            "text/plain": [
              "<IPython.core.display.HTML object>"
            ]
          },
          "metadata": {},
          "output_type": "display_data"
        }
      ],
      "source": [
        "# There are a total of 1500 sample points each in both the training and test datasets.\n",
        "# To use only the Afghanistan Ground Truth sample points, employ the filterBounds technique\n",
        "# to select sample points from the specified region.\n",
        "\n",
        "trainEE = trainEE.filterBounds(aoi)\n",
        "testEE = testEE.filterBounds(aoi)"
      ]
    },
    {
      "cell_type": "code",
      "execution_count": 18,
      "metadata": {
        "colab": {
          "base_uri": "https://localhost:8080/",
          "height": 17
        },
        "id": "5Zujji9YlyLq",
        "outputId": "cc7dd257-c254-470f-f42e-e0435bac9f5c"
      },
      "outputs": [
        {
          "data": {
            "text/html": [
              "\n",
              "            <style>\n",
              "                .geemap-dark {\n",
              "                    --jp-widgets-color: white;\n",
              "                    --jp-widgets-label-color: white;\n",
              "                    --jp-ui-font-color1: white;\n",
              "                    --jp-layout-color2: #454545;\n",
              "                    background-color: #383838;\n",
              "                }\n",
              "                    \n",
              "                .geemap-dark .jupyter-button {\n",
              "                    --jp-layout-color3: #383838;\n",
              "                }\n",
              "                \n",
              "                .geemap-colab {\n",
              "                    background-color: var(--colab-primary-surface-color, white);\n",
              "                }\n",
              "                    \n",
              "                .geemap-colab .jupyter-button {\n",
              "                    --jp-layout-color3: var(--colab-primary-surface-color, white);\n",
              "                }\n",
              "            </style>\n",
              "            "
            ],
            "text/plain": [
              "<IPython.core.display.HTML object>"
            ]
          },
          "metadata": {},
          "output_type": "display_data"
        }
      ],
      "source": [
        "# Extract Sentinel-2 Satellite Indices from a given location\n",
        "\n",
        "def calculateMetrics(block):\n",
        "    metrics = combinedImage.reduceRegion(**{\n",
        "        'reducer': ee.Reducer.mean(),\n",
        "        'geometry': block.geometry(),\n",
        "        'scale':10, # Spatial Resolution of Sentinel-2\n",
        "     })\n",
        "    return ee.Feature(None,metrics).copyProperties(block, ['ID','Target'])\n",
        "\n",
        "trainEE = trainEE.map(calculateMetrics)\n",
        "testEE = testEE.map(calculateMetrics)"
      ]
    },
    {
      "cell_type": "markdown",
      "metadata": {
        "id": "EGGn2miCmHXJ"
      },
      "source": [
        "*The steps below are to convert the Google Earth Engine (GEE) FeatureCollection into a Pandas DataFrame, which will subsequently be used for analysis and model development.*"
      ]
    },
    {
      "cell_type": "code",
      "execution_count": 19,
      "metadata": {
        "colab": {
          "base_uri": "https://localhost:8080/",
          "height": 17
        },
        "id": "KwTc6DdAmDJK",
        "outputId": "2908d6f5-70b7-488c-836d-50a519ca9c8f"
      },
      "outputs": [
        {
          "data": {
            "text/html": [
              "\n",
              "            <style>\n",
              "                .geemap-dark {\n",
              "                    --jp-widgets-color: white;\n",
              "                    --jp-widgets-label-color: white;\n",
              "                    --jp-ui-font-color1: white;\n",
              "                    --jp-layout-color2: #454545;\n",
              "                    background-color: #383838;\n",
              "                }\n",
              "                    \n",
              "                .geemap-dark .jupyter-button {\n",
              "                    --jp-layout-color3: #383838;\n",
              "                }\n",
              "                \n",
              "                .geemap-colab {\n",
              "                    background-color: var(--colab-primary-surface-color, white);\n",
              "                }\n",
              "                    \n",
              "                .geemap-colab .jupyter-button {\n",
              "                    --jp-layout-color3: var(--colab-primary-surface-color, white);\n",
              "                }\n",
              "            </style>\n",
              "            "
            ],
            "text/plain": [
              "<IPython.core.display.HTML object>"
            ]
          },
          "metadata": {},
          "output_type": "display_data"
        }
      ],
      "source": [
        "train_samples,test_samples = [],[]"
      ]
    },
    {
      "cell_type": "code",
      "execution_count": 20,
      "metadata": {
        "colab": {
          "base_uri": "https://localhost:8080/",
          "height": 17
        },
        "id": "_USt5Vc8mh7N",
        "outputId": "621c074b-0ac1-42de-90f1-ee63d16bcaf6"
      },
      "outputs": [
        {
          "data": {
            "text/html": [
              "\n",
              "            <style>\n",
              "                .geemap-dark {\n",
              "                    --jp-widgets-color: white;\n",
              "                    --jp-widgets-label-color: white;\n",
              "                    --jp-ui-font-color1: white;\n",
              "                    --jp-layout-color2: #454545;\n",
              "                    background-color: #383838;\n",
              "                }\n",
              "                    \n",
              "                .geemap-dark .jupyter-button {\n",
              "                    --jp-layout-color3: #383838;\n",
              "                }\n",
              "                \n",
              "                .geemap-colab {\n",
              "                    background-color: var(--colab-primary-surface-color, white);\n",
              "                }\n",
              "                    \n",
              "                .geemap-colab .jupyter-button {\n",
              "                    --jp-layout-color3: var(--colab-primary-surface-color, white);\n",
              "                }\n",
              "            </style>\n",
              "            "
            ],
            "text/plain": [
              "<IPython.core.display.HTML object>"
            ]
          },
          "metadata": {},
          "output_type": "display_data"
        }
      ],
      "source": [
        "for item in trainEE.getInfo()['features']:\n",
        "    train_samples.append(item['properties'])"
      ]
    },
    {
      "cell_type": "code",
      "execution_count": 21,
      "metadata": {
        "colab": {
          "base_uri": "https://localhost:8080/",
          "height": 17
        },
        "id": "UcpVkZ6-mkor",
        "outputId": "18a39d0a-98b6-4ef2-8f7b-5a9d4826ad1c"
      },
      "outputs": [
        {
          "data": {
            "text/html": [
              "\n",
              "            <style>\n",
              "                .geemap-dark {\n",
              "                    --jp-widgets-color: white;\n",
              "                    --jp-widgets-label-color: white;\n",
              "                    --jp-ui-font-color1: white;\n",
              "                    --jp-layout-color2: #454545;\n",
              "                    background-color: #383838;\n",
              "                }\n",
              "                    \n",
              "                .geemap-dark .jupyter-button {\n",
              "                    --jp-layout-color3: #383838;\n",
              "                }\n",
              "                \n",
              "                .geemap-colab {\n",
              "                    background-color: var(--colab-primary-surface-color, white);\n",
              "                }\n",
              "                    \n",
              "                .geemap-colab .jupyter-button {\n",
              "                    --jp-layout-color3: var(--colab-primary-surface-color, white);\n",
              "                }\n",
              "            </style>\n",
              "            "
            ],
            "text/plain": [
              "<IPython.core.display.HTML object>"
            ]
          },
          "metadata": {},
          "output_type": "display_data"
        }
      ],
      "source": [
        "for item in testEE.getInfo()['features']:\n",
        "    test_samples.append(item['properties'])"
      ]
    },
    {
      "cell_type": "code",
      "execution_count": 22,
      "metadata": {
        "colab": {
          "base_uri": "https://localhost:8080/",
          "height": 17
        },
        "id": "QhXAQgQGmmcJ",
        "outputId": "7c31c66b-7edd-4191-f613-79e99ae143a9"
      },
      "outputs": [
        {
          "data": {
            "text/html": [
              "\n",
              "            <style>\n",
              "                .geemap-dark {\n",
              "                    --jp-widgets-color: white;\n",
              "                    --jp-widgets-label-color: white;\n",
              "                    --jp-ui-font-color1: white;\n",
              "                    --jp-layout-color2: #454545;\n",
              "                    background-color: #383838;\n",
              "                }\n",
              "                    \n",
              "                .geemap-dark .jupyter-button {\n",
              "                    --jp-layout-color3: #383838;\n",
              "                }\n",
              "                \n",
              "                .geemap-colab {\n",
              "                    background-color: var(--colab-primary-surface-color, white);\n",
              "                }\n",
              "                    \n",
              "                .geemap-colab .jupyter-button {\n",
              "                    --jp-layout-color3: var(--colab-primary-surface-color, white);\n",
              "                }\n",
              "            </style>\n",
              "            "
            ],
            "text/plain": [
              "<IPython.core.display.HTML object>"
            ]
          },
          "metadata": {},
          "output_type": "display_data"
        }
      ],
      "source": [
        "train_samples_df = pd.DataFrame(train_samples)\n",
        "test_samples_df = pd.DataFrame(test_samples)"
      ]
    },
    {
      "cell_type": "code",
      "execution_count": 23,
      "metadata": {
        "colab": {
          "base_uri": "https://localhost:8080/",
          "height": 256
        },
        "id": "WanjM1yFnVjW",
        "outputId": "a66d8e0f-27ec-470f-9afb-63f3ae1b8e93"
      },
      "outputs": [
        {
          "data": {
            "text/html": [
              "\n",
              "            <style>\n",
              "                .geemap-dark {\n",
              "                    --jp-widgets-color: white;\n",
              "                    --jp-widgets-label-color: white;\n",
              "                    --jp-ui-font-color1: white;\n",
              "                    --jp-layout-color2: #454545;\n",
              "                    background-color: #383838;\n",
              "                }\n",
              "                    \n",
              "                .geemap-dark .jupyter-button {\n",
              "                    --jp-layout-color3: #383838;\n",
              "                }\n",
              "                \n",
              "                .geemap-colab {\n",
              "                    background-color: var(--colab-primary-surface-color, white);\n",
              "                }\n",
              "                    \n",
              "                .geemap-colab .jupyter-button {\n",
              "                    --jp-layout-color3: var(--colab-primary-surface-color, white);\n",
              "                }\n",
              "            </style>\n",
              "            "
            ],
            "text/plain": [
              "<IPython.core.display.HTML object>"
            ]
          },
          "metadata": {},
          "output_type": "display_data"
        },
        {
          "data": {
            "text/html": [
              "\n",
              "  <div id=\"df-6ef83f2b-9f35-4ff3-b487-3af6ea3745e9\" class=\"colab-df-container\">\n",
              "    <div>\n",
              "<style scoped>\n",
              "    .dataframe tbody tr th:only-of-type {\n",
              "        vertical-align: middle;\n",
              "    }\n",
              "\n",
              "    .dataframe tbody tr th {\n",
              "        vertical-align: top;\n",
              "    }\n",
              "\n",
              "    .dataframe thead th {\n",
              "        text-align: right;\n",
              "    }\n",
              "</style>\n",
              "<table border=\"1\" class=\"dataframe\">\n",
              "  <thead>\n",
              "    <tr style=\"text-align: right;\">\n",
              "      <th></th>\n",
              "      <th>0_ARVI</th>\n",
              "      <th>0_BSI</th>\n",
              "      <th>0_EVI</th>\n",
              "      <th>0_GCI</th>\n",
              "      <th>0_GNDVI</th>\n",
              "      <th>0_NDMI</th>\n",
              "      <th>0_NDRE</th>\n",
              "      <th>0_NDVI</th>\n",
              "      <th>0_NDWI</th>\n",
              "      <th>0_NPCRI</th>\n",
              "      <th>...</th>\n",
              "      <th>5_NDVI</th>\n",
              "      <th>5_NDWI</th>\n",
              "      <th>5_NPCRI</th>\n",
              "      <th>5_OSAVI</th>\n",
              "      <th>5_RVI</th>\n",
              "      <th>5_SAVI</th>\n",
              "      <th>5_SCI</th>\n",
              "      <th>5_SLAVI</th>\n",
              "      <th>ID</th>\n",
              "      <th>Target</th>\n",
              "    </tr>\n",
              "  </thead>\n",
              "  <tbody>\n",
              "    <tr>\n",
              "      <th>0</th>\n",
              "      <td>0.010189</td>\n",
              "      <td>0.160391</td>\n",
              "      <td>0.123538</td>\n",
              "      <td>0.588529</td>\n",
              "      <td>0.227360</td>\n",
              "      <td>-0.131117</td>\n",
              "      <td>0.063439</td>\n",
              "      <td>0.166266</td>\n",
              "      <td>-0.227360</td>\n",
              "      <td>0.217784</td>\n",
              "      <td>...</td>\n",
              "      <td>0.074355</td>\n",
              "      <td>-0.178527</td>\n",
              "      <td>0.255144</td>\n",
              "      <td>0.066170</td>\n",
              "      <td>1.160656</td>\n",
              "      <td>0.057243</td>\n",
              "      <td>0.144411</td>\n",
              "      <td>0.458846</td>\n",
              "      <td>ID_SJ098E7S2SY9</td>\n",
              "      <td>0</td>\n",
              "    </tr>\n",
              "    <tr>\n",
              "      <th>1</th>\n",
              "      <td>0.101329</td>\n",
              "      <td>0.075569</td>\n",
              "      <td>0.206321</td>\n",
              "      <td>0.950735</td>\n",
              "      <td>0.322203</td>\n",
              "      <td>-0.029893</td>\n",
              "      <td>0.142304</td>\n",
              "      <td>0.271203</td>\n",
              "      <td>-0.322203</td>\n",
              "      <td>0.171803</td>\n",
              "      <td>...</td>\n",
              "      <td>0.087919</td>\n",
              "      <td>-0.134161</td>\n",
              "      <td>0.155858</td>\n",
              "      <td>0.080402</td>\n",
              "      <td>1.192789</td>\n",
              "      <td>0.071715</td>\n",
              "      <td>0.062667</td>\n",
              "      <td>0.541416</td>\n",
              "      <td>ID_I5DS1NLN2WM8</td>\n",
              "      <td>1</td>\n",
              "    </tr>\n",
              "    <tr>\n",
              "      <th>2</th>\n",
              "      <td>0.017648</td>\n",
              "      <td>0.129232</td>\n",
              "      <td>0.142381</td>\n",
              "      <td>0.578962</td>\n",
              "      <td>0.224494</td>\n",
              "      <td>-0.078250</td>\n",
              "      <td>0.053514</td>\n",
              "      <td>0.181002</td>\n",
              "      <td>-0.224494</td>\n",
              "      <td>0.227104</td>\n",
              "      <td>...</td>\n",
              "      <td>0.113734</td>\n",
              "      <td>-0.177677</td>\n",
              "      <td>0.192648</td>\n",
              "      <td>0.103900</td>\n",
              "      <td>1.256659</td>\n",
              "      <td>0.092562</td>\n",
              "      <td>0.088777</td>\n",
              "      <td>0.526127</td>\n",
              "      <td>ID_JBRO8Z453K1J</td>\n",
              "      <td>1</td>\n",
              "    </tr>\n",
              "    <tr>\n",
              "      <th>3</th>\n",
              "      <td>-0.032160</td>\n",
              "      <td>0.161961</td>\n",
              "      <td>0.073689</td>\n",
              "      <td>0.406178</td>\n",
              "      <td>0.168806</td>\n",
              "      <td>-0.138526</td>\n",
              "      <td>0.031257</td>\n",
              "      <td>0.095365</td>\n",
              "      <td>-0.168806</td>\n",
              "      <td>0.201539</td>\n",
              "      <td>...</td>\n",
              "      <td>0.058686</td>\n",
              "      <td>-0.148766</td>\n",
              "      <td>0.231409</td>\n",
              "      <td>0.053708</td>\n",
              "      <td>1.124689</td>\n",
              "      <td>0.047946</td>\n",
              "      <td>0.120494</td>\n",
              "      <td>0.472855</td>\n",
              "      <td>ID_GYHRWRLEY9W3</td>\n",
              "      <td>0</td>\n",
              "    </tr>\n",
              "    <tr>\n",
              "      <th>4</th>\n",
              "      <td>-0.067364</td>\n",
              "      <td>0.136412</td>\n",
              "      <td>0.023024</td>\n",
              "      <td>0.187126</td>\n",
              "      <td>0.085558</td>\n",
              "      <td>-0.104017</td>\n",
              "      <td>-0.018438</td>\n",
              "      <td>0.026640</td>\n",
              "      <td>-0.085558</td>\n",
              "      <td>0.181467</td>\n",
              "      <td>...</td>\n",
              "      <td>0.023807</td>\n",
              "      <td>-0.092269</td>\n",
              "      <td>0.172629</td>\n",
              "      <td>0.021626</td>\n",
              "      <td>1.048776</td>\n",
              "      <td>0.019141</td>\n",
              "      <td>0.084250</td>\n",
              "      <td>0.476932</td>\n",
              "      <td>ID_LLW4ZVLCTH7Y</td>\n",
              "      <td>0</td>\n",
              "    </tr>\n",
              "  </tbody>\n",
              "</table>\n",
              "<p>5 rows × 92 columns</p>\n",
              "</div>\n",
              "    <div class=\"colab-df-buttons\">\n",
              "\n",
              "  <div class=\"colab-df-container\">\n",
              "    <button class=\"colab-df-convert\" onclick=\"convertToInteractive('df-6ef83f2b-9f35-4ff3-b487-3af6ea3745e9')\"\n",
              "            title=\"Convert this dataframe to an interactive table.\"\n",
              "            style=\"display:none;\">\n",
              "\n",
              "  <svg xmlns=\"http://www.w3.org/2000/svg\" height=\"24px\" viewBox=\"0 -960 960 960\">\n",
              "    <path d=\"M120-120v-720h720v720H120Zm60-500h600v-160H180v160Zm220 220h160v-160H400v160Zm0 220h160v-160H400v160ZM180-400h160v-160H180v160Zm440 0h160v-160H620v160ZM180-180h160v-160H180v160Zm440 0h160v-160H620v160Z\"/>\n",
              "  </svg>\n",
              "    </button>\n",
              "\n",
              "  <style>\n",
              "    .colab-df-container {\n",
              "      display:flex;\n",
              "      gap: 12px;\n",
              "    }\n",
              "\n",
              "    .colab-df-convert {\n",
              "      background-color: #E8F0FE;\n",
              "      border: none;\n",
              "      border-radius: 50%;\n",
              "      cursor: pointer;\n",
              "      display: none;\n",
              "      fill: #1967D2;\n",
              "      height: 32px;\n",
              "      padding: 0 0 0 0;\n",
              "      width: 32px;\n",
              "    }\n",
              "\n",
              "    .colab-df-convert:hover {\n",
              "      background-color: #E2EBFA;\n",
              "      box-shadow: 0px 1px 2px rgba(60, 64, 67, 0.3), 0px 1px 3px 1px rgba(60, 64, 67, 0.15);\n",
              "      fill: #174EA6;\n",
              "    }\n",
              "\n",
              "    .colab-df-buttons div {\n",
              "      margin-bottom: 4px;\n",
              "    }\n",
              "\n",
              "    [theme=dark] .colab-df-convert {\n",
              "      background-color: #3B4455;\n",
              "      fill: #D2E3FC;\n",
              "    }\n",
              "\n",
              "    [theme=dark] .colab-df-convert:hover {\n",
              "      background-color: #434B5C;\n",
              "      box-shadow: 0px 1px 3px 1px rgba(0, 0, 0, 0.15);\n",
              "      filter: drop-shadow(0px 1px 2px rgba(0, 0, 0, 0.3));\n",
              "      fill: #FFFFFF;\n",
              "    }\n",
              "  </style>\n",
              "\n",
              "    <script>\n",
              "      const buttonEl =\n",
              "        document.querySelector('#df-6ef83f2b-9f35-4ff3-b487-3af6ea3745e9 button.colab-df-convert');\n",
              "      buttonEl.style.display =\n",
              "        google.colab.kernel.accessAllowed ? 'block' : 'none';\n",
              "\n",
              "      async function convertToInteractive(key) {\n",
              "        const element = document.querySelector('#df-6ef83f2b-9f35-4ff3-b487-3af6ea3745e9');\n",
              "        const dataTable =\n",
              "          await google.colab.kernel.invokeFunction('convertToInteractive',\n",
              "                                                    [key], {});\n",
              "        if (!dataTable) return;\n",
              "\n",
              "        const docLinkHtml = 'Like what you see? Visit the ' +\n",
              "          '<a target=\"_blank\" href=https://colab.research.google.com/notebooks/data_table.ipynb>data table notebook</a>'\n",
              "          + ' to learn more about interactive tables.';\n",
              "        element.innerHTML = '';\n",
              "        dataTable['output_type'] = 'display_data';\n",
              "        await google.colab.output.renderOutput(dataTable, element);\n",
              "        const docLink = document.createElement('div');\n",
              "        docLink.innerHTML = docLinkHtml;\n",
              "        element.appendChild(docLink);\n",
              "      }\n",
              "    </script>\n",
              "  </div>\n",
              "\n",
              "\n",
              "<div id=\"df-53f3b816-71e7-44c5-a279-b1a512b52ca4\">\n",
              "  <button class=\"colab-df-quickchart\" onclick=\"quickchart('df-53f3b816-71e7-44c5-a279-b1a512b52ca4')\"\n",
              "            title=\"Suggest charts.\"\n",
              "            style=\"display:none;\">\n",
              "\n",
              "<svg xmlns=\"http://www.w3.org/2000/svg\" height=\"24px\"viewBox=\"0 0 24 24\"\n",
              "     width=\"24px\">\n",
              "    <g>\n",
              "        <path d=\"M19 3H5c-1.1 0-2 .9-2 2v14c0 1.1.9 2 2 2h14c1.1 0 2-.9 2-2V5c0-1.1-.9-2-2-2zM9 17H7v-7h2v7zm4 0h-2V7h2v10zm4 0h-2v-4h2v4z\"/>\n",
              "    </g>\n",
              "</svg>\n",
              "  </button>\n",
              "\n",
              "<style>\n",
              "  .colab-df-quickchart {\n",
              "      --bg-color: #E8F0FE;\n",
              "      --fill-color: #1967D2;\n",
              "      --hover-bg-color: #E2EBFA;\n",
              "      --hover-fill-color: #174EA6;\n",
              "      --disabled-fill-color: #AAA;\n",
              "      --disabled-bg-color: #DDD;\n",
              "  }\n",
              "\n",
              "  [theme=dark] .colab-df-quickchart {\n",
              "      --bg-color: #3B4455;\n",
              "      --fill-color: #D2E3FC;\n",
              "      --hover-bg-color: #434B5C;\n",
              "      --hover-fill-color: #FFFFFF;\n",
              "      --disabled-bg-color: #3B4455;\n",
              "      --disabled-fill-color: #666;\n",
              "  }\n",
              "\n",
              "  .colab-df-quickchart {\n",
              "    background-color: var(--bg-color);\n",
              "    border: none;\n",
              "    border-radius: 50%;\n",
              "    cursor: pointer;\n",
              "    display: none;\n",
              "    fill: var(--fill-color);\n",
              "    height: 32px;\n",
              "    padding: 0;\n",
              "    width: 32px;\n",
              "  }\n",
              "\n",
              "  .colab-df-quickchart:hover {\n",
              "    background-color: var(--hover-bg-color);\n",
              "    box-shadow: 0 1px 2px rgba(60, 64, 67, 0.3), 0 1px 3px 1px rgba(60, 64, 67, 0.15);\n",
              "    fill: var(--button-hover-fill-color);\n",
              "  }\n",
              "\n",
              "  .colab-df-quickchart-complete:disabled,\n",
              "  .colab-df-quickchart-complete:disabled:hover {\n",
              "    background-color: var(--disabled-bg-color);\n",
              "    fill: var(--disabled-fill-color);\n",
              "    box-shadow: none;\n",
              "  }\n",
              "\n",
              "  .colab-df-spinner {\n",
              "    border: 2px solid var(--fill-color);\n",
              "    border-color: transparent;\n",
              "    border-bottom-color: var(--fill-color);\n",
              "    animation:\n",
              "      spin 1s steps(1) infinite;\n",
              "  }\n",
              "\n",
              "  @keyframes spin {\n",
              "    0% {\n",
              "      border-color: transparent;\n",
              "      border-bottom-color: var(--fill-color);\n",
              "      border-left-color: var(--fill-color);\n",
              "    }\n",
              "    20% {\n",
              "      border-color: transparent;\n",
              "      border-left-color: var(--fill-color);\n",
              "      border-top-color: var(--fill-color);\n",
              "    }\n",
              "    30% {\n",
              "      border-color: transparent;\n",
              "      border-left-color: var(--fill-color);\n",
              "      border-top-color: var(--fill-color);\n",
              "      border-right-color: var(--fill-color);\n",
              "    }\n",
              "    40% {\n",
              "      border-color: transparent;\n",
              "      border-right-color: var(--fill-color);\n",
              "      border-top-color: var(--fill-color);\n",
              "    }\n",
              "    60% {\n",
              "      border-color: transparent;\n",
              "      border-right-color: var(--fill-color);\n",
              "    }\n",
              "    80% {\n",
              "      border-color: transparent;\n",
              "      border-right-color: var(--fill-color);\n",
              "      border-bottom-color: var(--fill-color);\n",
              "    }\n",
              "    90% {\n",
              "      border-color: transparent;\n",
              "      border-bottom-color: var(--fill-color);\n",
              "    }\n",
              "  }\n",
              "</style>\n",
              "\n",
              "  <script>\n",
              "    async function quickchart(key) {\n",
              "      const quickchartButtonEl =\n",
              "        document.querySelector('#' + key + ' button');\n",
              "      quickchartButtonEl.disabled = true;  // To prevent multiple clicks.\n",
              "      quickchartButtonEl.classList.add('colab-df-spinner');\n",
              "      try {\n",
              "        const charts = await google.colab.kernel.invokeFunction(\n",
              "            'suggestCharts', [key], {});\n",
              "      } catch (error) {\n",
              "        console.error('Error during call to suggestCharts:', error);\n",
              "      }\n",
              "      quickchartButtonEl.classList.remove('colab-df-spinner');\n",
              "      quickchartButtonEl.classList.add('colab-df-quickchart-complete');\n",
              "    }\n",
              "    (() => {\n",
              "      let quickchartButtonEl =\n",
              "        document.querySelector('#df-53f3b816-71e7-44c5-a279-b1a512b52ca4 button');\n",
              "      quickchartButtonEl.style.display =\n",
              "        google.colab.kernel.accessAllowed ? 'block' : 'none';\n",
              "    })();\n",
              "  </script>\n",
              "</div>\n",
              "    </div>\n",
              "  </div>\n"
            ],
            "text/plain": [
              "     0_ARVI     0_BSI     0_EVI     0_GCI   0_GNDVI    0_NDMI    0_NDRE  \\\n",
              "0  0.010189  0.160391  0.123538  0.588529  0.227360 -0.131117  0.063439   \n",
              "1  0.101329  0.075569  0.206321  0.950735  0.322203 -0.029893  0.142304   \n",
              "2  0.017648  0.129232  0.142381  0.578962  0.224494 -0.078250  0.053514   \n",
              "3 -0.032160  0.161961  0.073689  0.406178  0.168806 -0.138526  0.031257   \n",
              "4 -0.067364  0.136412  0.023024  0.187126  0.085558 -0.104017 -0.018438   \n",
              "\n",
              "     0_NDVI    0_NDWI   0_NPCRI  ...    5_NDVI    5_NDWI   5_NPCRI   5_OSAVI  \\\n",
              "0  0.166266 -0.227360  0.217784  ...  0.074355 -0.178527  0.255144  0.066170   \n",
              "1  0.271203 -0.322203  0.171803  ...  0.087919 -0.134161  0.155858  0.080402   \n",
              "2  0.181002 -0.224494  0.227104  ...  0.113734 -0.177677  0.192648  0.103900   \n",
              "3  0.095365 -0.168806  0.201539  ...  0.058686 -0.148766  0.231409  0.053708   \n",
              "4  0.026640 -0.085558  0.181467  ...  0.023807 -0.092269  0.172629  0.021626   \n",
              "\n",
              "      5_RVI    5_SAVI     5_SCI   5_SLAVI               ID  Target  \n",
              "0  1.160656  0.057243  0.144411  0.458846  ID_SJ098E7S2SY9       0  \n",
              "1  1.192789  0.071715  0.062667  0.541416  ID_I5DS1NLN2WM8       1  \n",
              "2  1.256659  0.092562  0.088777  0.526127  ID_JBRO8Z453K1J       1  \n",
              "3  1.124689  0.047946  0.120494  0.472855  ID_GYHRWRLEY9W3       0  \n",
              "4  1.048776  0.019141  0.084250  0.476932  ID_LLW4ZVLCTH7Y       0  \n",
              "\n",
              "[5 rows x 92 columns]"
            ]
          },
          "execution_count": 23,
          "metadata": {},
          "output_type": "execute_result"
        }
      ],
      "source": [
        "train_samples_df.head()"
      ]
    },
    {
      "cell_type": "code",
      "execution_count": 24,
      "metadata": {
        "colab": {
          "base_uri": "https://localhost:8080/",
          "height": 256
        },
        "id": "iOV-_dvUnYIu",
        "outputId": "669eaf78-5972-4ea5-a1ed-569321ff077a"
      },
      "outputs": [
        {
          "data": {
            "text/html": [
              "\n",
              "            <style>\n",
              "                .geemap-dark {\n",
              "                    --jp-widgets-color: white;\n",
              "                    --jp-widgets-label-color: white;\n",
              "                    --jp-ui-font-color1: white;\n",
              "                    --jp-layout-color2: #454545;\n",
              "                    background-color: #383838;\n",
              "                }\n",
              "                    \n",
              "                .geemap-dark .jupyter-button {\n",
              "                    --jp-layout-color3: #383838;\n",
              "                }\n",
              "                \n",
              "                .geemap-colab {\n",
              "                    background-color: var(--colab-primary-surface-color, white);\n",
              "                }\n",
              "                    \n",
              "                .geemap-colab .jupyter-button {\n",
              "                    --jp-layout-color3: var(--colab-primary-surface-color, white);\n",
              "                }\n",
              "            </style>\n",
              "            "
            ],
            "text/plain": [
              "<IPython.core.display.HTML object>"
            ]
          },
          "metadata": {},
          "output_type": "display_data"
        },
        {
          "data": {
            "text/html": [
              "\n",
              "  <div id=\"df-8e659bb8-8e1d-49b5-afbc-af50acf509b6\" class=\"colab-df-container\">\n",
              "    <div>\n",
              "<style scoped>\n",
              "    .dataframe tbody tr th:only-of-type {\n",
              "        vertical-align: middle;\n",
              "    }\n",
              "\n",
              "    .dataframe tbody tr th {\n",
              "        vertical-align: top;\n",
              "    }\n",
              "\n",
              "    .dataframe thead th {\n",
              "        text-align: right;\n",
              "    }\n",
              "</style>\n",
              "<table border=\"1\" class=\"dataframe\">\n",
              "  <thead>\n",
              "    <tr style=\"text-align: right;\">\n",
              "      <th></th>\n",
              "      <th>0_ARVI</th>\n",
              "      <th>0_BSI</th>\n",
              "      <th>0_EVI</th>\n",
              "      <th>0_GCI</th>\n",
              "      <th>0_GNDVI</th>\n",
              "      <th>0_NDMI</th>\n",
              "      <th>0_NDRE</th>\n",
              "      <th>0_NDVI</th>\n",
              "      <th>0_NDWI</th>\n",
              "      <th>0_NPCRI</th>\n",
              "      <th>...</th>\n",
              "      <th>5_NDRE</th>\n",
              "      <th>5_NDVI</th>\n",
              "      <th>5_NDWI</th>\n",
              "      <th>5_NPCRI</th>\n",
              "      <th>5_OSAVI</th>\n",
              "      <th>5_RVI</th>\n",
              "      <th>5_SAVI</th>\n",
              "      <th>5_SCI</th>\n",
              "      <th>5_SLAVI</th>\n",
              "      <th>ID</th>\n",
              "    </tr>\n",
              "  </thead>\n",
              "  <tbody>\n",
              "    <tr>\n",
              "      <th>0</th>\n",
              "      <td>0.026433</td>\n",
              "      <td>0.098148</td>\n",
              "      <td>0.124356</td>\n",
              "      <td>0.510552</td>\n",
              "      <td>0.203363</td>\n",
              "      <td>-0.066193</td>\n",
              "      <td>0.070494</td>\n",
              "      <td>0.157156</td>\n",
              "      <td>-0.203363</td>\n",
              "      <td>0.152283</td>\n",
              "      <td>...</td>\n",
              "      <td>0.344106</td>\n",
              "      <td>0.487200</td>\n",
              "      <td>-0.465465</td>\n",
              "      <td>0.196492</td>\n",
              "      <td>0.426507</td>\n",
              "      <td>2.900158</td>\n",
              "      <td>0.362528</td>\n",
              "      <td>-0.135060</td>\n",
              "      <td>1.103074</td>\n",
              "      <td>ID_9ZLHTVF6NSU7</td>\n",
              "    </tr>\n",
              "    <tr>\n",
              "      <th>1</th>\n",
              "      <td>0.025754</td>\n",
              "      <td>0.055659</td>\n",
              "      <td>0.147475</td>\n",
              "      <td>0.586271</td>\n",
              "      <td>0.226686</td>\n",
              "      <td>0.019571</td>\n",
              "      <td>0.186732</td>\n",
              "      <td>0.169440</td>\n",
              "      <td>-0.226686</td>\n",
              "      <td>0.178048</td>\n",
              "      <td>...</td>\n",
              "      <td>0.249657</td>\n",
              "      <td>0.198172</td>\n",
              "      <td>-0.246937</td>\n",
              "      <td>0.160112</td>\n",
              "      <td>0.184226</td>\n",
              "      <td>1.494302</td>\n",
              "      <td>0.167525</td>\n",
              "      <td>-0.047813</td>\n",
              "      <td>0.706936</td>\n",
              "      <td>ID_B2WO8GOJOMY1</td>\n",
              "    </tr>\n",
              "    <tr>\n",
              "      <th>2</th>\n",
              "      <td>0.441122</td>\n",
              "      <td>-0.079041</td>\n",
              "      <td>0.448985</td>\n",
              "      <td>2.740550</td>\n",
              "      <td>0.578108</td>\n",
              "      <td>0.141484</td>\n",
              "      <td>0.399700</td>\n",
              "      <td>0.637868</td>\n",
              "      <td>-0.578108</td>\n",
              "      <td>0.223729</td>\n",
              "      <td>...</td>\n",
              "      <td>0.033912</td>\n",
              "      <td>0.106684</td>\n",
              "      <td>-0.214772</td>\n",
              "      <td>0.274795</td>\n",
              "      <td>0.091389</td>\n",
              "      <td>1.238850</td>\n",
              "      <td>0.075961</td>\n",
              "      <td>0.159099</td>\n",
              "      <td>0.461595</td>\n",
              "      <td>ID_K82JJ5PQCMXM</td>\n",
              "    </tr>\n",
              "    <tr>\n",
              "      <th>3</th>\n",
              "      <td>0.364233</td>\n",
              "      <td>-0.030519</td>\n",
              "      <td>0.370170</td>\n",
              "      <td>2.727331</td>\n",
              "      <td>0.576928</td>\n",
              "      <td>0.103580</td>\n",
              "      <td>0.345092</td>\n",
              "      <td>0.578002</td>\n",
              "      <td>-0.576928</td>\n",
              "      <td>0.288446</td>\n",
              "      <td>...</td>\n",
              "      <td>0.190694</td>\n",
              "      <td>0.241808</td>\n",
              "      <td>-0.343806</td>\n",
              "      <td>0.345602</td>\n",
              "      <td>0.210614</td>\n",
              "      <td>1.637856</td>\n",
              "      <td>0.178070</td>\n",
              "      <td>0.066272</td>\n",
              "      <td>0.641938</td>\n",
              "      <td>ID_5LACW9CE2OIB</td>\n",
              "    </tr>\n",
              "    <tr>\n",
              "      <th>4</th>\n",
              "      <td>-0.051359</td>\n",
              "      <td>0.124432</td>\n",
              "      <td>0.055211</td>\n",
              "      <td>0.273242</td>\n",
              "      <td>0.120199</td>\n",
              "      <td>-0.079620</td>\n",
              "      <td>0.027900</td>\n",
              "      <td>0.058023</td>\n",
              "      <td>-0.120199</td>\n",
              "      <td>0.189481</td>\n",
              "      <td>...</td>\n",
              "      <td>0.027788</td>\n",
              "      <td>0.049219</td>\n",
              "      <td>-0.110938</td>\n",
              "      <td>0.153379</td>\n",
              "      <td>0.046201</td>\n",
              "      <td>1.103534</td>\n",
              "      <td>0.042508</td>\n",
              "      <td>0.062418</td>\n",
              "      <td>0.513783</td>\n",
              "      <td>ID_O6RIQWT1103E</td>\n",
              "    </tr>\n",
              "  </tbody>\n",
              "</table>\n",
              "<p>5 rows × 91 columns</p>\n",
              "</div>\n",
              "    <div class=\"colab-df-buttons\">\n",
              "\n",
              "  <div class=\"colab-df-container\">\n",
              "    <button class=\"colab-df-convert\" onclick=\"convertToInteractive('df-8e659bb8-8e1d-49b5-afbc-af50acf509b6')\"\n",
              "            title=\"Convert this dataframe to an interactive table.\"\n",
              "            style=\"display:none;\">\n",
              "\n",
              "  <svg xmlns=\"http://www.w3.org/2000/svg\" height=\"24px\" viewBox=\"0 -960 960 960\">\n",
              "    <path d=\"M120-120v-720h720v720H120Zm60-500h600v-160H180v160Zm220 220h160v-160H400v160Zm0 220h160v-160H400v160ZM180-400h160v-160H180v160Zm440 0h160v-160H620v160ZM180-180h160v-160H180v160Zm440 0h160v-160H620v160Z\"/>\n",
              "  </svg>\n",
              "    </button>\n",
              "\n",
              "  <style>\n",
              "    .colab-df-container {\n",
              "      display:flex;\n",
              "      gap: 12px;\n",
              "    }\n",
              "\n",
              "    .colab-df-convert {\n",
              "      background-color: #E8F0FE;\n",
              "      border: none;\n",
              "      border-radius: 50%;\n",
              "      cursor: pointer;\n",
              "      display: none;\n",
              "      fill: #1967D2;\n",
              "      height: 32px;\n",
              "      padding: 0 0 0 0;\n",
              "      width: 32px;\n",
              "    }\n",
              "\n",
              "    .colab-df-convert:hover {\n",
              "      background-color: #E2EBFA;\n",
              "      box-shadow: 0px 1px 2px rgba(60, 64, 67, 0.3), 0px 1px 3px 1px rgba(60, 64, 67, 0.15);\n",
              "      fill: #174EA6;\n",
              "    }\n",
              "\n",
              "    .colab-df-buttons div {\n",
              "      margin-bottom: 4px;\n",
              "    }\n",
              "\n",
              "    [theme=dark] .colab-df-convert {\n",
              "      background-color: #3B4455;\n",
              "      fill: #D2E3FC;\n",
              "    }\n",
              "\n",
              "    [theme=dark] .colab-df-convert:hover {\n",
              "      background-color: #434B5C;\n",
              "      box-shadow: 0px 1px 3px 1px rgba(0, 0, 0, 0.15);\n",
              "      filter: drop-shadow(0px 1px 2px rgba(0, 0, 0, 0.3));\n",
              "      fill: #FFFFFF;\n",
              "    }\n",
              "  </style>\n",
              "\n",
              "    <script>\n",
              "      const buttonEl =\n",
              "        document.querySelector('#df-8e659bb8-8e1d-49b5-afbc-af50acf509b6 button.colab-df-convert');\n",
              "      buttonEl.style.display =\n",
              "        google.colab.kernel.accessAllowed ? 'block' : 'none';\n",
              "\n",
              "      async function convertToInteractive(key) {\n",
              "        const element = document.querySelector('#df-8e659bb8-8e1d-49b5-afbc-af50acf509b6');\n",
              "        const dataTable =\n",
              "          await google.colab.kernel.invokeFunction('convertToInteractive',\n",
              "                                                    [key], {});\n",
              "        if (!dataTable) return;\n",
              "\n",
              "        const docLinkHtml = 'Like what you see? Visit the ' +\n",
              "          '<a target=\"_blank\" href=https://colab.research.google.com/notebooks/data_table.ipynb>data table notebook</a>'\n",
              "          + ' to learn more about interactive tables.';\n",
              "        element.innerHTML = '';\n",
              "        dataTable['output_type'] = 'display_data';\n",
              "        await google.colab.output.renderOutput(dataTable, element);\n",
              "        const docLink = document.createElement('div');\n",
              "        docLink.innerHTML = docLinkHtml;\n",
              "        element.appendChild(docLink);\n",
              "      }\n",
              "    </script>\n",
              "  </div>\n",
              "\n",
              "\n",
              "<div id=\"df-2b9ede7d-e95f-47f7-aa82-021cb5821ebe\">\n",
              "  <button class=\"colab-df-quickchart\" onclick=\"quickchart('df-2b9ede7d-e95f-47f7-aa82-021cb5821ebe')\"\n",
              "            title=\"Suggest charts.\"\n",
              "            style=\"display:none;\">\n",
              "\n",
              "<svg xmlns=\"http://www.w3.org/2000/svg\" height=\"24px\"viewBox=\"0 0 24 24\"\n",
              "     width=\"24px\">\n",
              "    <g>\n",
              "        <path d=\"M19 3H5c-1.1 0-2 .9-2 2v14c0 1.1.9 2 2 2h14c1.1 0 2-.9 2-2V5c0-1.1-.9-2-2-2zM9 17H7v-7h2v7zm4 0h-2V7h2v10zm4 0h-2v-4h2v4z\"/>\n",
              "    </g>\n",
              "</svg>\n",
              "  </button>\n",
              "\n",
              "<style>\n",
              "  .colab-df-quickchart {\n",
              "      --bg-color: #E8F0FE;\n",
              "      --fill-color: #1967D2;\n",
              "      --hover-bg-color: #E2EBFA;\n",
              "      --hover-fill-color: #174EA6;\n",
              "      --disabled-fill-color: #AAA;\n",
              "      --disabled-bg-color: #DDD;\n",
              "  }\n",
              "\n",
              "  [theme=dark] .colab-df-quickchart {\n",
              "      --bg-color: #3B4455;\n",
              "      --fill-color: #D2E3FC;\n",
              "      --hover-bg-color: #434B5C;\n",
              "      --hover-fill-color: #FFFFFF;\n",
              "      --disabled-bg-color: #3B4455;\n",
              "      --disabled-fill-color: #666;\n",
              "  }\n",
              "\n",
              "  .colab-df-quickchart {\n",
              "    background-color: var(--bg-color);\n",
              "    border: none;\n",
              "    border-radius: 50%;\n",
              "    cursor: pointer;\n",
              "    display: none;\n",
              "    fill: var(--fill-color);\n",
              "    height: 32px;\n",
              "    padding: 0;\n",
              "    width: 32px;\n",
              "  }\n",
              "\n",
              "  .colab-df-quickchart:hover {\n",
              "    background-color: var(--hover-bg-color);\n",
              "    box-shadow: 0 1px 2px rgba(60, 64, 67, 0.3), 0 1px 3px 1px rgba(60, 64, 67, 0.15);\n",
              "    fill: var(--button-hover-fill-color);\n",
              "  }\n",
              "\n",
              "  .colab-df-quickchart-complete:disabled,\n",
              "  .colab-df-quickchart-complete:disabled:hover {\n",
              "    background-color: var(--disabled-bg-color);\n",
              "    fill: var(--disabled-fill-color);\n",
              "    box-shadow: none;\n",
              "  }\n",
              "\n",
              "  .colab-df-spinner {\n",
              "    border: 2px solid var(--fill-color);\n",
              "    border-color: transparent;\n",
              "    border-bottom-color: var(--fill-color);\n",
              "    animation:\n",
              "      spin 1s steps(1) infinite;\n",
              "  }\n",
              "\n",
              "  @keyframes spin {\n",
              "    0% {\n",
              "      border-color: transparent;\n",
              "      border-bottom-color: var(--fill-color);\n",
              "      border-left-color: var(--fill-color);\n",
              "    }\n",
              "    20% {\n",
              "      border-color: transparent;\n",
              "      border-left-color: var(--fill-color);\n",
              "      border-top-color: var(--fill-color);\n",
              "    }\n",
              "    30% {\n",
              "      border-color: transparent;\n",
              "      border-left-color: var(--fill-color);\n",
              "      border-top-color: var(--fill-color);\n",
              "      border-right-color: var(--fill-color);\n",
              "    }\n",
              "    40% {\n",
              "      border-color: transparent;\n",
              "      border-right-color: var(--fill-color);\n",
              "      border-top-color: var(--fill-color);\n",
              "    }\n",
              "    60% {\n",
              "      border-color: transparent;\n",
              "      border-right-color: var(--fill-color);\n",
              "    }\n",
              "    80% {\n",
              "      border-color: transparent;\n",
              "      border-right-color: var(--fill-color);\n",
              "      border-bottom-color: var(--fill-color);\n",
              "    }\n",
              "    90% {\n",
              "      border-color: transparent;\n",
              "      border-bottom-color: var(--fill-color);\n",
              "    }\n",
              "  }\n",
              "</style>\n",
              "\n",
              "  <script>\n",
              "    async function quickchart(key) {\n",
              "      const quickchartButtonEl =\n",
              "        document.querySelector('#' + key + ' button');\n",
              "      quickchartButtonEl.disabled = true;  // To prevent multiple clicks.\n",
              "      quickchartButtonEl.classList.add('colab-df-spinner');\n",
              "      try {\n",
              "        const charts = await google.colab.kernel.invokeFunction(\n",
              "            'suggestCharts', [key], {});\n",
              "      } catch (error) {\n",
              "        console.error('Error during call to suggestCharts:', error);\n",
              "      }\n",
              "      quickchartButtonEl.classList.remove('colab-df-spinner');\n",
              "      quickchartButtonEl.classList.add('colab-df-quickchart-complete');\n",
              "    }\n",
              "    (() => {\n",
              "      let quickchartButtonEl =\n",
              "        document.querySelector('#df-2b9ede7d-e95f-47f7-aa82-021cb5821ebe button');\n",
              "      quickchartButtonEl.style.display =\n",
              "        google.colab.kernel.accessAllowed ? 'block' : 'none';\n",
              "    })();\n",
              "  </script>\n",
              "</div>\n",
              "    </div>\n",
              "  </div>\n"
            ],
            "text/plain": [
              "     0_ARVI     0_BSI     0_EVI     0_GCI   0_GNDVI    0_NDMI    0_NDRE  \\\n",
              "0  0.026433  0.098148  0.124356  0.510552  0.203363 -0.066193  0.070494   \n",
              "1  0.025754  0.055659  0.147475  0.586271  0.226686  0.019571  0.186732   \n",
              "2  0.441122 -0.079041  0.448985  2.740550  0.578108  0.141484  0.399700   \n",
              "3  0.364233 -0.030519  0.370170  2.727331  0.576928  0.103580  0.345092   \n",
              "4 -0.051359  0.124432  0.055211  0.273242  0.120199 -0.079620  0.027900   \n",
              "\n",
              "     0_NDVI    0_NDWI   0_NPCRI  ...    5_NDRE    5_NDVI    5_NDWI   5_NPCRI  \\\n",
              "0  0.157156 -0.203363  0.152283  ...  0.344106  0.487200 -0.465465  0.196492   \n",
              "1  0.169440 -0.226686  0.178048  ...  0.249657  0.198172 -0.246937  0.160112   \n",
              "2  0.637868 -0.578108  0.223729  ...  0.033912  0.106684 -0.214772  0.274795   \n",
              "3  0.578002 -0.576928  0.288446  ...  0.190694  0.241808 -0.343806  0.345602   \n",
              "4  0.058023 -0.120199  0.189481  ...  0.027788  0.049219 -0.110938  0.153379   \n",
              "\n",
              "    5_OSAVI     5_RVI    5_SAVI     5_SCI   5_SLAVI               ID  \n",
              "0  0.426507  2.900158  0.362528 -0.135060  1.103074  ID_9ZLHTVF6NSU7  \n",
              "1  0.184226  1.494302  0.167525 -0.047813  0.706936  ID_B2WO8GOJOMY1  \n",
              "2  0.091389  1.238850  0.075961  0.159099  0.461595  ID_K82JJ5PQCMXM  \n",
              "3  0.210614  1.637856  0.178070  0.066272  0.641938  ID_5LACW9CE2OIB  \n",
              "4  0.046201  1.103534  0.042508  0.062418  0.513783  ID_O6RIQWT1103E  \n",
              "\n",
              "[5 rows x 91 columns]"
            ]
          },
          "execution_count": 24,
          "metadata": {},
          "output_type": "execute_result"
        }
      ],
      "source": [
        "test_samples_df.head()"
      ]
    },
    {
      "cell_type": "markdown",
      "metadata": {
        "id": "eBapYQ2encQj"
      },
      "source": [
        "*Save the pandas dataframe to csv file*"
      ]
    },
    {
      "cell_type": "code",
      "execution_count": 25,
      "metadata": {
        "colab": {
          "base_uri": "https://localhost:8080/",
          "height": 17
        },
        "id": "BEfj52-snarl",
        "outputId": "8f9db4c1-fc06-4fde-b0d4-3033a06fd2a0"
      },
      "outputs": [
        {
          "data": {
            "text/html": [
              "\n",
              "            <style>\n",
              "                .geemap-dark {\n",
              "                    --jp-widgets-color: white;\n",
              "                    --jp-widgets-label-color: white;\n",
              "                    --jp-ui-font-color1: white;\n",
              "                    --jp-layout-color2: #454545;\n",
              "                    background-color: #383838;\n",
              "                }\n",
              "                    \n",
              "                .geemap-dark .jupyter-button {\n",
              "                    --jp-layout-color3: #383838;\n",
              "                }\n",
              "                \n",
              "                .geemap-colab {\n",
              "                    background-color: var(--colab-primary-surface-color, white);\n",
              "                }\n",
              "                    \n",
              "                .geemap-colab .jupyter-button {\n",
              "                    --jp-layout-color3: var(--colab-primary-surface-color, white);\n",
              "                }\n",
              "            </style>\n",
              "            "
            ],
            "text/plain": [
              "<IPython.core.display.HTML object>"
            ]
          },
          "metadata": {},
          "output_type": "display_data"
        }
      ],
      "source": [
        "#train_samples_df.to_csv('AfghanTraining_15D.csv',index=False)\n",
        "#test_samples_df.to_csv('AfghanTesting_15D.csv',index=False)"
      ]
    },
    {
      "cell_type": "markdown",
      "metadata": {
        "id": "5A1j4AhRnq6z"
      },
      "source": [
        "  **Model Development**"
      ]
    },
    {
      "cell_type": "code",
      "execution_count": 26,
      "metadata": {
        "colab": {
          "base_uri": "https://localhost:8080/",
          "height": 17
        },
        "id": "KOK-nEC2nnHk",
        "outputId": "d324e4f7-0df1-4f3a-a1c1-178b7e6c780f"
      },
      "outputs": [
        {
          "data": {
            "text/html": [
              "\n",
              "            <style>\n",
              "                .geemap-dark {\n",
              "                    --jp-widgets-color: white;\n",
              "                    --jp-widgets-label-color: white;\n",
              "                    --jp-ui-font-color1: white;\n",
              "                    --jp-layout-color2: #454545;\n",
              "                    background-color: #383838;\n",
              "                }\n",
              "                    \n",
              "                .geemap-dark .jupyter-button {\n",
              "                    --jp-layout-color3: #383838;\n",
              "                }\n",
              "                \n",
              "                .geemap-colab {\n",
              "                    background-color: var(--colab-primary-surface-color, white);\n",
              "                }\n",
              "                    \n",
              "                .geemap-colab .jupyter-button {\n",
              "                    --jp-layout-color3: var(--colab-primary-surface-color, white);\n",
              "                }\n",
              "            </style>\n",
              "            "
            ],
            "text/plain": [
              "<IPython.core.display.HTML object>"
            ]
          },
          "metadata": {},
          "output_type": "display_data"
        }
      ],
      "source": [
        "# Reproducible  Results\n",
        "import random\n",
        "\n",
        "seed = 2023\n",
        "\n",
        "random.seed(seed)\n",
        "np.random.seed(seed)\n",
        "torch.manual_seed(seed)\n",
        "torch.cuda.manual_seed(seed)\n",
        "torch.backends.cudnn.deterministic = True"
      ]
    },
    {
      "cell_type": "code",
      "execution_count": 27,
      "metadata": {
        "colab": {
          "base_uri": "https://localhost:8080/",
          "height": 34
        },
        "id": "3PZTBN9foxlO",
        "outputId": "bb8beaaf-d010-4750-8bf9-227c15e40375"
      },
      "outputs": [
        {
          "data": {
            "text/html": [
              "\n",
              "            <style>\n",
              "                .geemap-dark {\n",
              "                    --jp-widgets-color: white;\n",
              "                    --jp-widgets-label-color: white;\n",
              "                    --jp-ui-font-color1: white;\n",
              "                    --jp-layout-color2: #454545;\n",
              "                    background-color: #383838;\n",
              "                }\n",
              "                    \n",
              "                .geemap-dark .jupyter-button {\n",
              "                    --jp-layout-color3: #383838;\n",
              "                }\n",
              "                \n",
              "                .geemap-colab {\n",
              "                    background-color: var(--colab-primary-surface-color, white);\n",
              "                }\n",
              "                    \n",
              "                .geemap-colab .jupyter-button {\n",
              "                    --jp-layout-color3: var(--colab-primary-surface-color, white);\n",
              "                }\n",
              "            </style>\n",
              "            "
            ],
            "text/plain": [
              "<IPython.core.display.HTML object>"
            ]
          },
          "metadata": {},
          "output_type": "display_data"
        },
        {
          "name": "stdout",
          "output_type": "stream",
          "text": [
            "cuda:0\n"
          ]
        }
      ],
      "source": [
        "# Availablility of GPU device\n",
        "device = torch.device('cuda:0' if torch.cuda.is_available() else 'cpu')\n",
        "print(device)"
      ]
    },
    {
      "cell_type": "code",
      "execution_count": 28,
      "metadata": {
        "colab": {
          "base_uri": "https://localhost:8080/",
          "height": 17
        },
        "id": "WTFk34DMo5Ff",
        "outputId": "f4fe2f3a-af8f-4b91-f5a2-d977aa2dce2f"
      },
      "outputs": [
        {
          "data": {
            "text/html": [
              "\n",
              "            <style>\n",
              "                .geemap-dark {\n",
              "                    --jp-widgets-color: white;\n",
              "                    --jp-widgets-label-color: white;\n",
              "                    --jp-ui-font-color1: white;\n",
              "                    --jp-layout-color2: #454545;\n",
              "                    background-color: #383838;\n",
              "                }\n",
              "                    \n",
              "                .geemap-dark .jupyter-button {\n",
              "                    --jp-layout-color3: #383838;\n",
              "                }\n",
              "                \n",
              "                .geemap-colab {\n",
              "                    background-color: var(--colab-primary-surface-color, white);\n",
              "                }\n",
              "                    \n",
              "                .geemap-colab .jupyter-button {\n",
              "                    --jp-layout-color3: var(--colab-primary-surface-color, white);\n",
              "                }\n",
              "            </style>\n",
              "            "
            ],
            "text/plain": [
              "<IPython.core.display.HTML object>"
            ]
          },
          "metadata": {},
          "output_type": "display_data"
        }
      ],
      "source": [
        "# Conversion of Pandas Dataframe to required Pytorch Dataset\n",
        "\n",
        "class TimeSeries(Dataset):\n",
        "    def __init__(self,df,features,Target):\n",
        "        self.df = df\n",
        "        self.features = features\n",
        "        self.Target = Target\n",
        "        self.X,self.y = self.make_sequence()\n",
        "    def make_sequence(self):\n",
        "        X = []\n",
        "        y = []\n",
        "        for i in range(len(self.df)):\n",
        "            X.append(self.df.loc[i,self.features].astype(float).values.reshape(6,6))\n",
        "            y.append(self.df.loc[i,self.Target])\n",
        "        return torch.tensor(X).float(),torch.tensor(y).float()\n",
        "    def __len__(self):\n",
        "        return len(self.X)\n",
        "\n",
        "    def __getitem__(self,ix):\n",
        "        return self.X[ix],self.y[ix]"
      ]
    },
    {
      "cell_type": "code",
      "execution_count": 29,
      "metadata": {
        "colab": {
          "base_uri": "https://localhost:8080/",
          "height": 17
        },
        "id": "dkbcYqMvp3DD",
        "outputId": "e5f6f60b-9e4c-49e8-e9dc-b8b0085db23b"
      },
      "outputs": [
        {
          "data": {
            "text/html": [
              "\n",
              "            <style>\n",
              "                .geemap-dark {\n",
              "                    --jp-widgets-color: white;\n",
              "                    --jp-widgets-label-color: white;\n",
              "                    --jp-ui-font-color1: white;\n",
              "                    --jp-layout-color2: #454545;\n",
              "                    background-color: #383838;\n",
              "                }\n",
              "                    \n",
              "                .geemap-dark .jupyter-button {\n",
              "                    --jp-layout-color3: #383838;\n",
              "                }\n",
              "                \n",
              "                .geemap-colab {\n",
              "                    background-color: var(--colab-primary-surface-color, white);\n",
              "                }\n",
              "                    \n",
              "                .geemap-colab .jupyter-button {\n",
              "                    --jp-layout-color3: var(--colab-primary-surface-color, white);\n",
              "                }\n",
              "            </style>\n",
              "            "
            ],
            "text/plain": [
              "<IPython.core.display.HTML object>"
            ]
          },
          "metadata": {},
          "output_type": "display_data"
        }
      ],
      "source": [
        "# Selected and Important Indices for Afghanistan Region\n",
        "\n",
        "features = ['0_NDVI','0_NDRE','0_GNDVI','0_ARVI','0_NDMI','0_BSI',\n",
        "         '1_NDVI','1_NDRE','1_GNDVI','1_ARVI','1_NDMI','1_BSI',\n",
        "         '2_NDVI','2_NDRE','2_GNDVI','2_ARVI','2_NDMI','2_BSI',\n",
        "         '3_NDVI','3_NDRE','3_GNDVI','3_ARVI','3_NDMI','3_BSI',\n",
        "         '4_NDVI','4_NDRE','4_GNDVI','4_ARVI','4_NDMI','4_BSI',\n",
        "         '5_NDVI','5_NDRE','5_GNDVI','5_ARVI','5_NDMI','5_BSI']\n",
        "Target = 'Target'"
      ]
    },
    {
      "cell_type": "code",
      "execution_count": 32,
      "metadata": {
        "colab": {
          "base_uri": "https://localhost:8080/",
          "height": 17
        },
        "id": "sQ1aPoH3qCLB",
        "outputId": "f4aac7fd-59e1-41c3-91ca-ad0466a9e363"
      },
      "outputs": [
        {
          "data": {
            "text/html": [
              "\n",
              "            <style>\n",
              "                .geemap-dark {\n",
              "                    --jp-widgets-color: white;\n",
              "                    --jp-widgets-label-color: white;\n",
              "                    --jp-ui-font-color1: white;\n",
              "                    --jp-layout-color2: #454545;\n",
              "                    background-color: #383838;\n",
              "                }\n",
              "                    \n",
              "                .geemap-dark .jupyter-button {\n",
              "                    --jp-layout-color3: #383838;\n",
              "                }\n",
              "                \n",
              "                .geemap-colab {\n",
              "                    background-color: var(--colab-primary-surface-color, white);\n",
              "                }\n",
              "                    \n",
              "                .geemap-colab .jupyter-button {\n",
              "                    --jp-layout-color3: var(--colab-primary-surface-color, white);\n",
              "                }\n",
              "            </style>\n",
              "            "
            ],
            "text/plain": [
              "<IPython.core.display.HTML object>"
            ]
          },
          "metadata": {},
          "output_type": "display_data"
        }
      ],
      "source": [
        "# Splitting of Training Dataset into Train and Validation where Validation helps to improve the model hyperparamter and early stopping\n",
        "test_size = 0.3\n",
        "X = train_samples_df.drop(['Target'],axis=1)\n",
        "y = train_samples_df[['Target']]\n",
        "\n",
        "trainX,valX,trainY,valY = model_selection.train_test_split(X,y,test_size=test_size,random_state=seed,stratify=y)\n",
        "\n",
        "trainDF = pd.concat([trainX,trainY],axis=1)\n",
        "valDF = pd.concat([valX,valY],axis=1)"
      ]
    },
    {
      "cell_type": "code",
      "execution_count": 34,
      "metadata": {
        "colab": {
          "base_uri": "https://localhost:8080/",
          "height": 407
        },
        "id": "9kpwAF5XqTD1",
        "outputId": "5b01043b-581b-4ce1-cde4-23ab6f8900d0"
      },
      "outputs": [
        {
          "data": {
            "text/html": [
              "\n",
              "            <style>\n",
              "                .geemap-dark {\n",
              "                    --jp-widgets-color: white;\n",
              "                    --jp-widgets-label-color: white;\n",
              "                    --jp-ui-font-color1: white;\n",
              "                    --jp-layout-color2: #454545;\n",
              "                    background-color: #383838;\n",
              "                }\n",
              "                    \n",
              "                .geemap-dark .jupyter-button {\n",
              "                    --jp-layout-color3: #383838;\n",
              "                }\n",
              "                \n",
              "                .geemap-colab {\n",
              "                    background-color: var(--colab-primary-surface-color, white);\n",
              "                }\n",
              "                    \n",
              "                .geemap-colab .jupyter-button {\n",
              "                    --jp-layout-color3: var(--colab-primary-surface-color, white);\n",
              "                }\n",
              "            </style>\n",
              "            "
            ],
            "text/plain": [
              "<IPython.core.display.HTML object>"
            ]
          },
          "metadata": {},
          "output_type": "display_data"
        },
        {
          "data": {
            "image/png": "[encoded data removed]",
            "text/plain": [
              "<Figure size 1000x400 with 2 Axes>"
            ]
          },
          "metadata": {},
          "output_type": "display_data"
        }
      ],
      "source": [
        "fig,axs = plt.subplots(nrows=1,ncols=2,figsize=(10,4))\n",
        "# Plot the first histogram on the left subplot\n",
        "axs[0].hist(trainY, color='blue', alpha=0.7)\n",
        "axs[0].set_title(\"Training Class Distribution\")\n",
        "axs[0].set_xlabel(\"Class\")\n",
        "axs[0].set_ylabel(\"Frequency\")\n",
        "\n",
        "# Plot the second histogram on the right subplot\n",
        "axs[1].hist(valY, color='red', alpha=0.7)\n",
        "axs[1].set_title(\"Validation Class Distribution\")\n",
        "axs[1].set_xlabel(\"Class\")\n",
        "axs[1].set_ylabel(\"Frequency\")\n",
        "\n",
        "# Display the plots\n",
        "plt.tight_layout()\n",
        "plt.show()"
      ]
    },
    {
      "cell_type": "code",
      "execution_count": 35,
      "metadata": {
        "colab": {
          "base_uri": "https://localhost:8080/",
          "height": 17
        },
        "id": "FEqLlqpQqorb",
        "outputId": "5e623389-99cd-403b-8180-a7c39b75d441"
      },
      "outputs": [
        {
          "data": {
            "text/html": [
              "\n",
              "            <style>\n",
              "                .geemap-dark {\n",
              "                    --jp-widgets-color: white;\n",
              "                    --jp-widgets-label-color: white;\n",
              "                    --jp-ui-font-color1: white;\n",
              "                    --jp-layout-color2: #454545;\n",
              "                    background-color: #383838;\n",
              "                }\n",
              "                    \n",
              "                .geemap-dark .jupyter-button {\n",
              "                    --jp-layout-color3: #383838;\n",
              "                }\n",
              "                \n",
              "                .geemap-colab {\n",
              "                    background-color: var(--colab-primary-surface-color, white);\n",
              "                }\n",
              "                    \n",
              "                .geemap-colab .jupyter-button {\n",
              "                    --jp-layout-color3: var(--colab-primary-surface-color, white);\n",
              "                }\n",
              "            </style>\n",
              "            "
            ],
            "text/plain": [
              "<IPython.core.display.HTML object>"
            ]
          },
          "metadata": {},
          "output_type": "display_data"
        }
      ],
      "source": [
        "trainDF.reset_index(drop=True,inplace=True)\n",
        "valDF.reset_index(drop=True,inplace=True)\n",
        "\n",
        "# Deep Learning Format Dataset\n",
        "trainDS = TimeSeries(trainDF,features,Target)\n",
        "valDS = TimeSeries(valDF,features,Target)"
      ]
    },
    {
      "cell_type": "code",
      "execution_count": 36,
      "metadata": {
        "colab": {
          "base_uri": "https://localhost:8080/",
          "height": 17
        },
        "id": "r7lWszeuq0-R",
        "outputId": "5b1ec356-671a-4521-a009-211fd2d8d860"
      },
      "outputs": [
        {
          "data": {
            "text/html": [
              "\n",
              "            <style>\n",
              "                .geemap-dark {\n",
              "                    --jp-widgets-color: white;\n",
              "                    --jp-widgets-label-color: white;\n",
              "                    --jp-ui-font-color1: white;\n",
              "                    --jp-layout-color2: #454545;\n",
              "                    background-color: #383838;\n",
              "                }\n",
              "                    \n",
              "                .geemap-dark .jupyter-button {\n",
              "                    --jp-layout-color3: #383838;\n",
              "                }\n",
              "                \n",
              "                .geemap-colab {\n",
              "                    background-color: var(--colab-primary-surface-color, white);\n",
              "                }\n",
              "                    \n",
              "                .geemap-colab .jupyter-button {\n",
              "                    --jp-layout-color3: var(--colab-primary-surface-color, white);\n",
              "                }\n",
              "            </style>\n",
              "            "
            ],
            "text/plain": [
              "<IPython.core.display.HTML object>"
            ]
          },
          "metadata": {},
          "output_type": "display_data"
        }
      ],
      "source": [
        "# DataLoader Module to Convert the Dataset, so as to send the data into batches\n",
        "trainDL = DataLoader(trainDS,batch_size=14,shuffle=False)\n",
        "valDL = DataLoader(valDS,batch_size=1,shuffle=False)"
      ]
    },
    {
      "cell_type": "markdown",
      "metadata": {
        "id": "nbiH2FUprtol"
      },
      "source": [
        "<i> Bi-Directional LSTM </i>\n",
        "\n",
        "> Bi-directional Long Short-Term Memory (Bi-LSTM) models belong to the family of recurrent neural networks (RNNs) and are specifically designed to capture sequential information by processing data in both forward and backward directions. By considering both past and future contexts simultaneously, Bi-LSTMs are able to make more informed predictions, especially in tasks that involve sequences, such as time-series forecasting, natural language processing, and speech recognition.\n",
        "\n"
      ]
    },
    {
      "cell_type": "code",
      "execution_count": 37,
      "metadata": {
        "colab": {
          "base_uri": "https://localhost:8080/",
          "height": 17
        },
        "id": "zC_SH37qrpT7",
        "outputId": "e3e1924a-eba3-4fa3-e674-f060b0486388"
      },
      "outputs": [
        {
          "data": {
            "text/html": [
              "\n",
              "            <style>\n",
              "                .geemap-dark {\n",
              "                    --jp-widgets-color: white;\n",
              "                    --jp-widgets-label-color: white;\n",
              "                    --jp-ui-font-color1: white;\n",
              "                    --jp-layout-color2: #454545;\n",
              "                    background-color: #383838;\n",
              "                }\n",
              "                    \n",
              "                .geemap-dark .jupyter-button {\n",
              "                    --jp-layout-color3: #383838;\n",
              "                }\n",
              "                \n",
              "                .geemap-colab {\n",
              "                    background-color: var(--colab-primary-surface-color, white);\n",
              "                }\n",
              "                    \n",
              "                .geemap-colab .jupyter-button {\n",
              "                    --jp-layout-color3: var(--colab-primary-surface-color, white);\n",
              "                }\n",
              "            </style>\n",
              "            "
            ],
            "text/plain": [
              "<IPython.core.display.HTML object>"
            ]
          },
          "metadata": {},
          "output_type": "display_data"
        }
      ],
      "source": [
        "class BiLSTMClassifier(nn.Module):\n",
        "    def __init__(self, input_size, hidden_size, num_layers, dropout_rate):\n",
        "        super(BiLSTMClassifier, self).__init__()\n",
        "\n",
        "        self.hidden_size = hidden_size\n",
        "        # Bidirectional LSTM layer\n",
        "        self.lstm = nn.LSTM(input_size, hidden_size, num_layers,\n",
        "                            batch_first=True, dropout=dropout_rate, bidirectional=True)\n",
        "\n",
        "        # Fully connected layer for classification\n",
        "        self.fc = nn.Linear(2*hidden_size, 2)  # 2*hidden_size because it's bidirectional\n",
        "\n",
        "        # Softmax layer for converting output to probability\n",
        "        self.softmax = nn.LogSoftmax(dim=1)\n",
        "\n",
        "    def forward(self, x):\n",
        "        # Passing input through LSTM layer\n",
        "        lstm_out, _ = self.lstm(x)\n",
        "\n",
        "        # Taking the last output of LSTM (using the forward and backward hidden states)\n",
        "        final_hidden_state = torch.cat((lstm_out[:, -1, :self.hidden_size],\n",
        "                                        lstm_out[:, 0, self.hidden_size:]), dim=1)\n",
        "\n",
        "        # Passing LSTM output through fully connected layer\n",
        "        fc_out = self.fc(final_hidden_state)\n",
        "\n",
        "        # Passing through softmax layer to get probabilities\n",
        "        output = self.softmax(fc_out)\n",
        "        return output"
      ]
    },
    {
      "cell_type": "code",
      "execution_count": 38,
      "metadata": {
        "colab": {
          "base_uri": "https://localhost:8080/",
          "height": 17
        },
        "id": "zuw7XYUoslL4",
        "outputId": "9bd6316c-9cc2-4163-928f-f280ffc43088"
      },
      "outputs": [
        {
          "data": {
            "text/html": [
              "\n",
              "            <style>\n",
              "                .geemap-dark {\n",
              "                    --jp-widgets-color: white;\n",
              "                    --jp-widgets-label-color: white;\n",
              "                    --jp-ui-font-color1: white;\n",
              "                    --jp-layout-color2: #454545;\n",
              "                    background-color: #383838;\n",
              "                }\n",
              "                    \n",
              "                .geemap-dark .jupyter-button {\n",
              "                    --jp-layout-color3: #383838;\n",
              "                }\n",
              "                \n",
              "                .geemap-colab {\n",
              "                    background-color: var(--colab-primary-surface-color, white);\n",
              "                }\n",
              "                    \n",
              "                .geemap-colab .jupyter-button {\n",
              "                    --jp-layout-color3: var(--colab-primary-surface-color, white);\n",
              "                }\n",
              "            </style>\n",
              "            "
            ],
            "text/plain": [
              "<IPython.core.display.HTML object>"
            ]
          },
          "metadata": {},
          "output_type": "display_data"
        }
      ],
      "source": [
        "model = BiLSTMClassifier(input_size=6, hidden_size=50, num_layers=1, dropout_rate=0.42)"
      ]
    },
    {
      "cell_type": "code",
      "execution_count": 39,
      "metadata": {
        "colab": {
          "base_uri": "https://localhost:8080/",
          "height": 34
        },
        "id": "nbbzro7PsrH4",
        "outputId": "07004615-5df1-4a46-a247-3aaca1bbc8ee"
      },
      "outputs": [
        {
          "data": {
            "text/html": [
              "\n",
              "            <style>\n",
              "                .geemap-dark {\n",
              "                    --jp-widgets-color: white;\n",
              "                    --jp-widgets-label-color: white;\n",
              "                    --jp-ui-font-color1: white;\n",
              "                    --jp-layout-color2: #454545;\n",
              "                    background-color: #383838;\n",
              "                }\n",
              "                    \n",
              "                .geemap-dark .jupyter-button {\n",
              "                    --jp-layout-color3: #383838;\n",
              "                }\n",
              "                \n",
              "                .geemap-colab {\n",
              "                    background-color: var(--colab-primary-surface-color, white);\n",
              "                }\n",
              "                    \n",
              "                .geemap-colab .jupyter-button {\n",
              "                    --jp-layout-color3: var(--colab-primary-surface-color, white);\n",
              "                }\n",
              "            </style>\n",
              "            "
            ],
            "text/plain": [
              "<IPython.core.display.HTML object>"
            ]
          },
          "metadata": {},
          "output_type": "display_data"
        },
        {
          "data": {
            "text/plain": [
              "torch.Size([1, 2])"
            ]
          },
          "execution_count": 39,
          "metadata": {},
          "output_type": "execute_result"
        }
      ],
      "source": [
        "# Shape of the Final Output from the model\n",
        "model(torch.randn(1,6,6)).shape"
      ]
    },
    {
      "cell_type": "code",
      "execution_count": 40,
      "metadata": {
        "colab": {
          "base_uri": "https://localhost:8080/",
          "height": 17
        },
        "id": "p0pU9jopsxVE",
        "outputId": "e88e106f-d973-47ff-b637-4a623d7dffdf"
      },
      "outputs": [
        {
          "data": {
            "text/html": [
              "\n",
              "            <style>\n",
              "                .geemap-dark {\n",
              "                    --jp-widgets-color: white;\n",
              "                    --jp-widgets-label-color: white;\n",
              "                    --jp-ui-font-color1: white;\n",
              "                    --jp-layout-color2: #454545;\n",
              "                    background-color: #383838;\n",
              "                }\n",
              "                    \n",
              "                .geemap-dark .jupyter-button {\n",
              "                    --jp-layout-color3: #383838;\n",
              "                }\n",
              "                \n",
              "                .geemap-colab {\n",
              "                    background-color: var(--colab-primary-surface-color, white);\n",
              "                }\n",
              "                    \n",
              "                .geemap-colab .jupyter-button {\n",
              "                    --jp-layout-color3: var(--colab-primary-surface-color, white);\n",
              "                }\n",
              "            </style>\n",
              "            "
            ],
            "text/plain": [
              "<IPython.core.display.HTML object>"
            ]
          },
          "metadata": {},
          "output_type": "display_data"
        }
      ],
      "source": [
        "# Diffuse the model to GPU, as it train faster.\n",
        "model = model.to(device)"
      ]
    },
    {
      "cell_type": "code",
      "execution_count": 41,
      "metadata": {
        "colab": {
          "base_uri": "https://localhost:8080/",
          "height": 17
        },
        "id": "IT1CYYxNtSeS",
        "outputId": "27a4d8b1-0116-49d5-a186-49980b2d933e"
      },
      "outputs": [
        {
          "data": {
            "text/html": [
              "\n",
              "            <style>\n",
              "                .geemap-dark {\n",
              "                    --jp-widgets-color: white;\n",
              "                    --jp-widgets-label-color: white;\n",
              "                    --jp-ui-font-color1: white;\n",
              "                    --jp-layout-color2: #454545;\n",
              "                    background-color: #383838;\n",
              "                }\n",
              "                    \n",
              "                .geemap-dark .jupyter-button {\n",
              "                    --jp-layout-color3: #383838;\n",
              "                }\n",
              "                \n",
              "                .geemap-colab {\n",
              "                    background-color: var(--colab-primary-surface-color, white);\n",
              "                }\n",
              "                    \n",
              "                .geemap-colab .jupyter-button {\n",
              "                    --jp-layout-color3: var(--colab-primary-surface-color, white);\n",
              "                }\n",
              "            </style>\n",
              "            "
            ],
            "text/plain": [
              "<IPython.core.display.HTML object>"
            ]
          },
          "metadata": {},
          "output_type": "display_data"
        }
      ],
      "source": [
        "# Negative Log-Likelihood Loss which is commonly used for classifying a model that estimates class probabailities,\n",
        "# such that predicted probability of true class should be maximized.\n",
        "criterion = nn.NLLLoss()\n",
        "\n",
        "# In neural networks, an optimizer is an algorithm used to minimize (or maximize) the loss function by\n",
        "# iteratively adjusting the model's weights and biases.\n",
        "optimizer = optim.Adam(model.parameters(), lr=0.001)"
      ]
    },
    {
      "cell_type": "code",
      "execution_count": 42,
      "metadata": {
        "colab": {
          "base_uri": "https://localhost:8080/",
          "height": 17
        },
        "id": "wL_LtlrzupmJ",
        "outputId": "1272152d-466a-4d6f-f169-cc98e1ab14ad"
      },
      "outputs": [
        {
          "data": {
            "text/html": [
              "\n",
              "            <style>\n",
              "                .geemap-dark {\n",
              "                    --jp-widgets-color: white;\n",
              "                    --jp-widgets-label-color: white;\n",
              "                    --jp-ui-font-color1: white;\n",
              "                    --jp-layout-color2: #454545;\n",
              "                    background-color: #383838;\n",
              "                }\n",
              "                    \n",
              "                .geemap-dark .jupyter-button {\n",
              "                    --jp-layout-color3: #383838;\n",
              "                }\n",
              "                \n",
              "                .geemap-colab {\n",
              "                    background-color: var(--colab-primary-surface-color, white);\n",
              "                }\n",
              "                    \n",
              "                .geemap-colab .jupyter-button {\n",
              "                    --jp-layout-color3: var(--colab-primary-surface-color, white);\n",
              "                }\n",
              "            </style>\n",
              "            "
            ],
            "text/plain": [
              "<IPython.core.display.HTML object>"
            ]
          },
          "metadata": {},
          "output_type": "display_data"
        }
      ],
      "source": [
        "train_losses,val_losses = [],[]"
      ]
    },
    {
      "cell_type": "code",
      "execution_count": 45,
      "metadata": {
        "colab": {
          "base_uri": "https://localhost:8080/",
          "height": 17
        },
        "id": "M-lrz6jsusMD",
        "outputId": "9609b55d-fe28-46ec-c883-fc4893f1d613"
      },
      "outputs": [
        {
          "data": {
            "text/html": [
              "\n",
              "            <style>\n",
              "                .geemap-dark {\n",
              "                    --jp-widgets-color: white;\n",
              "                    --jp-widgets-label-color: white;\n",
              "                    --jp-ui-font-color1: white;\n",
              "                    --jp-layout-color2: #454545;\n",
              "                    background-color: #383838;\n",
              "                }\n",
              "                    \n",
              "                .geemap-dark .jupyter-button {\n",
              "                    --jp-layout-color3: #383838;\n",
              "                }\n",
              "                \n",
              "                .geemap-colab {\n",
              "                    background-color: var(--colab-primary-surface-color, white);\n",
              "                }\n",
              "                    \n",
              "                .geemap-colab .jupyter-button {\n",
              "                    --jp-layout-color3: var(--colab-primary-surface-color, white);\n",
              "                }\n",
              "            </style>\n",
              "            "
            ],
            "text/plain": [
              "<IPython.core.display.HTML object>"
            ]
          },
          "metadata": {},
          "output_type": "display_data"
        }
      ],
      "source": [
        "def running_model(model,train_data,valid_data,n_epochs):\n",
        "    best_loss = float('inf')\n",
        "    for epoch in tqdm(range(1,n_epochs+1)):\n",
        "        train_loss = 0.0\n",
        "        val_loss = []\n",
        "\n",
        "        for i,(inputs,labels) in enumerate(train_data):\n",
        "            model.train()\n",
        "\n",
        "            inputs = Variable(inputs).to(device)\n",
        "            labels = Variable(labels.type(torch.LongTensor)).to(device)\n",
        "            outputs = model(inputs)\n",
        "\n",
        "            loss = criterion(outputs,labels)\n",
        "            optimizer.zero_grad()\n",
        "            loss.backward()\n",
        "            optimizer.step()\n",
        "\n",
        "            train_loss += round(loss.cpu().item(),5)*inputs.size(0)\n",
        "\n",
        "            if i%10 == 0 and i>0:\n",
        "                model.eval()\n",
        "                with torch.no_grad():\n",
        "                    eval_loss = 0.0\n",
        "                    for inputs,labels in valid_data:\n",
        "                        inputs = Variable(inputs).to(device)\n",
        "                        labels = Variable(labels.type(torch.LongTensor)).to(device)\n",
        "\n",
        "                        outputs = model(inputs)\n",
        "\n",
        "                        eval_loss += round(criterion(outputs,labels).cpu().item(),5)*inputs.size(0)\n",
        "                    val_loss.append(eval_loss/len(valid_data.dataset))\n",
        "\n",
        "        overall_val_loss=sum(val_loss)/len(val_loss)\n",
        "        print(f'{epoch} Epoch is completed and their validation loss is {overall_val_loss}')\n",
        "        if overall_val_loss<best_loss:\n",
        "            best_loss=overall_val_loss\n",
        "            torch.save(model.state_dict(),f'/content/drive/MyDrive/model_optuna{epoch}.pth') # Path to save a model\n",
        "\n",
        "        train_losses.append(train_loss / len(train_data.dataset))\n",
        "        val_losses.append(overall_val_loss)"
      ]
    },
    {
      "cell_type": "code",
      "execution_count": 46,
      "metadata": {
        "colab": {
          "base_uri": "https://localhost:8080/",
          "height": 1000,
          "referenced_widgets": [
            "02a2a807982c44b7aa145c9ccdd2cc92",
            "889c137e367746968270354b885b0c03",
            "90e6e6c0f84f4ceab7ee0d0fb2cccdd1",
            "653531a2042f4219aa02b0d29fb2af32",
            "93289043e1da4958a047d388f9c3853f",
            "b5e0cd0d0e07486495632000046f7634",
            "ff4e919fbb7342bb84a346590df7ac2d",
            "305b8e94f8d049f48f0d04a2c65e3e3d",
            "637865cd5b93432195e90402bbc0bf0c",
            "77967f0f18b04dd582dcd69d51a7fbab",
            "97dc2a0810714f3a80eeea6e3c5b04e0"
          ]
        },
        "id": "YLBWZx2jux-G",
        "outputId": "73e1d337-f78b-469b-88f9-aff2b848e391"
      },
      "outputs": [
        {
          "data": {
            "text/html": [
              "\n",
              "            <style>\n",
              "                .geemap-dark {\n",
              "                    --jp-widgets-color: white;\n",
              "                    --jp-widgets-label-color: white;\n",
              "                    --jp-ui-font-color1: white;\n",
              "                    --jp-layout-color2: #454545;\n",
              "                    background-color: #383838;\n",
              "                }\n",
              "                    \n",
              "                .geemap-dark .jupyter-button {\n",
              "                    --jp-layout-color3: #383838;\n",
              "                }\n",
              "                \n",
              "                .geemap-colab {\n",
              "                    background-color: var(--colab-primary-surface-color, white);\n",
              "                }\n",
              "                    \n",
              "                .geemap-colab .jupyter-button {\n",
              "                    --jp-layout-color3: var(--colab-primary-surface-color, white);\n",
              "                }\n",
              "            </style>\n",
              "            "
            ],
            "text/plain": [
              "<IPython.core.display.HTML object>"
            ]
          },
          "metadata": {},
          "output_type": "display_data"
        },
        {
          "data": {
            "application/vnd.jupyter.widget-view+json": {
              "model_id": "02a2a807982c44b7aa145c9ccdd2cc92",
              "version_major": 2,
              "version_minor": 0
            },
            "text/plain": [
              "  0%|          | 0/60 [00:00<?, ?it/s]"
            ]
          },
          "metadata": {
            "application/vnd.jupyter.widget-view+json": {
              "colab": {
                "custom_widget_manager": {
                  "url": "https://ssl.gstatic.com/colaboratory-static/widgets/colab-cdn-widget-manager/b3e629b1971e1542/manager.min.js"
                }
              }
            }
          },
          "output_type": "display_data"
        },
        {
          "name": "stdout",
          "output_type": "stream",
          "text": [
            "1 Epoch is completed and their validation loss is 0.6333369666666666\n",
            "2 Epoch is completed and their validation loss is 0.6339327000000001\n",
            "3 Epoch is completed and their validation loss is 0.6078702666666669\n",
            "4 Epoch is completed and their validation loss is 0.5874175666666663\n",
            "5 Epoch is completed and their validation loss is 0.5768146666666664\n",
            "6 Epoch is completed and their validation loss is 0.5686707333333333\n",
            "7 Epoch is completed and their validation loss is 0.5626114666666666\n",
            "8 Epoch is completed and their validation loss is 0.5567005666666666\n",
            "9 Epoch is completed and their validation loss is 0.5494869666666666\n",
            "10 Epoch is completed and their validation loss is 0.5391218999999998\n",
            "11 Epoch is completed and their validation loss is 0.5238586666666666\n",
            "12 Epoch is completed and their validation loss is 0.5052399333333335\n",
            "13 Epoch is completed and their validation loss is 0.4935561999999998\n",
            "14 Epoch is completed and their validation loss is 0.4912300999999999\n",
            "15 Epoch is completed and their validation loss is 0.4932515000000002\n",
            "16 Epoch is completed and their validation loss is 0.49706006666666674\n",
            "17 Epoch is completed and their validation loss is 0.49906833333333345\n",
            "18 Epoch is completed and their validation loss is 0.49881510000000007\n",
            "19 Epoch is completed and their validation loss is 0.49746863333333335\n",
            "20 Epoch is completed and their validation loss is 0.49585976666666676\n",
            "21 Epoch is completed and their validation loss is 0.49430433333333323\n",
            "22 Epoch is completed and their validation loss is 0.49293426666666673\n",
            "23 Epoch is completed and their validation loss is 0.4918115333333334\n",
            "24 Epoch is completed and their validation loss is 0.4909400333333334\n",
            "25 Epoch is completed and their validation loss is 0.49028666666666676\n",
            "26 Epoch is completed and their validation loss is 0.48981069999999993\n",
            "27 Epoch is completed and their validation loss is 0.4894767333333333\n",
            "28 Epoch is completed and their validation loss is 0.48925966666666676\n",
            "29 Epoch is completed and their validation loss is 0.48913626666666665\n",
            "30 Epoch is completed and their validation loss is 0.4890923666666668\n",
            "31 Epoch is completed and their validation loss is 0.4891165333333336\n",
            "32 Epoch is completed and their validation loss is 0.48919830000000003\n",
            "33 Epoch is completed and their validation loss is 0.4893324666666668\n",
            "34 Epoch is completed and their validation loss is 0.48951386666666685\n",
            "35 Epoch is completed and their validation loss is 0.4897387666666667\n",
            "36 Epoch is completed and their validation loss is 0.4900054666666665\n",
            "37 Epoch is completed and their validation loss is 0.4903118333333335\n",
            "38 Epoch is completed and their validation loss is 0.4906556666666668\n",
            "39 Epoch is completed and their validation loss is 0.49103766666666687\n",
            "40 Epoch is completed and their validation loss is 0.4914558333333332\n",
            "41 Epoch is completed and their validation loss is 0.4919087333333334\n",
            "42 Epoch is completed and their validation loss is 0.49239696666666666\n",
            "43 Epoch is completed and their validation loss is 0.4929191666666666\n",
            "44 Epoch is completed and their validation loss is 0.4934748999999998\n",
            "45 Epoch is completed and their validation loss is 0.4940642666666667\n",
            "46 Epoch is completed and their validation loss is 0.49468636666666677\n",
            "47 Epoch is completed and their validation loss is 0.49534126666666667\n",
            "48 Epoch is completed and their validation loss is 0.49602913333333326\n",
            "49 Epoch is completed and their validation loss is 0.4967494333333332\n",
            "50 Epoch is completed and their validation loss is 0.49750320000000015\n",
            "51 Epoch is completed and their validation loss is 0.4982892333333333\n",
            "52 Epoch is completed and their validation loss is 0.4991095000000001\n",
            "53 Epoch is completed and their validation loss is 0.4999635666666666\n",
            "54 Epoch is completed and their validation loss is 0.5008522333333333\n",
            "55 Epoch is completed and their validation loss is 0.5017752666666666\n",
            "56 Epoch is completed and their validation loss is 0.5027334333333333\n",
            "57 Epoch is completed and their validation loss is 0.5037287000000001\n",
            "58 Epoch is completed and their validation loss is 0.5047605333333334\n",
            "59 Epoch is completed and their validation loss is 0.5058294\n",
            "60 Epoch is completed and their validation loss is 0.5069363666666667\n"
          ]
        }
      ],
      "source": [
        "running_model(model,trainDL,valDL,60)"
      ]
    },
    {
      "cell_type": "code",
      "execution_count": null,
      "metadata": {
        "id": "OSh6fx0au1vn"
      },
      "outputs": [],
      "source": []
    }
  ],
  "metadata": {
    "accelerator": "GPU",
    "colab": {
      "gpuType": "T4",
      "provenance": []
    },
    "kernelspec": {
      "display_name": "Python 3",
      "name": "python3"
    },
    "language_info": {
      "name": "python"
    },
    "widgets": {
      "application/vnd.jupyter.widget-state+json": {
        "02a2a807982c44b7aa145c9ccdd2cc92": {
          "model_module": "@jupyter-widgets/controls",
          "model_module_version": "1.5.0",
          "model_name": "HBoxModel",
          "state": {
            "_dom_classes": [],
            "_model_module": "@jupyter-widgets/controls",
            "_model_module_version": "1.5.0",
            "_model_name": "HBoxModel",
            "_view_count": null,
            "_view_module": "@jupyter-widgets/controls",
            "_view_module_version": "1.5.0",
            "_view_name": "HBoxView",
            "box_style": "",
            "children": [
              "IPY_MODEL_889c137e367746968270354b885b0c03",
              "IPY_MODEL_90e6e6c0f84f4ceab7ee0d0fb2cccdd1",
              "IPY_MODEL_653531a2042f4219aa02b0d29fb2af32"
            ],
            "layout": "IPY_MODEL_93289043e1da4958a047d388f9c3853f"
          }
        },
        "305b8e94f8d049f48f0d04a2c65e3e3d": {
          "model_module": "@jupyter-widgets/base",
          "model_module_version": "1.2.0",
          "model_name": "LayoutModel",
          "state": {
            "_model_module": "@jupyter-widgets/base",
            "_model_module_version": "1.2.0",
            "_model_name": "LayoutModel",
            "_view_count": null,
            "_view_module": "@jupyter-widgets/base",
            "_view_module_version": "1.2.0",
            "_view_name": "LayoutView",
            "align_content": null,
            "align_items": null,
            "align_self": null,
            "border": null,
            "bottom": null,
            "display": null,
            "flex": null,
            "flex_flow": null,
            "grid_area": null,
            "grid_auto_columns": null,
            "grid_auto_flow": null,
            "grid_auto_rows": null,
            "grid_column": null,
            "grid_gap": null,
            "grid_row": null,
            "grid_template_areas": null,
            "grid_template_columns": null,
            "grid_template_rows": null,
            "height": null,
            "justify_content": null,
            "justify_items": null,
            "left": null,
            "margin": null,
            "max_height": null,
            "max_width": null,
            "min_height": null,
            "min_width": null,
            "object_fit": null,
            "object_position": null,
            "order": null,
            "overflow": null,
            "overflow_x": null,
            "overflow_y": null,
            "padding": null,
            "right": null,
            "top": null,
            "visibility": null,
            "width": null
          }
        },
        "637865cd5b93432195e90402bbc0bf0c": {
          "model_module": "@jupyter-widgets/controls",
          "model_module_version": "1.5.0",
          "model_name": "ProgressStyleModel",
          "state": {
            "_model_module": "@jupyter-widgets/controls",
            "_model_module_version": "1.5.0",
            "_model_name": "ProgressStyleModel",
            "_view_count": null,
            "_view_module": "@jupyter-widgets/base",
            "_view_module_version": "1.2.0",
            "_view_name": "StyleView",
            "bar_color": null,
            "description_width": ""
          }
        },
        "653531a2042f4219aa02b0d29fb2af32": {
          "model_module": "@jupyter-widgets/controls",
          "model_module_version": "1.5.0",
          "model_name": "HTMLModel",
          "state": {
            "_dom_classes": [],
            "_model_module": "@jupyter-widgets/controls",
            "_model_module_version": "1.5.0",
            "_model_name": "HTMLModel",
            "_view_count": null,
            "_view_module": "@jupyter-widgets/controls",
            "_view_module_version": "1.5.0",
            "_view_name": "HTMLView",
            "description": "",
            "description_tooltip": null,
            "layout": "IPY_MODEL_77967f0f18b04dd582dcd69d51a7fbab",
            "placeholder": "​",
            "style": "IPY_MODEL_97dc2a0810714f3a80eeea6e3c5b04e0",
            "value": " 60/60 [00:15&lt;00:00,  4.19it/s]"
          }
        },
        "77967f0f18b04dd582dcd69d51a7fbab": {
          "model_module": "@jupyter-widgets/base",
          "model_module_version": "1.2.0",
          "model_name": "LayoutModel",
          "state": {
            "_model_module": "@jupyter-widgets/base",
            "_model_module_version": "1.2.0",
            "_model_name": "LayoutModel",
            "_view_count": null,
            "_view_module": "@jupyter-widgets/base",
            "_view_module_version": "1.2.0",
            "_view_name": "LayoutView",
            "align_content": null,
            "align_items": null,
            "align_self": null,
            "border": null,
            "bottom": null,
            "display": null,
            "flex": null,
            "flex_flow": null,
            "grid_area": null,
            "grid_auto_columns": null,
            "grid_auto_flow": null,
            "grid_auto_rows": null,
            "grid_column": null,
            "grid_gap": null,
            "grid_row": null,
            "grid_template_areas": null,
            "grid_template_columns": null,
            "grid_template_rows": null,
            "height": null,
            "justify_content": null,
            "justify_items": null,
            "left": null,
            "margin": null,
            "max_height": null,
            "max_width": null,
            "min_height": null,
            "min_width": null,
            "object_fit": null,
            "object_position": null,
            "order": null,
            "overflow": null,
            "overflow_x": null,
            "overflow_y": null,
            "padding": null,
            "right": null,
            "top": null,
            "visibility": null,
            "width": null
          }
        },
        "889c137e367746968270354b885b0c03": {
          "model_module": "@jupyter-widgets/controls",
          "model_module_version": "1.5.0",
          "model_name": "HTMLModel",
          "state": {
            "_dom_classes": [],
            "_model_module": "@jupyter-widgets/controls",
            "_model_module_version": "1.5.0",
            "_model_name": "HTMLModel",
            "_view_count": null,
            "_view_module": "@jupyter-widgets/controls",
            "_view_module_version": "1.5.0",
            "_view_name": "HTMLView",
            "description": "",
            "description_tooltip": null,
            "layout": "IPY_MODEL_b5e0cd0d0e07486495632000046f7634",
            "placeholder": "​",
            "style": "IPY_MODEL_ff4e919fbb7342bb84a346590df7ac2d",
            "value": "100%"
          }
        },
        "90e6e6c0f84f4ceab7ee0d0fb2cccdd1": {
          "model_module": "@jupyter-widgets/controls",
          "model_module_version": "1.5.0",
          "model_name": "FloatProgressModel",
          "state": {
            "_dom_classes": [],
            "_model_module": "@jupyter-widgets/controls",
            "_model_module_version": "1.5.0",
            "_model_name": "FloatProgressModel",
            "_view_count": null,
            "_view_module": "@jupyter-widgets/controls",
            "_view_module_version": "1.5.0",
            "_view_name": "ProgressView",
            "bar_style": "success",
            "description": "",
            "description_tooltip": null,
            "layout": "IPY_MODEL_305b8e94f8d049f48f0d04a2c65e3e3d",
            "max": 60,
            "min": 0,
            "orientation": "horizontal",
            "style": "IPY_MODEL_637865cd5b93432195e90402bbc0bf0c",
            "value": 60
          }
        },
        "93289043e1da4958a047d388f9c3853f": {
          "model_module": "@jupyter-widgets/base",
          "model_module_version": "1.2.0",
          "model_name": "LayoutModel",
          "state": {
            "_model_module": "@jupyter-widgets/base",
            "_model_module_version": "1.2.0",
            "_model_name": "LayoutModel",
            "_view_count": null,
            "_view_module": "@jupyter-widgets/base",
            "_view_module_version": "1.2.0",
            "_view_name": "LayoutView",
            "align_content": null,
            "align_items": null,
            "align_self": null,
            "border": null,
            "bottom": null,
            "display": null,
            "flex": null,
            "flex_flow": null,
            "grid_area": null,
            "grid_auto_columns": null,
            "grid_auto_flow": null,
            "grid_auto_rows": null,
            "grid_column": null,
            "grid_gap": null,
            "grid_row": null,
            "grid_template_areas": null,
            "grid_template_columns": null,
            "grid_template_rows": null,
            "height": null,
            "justify_content": null,
            "justify_items": null,
            "left": null,
            "margin": null,
            "max_height": null,
            "max_width": null,
            "min_height": null,
            "min_width": null,
            "object_fit": null,
            "object_position": null,
            "order": null,
            "overflow": null,
            "overflow_x": null,
            "overflow_y": null,
            "padding": null,
            "right": null,
            "top": null,
            "visibility": null,
            "width": null
          }
        },
        "97dc2a0810714f3a80eeea6e3c5b04e0": {
          "model_module": "@jupyter-widgets/controls",
          "model_module_version": "1.5.0",
          "model_name": "DescriptionStyleModel",
          "state": {
            "_model_module": "@jupyter-widgets/controls",
            "_model_module_version": "1.5.0",
            "_model_name": "DescriptionStyleModel",
            "_view_count": null,
            "_view_module": "@jupyter-widgets/base",
            "_view_module_version": "1.2.0",
            "_view_name": "StyleView",
            "description_width": ""
          }
        },
        "b5e0cd0d0e07486495632000046f7634": {
          "model_module": "@jupyter-widgets/base",
          "model_module_version": "1.2.0",
          "model_name": "LayoutModel",
          "state": {
            "_model_module": "@jupyter-widgets/base",
            "_model_module_version": "1.2.0",
            "_model_name": "LayoutModel",
            "_view_count": null,
            "_view_module": "@jupyter-widgets/base",
            "_view_module_version": "1.2.0",
            "_view_name": "LayoutView",
            "align_content": null,
            "align_items": null,
            "align_self": null,
            "border": null,
            "bottom": null,
            "display": null,
            "flex": null,
            "flex_flow": null,
            "grid_area": null,
            "grid_auto_columns": null,
            "grid_auto_flow": null,
            "grid_auto_rows": null,
            "grid_column": null,
            "grid_gap": null,
            "grid_row": null,
            "grid_template_areas": null,
            "grid_template_columns": null,
            "grid_template_rows": null,
            "height": null,
            "justify_content": null,
            "justify_items": null,
            "left": null,
            "margin": null,
            "max_height": null,
            "max_width": null,
            "min_height": null,
            "min_width": null,
            "object_fit": null,
            "object_position": null,
            "order": null,
            "overflow": null,
            "overflow_x": null,
            "overflow_y": null,
            "padding": null,
            "right": null,
            "top": null,
            "visibility": null,
            "width": null
          }
        },
        "ff4e919fbb7342bb84a346590df7ac2d": {
          "model_module": "@jupyter-widgets/controls",
          "model_module_version": "1.5.0",
          "model_name": "DescriptionStyleModel",
          "state": {
            "_model_module": "@jupyter-widgets/controls",
            "_model_module_version": "1.5.0",
            "_model_name": "DescriptionStyleModel",
            "_view_count": null,
            "_view_module": "@jupyter-widgets/base",
            "_view_module_version": "1.2.0",
            "_view_name": "StyleView",
            "description_width": ""
          }
        }
      }
    }
  },
  "nbformat": 4,
  "nbformat_minor": 0
}
