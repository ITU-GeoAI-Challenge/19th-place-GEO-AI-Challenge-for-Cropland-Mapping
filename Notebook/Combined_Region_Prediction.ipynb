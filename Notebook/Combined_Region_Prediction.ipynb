{
  "nbformat": 4,
  "nbformat_minor": 0,
  "metadata": {
    "colab": {
      "provenance": []
    },
    "kernelspec": {
      "name": "python3",
      "display_name": "Python 3"
    },
    "language_info": {
      "name": "python"
    }
  },
  "cells": [
    {
      "cell_type": "code",
      "execution_count": 1,
      "metadata": {
        "id": "PGFcqW6zOY4j"
      },
      "outputs": [],
      "source": [
        "# Required Library\n",
        "import numpy as np\n",
        "import pandas as pd\n",
        "\n",
        "import joblib\n",
        "import torch\n",
        "from torch import nn"
      ]
    },
    {
      "cell_type": "code",
      "source": [
        "# Test Dataset\n",
        "testAfghan = pd.read_csv('/content/drive/MyDrive/AfghanTesting_15D.csv')\n",
        "testIran = pd.read_csv('/content/drive/MyDrive/IranTesting.csv')\n",
        "testSudan = pd.read_csv('/content/drive/MyDrive/SudanTesting.csv')"
      ],
      "metadata": {
        "id": "S5qRvs7rOzpV"
      },
      "execution_count": 3,
      "outputs": []
    },
    {
      "cell_type": "code",
      "source": [
        "# Preparing dataset for the model\n",
        "\n",
        "\n",
        "testIran = testIran.loc[:,['0_NDVI','0_NDRE','0_ARVI','0_RVI','0_SCI','0_NDMI','0_GNDVI','0_BSI',\n",
        "                           '1_NDVI','1_NDRE','1_ARVI','1_RVI','1_SCI','1_NDMI','1_GNDVI','1_BSI',\n",
        "                           '3_NDVI','3_NDRE','3_ARVI','3_RVI','3_SCI','3_NDMI','3_GNDVI','3_BSI',\n",
        "                           '4_NDVI','4_NDRE','4_ARVI','4_RVI','4_SCI','4_NDMI','4_GNDVI','4_BSI',\n",
        "                           '5_NDVI','5_NDRE','5_ARVI','5_RVI','5_SCI','5_NDMI','5_GNDVI','5_BSI',\n",
        "                           '6_NDVI','6_NDRE','6_ARVI','6_RVI','6_SCI','6_NDMI','6_GNDVI','6_BSI',\n",
        "                           '7_NDVI','7_NDRE','7_ARVI','7_RVI','7_SCI','7_NDMI','7_GNDVI','7_BSI',\n",
        "                           '8_NDVI','8_NDRE','8_ARVI','8_RVI','8_SCI','8_NDMI','8_GNDVI','8_BSI','ID']]\n",
        "\n",
        "testSudan = testSudan.loc[:,['0_NDVI','0_NDRE','0_ARVI','0_RVI','0_SCI','0_NDMI','0_GNDVI','0_BSI',\n",
        "                           '1_NDVI','1_NDRE','1_ARVI','1_RVI','1_SCI','1_NDMI','1_GNDVI','1_BSI',\n",
        "                           '3_NDVI','3_NDRE','3_ARVI','3_RVI','3_SCI','3_NDMI','3_GNDVI','3_BSI',\n",
        "                           '4_NDVI','4_NDRE','4_ARVI','4_RVI','4_SCI','4_NDMI','4_GNDVI','4_BSI',\n",
        "                           '5_NDVI','5_NDRE','5_ARVI','5_RVI','5_SCI','5_NDMI','5_GNDVI','5_BSI',\n",
        "                           '6_NDVI','6_NDRE','6_ARVI','6_RVI','6_SCI','6_NDMI','6_GNDVI','6_BSI',\n",
        "                           '7_NDVI','7_NDRE','7_ARVI','7_RVI','7_SCI','7_NDMI','7_GNDVI','7_BSI',\n",
        "                           '8_NDVI','8_NDRE','8_ARVI','8_RVI','8_SCI','8_NDMI','8_GNDVI','8_BSI',\n",
        "                           '9_NDVI','9_NDRE','9_ARVI','9_RVI','9_SCI','9_NDMI','9_GNDVI','9_BSI',\n",
        "                           '10_NDVI','10_NDRE','10_ARVI','10_RVI','10_SCI','10_NDMI','10_GNDVI','10_BSI','ID']]\n",
        "\n",
        "afghanFeatures = ['0_NDVI','0_NDRE','0_GNDVI','0_ARVI','0_NDMI','0_BSI',\n",
        "                  '1_NDVI','1_NDRE','1_GNDVI','1_ARVI','1_NDMI','1_BSI',\n",
        "                  '2_NDVI','2_NDRE','2_GNDVI','2_ARVI','2_NDMI','2_BSI',\n",
        "                  '3_NDVI','3_NDRE','3_GNDVI','3_ARVI','3_NDMI','3_BSI',\n",
        "                  '4_NDVI','4_NDRE','4_GNDVI','4_ARVI','4_NDMI','4_BSI',\n",
        "                  '5_NDVI','5_NDRE','5_GNDVI','5_ARVI','5_NDMI','5_BSI']"
      ],
      "metadata": {
        "id": "ynBBDK9PPPvc"
      },
      "execution_count": 4,
      "outputs": []
    },
    {
      "cell_type": "code",
      "source": [
        "def make_sequence(df):\n",
        "    X = []\n",
        "    for i in range(len(df)):\n",
        "        X.append(df.loc[i,afghanFeatures].astype(float).values.reshape(1,6,6))\n",
        "    return torch.tensor(X).float()\n",
        "\n",
        "testAfghanData = make_sequence(testAfghan)\n",
        "testAfghanData"
      ],
      "metadata": {
        "colab": {
          "base_uri": "https://localhost:8080/"
        },
        "id": "1vv7naIWQ8Wv",
        "outputId": "05350099-0066-4aa2-f106-73e26b8f9141"
      },
      "execution_count": 6,
      "outputs": [
        {
          "output_type": "stream",
          "name": "stderr",
          "text": [
            "<ipython-input-6-de89f8c1b2ad>:5: UserWarning: Creating a tensor from a list of numpy.ndarrays is extremely slow. Please consider converting the list to a single numpy.ndarray with numpy.array() before converting to a tensor. (Triggered internally at ../torch/csrc/utils/tensor_new.cpp:245.)\n",
            "  return torch.tensor(X).float()\n"
          ]
        },
        {
          "output_type": "execute_result",
          "data": {
            "text/plain": [
              "tensor([[[[ 0.1572,  0.0705,  0.2034,  0.0264, -0.0662,  0.0981],\n",
              "          [ 0.4172,  0.2700,  0.4343,  0.2109,  0.1130, -0.0218],\n",
              "          [ 0.4713,  0.2975,  0.4668,  0.2585,  0.1380, -0.0441],\n",
              "          [ 0.6602,  0.4069,  0.6031,  0.4582,  0.2143, -0.1279],\n",
              "          [ 0.6336,  0.4219,  0.5843,  0.4329,  0.1864, -0.1092],\n",
              "          [ 0.4872,  0.3441,  0.4655,  0.2821,  0.1351, -0.0533]]],\n",
              "\n",
              "\n",
              "        [[[ 0.1694,  0.1867,  0.2267,  0.0258,  0.0196,  0.0557],\n",
              "          [ 0.2244,  0.2535,  0.2732,  0.0670,  0.0900,  0.0066],\n",
              "          [ 0.2084,  0.2266,  0.2684,  0.0555,  0.0996,  0.0034],\n",
              "          [ 0.2129,  0.2823,  0.2291,  0.0736,  0.1142, -0.0203],\n",
              "          [ 0.2201,  0.2574,  0.2442,  0.0697,  0.0734,  0.0109],\n",
              "          [ 0.1982,  0.2497,  0.2469,  0.0517,  0.0478,  0.0305]]],\n",
              "\n",
              "\n",
              "        [[[ 0.6379,  0.3997,  0.5781,  0.4411,  0.1415, -0.0790],\n",
              "          [ 0.6937,  0.5338,  0.6388,  0.5205,  0.2928, -0.2235],\n",
              "          [ 0.7203,  0.5264,  0.6813,  0.5372,  0.2523, -0.1742],\n",
              "          [ 0.3555,  0.2025,  0.4824,  0.1172, -0.0058,  0.1054],\n",
              "          [ 0.1376,  0.0787,  0.2725, -0.0456, -0.1181,  0.1882],\n",
              "          [ 0.1067,  0.0339,  0.2148, -0.0505, -0.1591,  0.1993]]],\n",
              "\n",
              "\n",
              "        ...,\n",
              "\n",
              "\n",
              "        [[[ 0.0823,  0.0902,  0.1462, -0.0294, -0.0353,  0.0916],\n",
              "          [ 0.1066,  0.0989,  0.1535, -0.0077, -0.0301,  0.0808],\n",
              "          [ 0.0681,  0.0618,  0.1223, -0.0335, -0.0460,  0.0936],\n",
              "          [ 0.0224,  0.0278,  0.0926, -0.0554, -0.0565,  0.0962],\n",
              "          [ 0.0517,  0.0439,  0.1084, -0.0388, -0.0546,  0.0946],\n",
              "          [ 0.0472,  0.0485,  0.0910, -0.0390, -0.0567,  0.0935]]],\n",
              "\n",
              "\n",
              "        [[[ 0.0841,  0.0512,  0.1360, -0.0275, -0.0933,  0.1237],\n",
              "          [ 0.0874,  0.0492,  0.1360, -0.0197, -0.0977,  0.1205],\n",
              "          [ 0.0568,  0.0346,  0.1102, -0.0455, -0.1124,  0.1367],\n",
              "          [ 0.0676,  0.0308,  0.1121, -0.0375, -0.0926,  0.1235],\n",
              "          [ 0.0615,  0.0209,  0.0987, -0.0323, -0.1037,  0.1214],\n",
              "          [ 0.0610,  0.0279,  0.1025, -0.0353, -0.0758,  0.1081]]],\n",
              "\n",
              "\n",
              "        [[[ 0.3106,  0.1379,  0.3563,  0.0975, -0.0746,  0.1375],\n",
              "          [ 0.5508,  0.3122,  0.4942,  0.3560,  0.1094, -0.0551],\n",
              "          [ 0.3970,  0.2250,  0.4500,  0.1763,  0.0159,  0.0636],\n",
              "          [ 0.2421,  0.1213,  0.3692,  0.0272, -0.0587,  0.1475],\n",
              "          [ 0.0975,  0.0651,  0.2061, -0.0541, -0.1164,  0.1713],\n",
              "          [ 0.0958,  0.0747,  0.1997, -0.0527, -0.0943,  0.1558]]]])"
            ]
          },
          "metadata": {},
          "execution_count": 6
        }
      ]
    },
    {
      "cell_type": "code",
      "source": [
        "class BiLSTMClassifier(nn.Module):\n",
        "    def __init__(self, input_size, hidden_size, num_layers, dropout_rate):\n",
        "        super(BiLSTMClassifier, self).__init__()\n",
        "\n",
        "        self.hidden_size = hidden_size\n",
        "        # Bidirectional LSTM layer\n",
        "        self.lstm = nn.LSTM(input_size, hidden_size, num_layers,\n",
        "                            batch_first=True, dropout=dropout_rate, bidirectional=True)\n",
        "\n",
        "        # Fully connected layer for classification\n",
        "        self.fc = nn.Linear(2*hidden_size, 2)  # 2*hidden_size because it's bidirectional\n",
        "\n",
        "        # Softmax layer for converting output to probability\n",
        "        self.softmax = nn.LogSoftmax(dim=1)\n",
        "\n",
        "    def forward(self, x):\n",
        "        # Passing input through LSTM layer\n",
        "        lstm_out, _ = self.lstm(x)\n",
        "\n",
        "        # Taking the last output of LSTM (using the forward and backward hidden states)\n",
        "        final_hidden_state = torch.cat((lstm_out[:, -1, :self.hidden_size],\n",
        "                                        lstm_out[:, 0, self.hidden_size:]), dim=1)\n",
        "\n",
        "        # Passing LSTM output through fully connected layer\n",
        "        fc_out = self.fc(final_hidden_state)\n",
        "\n",
        "        # Passing through softmax layer to get probabilities\n",
        "        output = self.softmax(fc_out)\n",
        "        return output\n",
        "\n",
        "input_size = 6  # For univariate input\n",
        "hidden_size = 50\n",
        "num_layers = 1\n",
        "dropout_rate = 0.5  # Adjust based on your needs\n",
        "\n",
        "afghan_model = BiLSTMClassifier(input_size=6, hidden_size=50, num_layers=1, dropout_rate=0.42)"
      ],
      "metadata": {
        "colab": {
          "base_uri": "https://localhost:8080/"
        },
        "id": "rc6Z05adRNd_",
        "outputId": "55bc7b3d-a5b8-4059-fb25-94e71fc3c78d"
      },
      "execution_count": 7,
      "outputs": [
        {
          "output_type": "stream",
          "name": "stderr",
          "text": [
            "/usr/local/lib/python3.10/dist-packages/torch/nn/modules/rnn.py:71: UserWarning: dropout option adds dropout after all but last recurrent layer, so non-zero dropout expects num_layers greater than 1, but got dropout=0.42 and num_layers=1\n",
            "  warnings.warn(\"dropout option adds dropout after all but last \"\n"
          ]
        }
      ]
    },
    {
      "cell_type": "code",
      "source": [
        "iran_model = joblib.load('/content/drive/MyDrive/IranModel.pkl')\n",
        "sudan_model = joblib.load('/content/drive/MyDrive/SudanModel.pkl')\n",
        "\n",
        "afghan_model.load_state_dict(torch.load('/content/drive/MyDrive/AfghanModel.pth', map_location=torch.device('cpu')))\n",
        "afghan_model = afghan_model.to('cpu')"
      ],
      "metadata": {
        "id": "v3hsQPhpO6UZ"
      },
      "execution_count": 10,
      "outputs": []
    },
    {
      "cell_type": "code",
      "source": [
        "# Afghan Prediction"
      ],
      "metadata": {
        "id": "k6s_KvJTSgm6"
      },
      "execution_count": 12,
      "outputs": []
    },
    {
      "cell_type": "code",
      "source": [
        "afghanID = testAfghan['ID'].tolist()\n",
        "afghanPred = []"
      ],
      "metadata": {
        "id": "x7aI_PvrR0sW"
      },
      "execution_count": 11,
      "outputs": []
    },
    {
      "cell_type": "code",
      "source": [
        "afghan_model.eval()\n",
        "with torch.no_grad():\n",
        "    for idx in range(len(testAfghanData)):\n",
        "        X = testAfghanData[idx]\n",
        "        predicted = afghan_model(X).argmax(dim=1).item()\n",
        "        afghanPred.append(predicted)"
      ],
      "metadata": {
        "id": "oZrgn6JMSdcm"
      },
      "execution_count": 13,
      "outputs": []
    },
    {
      "cell_type": "code",
      "source": [
        "afghanPredDF = pd.DataFrame(zip(afghanID,afghanPred),columns=['ID','Target'])"
      ],
      "metadata": {
        "id": "dq6eksLqSl0M"
      },
      "execution_count": 14,
      "outputs": []
    },
    {
      "cell_type": "code",
      "source": [
        "# Iran adn Sudan Combine Prediction\n",
        "predDF_all = pd.DataFrame()\n",
        "all_Test = [testIran,testSudan]\n",
        "all_model = [iran_model,sudan_model]\n",
        "\n",
        "for model,testData in zip(all_model,all_Test):\n",
        "    testID = testData['ID'].tolist()\n",
        "    yTEST = model.predict(testData.drop(['ID'],axis=1))\n",
        "    predDF = pd.DataFrame(zip(testID,list(yTEST)),columns=['ID','Target'])\n",
        "    predDF_all = pd.concat([predDF_all,predDF],axis=0)"
      ],
      "metadata": {
        "id": "37FkOgxYSpDw"
      },
      "execution_count": 15,
      "outputs": []
    },
    {
      "cell_type": "code",
      "source": [
        "# Combine the Results of Afghanistan , Iran and Sudan\n",
        "predDF_all = pd.concat([afghanPredDF,predDF_all],axis=0)"
      ],
      "metadata": {
        "id": "PuXe7Cg4S2Te"
      },
      "execution_count": 16,
      "outputs": []
    },
    {
      "cell_type": "code",
      "source": [
        "# Save the model\n",
        "predDF_all.to_csv('/content/drive/MyDrive/submission.csv',index=False)"
      ],
      "metadata": {
        "id": "3vIZU0LoS_sB"
      },
      "execution_count": 17,
      "outputs": []
    },
    {
      "cell_type": "code",
      "source": [],
      "metadata": {
        "id": "3X-kBywLTG12"
      },
      "execution_count": null,
      "outputs": []
    }
  ]
}